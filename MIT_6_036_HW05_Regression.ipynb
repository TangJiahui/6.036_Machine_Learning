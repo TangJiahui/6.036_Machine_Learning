{
  "nbformat": 4,
  "nbformat_minor": 0,
  "metadata": {
    "colab": {
      "name": "MIT 6.036 HW05 Regression",
      "provenance": [],
      "collapsed_sections": [],
      "include_colab_link": true
    },
    "kernelspec": {
      "name": "python3",
      "display_name": "Python 3"
    }
  },
  "cells": [
    {
      "cell_type": "markdown",
      "metadata": {
        "id": "view-in-github",
        "colab_type": "text"
      },
      "source": [
        "<a href=\"https://colab.research.google.com/github/TangJiahui/6.036_Machine_Learning/blob/main/MIT_6_036_HW05_Regression.ipynb\" target=\"_parent\"><img src=\"https://colab.research.google.com/assets/colab-badge.svg\" alt=\"Open In Colab\"/></a>"
      ]
    },
    {
      "cell_type": "markdown",
      "metadata": {
        "id": "nU3rlhVsaHpo"
      },
      "source": [
        "#MIT 6.036 Fall 2020: Homework 5"
      ]
    },
    {
      "cell_type": "markdown",
      "metadata": {
        "id": "VkL4viEaJq7u"
      },
      "source": [
        "## Setup\n",
        "First, download the code distribution for this homework that contains test cases and helper functions.\n",
        "\n",
        "Run the next code block to download and import the code for this lab."
      ]
    },
    {
      "cell_type": "code",
      "metadata": {
        "id": "vcyC3YnGJybh",
        "outputId": "50891540-8aea-4015-bd3c-f8ba71dd5a43",
        "colab": {
          "base_uri": "https://localhost:8080/"
        }
      },
      "source": [
        "import numpy as np\n",
        "!rm -rf code_and_data_for_hw05*\n",
        "!wget --no-check-certificate --quiet https://introml.odl.mit.edu/cat-soop/_static/6.036/homework/hw05/code_and_data_for_hw05.zip\n",
        "!unzip code_and_data_for_hw05.zip\n",
        "!mv code_and_data_for_hw05/* .\n",
        "  \n",
        "from code_for_hw5 import *"
      ],
      "execution_count": 1,
      "outputs": [
        {
          "output_type": "stream",
          "text": [
            "Archive:  code_and_data_for_hw05.zip\n",
            "   creating: code_and_data_for_hw05/\n",
            "  inflating: code_and_data_for_hw05/code_for_hw5.py  \n",
            "  inflating: code_and_data_for_hw05/auto-mpg-regression.tsv  \n",
            "  inflating: code_and_data_for_hw05/auto.py  \n"
          ],
          "name": "stdout"
        }
      ]
    },
    {
      "cell_type": "markdown",
      "metadata": {
        "id": "0OYsAwoGasfU"
      },
      "source": [
        "## 6) Linear Regression  - going downhill\n",
        "\n",
        "We will now write some general Python code to compute the gradient of the squared-loss objective, following the structure of the expression, and the rules of calculus.  Note that this style of writing the gradient functions maps directly into the chain-rule steps required to compute the gradient, but produces code that is inefficient, because of duplicated computations. It is straightforward to implement more efficient versions if you want to use them for larger problems.\n",
        "\n",
        "### 6.1) Some basic functions\n",
        "\n",
        "We start by defining some basic functions for computing the mean squared loss.  Note that we want these to work for any\n",
        "value of $n$. That is, `x` could be a single feature vector or a full data matrix, and similarly for `y`."
      ]
    },
    {
      "cell_type": "code",
      "metadata": {
        "id": "a_WFv1pzd30E"
      },
      "source": [
        "# In all the following definitions:\n",
        "# x is d by n : input data\n",
        "# y is 1 by n : output regression values\n",
        "# th is d by 1 : weights\n",
        "# th0 is 1 by 1 or scalar\n",
        "def lin_reg(x, th, th0):\n",
        "    \"\"\" Returns the predicted y: 1*n\"\"\"\n",
        "    y = np.dot(th.T, x) + th0\n",
        "    return y\n",
        "\n",
        "def square_loss(x, y, th, th0):\n",
        "    '''Returns the squared loss between y_pred and y'''\n",
        "    return (y - lin_reg(x, th, th0))**2\n",
        "\n",
        "def mean_square_loss(x, y, th, th0):\n",
        "    '''Return the mean squared loss between y_pred and y'''\n",
        "    return np.mean(square_loss(x, y, th, th0), axis = 1, keepdims = True)"
      ],
      "execution_count": 18,
      "outputs": []
    },
    {
      "cell_type": "code",
      "metadata": {
        "id": "DTZj68tx1pN4"
      },
      "source": [
        "def lin_reg(x, th, th0):\n",
        "    \"\"\" Returns the predicted y\"\"\"\n",
        "    y = np.dot(th.T, x) + th0\n",
        "    return y"
      ],
      "execution_count": 3,
      "outputs": []
    },
    {
      "cell_type": "code",
      "metadata": {
        "id": "ZlfBjEQA1dIa",
        "outputId": "8240d597-43c4-49b8-f785-8b6041aeff58",
        "colab": {
          "base_uri": "https://localhost:8080/"
        }
      },
      "source": [
        "X = np.array([[ 1.,  2.,  3.,  4.], [ 1.,  1.,  1.,  1.]])\n",
        "th = np.array([[ 1.  ], [ 0.05]]) ; th0 = np.array([[ 0.]])\n",
        "lin_reg(X, th, th0).tolist()"
      ],
      "execution_count": 4,
      "outputs": [
        {
          "output_type": "execute_result",
          "data": {
            "text/plain": [
              "[[1.05, 2.05, 3.05, 4.05]]"
            ]
          },
          "metadata": {
            "tags": []
          },
          "execution_count": 4
        }
      ]
    },
    {
      "cell_type": "code",
      "metadata": {
        "id": "3nAPxHYr1nj6",
        "outputId": "f25ecaea-fd09-4120-cf0e-ee52b63236ae",
        "colab": {
          "base_uri": "https://localhost:8080/"
        }
      },
      "source": [
        "th = np.array([[ 1.  ], [ 0.05]]) ; th0 = np.array([[ 2.]])\n",
        "lin_reg(X, th, th0).tolist()"
      ],
      "execution_count": 6,
      "outputs": [
        {
          "output_type": "execute_result",
          "data": {
            "text/plain": [
              "[[3.05, 4.05, 5.05, 6.05]]"
            ]
          },
          "metadata": {
            "tags": []
          },
          "execution_count": 6
        }
      ]
    },
    {
      "cell_type": "code",
      "metadata": {
        "id": "WJfhns-51939",
        "outputId": "c1a2d266-8a50-477e-9050-de4b308324b0",
        "colab": {
          "base_uri": "https://localhost:8080/"
        }
      },
      "source": [
        "Y = np.array([[ 1. ,  2.2,  2.8,  4.1]])\n",
        "square_loss(X, Y, th, th0).tolist()\n",
        "#[[4.2025, 3.4224999999999985, 5.0625, 3.8025000000000007]]"
      ],
      "execution_count": 9,
      "outputs": [
        {
          "output_type": "execute_result",
          "data": {
            "text/plain": [
              "[[4.2025, 3.4224999999999985, 5.0625, 3.8025000000000007]]"
            ]
          },
          "metadata": {
            "tags": []
          },
          "execution_count": 9
        }
      ]
    },
    {
      "cell_type": "code",
      "metadata": {
        "id": "kgW5sfJV2Ph2",
        "outputId": "3d789677-c139-444f-8cd3-3d65895fe33d",
        "colab": {
          "base_uri": "https://localhost:8080/"
        }
      },
      "source": [
        "mean_square_loss(X, Y, th, th0).tolist()\n",
        "#[[4.1225]]"
      ],
      "execution_count": 19,
      "outputs": [
        {
          "output_type": "execute_result",
          "data": {
            "text/plain": [
              "[[4.1225]]"
            ]
          },
          "metadata": {
            "tags": []
          },
          "execution_count": 19
        }
      ]
    },
    {
      "cell_type": "markdown",
      "metadata": {
        "id": "Oe9BjKuwd7uL"
      },
      "source": [
        "### 6.2) Gradients with respect to $\\theta$\n",
        "\n",
        "Now, let's compute the gradients with respect to $\\theta$. Make sure that they work both for data matrices and label vectors.  You can write one function at a time, some of the checks will apply to each function independently."
      ]
    },
    {
      "cell_type": "code",
      "metadata": {
        "id": "VrdkQNFUf3fD"
      },
      "source": [
        "# Write a function that returns the gradient of lin_reg(x, th, th0)\n",
        "# with respect to th\n",
        "def d_lin_reg_th(x, th, th0):\n",
        "    \"\"\" Returns the gradient of lin_reg(x, th, th0) with respect to th as a d by\n",
        "    n array.\"\"\"\n",
        "    return x"
      ],
      "execution_count": 23,
      "outputs": []
    },
    {
      "cell_type": "code",
      "metadata": {
        "id": "oVjRfrS74BP-",
        "outputId": "9ed5ad07-9a40-44a1-a245-adabc0f1d2a2",
        "colab": {
          "base_uri": "https://localhost:8080/"
        }
      },
      "source": [
        "X = np.array([[ 1.,  2.,  3.,  4.], [ 1.,  1.,  1.,  1.]])\n",
        "th = np.array([[ 1.  ], [ 0.05]]); th0 = np.array([[ 2.]])\n",
        "d_lin_reg_th(X[:,0:1], th, th0).tolist()"
      ],
      "execution_count": 24,
      "outputs": [
        {
          "output_type": "execute_result",
          "data": {
            "text/plain": [
              "[[1.0], [1.0]]"
            ]
          },
          "metadata": {
            "tags": []
          },
          "execution_count": 24
        }
      ]
    },
    {
      "cell_type": "code",
      "metadata": {
        "id": "j8M6Ruas4MjZ",
        "outputId": "2fec66d0-24d2-46a0-f1f6-9dde19f7f5b2",
        "colab": {
          "base_uri": "https://localhost:8080/"
        }
      },
      "source": [
        "d_lin_reg_th(X, th, th0).tolist()\n",
        " # [[1.0, 2.0, 3.0, 4.0], [1.0, 1.0, 1.0, 1.0]]"
      ],
      "execution_count": 25,
      "outputs": [
        {
          "output_type": "execute_result",
          "data": {
            "text/plain": [
              "[[1.0, 2.0, 3.0, 4.0], [1.0, 1.0, 1.0, 1.0]]"
            ]
          },
          "metadata": {
            "tags": []
          },
          "execution_count": 25
        }
      ]
    },
    {
      "cell_type": "code",
      "metadata": {
        "id": "2Tj34H1h3SPm"
      },
      "source": [
        "# Write a function that returns the gradient of square_loss(x, y, th, th0) with\n",
        "# respect to th.  It should be a one-line expression that uses lin_reg and\n",
        "# d_lin_reg_th.\n",
        "\n",
        "def d_square_loss_th(x, y, th, th0):\n",
        "    \"\"\"Returns the gradient of square_loss(x, y, th, th0) with respect to\n",
        "    th as a d by n array.\n",
        "\n",
        "    Note: should be a one-line expression that uses lin_reg and\n",
        "    d_lin_reg_th (i.e., uses the chain rule).\n",
        "\n",
        "    Should work with X, Y as vectors, or as arrays. As in the\n",
        "    discussion of d_lin_reg_th, this should give us back an n x d\n",
        "    array -- so we know the sensitivity of square loss for each\n",
        "    data point i ... n, with respect to each element of theta.\"\"\"\n",
        "    return -2*d_lin_reg_th(x, th, th0)*(y-lin_reg(x,th,th0))"
      ],
      "execution_count": 36,
      "outputs": []
    },
    {
      "cell_type": "code",
      "metadata": {
        "id": "nh3msKA-5iOj",
        "outputId": "63b36400-e50c-4a31-eb6e-536c7d0eb2bf",
        "colab": {
          "base_uri": "https://localhost:8080/"
        }
      },
      "source": [
        "X = np.array([[ 1.,  2.,  3.,  4.], [ 1.,  1.,  1.,  1.]])\n",
        "Y = np.array([[ 1. ,  2.2,  2.8,  4.1]])\n",
        "th = np.array([[ 1.  ], [ 0.05]]) ; th0 = np.array([[ 2.]])\n",
        "#d_square_loss_th(X[:,0:1], Y[:,0:1], th, th0).tolist()\n",
        "#[[4.1], [4.1]]\n",
        "d_square_loss_th(X, Y, th, th0).tolist()\n",
        "#[[4.1, 7.399999999999999, 13.5, 15.600000000000001], [4.1, 3.6999999999999993, 4.5, 3.9000000000000004]]"
      ],
      "execution_count": 37,
      "outputs": [
        {
          "output_type": "execute_result",
          "data": {
            "text/plain": [
              "[[4.1, 7.399999999999999, 13.5, 15.600000000000001],\n",
              " [4.1, 3.6999999999999993, 4.5, 3.9000000000000004]]"
            ]
          },
          "metadata": {
            "tags": []
          },
          "execution_count": 37
        }
      ]
    },
    {
      "cell_type": "code",
      "metadata": {
        "id": "tjGzqieO3TeF"
      },
      "source": [
        "# Write a function that returns the gradient of mean_square_loss(x, y, th, th0) with\n",
        "# respect to th.  It should be a one-line expression that uses d_square_loss_th.\n",
        "def d_mean_square_loss_th(x, y, th, th0):\n",
        "    \"\"\" Returns the gradient of mean_square_loss(x, y, th, th0) with\n",
        "        respect to th.  \n",
        "\n",
        "        Note: It should be a one-line expression that uses d_square_loss_th.\"\"\"\n",
        "    return np.mean(d_square_loss_th(x, y, th, th0), axis = 1, keepdims = True)"
      ],
      "execution_count": 46,
      "outputs": []
    },
    {
      "cell_type": "code",
      "metadata": {
        "id": "qOgp-wAy9Qno",
        "outputId": "7a83b87a-5c81-4016-9a5b-e2eb640c0f7c",
        "colab": {
          "base_uri": "https://localhost:8080/"
        }
      },
      "source": [
        "d_mean_square_loss_th(X[:,0:1], Y[:,0:1], th, th0).tolist()\n",
        "#[[4.1], [4.1]]\n",
        "\n",
        "d_mean_square_loss_th(X, Y, th, th0).tolist()\n",
        "#[[10.15], [4.05]]"
      ],
      "execution_count": 42,
      "outputs": [
        {
          "output_type": "execute_result",
          "data": {
            "text/plain": [
              "[[4.1], [4.1]]"
            ]
          },
          "metadata": {
            "tags": []
          },
          "execution_count": 42
        }
      ]
    },
    {
      "cell_type": "code",
      "metadata": {
        "id": "KOdYZf7T-nL4",
        "outputId": "f0557407-a2e2-427c-bbc4-ab30bdbf816f",
        "colab": {
          "base_uri": "https://localhost:8080/"
        }
      },
      "source": [
        "print(\"X =\", repr(X))\n",
        "print(\"Y =\", repr(Y))\n",
        "print(\"th =\", repr(th), \"th0 =\", repr(th0))"
      ],
      "execution_count": 45,
      "outputs": [
        {
          "output_type": "stream",
          "text": [
            "X = array([[1., 2., 3., 4.],\n",
            "       [1., 1., 1., 1.]])\n",
            "Y = array([[1. , 2.2, 2.8, 4.1]])\n",
            "th = array([[1.  ],\n",
            "       [0.05]]) th0 = array([[2.]])\n"
          ],
          "name": "stdout"
        }
      ]
    },
    {
      "cell_type": "markdown",
      "metadata": {
        "id": "UqQVLjZ1gGvd"
      },
      "source": [
        "### 6.3) Gradients with respect to $\\theta_0$\n",
        "\n",
        "Now, let's compute the gradients with respect to $\\theta_0$. Make sure that they work both for data matrices and label vectors.  You can write one function at a time, some of the checks will apply to each function independently."
      ]
    },
    {
      "cell_type": "code",
      "metadata": {
        "id": "RBUSolgxgSgx"
      },
      "source": [
        "# Write a function that returns the gradient of lin_reg(x, th, th0)\n",
        "# with respect to th0.\n",
        "def d_lin_reg_th0(x, th, th0):\n",
        "    \"\"\" Returns the gradient of lin_reg(x, th, th0) with respect to th0 as an\n",
        "        1 by n array.\"\"\"\n",
        "    return np.ones((1,x.shape[1]))"
      ],
      "execution_count": 56,
      "outputs": []
    },
    {
      "cell_type": "code",
      "metadata": {
        "id": "eGwzlMds_26D",
        "outputId": "6b6c8cd4-b3bd-498b-cf9d-d5a894cfa41c",
        "colab": {
          "base_uri": "https://localhost:8080/"
        }
      },
      "source": [
        "X = np.array([[ 1.,  2.,  3.,  4.], [ 1.,  1.,  1.,  1.]])\n",
        "th = np.array([[ 1.  ], [ 0.05]]); th0 = np.array([[ 2.]])\n",
        "d_lin_reg_th0(X, th, th0).tolist()\n",
        "#[[1.0, 1.0, 1.0, 1.0]]"
      ],
      "execution_count": 58,
      "outputs": [
        {
          "output_type": "execute_result",
          "data": {
            "text/plain": [
              "[[1.0, 1.0, 1.0, 1.0]]"
            ]
          },
          "metadata": {
            "tags": []
          },
          "execution_count": 58
        }
      ]
    },
    {
      "cell_type": "code",
      "metadata": {
        "id": "NlO_9tdt_vBd"
      },
      "source": [
        "# Write a function that returns the gradient of square_loss(x, y, th, th0) with\n",
        "# respect to th0.  It should be a one-line expression that uses lin_reg and\n",
        "# d_lin_reg_th0.\n",
        "def d_square_loss_th0(x, y, th, th0):\n",
        "    \"\"\" Returns the gradient of square_loss(x, y, th, th0) with\n",
        "        respect to th0 as an 1 by n array.\n",
        "    # Note: uses broadcasting!\"\"\"\n",
        "    return -2*d_lin_reg_th0(x, th, th0)*(y-lin_reg(x,th,th0))"
      ],
      "execution_count": 59,
      "outputs": []
    },
    {
      "cell_type": "code",
      "metadata": {
        "id": "yeB7IuHsBUle",
        "outputId": "7c55447b-17b4-40f2-bcb6-37fe21fb1221",
        "colab": {
          "base_uri": "https://localhost:8080/"
        }
      },
      "source": [
        "X = np.array([[ 1.,  2.,  3.,  4.], [ 1.,  1.,  1.,  1.]])\n",
        "Y = np.array([[ 1. ,  2.2,  2.8,  4.1]])\n",
        "th = np.array([[ 1.  ], [ 0.05]]) ; th0 = np.array([[ 2.]])\n",
        "d_square_loss_th0(X, Y, th, th0).tolist()\n",
        "#[[4.1, 3.6999999999999993, 4.5, 3.9000000000000004]]"
      ],
      "execution_count": 60,
      "outputs": [
        {
          "output_type": "execute_result",
          "data": {
            "text/plain": [
              "[[4.1, 3.6999999999999993, 4.5, 3.9000000000000004]]"
            ]
          },
          "metadata": {
            "tags": []
          },
          "execution_count": 60
        }
      ]
    },
    {
      "cell_type": "code",
      "metadata": {
        "id": "bhxhyEbj_zkp"
      },
      "source": [
        "# Write a function that returns the gradient of mean_square_loss(x, y, th, th0) with\n",
        "# respect to th0.  It should be a one-line expression that uses d_square_loss_th0.\n",
        "def d_mean_square_loss_th0(x, y, th, th0):\n",
        "    \"\"\" Returns the gradient of mean_square_loss(x, y, th, th0) with\n",
        "    respect to th0.\"\"\"\n",
        "    return np.mean(d_square_loss_th0(x, y, th, th0), axis = 1, keepdims = True)"
      ],
      "execution_count": 62,
      "outputs": []
    },
    {
      "cell_type": "code",
      "metadata": {
        "id": "z8GhuGn9Bgxn",
        "outputId": "86330ea1-7269-4a59-a4ec-c6d2fb2b9e1d",
        "colab": {
          "base_uri": "https://localhost:8080/"
        }
      },
      "source": [
        "d_mean_square_loss_th0(X, Y, th, th0).tolist()\n",
        "#[[4.05]]"
      ],
      "execution_count": 63,
      "outputs": [
        {
          "output_type": "execute_result",
          "data": {
            "text/plain": [
              "[[4.05]]"
            ]
          },
          "metadata": {
            "tags": []
          },
          "execution_count": 63
        }
      ]
    },
    {
      "cell_type": "code",
      "metadata": {
        "id": "mEuJdoJAr1uP",
        "outputId": "2ca0541d-1f28-4d66-d7e2-751936eaf169",
        "colab": {
          "base_uri": "https://localhost:8080/"
        }
      },
      "source": [
        "tests_for_gradient_of_weights(d_lin_reg_th, d_square_loss_th, d_mean_square_loss_th, d_lin_reg_th0, d_square_loss_th0, d_mean_square_loss_th0)"
      ],
      "execution_count": 68,
      "outputs": [
        {
          "output_type": "stream",
          "text": [
            "Test 1 passed\n",
            "Test 2 passed\n",
            "Test 3 passed\n",
            "Test 4 passed\n",
            "Test 5 passed\n",
            "Test 6 passed\n",
            "Test 7 passed\n",
            "Test 8 passed\n",
            "Test 9 passed\n"
          ],
          "name": "stdout"
        }
      ]
    },
    {
      "cell_type": "markdown",
      "metadata": {
        "id": "cb1FsfCTgjMq"
      },
      "source": [
        "## 7) Going down the ridge\n",
        "\n",
        "Now, let's add a regularizer.  The ridge objective can be implemented as follows:"
      ]
    },
    {
      "cell_type": "code",
      "metadata": {
        "id": "tIl6pE-ziLFb"
      },
      "source": [
        "# In all the following definitions:\n",
        "# x is d by n : input data\n",
        "# y is 1 by n : output regression values\n",
        "# th is d by 1 : weights\n",
        "# th0 is 1 by 1 or scalar\n",
        "def ridge_obj(x, y, th, th0, lam):\n",
        "    return np.mean(square_loss(x, y, th, th0), axis = 1, keepdims = True) + lam * np.linalg.norm(th)**2"
      ],
      "execution_count": null,
      "outputs": []
    },
    {
      "cell_type": "markdown",
      "metadata": {
        "id": "R314XINoigFB"
      },
      "source": [
        "Let's extend our previous code for the gradient of the mean square loss to compute the gradient of the ridge objective with respect to $\\theta$.  Our previous solutions for the non-ridge case: feel free to call `d_mean_square_loss_th` and `d_mean_square_loss`!"
      ]
    },
    {
      "cell_type": "code",
      "metadata": {
        "id": "XQ4Dy26vijP4"
      },
      "source": [
        "def d_ridge_obj_th(x, y, th, th0, lam):\n",
        "    \"\"\"Return the derivative of the ridge objective value with respect\n",
        "    to theta.\n",
        "\n",
        "    Note: uses broadcasting to add d x n to d x 1 array below\n",
        "\n",
        "    >>> X = np.array([[ 1.,  2.,  3.,  4.], [ 1.,  1.,  1.,  1.]])\n",
        "    >>> Y = np.array([[ 1. ,  2.2,  2.8,  4.1]])\n",
        "    >>> th = np.array([[ 1.  ], [ 0.05]]) ; th0 = np.array([[ 2.]])\n",
        "    >>> d_ridge_obj_th(X, Y, th, th0, 0.0).tolist()\n",
        "    [[10.15], [4.05]]\n",
        "    >>> d_ridge_obj_th(X, Y, th, th0, 0.5).tolist()\n",
        "    [[11.15], [4.1]]\n",
        "    >>> d_ridge_obj_th(X, Y, th, th0, 100.).tolist()\n",
        "    [[210.15], [14.05]]\n",
        "    \"\"\"\n",
        "    return d_mean_square_loss_th(x, y, th, th0)+2*lam*th\n",
        "\n",
        "def d_ridge_obj_th0(x, y, th, th0, lam):\n",
        "    \"\"\"Return the derivative of the ridge objective value with respect\n",
        "    to theta0.\n",
        "\n",
        "    Note: uses broadcasting to add d x n to d x 1 array below\n",
        "\n",
        "    >>> X = np.array([[ 1.,  2.,  3.,  4.], [ 1.,  1.,  1.,  1.]])\n",
        "    >>> Y = np.array([[ 1. ,  2.2,  2.8,  4.1]])\n",
        "    >>> th = np.array([[ 1.  ], [ 0.05]]) ; th0 = np.array([[ 2.]])\n",
        "    >>> d_ridge_obj_th0(X, Y, th, th0, 0.0).tolist()\n",
        "    [[4.05]]\n",
        "    >>> d_ridge_obj_th0(X, Y, th, th0, 0.5).tolist()\n",
        "    [[4.05]]\n",
        "    >>> d_ridge_obj_th0(X, Y, th, th0, 100.).tolist()\n",
        "    [[4.05]]\n",
        "    \"\"\"\n",
        "    return d_mean_square_loss_th0(x, y, th, th0)"
      ],
      "execution_count": 66,
      "outputs": []
    },
    {
      "cell_type": "code",
      "metadata": {
        "id": "NAp6J4LhsL7J",
        "outputId": "ca01c2ea-eb69-4324-d8dc-de57d5fb44d6",
        "colab": {
          "base_uri": "https://localhost:8080/"
        }
      },
      "source": [
        "tests_for_d_ridge_obj(d_ridge_obj_th, d_ridge_obj_th0)"
      ],
      "execution_count": 67,
      "outputs": [
        {
          "output_type": "stream",
          "text": [
            "Test 1 passed\n",
            "Test 2 passed\n",
            "Test 3 passed\n",
            "Test 4 passed\n"
          ],
          "name": "stdout"
        }
      ]
    },
    {
      "cell_type": "markdown",
      "metadata": {
        "id": "vO2Ebhn3i33z"
      },
      "source": [
        "## 8) Stochastic gradient\n",
        "\n",
        "We will now implement stochastic gradient descent in a general way,\n",
        "similar to what we did with gradient descent (`gd`).\n",
        "\n",
        "The calling conventions for `sgd` are similar to those of `gd` except\n",
        "that we need to pass in the data and labels for the problem.\n",
        "\n",
        "(Recall that the *stochastic* part refers to using a randomly selected point and\n",
        "corresponding label from the given dataset to perform an update. Therefore, your objective function for a given step will need to take this into account.)\n",
        "\n",
        "* `X`: a standard data array (d by n)\n",
        "* `y`: a standard labels row vector (1 by n)\n",
        "* `J`: a cost function whose input is a data point (a column vector), a\n",
        "  label (1 by 1) and a weight vector `w` (a column vector) (in that order), and which returns a\n",
        "  scalar.\n",
        "* `dJ`: a cost function gradient (corresponding to `J`) whose input is a data point (a column vector), a\n",
        "  label (1 by 1) and a weight vector `w` (a column vector) (also in that order), and which returns a\n",
        "  column vector.\n",
        "* `w0`: an initial value of weight vector $w$, which is a column vector.\n",
        "* `step_size_fn`: a function that is given the (zero-indexed) iteration index (an\n",
        "  integer) and returns a step size.\n",
        "* `max_iter`: the number of iterations to perform\n",
        "\n",
        "It returns a tuple (like `gd`):\n",
        "\n",
        "* `w`: the value of the weight vector at the final step\n",
        "* `fs`: the list of values of $J$ found during all the iterations\n",
        "* `ws`: the list of values of $w$ found during all the iterations\n",
        "\n",
        "**Note:** `w` should be the value one gets after applying stochastic\n",
        "gradient descent to `w0` for `max_iter-1` iterations (we call this the\n",
        "final step). The first element of `fs` should be the value of `J`\n",
        "calculated with `w0`, and `fs` should have length `max_iter`;\n",
        "similarly, the first element of `ws` should be `w0`, and `ws` should\n",
        "have length `max_iter`.\n",
        "\n",
        "You might find the function `np.random.randint(n)` useful in your implementation.\n",
        "\n",
        "**Hint:** This is a short function; our implementation is around 10\n",
        "  lines.\n",
        "  \n",
        "  The main function to implement is below."
      ]
    },
    {
      "cell_type": "code",
      "metadata": {
        "id": "_WUcvUNwKaMr",
        "outputId": "e5e2962b-a3a0-409f-e927-52272d05756d",
        "colab": {
          "base_uri": "https://localhost:8080/"
        }
      },
      "source": [
        "np.random.randint(10)"
      ],
      "execution_count": 85,
      "outputs": [
        {
          "output_type": "execute_result",
          "data": {
            "text/plain": [
              "5"
            ]
          },
          "metadata": {
            "tags": []
          },
          "execution_count": 85
        }
      ]
    },
    {
      "cell_type": "code",
      "metadata": {
        "id": "gES4iZ7JDyd6"
      },
      "source": [
        "def gd(f, df, x0, step_size_fn, num_steps):\n",
        "    x_prev = x0\n",
        "    for t in range(num_steps):\n",
        "        step_size = step_size_fn(t)\n",
        "        x = x_prev - step_size * df(x_prev)\n",
        "        x_prev = x\n",
        "    return (x, f(x))"
      ],
      "execution_count": 69,
      "outputs": []
    },
    {
      "cell_type": "code",
      "metadata": {
        "id": "oU1DoLD5jYYQ"
      },
      "source": [
        "import random\n",
        "def sgd(X, y, J, dJ, w0, step_size_fn, max_iter):\n",
        "    \"\"\"Implements stochastic gradient descent\n",
        "\n",
        "    Inputs:\n",
        "    X: a standard data array (d by n)\n",
        "    y: a standard labels row vector (1 by n)\n",
        "\n",
        "    J: a cost function whose input is a data point (a column vector),\n",
        "    a label (1 by 1) and a weight vector w (a column vector) (in that\n",
        "    order), and which returns a scalar.\n",
        "\n",
        "    dJ: a cost function gradient (corresponding to J) whose input is a\n",
        "    data point (a column vector), a label (1 by 1) and a weight vector\n",
        "    w (a column vector) (also in that order), and which returns a\n",
        "    column vector.\n",
        "\n",
        "    w0: an initial value of weight vector w, which is a column\n",
        "    vector.\n",
        "\n",
        "    step_size_fn: a function that is given the (zero-indexed)\n",
        "    iteration index (an integer) and returns a step size.\n",
        "\n",
        "    max_iter: the number of iterations to perform\n",
        "\n",
        "    Returns: a tuple (like gd):\n",
        "    w: the value of the weight vector at the final step\n",
        "    fs: the list of values of J found during all the iterations\n",
        "    ws: the list of values of w found during all the iterations\n",
        "\n",
        "    \"\"\"\n",
        "    w_prev = w0\n",
        "    fs = []\n",
        "    ws = []\n",
        "    for t in range(max_iter):\n",
        "        step_size = step_size_fn(t)\n",
        "        rd = np.random.randint(X.shape[1])\n",
        "        data = X[:,rd:rd+1]\n",
        "        label = y[:,rd:rd+1]\n",
        "        fs.append(J(data, label, w_prev))\n",
        "        ws.append(w_prev)\n",
        "        w = w_prev - step_size * dJ(data, label, w_prev)\n",
        "        w_prev = w\n",
        "    return (w, fs, ws)"
      ],
      "execution_count": 86,
      "outputs": []
    },
    {
      "cell_type": "markdown",
      "metadata": {
        "id": "FMiqXsP3jZNn"
      },
      "source": [
        "The test cases for this problem are provided below (but, as always, you are encouraged to write more if you want to better test your code!). They rely on the function num_grad (taken from the previous week's homework), also provided."
      ]
    },
    {
      "cell_type": "code",
      "metadata": {
        "id": "X9K32gL4jyr4",
        "outputId": "e1426a70-df38-4ecd-f3de-f7cf4dace9c5",
        "colab": {
          "base_uri": "https://localhost:8080/"
        }
      },
      "source": [
        "#detailed test results shown in mitx\n",
        "sgdTest(sgd)"
      ],
      "execution_count": 87,
      "outputs": [
        {
          "output_type": "stream",
          "text": [
            "Test 1 passed\n",
            "Test 2 passed\n"
          ],
          "name": "stdout"
        }
      ]
    },
    {
      "cell_type": "markdown",
      "metadata": {
        "id": "G9LFTpdkHKNv"
      },
      "source": [
        "##9) Predicting mpg values\n",
        "\n",
        "We will now try to synthesize the functions we have written in order to perform ridge regression on the <a href=\"https://docs.google.com/spreadsheets/d/1NapkzC_jPQjFk5EfIXghiJJu1kNCN8wP6vwGLpG_tYk/edit?usp=sharing\">auto-mpg dataset</a> from <a href=\"https://lms.mitx.mit.edu/courses/course-v1:MITx+6.036+2020_Spring/courseware/Week3/week3_lab/\">lab03</a>. Unlike in lab03, we will now try to predict the actual mpg values of the cars, instead of whether they are above or below the median mpg!\n",
        "\n",
        "As a reminder, the dataset is as follows:\n",
        "    \n",
        "    1. mpg:           continuous\n",
        "    2. cylinders:     multi-valued discrete\n",
        "    3. displacement:  continuous\n",
        "    4. horsepower:    continuous\n",
        "    5. weight:        continuous\n",
        "    6. acceleration:  continuous\n",
        "    7. model year:    multi-valued discrete\n",
        "    8. origin:        multi-valued discrete\n",
        "    9. car name:      string (many values)\n",
        "\n",
        "For convenience, we will choose to not include `model year` and `car name` as features. For the remaining features, we again have the option to keep the raw values, standardize them, or use a one-hot encoding.\n",
        "\n",
        "With this considered, we decide to standardize or one-hot encode all features in this section (we encourage you, though, to try raw features on your own time to see how their performance matches your expectations!).\n",
        "\n",
        "One additional step we perform is to standardize the output values. Note that we did not have to worry about this in a classification context, as all outputs were $\\pm 1$. In a regression context, standardizing the output values can have practical performance gains, again due to better numerical performance of learning algorithms on data which is smaller in magnitude.\n",
        "\n",
        "The metric we will use to measure the quality of our learned predictors is ** Root Mean Square Error (RMSE). ** RMSE is defined as follows:\n",
        "\n",
        "$$ \\text{RMSE} = \\sqrt{ \\frac{1}{n} \\sum_{i=1}^n \\left( y^{(i)} - f(x^{(i)}) \\right)^2 } $$\n",
        "\n",
        "where $f$ is our learned predictor: in this case, $f(x) = \\theta \\cdot x + \\theta_0$. This gives a measure of how far away the true values are from the predicted values, measured in units of mpg.\n",
        "\n",
        "** Note: ** One very important thing to keep in mind when employing standardization is that we need to reverse the standardization when we want to report results. If we standardize output values in the training set by subtracting $\\mu$ and dividing by $\\sigma$, we need to take care to:\n",
        "\n",
        "1. Perform standardization with the same values of $\\mu$ and $\\sigma$ on the test set (Why?) before predicting outputs using our learned predictor.\n",
        "2. Multiply the RMSE calculated on the test set by a factor of $\\sigma$ to report test error (Why?)\n",
        "\n",
        "Given all of this, we now will try using:\n",
        "\n",
        "* Two choices of feature set:\n",
        "\n",
        "  1. `[cylinders=standard, displacement=standard, horsepower=standard, weight=standard, acceleration=standard, origin=one_hot]`\n",
        "  2. `[cylinders=one_hot, displacement=standard, horsepower=standard, weight=standard, acceleration=standard, origin=one_hot]`\n",
        "\n",
        "* Polynomial features (we will construct the polynomial features after having standardized the input data) of orders 1-3\n",
        "\n",
        "* Different choices of the regularization parameter, $\\lambda$. Although, ideally, you would run a grid search over a large range of $\\lambda$, we will ask you to look at the choices $\\lambda = \\{0.01, 0.02, \\cdots, 0.1\\}$ for polynomial features of orders $1$ and $2$, and the choices $\\lambda = \\{20, 40, \\cdots, 200\\}$ for polynomial features of order $3$ (as this is approximately where we found the optimal $\\lambda$ to lie).\n",
        "\n",
        "We will use $10$-fold cross-validation to try all possible combinations of these feature choices and test which is best.\n",
        "\n",
        "Your functions written above will be called by `ridge_min`, (defined for you below), which takes a dataset $(X, y)$ and a hyperparameter, $\\lambda$ as input and returns $\\theta$ and $\\theta_0$ minimizing the ridge regression objective using SGD (this is the analogue of the `llc_min` function that you wrote for homework last week). The learning rate and number of iterations are fixed in this function, and should not be modified for the purpose of answering the below questions (although you should feel free to experiment with these if you are interested!) This function will then further be called by `xval_learning_alg` (also defined below), which returns the average RMSE across all (here, 10) splits of your data when performing cross-validation.\n",
        "\n",
        "**Note**: Even though these functions are also contained in the code file being imported (`code_for_hw5.py`), you should run the below code block so that they will use the version of the functions you have written above, and not the blank versions in the code file. "
      ]
    },
    {
      "cell_type": "code",
      "metadata": {
        "id": "Uy6R1Vhou1eG"
      },
      "source": [
        "#Concatenates the gradients with respect to theta and theta_0\n",
        "def ridge_obj_grad(x, y, th, th0, lam):\n",
        "    grad_th = d_ridge_obj_th(x, y, th, th0, lam)\n",
        "    grad_th0 = d_ridge_obj_th0(x, y, th, th0, lam)\n",
        "    return np.vstack([grad_th, grad_th0])    \n",
        "  \n",
        "def ridge_min(X, y, lam):\n",
        "    \"\"\" Returns th, th0 that minimize the ridge regression objective\n",
        "\n",
        "    Assumes that X is NOT 1-extended. Interfaces to our sgd by 1-extending\n",
        "    and building corresponding initial weights.\n",
        "    \"\"\"\n",
        "    def min_step_size_fn(i):\n",
        "        return 0.01/(i+1)**0.5\n",
        "\n",
        "    d, n = X.shape\n",
        "    X_extend = np.vstack([X, np.ones((1, n))])\n",
        "    w_init = np.zeros((d+1, 1))\n",
        "\n",
        "    def J(Xj, yj, th):\n",
        "        return float(ridge_obj(Xj[:-1,:], yj, th[:-1,:], th[-1:,:], lam))\n",
        "\n",
        "    def dJ(Xj, yj, th):\n",
        "        return ridge_obj_grad(Xj[:-1,:], yj, th[:-1,:], th[-1:,:], lam)\n",
        "\n",
        "    np.random.seed(0)\n",
        "    w, fs, ws = sgd(X_extend, y, J, dJ, w_init, min_step_size_fn, 1000)\n",
        "    return w[:-1,:], w[-1:,:]\n",
        "  \n",
        "#First finds a predictor on X_train and X_test using the specified value of lam\n",
        "#Then runs on X_test, Y_test to find the RMSE\n",
        "def eval_predictor(X_train, Y_train, X_test, Y_test, lam):\n",
        "    th, th0 = ridge_min(X_train, Y_train, lam)\n",
        "    return np.sqrt(mean_square_loss(X_test, Y_test, th, th0))\n",
        "  \n",
        "#Returns the mean RMSE from cross validation given a dataset (X, y), a value of lam,\n",
        "#and number of folds, k\n",
        "def xval_learning_alg(X, y, lam, k):\n",
        "    _, n = X.shape\n",
        "    idx = list(range(n))\n",
        "    np.random.seed(0)\n",
        "    np.random.shuffle(idx)\n",
        "    X, y = X[:,idx], y[:,idx]\n",
        "\n",
        "    split_X = np.array_split(X, k, axis=1)\n",
        "    split_y = np.array_split(y, k, axis=1)\n",
        "\n",
        "    score_sum = 0\n",
        "    for i in range(k):\n",
        "        X_train = np.concatenate(split_X[:i] + split_X[i+1:], axis=1)\n",
        "        y_train = np.concatenate(split_y[:i] + split_y[i+1:], axis=1)\n",
        "        X_test = np.array(split_X[i])\n",
        "        y_test = np.array(split_y[i])\n",
        "        score_sum += eval_predictor(X_train, y_train, X_test, y_test, lam)\n",
        "    return score_sum/k"
      ],
      "execution_count": 88,
      "outputs": []
    },
    {
      "cell_type": "markdown",
      "metadata": {
        "id": "NYEwfuMdu2hV"
      },
      "source": [
        "Below, there is code for creating the two feature sets that you are asked to work with here. Transforming those features further with `make_polynomial_feature_fun` (can be called from the imported file), and running the cross-validation function (defined above), should allow you to answer the questions for this section.\n",
        "\n",
        " **Make sure that you are calling the cross-validation function from above and not the one from the imported file. **\n"
      ]
    },
    {
      "cell_type": "code",
      "metadata": {
        "id": "w2DtmogNLQcF"
      },
      "source": [
        "# Returns a list of dictionaries.  Keys are the column names, including mpg.\n",
        "auto_data_all = load_auto_data('auto-mpg-regression.tsv')\n",
        "\n",
        "# The choice of feature processing for each feature, mpg is always raw and\n",
        "# does not need to be specified.  Other choices are standard and one_hot.\n",
        "# 'name' is not numeric and would need a different encoding.\n",
        "features1 = [('cylinders', standard),\n",
        "            ('displacement', standard),\n",
        "            ('horsepower', standard),\n",
        "            ('weight', standard),\n",
        "            ('acceleration', standard),\n",
        "            ('origin', one_hot)]\n",
        "\n",
        "features2 = [('cylinders', one_hot),\n",
        "            ('displacement', standard),\n",
        "            ('horsepower', standard),\n",
        "            ('weight', standard),\n",
        "            ('acceleration', standard),\n",
        "            ('origin', one_hot)]\n",
        "\n",
        "# Construct the standard data and label arrays\n",
        "#auto_data[0] has the features for choice features1\n",
        "#auto_data[1] has the features for choice features2\n",
        "#The labels for both are the same, and are in auto_values\n",
        "auto_data = [0, 0]\n",
        "auto_values = 0\n",
        "auto_data[0], auto_values = auto_data_and_values(auto_data_all, features1)\n",
        "auto_data[1], _ = auto_data_and_values(auto_data_all, features2)\n",
        "\n",
        "#standardize the y-values\n",
        "auto_values, mu, sigma = std_y(auto_values)"
      ],
      "execution_count": 89,
      "outputs": []
    },
    {
      "cell_type": "code",
      "metadata": {
        "id": "POYIb0iiUnfI"
      },
      "source": [
        "order = [1,2,3]\n",
        "lambda_2 = np.arange(0.01,0.11,0.01)\n",
        "lambda_3 = np.arange(20,420,20)\n",
        "#-------------------------------------------------------------------------------\n",
        "# Analyze auto data\n",
        "#-------------------------------------------------------------------------------     \n",
        "#Your code for cross-validation goes here\n",
        "#Make sure to scale the RMSE values returned by xval_learning_alg by sigma,\n",
        "#as mentioned in the lab, in order to get accurate RMSE values on the dataset\n",
        "score_lst = {}\n",
        "for i in order:\n",
        "    if i==3:\n",
        "        lambda_range = lambda_3\n",
        "    else:\n",
        "        lambda_range = lambda_2\n",
        "    for lam in lambda_range:\n",
        "        for j in range(2):\n",
        "            score = xval_learning_alg(make_polynomial_feature_fun(i)(auto_data[j]), auto_values, lam, 10)\n",
        "            rmse = (score * sigma)[0][0]\n",
        "            #[feature_set, order, lambda]\n",
        "            score_lst[rmse] = [j+1, i, lam]"
      ],
      "execution_count": 118,
      "outputs": []
    },
    {
      "cell_type": "code",
      "metadata": {
        "id": "dKPviv5cZgQo",
        "outputId": "5fb1b824-1710-4059-ee8a-e4391668156e",
        "colab": {
          "base_uri": "https://localhost:8080/"
        }
      },
      "source": [
        "score_lst"
      ],
      "execution_count": 119,
      "outputs": [
        {
          "output_type": "execute_result",
          "data": {
            "text/plain": [
              "{3.8824472165865216: [2, 2, 0.01],\n",
              " 3.8832650612599133: [2, 2, 0.02],\n",
              " 3.8841320870720963: [2, 2, 0.03],\n",
              " 3.8850474007660316: [2, 2, 0.04],\n",
              " 3.8860101224574923: [2, 2, 0.05],\n",
              " 3.8870193854807495: [2, 2, 0.060000000000000005],\n",
              " 3.8880743362345282: [2, 2, 0.06999999999999999],\n",
              " 3.8891741340282264: [2, 2, 0.08],\n",
              " 3.890317950928514: [2, 2, 0.09],\n",
              " 3.891504971606307: [2, 2, 0.09999999999999999],\n",
              " 4.022904573239618: [1, 2, 0.01],\n",
              " 4.023820669231892: [1, 2, 0.02],\n",
              " 4.024793930934192: [1, 2, 0.03],\n",
              " 4.025823292807252: [1, 2, 0.04],\n",
              " 4.026907704798755: [1, 2, 0.05],\n",
              " 4.028046132195799: [1, 2, 0.060000000000000005],\n",
              " 4.029237555476146: [1, 2, 0.06999999999999999],\n",
              " 4.030480970158338: [1, 2, 0.08],\n",
              " 4.031775386650792: [1, 2, 0.09],\n",
              " 4.033119830099959: [1, 2, 0.09999999999999999],\n",
              " 4.142387984767928: [2, 1, 0.01],\n",
              " 4.144010711778211: [2, 1, 0.02],\n",
              " 4.1456971382197505: [2, 1, 0.03],\n",
              " 4.147446030008287: [2, 1, 0.04],\n",
              " 4.1492561709231675: [2, 1, 0.05],\n",
              " 4.151126362455691: [2, 1, 0.060000000000000005],\n",
              " 4.153055423654657: [2, 1, 0.06999999999999999],\n",
              " 4.1550421909693265: [2, 1, 0.08],\n",
              " 4.157085518089936: [2, 1, 0.09],\n",
              " 4.159184275785984: [2, 1, 0.09999999999999999],\n",
              " 4.273686816013234: [1, 1, 0.01],\n",
              " 4.274675155288315: [1, 1, 0.02],\n",
              " 4.275713084432112: [1, 1, 0.03],\n",
              " 4.276799760815782: [1, 1, 0.04],\n",
              " 4.277934353278956: [1, 1, 0.05],\n",
              " 4.279116042015931: [1, 1, 0.060000000000000005],\n",
              " 4.280344018461524: [1, 1, 0.06999999999999999],\n",
              " 4.281617485176698: [1, 1, 0.08],\n",
              " 4.282935655733971: [1, 1, 0.09],\n",
              " 4.284297754602696: [1, 1, 0.09999999999999999],\n",
              " 5.765846597983397: [2, 3, 20],\n",
              " 5.938418011549715: [2, 3, 40],\n",
              " 6.021568203542564: [1, 3, 40],\n",
              " 6.023460079399321: [2, 3, 60],\n",
              " 6.029400680041019: [1, 3, 80],\n",
              " 6.031047637300314: [1, 3, 100],\n",
              " 6.035218413973112: [1, 3, 60],\n",
              " 6.050858112628734: [1, 3, 120],\n",
              " 6.0703485848302545: [2, 3, 80],\n",
              " 6.08767614126243: [1, 3, 140],\n",
              " 6.115020103539329: [2, 3, 100],\n",
              " 6.141410500668448: [1, 3, 160],\n",
              " 6.165799391107605: [2, 3, 120],\n",
              " 6.218402909623898: [1, 3, 180],\n",
              " 6.224177039058388: [2, 3, 140],\n",
              " 6.290275989637807: [2, 3, 160],\n",
              " 6.3005725337760605: [1, 3, 200],\n",
              " 6.317811436887802: [1, 3, 220],\n",
              " 6.365050926662117: [2, 3, 180],\n",
              " 6.449849257701269: [2, 3, 200],\n",
              " 6.471908037726543: [1, 3, 20],\n",
              " 6.521884448341238: [2, 3, 220],\n",
              " 6.576043471043741: [2, 3, 240],\n",
              " 10.16761037649889: [1, 3, 240],\n",
              " 10.524317120971533: [2, 3, 260],\n",
              " 40.0414532061186: [1, 3, 260],\n",
              " 44.17482719537579: [2, 3, 280],\n",
              " 242.4336472704653: [1, 3, 280],\n",
              " 258.37953324593843: [2, 3, 300],\n",
              " 1321.5218317355686: [2, 3, 320],\n",
              " 1399.0238904153152: [1, 3, 300],\n",
              " 4940.031401895798: [2, 3, 340],\n",
              " 5970.117882919747: [1, 3, 320],\n",
              " 8811.748036071323: [2, 3, 360],\n",
              " 12624.883821733472: [1, 3, 340],\n",
              " 55210.14918386109: [2, 3, 380],\n",
              " 65650.0566517947: [1, 3, 360],\n",
              " 582079.3469538097: [2, 3, 400],\n",
              " 818652.0549978589: [1, 3, 380],\n",
              " 5322774.357465634: [1, 3, 400]}"
            ]
          },
          "metadata": {
            "tags": []
          },
          "execution_count": 119
        }
      ]
    },
    {
      "cell_type": "code",
      "metadata": {
        "id": "vc62GPxRZo6Y",
        "outputId": "94e52993-82f9-4850-dd88-f51c532c857b",
        "colab": {
          "base_uri": "https://localhost:8080/"
        }
      },
      "source": [
        "min_rmse = min(score_lst.keys())\n",
        "min_rmse"
      ],
      "execution_count": 120,
      "outputs": [
        {
          "output_type": "execute_result",
          "data": {
            "text/plain": [
              "3.8824472165865216"
            ]
          },
          "metadata": {
            "tags": []
          },
          "execution_count": 120
        }
      ]
    },
    {
      "cell_type": "code",
      "metadata": {
        "id": "KLcfoWc4ZrwS",
        "outputId": "e67548df-64b0-4c7a-8855-88816ffe0f14",
        "colab": {
          "base_uri": "https://localhost:8080/"
        }
      },
      "source": [
        "score_lst[min(score_lst.keys())]"
      ],
      "execution_count": 122,
      "outputs": [
        {
          "output_type": "execute_result",
          "data": {
            "text/plain": [
              "[2, 2, 0.01]"
            ]
          },
          "metadata": {
            "tags": []
          },
          "execution_count": 122
        }
      ]
    },
    {
      "cell_type": "markdown",
      "metadata": {
        "id": "12mQw9_MqFbC"
      },
      "source": [
        "Here is an example of how to call make_polynomial_feature_fun for 2nd order with data that has features for choice features2"
      ]
    },
    {
      "cell_type": "code",
      "metadata": {
        "id": "gwNDguHGpYhg"
      },
      "source": [
        "featured = make_polynomial_feature_fun(2)(auto_data[1])"
      ],
      "execution_count": 94,
      "outputs": []
    },
    {
      "cell_type": "code",
      "metadata": {
        "id": "IDLdOsk1U4NH",
        "outputId": "995c3537-6683-47db-fd01-bdfec8868a9c",
        "colab": {
          "base_uri": "https://localhost:8080/"
        }
      },
      "source": [
        "featured"
      ],
      "execution_count": 95,
      "outputs": [
        {
          "output_type": "execute_result",
          "data": {
            "text/plain": [
              "array([[0., 0., 0., ..., 0., 0., 0.],\n",
              "       [0., 0., 0., ..., 1., 1., 1.],\n",
              "       [0., 0., 0., ..., 0., 0., 0.],\n",
              "       ...,\n",
              "       [0., 0., 0., ..., 0., 0., 0.],\n",
              "       [0., 0., 0., ..., 0., 0., 0.],\n",
              "       [0., 0., 0., ..., 0., 0., 0.]])"
            ]
          },
          "metadata": {
            "tags": []
          },
          "execution_count": 95
        }
      ]
    },
    {
      "cell_type": "markdown",
      "metadata": {
        "id": "LkYx9uyCOIaZ"
      },
      "source": [
        "Now run your cross validation function to get the mean RMSE.\n",
        "\n",
        "(xval_learning_alg(X, y, lam, k) is dependent on #6,#7,#8 please copy your code for 6,7,8)"
      ]
    }
  ]
}