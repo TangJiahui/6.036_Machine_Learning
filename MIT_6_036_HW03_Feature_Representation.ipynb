{
  "nbformat": 4,
  "nbformat_minor": 0,
  "metadata": {
    "colab": {
      "name": "MIT 6.036 HW03 - Feature Representation",
      "provenance": [],
      "collapsed_sections": [],
      "include_colab_link": true
    },
    "kernelspec": {
      "name": "python3",
      "display_name": "Python 3"
    }
  },
  "cells": [
    {
      "cell_type": "markdown",
      "metadata": {
        "id": "view-in-github",
        "colab_type": "text"
      },
      "source": [
        "<a href=\"https://colab.research.google.com/github/TangJiahui/6.036_Machine_Learning/blob/main/MIT_6_036_HW03_Feature_Representation.ipynb\" target=\"_parent\"><img src=\"https://colab.research.google.com/assets/colab-badge.svg\" alt=\"Open In Colab\"/></a>"
      ]
    },
    {
      "cell_type": "markdown",
      "metadata": {
        "id": "_xIaEwCD406A"
      },
      "source": [
        "#MIT 6.036 Spring 2020: Homework 3#\n",
        "\n",
        "**If you haven't already, please hit :**\n",
        "\n",
        "`File` -> `Save a Copy in Drive`\n",
        "\n",
        "**to copy this notebook to your Google drive, and work on a copy. If you don't do this, your changes won't be saved!**\n",
        "\n",
        "---\n",
        "\n",
        "This colab notebook provides code and a framework for problems 1-7 of the \n",
        "[ homework](https://lms.mitx.mit.edu/courses/course-v1:MITx+6.036+2019_Fall/courseware/Week3/week3_homework/).  You can work out your solutions here, then submit your results back on the homework page when ready.\n",
        "\n",
        "## <section>**Setup**</section>\n",
        "\n",
        "First, download the code distribution for this homework that contains test cases and helper functions.\n",
        "\n",
        "Run the next code block to download and import the code for this lab.\n"
      ]
    },
    {
      "cell_type": "code",
      "metadata": {
        "id": "2YM-_zLf9Bp-",
        "outputId": "81451c04-baef-4127-a2e4-424ba365ad55",
        "colab": {
          "base_uri": "https://localhost:8080/",
          "height": 544
        }
      },
      "source": [
        "!rm -rf code_and_data_for_hw3*\n",
        "!rm -rf mnist\n",
        "!wget --no-check-certificate --quiet https://introml.odl.mit.edu/cat-soop/_static/6.036/homework/hw03/code_and_data_for_hw3.zip\n",
        "!unzip code_and_data_for_hw3.zip\n",
        "\n",
        "from code_for_hw3_part1 import *\n",
        "import code_for_hw3_part2 as hw3\n",
        "import numpy as np\n",
        "import tqdm "
      ],
      "execution_count": null,
      "outputs": [
        {
          "output_type": "stream",
          "text": [
            "Archive:  code_and_data_for_hw3.zip\n",
            "   creating: mnist/\n",
            "  inflating: mnist/mnist_train0.png  \n",
            "  inflating: mnist/mnist_train1.png  \n",
            "  inflating: mnist/mnist_train2.png  \n",
            "  inflating: mnist/mnist_train3.png  \n",
            "  inflating: mnist/mnist_train4.png  \n",
            "  inflating: mnist/mnist_train5.png  \n",
            "  inflating: mnist/mnist_train6.png  \n",
            "  inflating: mnist/mnist_train7.png  \n",
            "  inflating: mnist/mnist_train8.png  \n",
            "  inflating: mnist/mnist_train9.png  \n",
            "  inflating: auto-mpg.tsv            \n",
            "  inflating: code_for_hw3_part1.py   \n",
            "  inflating: code_for_hw3_part2.py   \n",
            "  inflating: hw3_part2_main.py       \n",
            "  inflating: reviews.tsv             \n",
            "  inflating: stopwords.txt           \n",
            "Importing code_for_hw03\n",
            "Imported tidy_plot, plot_separator, plot_data, plot_nonlin_sep, cv, rv, y, positive, score\n",
            "Datasets: super_simple_separable_through_origin(), super_simple_separable(), xor(), xor_more()\n",
            "Tests for part 2: test_linear_classifier_with_features, mul, make_polynomial_feature_fun, \n",
            "                  test_with_features\n",
            "Also loaded: perceptron, one_hot_internal, test_one_hot\n",
            "Importing code_for_hw03 (part 2, imported as hw3)\n",
            "Imported tidy_plot, plot_separator, plot_data, plot_nonlin_sep, cv, rv, y, positive, score\n",
            "         xval_learning_alg, eval_classifier\n",
            "Tests: test_linear_classifier\n",
            "Dataset tools: load_auto_data, std_vals, standard, raw, one_hot, auto_data_and_labels\n",
            "               load_review_data, clean, extract_words, bag_of_words, extract_bow_feature_vectors\n",
            "               load_mnist_data, load_mnist_single\n"
          ],
          "name": "stdout"
        }
      ]
    },
    {
      "cell_type": "markdown",
      "metadata": {
        "id": "xFxhrJ5XDlvb"
      },
      "source": [
        "# Feature Transformation\n",
        "\n",
        "## <subsection>**Running Perceptron**</subsection>\n",
        "\n",
        "In problems 1,2 and 3, you will have to run the Perceptron algorithm several times to obtain linear classifiers.\n",
        "We provide you with an implementation of the algorithm which you can use to obtain your results.\n",
        "\n",
        "The specifications for the `perceptron` method provided are:\n",
        "* `data` is a numpy array of dimension $d$ by $n$\n",
        "* `labels` is numpy array of dimension $1$ by $n$\n",
        "* `params` is a dictionary specifying extra parameters to this algorithm; your algorithm runs a number of iterations equal to $T$\n",
        "* `hook` is either None or a function that takes the tuple `(th, th0)` as an argument and displays the separator graphically. \n",
        "\n",
        "It should return a tuple of $\\theta$ (a $d$ by 1 array) and $\\theta_0$ (a 1 by 1 array).\n",
        "\n",
        "Note that you are free to modify the method. For example, a useful modification for this homework would be to make the method return the number of mistakes made on the input data, while it runs."
      ]
    },
    {
      "cell_type": "code",
      "metadata": {
        "id": "VtYf8ysk-VQU"
      },
      "source": [
        "# Perceptron algorithm with offset.\n",
        "# data is dimension d by n\n",
        "# labels is dimension 1 by n\n",
        "# T is a positive integer number of steps to run\n",
        "def perceptron(data, labels, params = {}, hook = None):\n",
        "    # if T not in params, default to 50\n",
        "    T = params.get('T', 100)\n",
        "    (d, n) = data.shape\n",
        "    m = 0\n",
        "    theta = np.zeros((d, 1)); theta_0 = np.zeros((1, 1))\n",
        "    for t in tqdm.tqdm(range(T)):\n",
        "        for i in range(n):\n",
        "            x = data[:,i:i+1]\n",
        "            y = labels[:,i:i+1]\n",
        "            if y * positive(x, theta, theta_0) <= 0.0:\n",
        "                theta = theta + y * x\n",
        "                theta_0 = theta_0 + y\n",
        "                m += 1\n",
        "                if hook: hook((theta, theta_0), i)\n",
        "    return theta, theta_0\n",
        "\n",
        "def averaged_perceptron(data, labels, params = {}, hook = None):\n",
        "    T = params.get('T', 50)\n",
        "    (d, n) = data.shape\n",
        "\n",
        "    theta = np.zeros((d, 1)); theta_0 = np.zeros((1, 1))\n",
        "    theta_sum = theta.copy()\n",
        "    theta_0_sum = theta_0.copy()\n",
        "    for t in range(T):\n",
        "        for i in range(n):\n",
        "            x = data[:,i:i+1]\n",
        "            y = labels[:,i:i+1]\n",
        "            if y * positive(x, theta, theta_0) <= 0.0:\n",
        "                theta = theta + y * x\n",
        "                theta_0 = theta_0 + y\n",
        "                if hook: hook((theta, theta_0))\n",
        "            theta_sum = theta_sum + theta\n",
        "            theta_0_sum = theta_0_sum + theta_0\n",
        "    theta_avg = theta_sum / (T*n)\n",
        "    theta_0_avg = theta_0_sum / (T*n)\n",
        "    if hook: hook((theta_avg, theta_0_avg))\n",
        "    return theta_avg, theta_0_avg\n",
        "\n",
        "  \n",
        "def eval_classifier(learner, data_train, labels_train, data_test, labels_test):\n",
        "    th, th0 = learner(data_train, labels_train)\n",
        "    return score(data_test, labels_test, th, th0)/data_test.shape[1]\n",
        "\n",
        "def positive(x, th, th0):\n",
        "    return np.sign(th.T@x + th0)\n",
        "\n",
        "def score(data, labels, th, th0):\n",
        "    return np.sum(positive(data, th, th0) == labels)\n",
        "\n",
        "def xval_learning_alg(learner, data, labels, k):\n",
        "    _, n = data.shape\n",
        "    idx = list(range(n))\n",
        "    np.random.seed(0)\n",
        "    np.random.shuffle(idx)\n",
        "    data, labels = data[:,idx], labels[:,idx]\n",
        "\n",
        "    score_sum = 0\n",
        "    s_data = np.array_split(data, k, axis=1)\n",
        "    s_labels = np.array_split(labels, k, axis=1)\n",
        "    for i in range(k):\n",
        "        data_train = np.concatenate(s_data[:i] + s_data[i+1:], axis=1)\n",
        "        labels_train = np.concatenate(s_labels[:i] + s_labels[i+1:], axis=1)\n",
        "        data_test = np.array(s_data[i])\n",
        "        labels_test = np.array(s_labels[i])\n",
        "        score_sum += eval_classifier(learner, data_train, labels_train,\n",
        "                                              data_test, labels_test)\n",
        "    return score_sum/k"
      ],
      "execution_count": null,
      "outputs": []
    },
    {
      "cell_type": "code",
      "metadata": {
        "id": "53YDYZo38ktq"
      },
      "source": [
        "data =   np.array([[2, 3, 4, 5]])\n",
        "labels = np.array([[1, 1, -1, -1]])"
      ],
      "execution_count": null,
      "outputs": []
    },
    {
      "cell_type": "code",
      "metadata": {
        "id": "3g96gm5hmQja",
        "outputId": "d0164032-1559-405b-ad51-373b858ed316",
        "colab": {
          "base_uri": "https://localhost:8080/",
          "height": 51
        }
      },
      "source": [
        "num_iterations = 5000 #TODO: change number of iterations\n",
        "perceptron(data, labels, params = {'T':num_iterations}, hook = None)"
      ],
      "execution_count": null,
      "outputs": [
        {
          "output_type": "stream",
          "text": [
            "100%|██████████| 5000/5000 [00:00<00:00, 17754.00it/s]\n"
          ],
          "name": "stderr"
        },
        {
          "output_type": "execute_result",
          "data": {
            "text/plain": [
              "(array([[-2.]]), array([[7.]]))"
            ]
          },
          "metadata": {
            "tags": []
          },
          "execution_count": 4
        }
      ]
    },
    {
      "cell_type": "code",
      "metadata": {
        "id": "UCzcmTfvGM41"
      },
      "source": [
        "data = np.array([[200, 800, 200, 800],\n",
        "                [0.2,  0.2,  0.8,  0.8],\n",
        "        #  [1,1,1,1]\n",
        "        ])\n",
        "labels = np.array ([[-1, -1, 1, 1]])"
      ],
      "execution_count": null,
      "outputs": []
    },
    {
      "cell_type": "code",
      "metadata": {
        "id": "Omb-FGGyHu4M",
        "outputId": "9d59d107-54e1-49b9-b36a-61cd62746df0",
        "colab": {
          "base_uri": "https://localhost:8080/",
          "height": 51
        }
      },
      "source": [
        "num_iterations = 300000 #TODO: change number of iterations\n",
        "\n",
        "gt = 0\n",
        "\n",
        "def h(p, t):\n",
        "    global gt\n",
        "    gt += 1\n",
        "\n",
        "perceptron(data, labels, params = {'T':num_iterations}, hook = h)\n",
        "\n",
        "print(gt)"
      ],
      "execution_count": null,
      "outputs": [
        {
          "output_type": "stream",
          "text": [
            "100%|██████████| 300000/300000 [00:10<00:00, 27853.03it/s]"
          ],
          "name": "stderr"
        },
        {
          "output_type": "stream",
          "text": [
            "666696\n"
          ],
          "name": "stdout"
        },
        {
          "output_type": "stream",
          "text": [
            "\n"
          ],
          "name": "stderr"
        }
      ]
    },
    {
      "cell_type": "code",
      "metadata": {
        "id": "CZjen0McN_RP"
      },
      "source": [
        "data = np.array([[0.2, 0.8, 0.2, 0.8],\n",
        "                [0.2,  0.2,  0.8,  0.8],\n",
        "        #  [1,1,1,1]\n",
        "        ])\n",
        "labels = np.array ([[-1, -1, 1, 1]])"
      ],
      "execution_count": null,
      "outputs": []
    },
    {
      "cell_type": "code",
      "metadata": {
        "id": "Ad5EPFqwOGtK",
        "outputId": "826cfdcf-deb0-4c81-d441-2ce3866f08e5",
        "colab": {
          "base_uri": "https://localhost:8080/",
          "height": 51
        }
      },
      "source": [
        "num_iterations = 300000 #TODO: change number of iterations\n",
        "\n",
        "gt = 0\n",
        "\n",
        "def h(p,t):\n",
        "    global gt\n",
        "    gt += 1\n",
        "\n",
        "perceptron(data, labels, params = {'T':num_iterations}, hook = h)\n",
        "\n",
        "print(gt)"
      ],
      "execution_count": null,
      "outputs": [
        {
          "output_type": "stream",
          "text": [
            "100%|██████████| 300000/300000 [00:08<00:00, 37196.53it/s]"
          ],
          "name": "stderr"
        },
        {
          "output_type": "stream",
          "text": [
            "7\n"
          ],
          "name": "stdout"
        },
        {
          "output_type": "stream",
          "text": [
            "\n"
          ],
          "name": "stderr"
        }
      ]
    },
    {
      "cell_type": "markdown",
      "metadata": {
        "id": "ZzqUR755Joij"
      },
      "source": [
        "## <section>2D) Encoding Discrete Values</section>\n",
        "\n",
        "It is common to encode sets of discrete values, for machine learning, not as a single multi-valued feature, but using a one hot encoding. So, if there are $k$ values in the discrete set, we would transform that single multi-valued feature into $k$ binary-valued features, in which feature $i$ has value $+1$ if the original feature value was $i$ and has value $0$ (or $-1$) otherwise.\n",
        "\n",
        "Write a function `one_hot` that takes as input $x$, a single feature value (between $1$ and $k$), and $k$, the total possible number of values this feature can take on, and transform it to a numpy column vector of $k$ binary features using a one-hot encoding (remember vectors have zero-based indexing)."
      ]
    },
    {
      "cell_type": "code",
      "metadata": {
        "id": "R11VPNJ3Jpwb"
      },
      "source": [
        "def one_hot(x, k):\n",
        "    # Make an empty column vector\n",
        "    v = np.zeros((k, 1))\n",
        "    # Set an entry to 1\n",
        "    v[x-1, 0] = 1\n",
        "    return v"
      ],
      "execution_count": null,
      "outputs": []
    },
    {
      "cell_type": "code",
      "metadata": {
        "id": "VwqKKuXYfouH"
      },
      "source": [
        "#data_1 = np.array([one_hot(x, 6) for x in data[0,]]).T"
      ],
      "execution_count": null,
      "outputs": []
    },
    {
      "cell_type": "code",
      "metadata": {
        "id": "YKdQ-y9ZgP0N"
      },
      "source": [
        "data_1=data_1[0]"
      ],
      "execution_count": null,
      "outputs": []
    },
    {
      "cell_type": "code",
      "metadata": {
        "id": "CwNMq9zof7Xo"
      },
      "source": [
        "num_iterations = 5000 #TODO: change number of iterations\n",
        "perceptron(data_1, labels, params = {'T':num_iterations}, hook = None)"
      ],
      "execution_count": null,
      "outputs": []
    },
    {
      "cell_type": "code",
      "metadata": {
        "id": "1g2eXsL7jQHj"
      },
      "source": [
        "data_2 = np.array([[1, 2, 3, 4, 5, 6]])"
      ],
      "execution_count": null,
      "outputs": []
    },
    {
      "cell_type": "code",
      "metadata": {
        "id": "u49KHYPNjS_G"
      },
      "source": [
        "data_3 = np.array([one_hot(x, 6) for x in data_2[0,:]]).T"
      ],
      "execution_count": null,
      "outputs": []
    },
    {
      "cell_type": "code",
      "metadata": {
        "id": "nFJvTMoBwQL1"
      },
      "source": [
        "labels = np.array([[1, 1, -1, -1, 1, 1]])"
      ],
      "execution_count": null,
      "outputs": []
    },
    {
      "cell_type": "code",
      "metadata": {
        "id": "wmAJ2qjDv8HK"
      },
      "source": [
        "data = data_3[0]"
      ],
      "execution_count": null,
      "outputs": []
    },
    {
      "cell_type": "code",
      "metadata": {
        "id": "7I43OSq9jasR"
      },
      "source": [
        "num_iterations = 5000 #TODO: change number of iterations\n",
        "perceptron(data, labels, params = {'T':num_iterations}, hook = None)"
      ],
      "execution_count": null,
      "outputs": []
    },
    {
      "cell_type": "code",
      "metadata": {
        "id": "uOdWFevZJs1U"
      },
      "source": [
        "test_one_hot(one_hot)"
      ],
      "execution_count": null,
      "outputs": []
    },
    {
      "cell_type": "markdown",
      "metadata": {
        "id": "IHCfY1dBJvK3"
      },
      "source": [
        "## 3) Polynomial Features\n",
        "\n",
        "One systematic way of generating non-linear transformations of your input features is to consider the polynomials of increasing order.  Given a feature vector $x = [x_1, x_2, ..., x_d]^T$, we can map it into a new feature vector that contains all the factors in a polynomial of order $d$. For example, for $x = [x_1, x_2]^T$ and order 2, we get $$\\phi(x) = [1, x_1, x_2, x_1x_2, x_1^2, x_2^2]^T$$ and for order 3, we get $$\\phi(x) = [1, x_1, x_2, x_1x_2, x_1^2, x_2^2, x_1^2x_2, x_1x_2^2, x_1^3, x_2^3]^T.$$  \n",
        "\n",
        "In the code that has been loaded, we have defined `make_polynomial_feature_fun` that, given the order, returns a feature transformation function (analogous to $\\phi$ in the description).  You should use it in doing this problem."
      ]
    },
    {
      "cell_type": "code",
      "metadata": {
        "id": "2MHF3Ej7Jx0r",
        "outputId": "5b1f28d8-dd58-46e4-f85f-b3bb9c27ea83",
        "colab": {
          "base_uri": "https://localhost:8080/",
          "height": 476
        }
      },
      "source": [
        "## For example, make_polynomial_feature_fun could be used as follows:\n",
        "\n",
        "# Generate transformation of order 2\n",
        "transformation = make_polynomial_feature_fun(2)\n",
        "\n",
        "# Data\n",
        "data = np.zeros((5,1))\n",
        "\n",
        "# Use transformation on data\n",
        "print(transformation(data))\n",
        "\n",
        "for i in [1, 10, 20, 30, 40, 50]:\n",
        "  print((make_polynomial_feature_fun(i)(np.zeros((2,1)))).shape)"
      ],
      "execution_count": null,
      "outputs": [
        {
          "output_type": "stream",
          "text": [
            "[[1.]\n",
            " [0.]\n",
            " [0.]\n",
            " [0.]\n",
            " [0.]\n",
            " [0.]\n",
            " [0.]\n",
            " [0.]\n",
            " [0.]\n",
            " [0.]\n",
            " [0.]\n",
            " [0.]\n",
            " [0.]\n",
            " [0.]\n",
            " [0.]\n",
            " [0.]\n",
            " [0.]\n",
            " [0.]\n",
            " [0.]\n",
            " [0.]\n",
            " [0.]]\n",
            "(3, 1)\n",
            "(66, 1)\n",
            "(231, 1)\n",
            "(496, 1)\n",
            "(861, 1)\n",
            "(1326, 1)\n"
          ],
          "name": "stdout"
        }
      ]
    },
    {
      "cell_type": "markdown",
      "metadata": {
        "id": "gwVEBQ_dMoxM"
      },
      "source": [
        "Note that iterative animations, which update a plot within a loop, don't work the same way in colab, as with a local python console installation.  One workaround for colab to be able to show such plot iterations is to show all the plots, and this can be done for the test code using this patched function:"
      ]
    },
    {
      "cell_type": "code",
      "metadata": {
        "id": "ksRNlV9W1IPJ"
      },
      "source": [
        "# T is a positive integer number of steps to run\n",
        "def perceptron(data, labels, params = {}, hook = None):\n",
        "    # if T not in params, default to 50\n",
        "    T = params.get('T', 100)\n",
        "    (d, n) = data.shape\n",
        "    m = 0\n",
        "    theta = np.zeros((d, 1)); theta_0 = np.zeros((1, 1))\n",
        "    for t in tqdm.tqdm(range(T)):\n",
        "        for i in range(n):\n",
        "            x = data[:,i:i+1]\n",
        "            y = labels[:,i:i+1]\n",
        "            if y * positive(x, theta, theta_0) <= 0.0:\n",
        "                theta = theta + y * x\n",
        "                theta_0 = theta_0 + y\n",
        "                m += 1\n",
        "                if hook: hook((theta, theta_0))\n",
        "    return theta, theta_0"
      ],
      "execution_count": null,
      "outputs": []
    },
    {
      "cell_type": "code",
      "metadata": {
        "id": "U87UfhraMn7P"
      },
      "source": [
        "def test_linear_classifier_with_features(dataFun, learner, feature_fun,\n",
        "                             draw = True, refresh = True, pause = True):\n",
        "    raw_data, labels = dataFun()\n",
        "    data = feature_fun(raw_data) if feature_fun else raw_data\n",
        "    if draw:\n",
        "        def hook(params):\n",
        "            ax = plot_data(raw_data, labels)   # create plot axis on each iteration\n",
        "            (th, th0) = params\n",
        "            predictor = lambda x1,x2: int(positive(feature_fun(cv([x1, x2])), th, th0))\n",
        "            plot_nonlin_sep(\n",
        "                predictor,\n",
        "                ax = ax)\n",
        "            plot_data(raw_data, labels, ax)\n",
        "            plt.show()                         # force plot to push to the colab notebook and be displayed\n",
        "            print('th', th.T, 'th0', th0)\n",
        "            if pause: input('press enter here to continue:')\n",
        "    else:\n",
        "        hook = None\n",
        "    th, th0 = learner(data, labels, hook = hook)\n",
        "    if hook: hook((th, th0))\n",
        "    print(\"Final score\", int(score(data, labels, th, th0)))\n",
        "    print(\"Params\", np.transpose(th), th0)\n",
        "\n",
        "def test_with_features(dataFun, order = 2, draw=True, pause=True):\n",
        "    test_linear_classifier_with_features(\n",
        "        dataFun,                        # data\n",
        "        perceptron,                     # learner\n",
        "        make_polynomial_feature_fun(order), # feature maker\n",
        "        draw=draw,\n",
        "        pause=pause)"
      ],
      "execution_count": null,
      "outputs": []
    },
    {
      "cell_type": "markdown",
      "metadata": {
        "id": "N7SLAtCuNSOq"
      },
      "source": [
        "Here are a few tests you can run to see plots:"
      ]
    },
    {
      "cell_type": "code",
      "metadata": {
        "id": "9-AQC7mVMCbm",
        "outputId": "6a2f9109-abfe-4fb2-c189-0567ef931714",
        "colab": {
          "base_uri": "https://localhost:8080/",
          "height": 1000
        }
      },
      "source": [
        "# Separable dataset \n",
        "print(super_simple_separable())\n",
        "test_with_features(super_simple_separable, order=3, draw=True, pause=False)"
      ],
      "execution_count": null,
      "outputs": [
        {
          "output_type": "stream",
          "text": [
            "\r  0%|          | 0/100 [00:00<?, ?it/s]"
          ],
          "name": "stderr"
        },
        {
          "output_type": "stream",
          "text": [
            "(array([[ 2,  3,  9, 12],\n",
            "       [ 5,  2,  6,  5]]), array([[ 1, -1,  1, -1]]))\n"
          ],
          "name": "stdout"
        },
        {
          "output_type": "display_data",
          "data": {
            "image/png": "[encoded data removed]",
            "text/plain": [
              "<Figure size 432x288 with 1 Axes>"
            ]
          },
          "metadata": {
            "tags": []
          }
        },
        {
          "output_type": "stream",
          "text": [
            "th [[  1.   2.   5.   4.  10.  25.   8.  20.  50. 125.]] th0 [[1.]]\n"
          ],
          "name": "stdout"
        },
        {
          "output_type": "display_data",
          "data": {
            "image/png": "[encoded data removed]",
            "text/plain": [
              "<Figure size 432x288 with 1 Axes>"
            ]
          },
          "metadata": {
            "tags": []
          }
        },
        {
          "output_type": "stream",
          "text": [
            "\r  1%|          | 1/100 [00:00<00:38,  2.59it/s]"
          ],
          "name": "stderr"
        },
        {
          "output_type": "stream",
          "text": [
            "th [[  0.  -1.   3.  -5.   4.  21. -19.   2.  38. 117.]] th0 [[0.]]\n"
          ],
          "name": "stdout"
        },
        {
          "output_type": "display_data",
          "data": {
            "image/png": "[encoded data removed]",
            "text/plain": [
              "<Figure size 432x288 with 1 Axes>"
            ]
          },
          "metadata": {
            "tags": []
          }
        },
        {
          "output_type": "stream",
          "text": [
            "th [[ -1.  -4.   1. -14.  -2.  17. -46. -16.  26. 109.]] th0 [[-1.]]\n"
          ],
          "name": "stdout"
        },
        {
          "output_type": "display_data",
          "data": {
            "image/png": "[encoded data removed]",
            "text/plain": [
              "<Figure size 432x288 with 1 Axes>"
            ]
          },
          "metadata": {
            "tags": []
          }
        },
        {
          "output_type": "stream",
          "text": [
            "th [[  0.   5.   7.  67.  52.  53. 683. 470. 350. 325.]] th0 [[0.]]\n"
          ],
          "name": "stdout"
        },
        {
          "output_type": "display_data",
          "data": {
            "image/png": "[encoded data removed]",
            "text/plain": [
              "<Figure size 432x288 with 1 Axes>"
            ]
          },
          "metadata": {
            "tags": []
          }
        },
        {
          "output_type": "stream",
          "text": [
            "\r  2%|▏         | 2/100 [00:01<00:44,  2.19it/s]"
          ],
          "name": "stderr"
        },
        {
          "output_type": "stream",
          "text": [
            "th [[-1.000e+00 -7.000e+00  2.000e+00 -7.700e+01 -8.000e+00  2.800e+01\n",
            "  -1.045e+03 -2.500e+02  5.000e+01  2.000e+02]] th0 [[-1.]]\n"
          ],
          "name": "stdout"
        },
        {
          "output_type": "display_data",
          "data": {
            "image/png": "[encoded data removed]",
            "text/plain": [
              "<Figure size 432x288 with 1 Axes>"
            ]
          },
          "metadata": {
            "tags": []
          }
        },
        {
          "output_type": "stream",
          "text": [
            "\r  3%|▎         | 3/100 [00:01<00:36,  2.67it/s]"
          ],
          "name": "stderr"
        },
        {
          "output_type": "stream",
          "text": [
            "th [[   0.    2.    8.    4.   46.   64. -316.  236.  374.  416.]] th0 [[0.]]\n"
          ],
          "name": "stdout"
        },
        {
          "output_type": "display_data",
          "data": {
            "image/png": "[encoded data removed]",
            "text/plain": [
              "<Figure size 432x288 with 1 Axes>"
            ]
          },
          "metadata": {
            "tags": []
          }
        },
        {
          "output_type": "stream",
          "text": [
            "\r  4%|▍         | 4/100 [00:01<00:30,  3.16it/s]"
          ],
          "name": "stderr"
        },
        {
          "output_type": "stream",
          "text": [
            "th [[  -1.   -1.    6.   -5.   40.   60. -343.  218.  362.  408.]] th0 [[-1.]]\n"
          ],
          "name": "stdout"
        },
        {
          "output_type": "display_data",
          "data": {
            "image/png": "[encoded data removed]",
            "text/plain": [
              "<Figure size 432x288 with 1 Axes>"
            ]
          },
          "metadata": {
            "tags": []
          }
        },
        {
          "output_type": "stream",
          "text": [
            "\r  5%|▌         | 5/100 [00:01<00:27,  3.50it/s]"
          ],
          "name": "stderr"
        },
        {
          "output_type": "stream",
          "text": [
            "th [[  -2.   -4.    4.  -14.   34.   56. -370.  200.  350.  400.]] th0 [[-2.]]\n"
          ],
          "name": "stdout"
        },
        {
          "output_type": "display_data",
          "data": {
            "image/png": "[encoded data removed]",
            "text/plain": [
              "<Figure size 432x288 with 1 Axes>"
            ]
          },
          "metadata": {
            "tags": []
          }
        },
        {
          "output_type": "stream",
          "text": [
            "th [[  -3.   -7.    2.  -23.   28.   52. -397.  182.  338.  392.]] th0 [[-3.]]\n"
          ],
          "name": "stdout"
        },
        {
          "output_type": "display_data",
          "data": {
            "image/png": "[encoded data removed]",
            "text/plain": [
              "<Figure size 432x288 with 1 Axes>"
            ]
          },
          "metadata": {
            "tags": []
          }
        },
        {
          "output_type": "stream",
          "text": [
            "th [[ -2.   2.   8.  58.  82.  88. 332. 668. 662. 608.]] th0 [[-2.]]\n"
          ],
          "name": "stdout"
        },
        {
          "output_type": "display_data",
          "data": {
            "image/png": "[encoded data removed]",
            "text/plain": [
              "<Figure size 432x288 with 1 Axes>"
            ]
          },
          "metadata": {
            "tags": []
          }
        },
        {
          "output_type": "stream",
          "text": [
            "\r  6%|▌         | 6/100 [00:02<00:38,  2.45it/s]"
          ],
          "name": "stderr"
        },
        {
          "output_type": "stream",
          "text": [
            "th [[   -3.   -10.     3.   -86.    22.    63. -1396.   -52.   362.   483.]] th0 [[-3.]]\n"
          ],
          "name": "stdout"
        },
        {
          "output_type": "display_data",
          "data": {
            "image/png": "[encoded data removed]",
            "text/plain": [
              "<Figure size 432x288 with 1 Axes>"
            ]
          },
          "metadata": {
            "tags": []
          }
        },
        {
          "output_type": "stream",
          "text": [
            "\r  7%|▋         | 7/100 [00:02<00:31,  2.95it/s]"
          ],
          "name": "stderr"
        },
        {
          "output_type": "stream",
          "text": [
            "th [[  -2.   -1.    9.   -5.   76.   99. -667.  434.  686.  699.]] th0 [[-2.]]\n"
          ],
          "name": "stdout"
        },
        {
          "output_type": "display_data",
          "data": {
            "image/png": "[encoded data removed]",
            "text/plain": [
              "<Figure size 432x288 with 1 Axes>"
            ]
          },
          "metadata": {
            "tags": []
          }
        },
        {
          "output_type": "stream",
          "text": [
            "\r  8%|▊         | 8/100 [00:02<00:27,  3.32it/s]"
          ],
          "name": "stderr"
        },
        {
          "output_type": "stream",
          "text": [
            "th [[  -3.   -4.    7.  -14.   70.   95. -694.  416.  674.  691.]] th0 [[-3.]]\n"
          ],
          "name": "stdout"
        },
        {
          "output_type": "display_data",
          "data": {
            "image/png": "[encoded data removed]",
            "text/plain": [
              "<Figure size 432x288 with 1 Axes>"
            ]
          },
          "metadata": {
            "tags": []
          }
        },
        {
          "output_type": "stream",
          "text": [
            "\r  9%|▉         | 9/100 [00:02<00:24,  3.78it/s]"
          ],
          "name": "stderr"
        },
        {
          "output_type": "stream",
          "text": [
            "th [[  -4.   -7.    5.  -23.   64.   91. -721.  398.  662.  683.]] th0 [[-4.]]\n"
          ],
          "name": "stdout"
        },
        {
          "output_type": "display_data",
          "data": {
            "image/png": "[encoded data removed]",
            "text/plain": [
              "<Figure size 432x288 with 1 Axes>"
            ]
          },
          "metadata": {
            "tags": []
          }
        },
        {
          "output_type": "stream",
          "text": [
            "th [[  -5.  -10.    3.  -32.   58.   87. -748.  380.  650.  675.]] th0 [[-5.]]\n"
          ],
          "name": "stdout"
        },
        {
          "output_type": "display_data",
          "data": {
            "image/png": "[encoded data removed]",
            "text/plain": [
              "<Figure size 432x288 with 1 Axes>"
            ]
          },
          "metadata": {
            "tags": []
          }
        },
        {
          "output_type": "stream",
          "text": [
            "th [[ -4.  -1.   9.  49. 112. 123. -19. 866. 974. 891.]] th0 [[-4.]]\n"
          ],
          "name": "stdout"
        },
        {
          "output_type": "display_data",
          "data": {
            "image/png": "[encoded data removed]",
            "text/plain": [
              "<Figure size 432x288 with 1 Axes>"
            ]
          },
          "metadata": {
            "tags": []
          }
        },
        {
          "output_type": "stream",
          "text": [
            "\r 10%|█         | 10/100 [00:03<00:32,  2.76it/s]"
          ],
          "name": "stderr"
        },
        {
          "output_type": "stream",
          "text": [
            "th [[   -5.   -13.     4.   -95.    52.    98. -1747.   146.   674.   766.]] th0 [[-5.]]\n"
          ],
          "name": "stdout"
        },
        {
          "output_type": "display_data",
          "data": {
            "image/png": "[encoded data removed]",
            "text/plain": [
              "<Figure size 432x288 with 1 Axes>"
            ]
          },
          "metadata": {
            "tags": []
          }
        },
        {
          "output_type": "stream",
          "text": [
            "\r 11%|█         | 11/100 [00:03<00:27,  3.18it/s]"
          ],
          "name": "stderr"
        },
        {
          "output_type": "stream",
          "text": [
            "th [[   -4.    -4.    10.   -14.   106.   134. -1018.   632.   998.   982.]] th0 [[-4.]]\n"
          ],
          "name": "stdout"
        },
        {
          "output_type": "display_data",
          "data": {
            "image/png": "[encoded data removed]",
            "text/plain": [
              "<Figure size 432x288 with 1 Axes>"
            ]
          },
          "metadata": {
            "tags": []
          }
        },
        {
          "output_type": "stream",
          "text": [
            "\r 12%|█▏        | 12/100 [00:03<00:24,  3.65it/s]"
          ],
          "name": "stderr"
        },
        {
          "output_type": "stream",
          "text": [
            "th [[   -5.    -7.     8.   -23.   100.   130. -1045.   614.   986.   974.]] th0 [[-5.]]\n"
          ],
          "name": "stdout"
        },
        {
          "output_type": "display_data",
          "data": {
            "image/png": "[encoded data removed]",
            "text/plain": [
              "<Figure size 432x288 with 1 Axes>"
            ]
          },
          "metadata": {
            "tags": []
          }
        },
        {
          "output_type": "stream",
          "text": [
            "\r 13%|█▎        | 13/100 [00:04<00:22,  3.89it/s]"
          ],
          "name": "stderr"
        },
        {
          "output_type": "stream",
          "text": [
            "th [[   -6.   -10.     6.   -32.    94.   126. -1072.   596.   974.   966.]] th0 [[-6.]]\n"
          ],
          "name": "stdout"
        },
        {
          "output_type": "display_data",
          "data": {
            "image/png": "[encoded data removed]",
            "text/plain": [
              "<Figure size 432x288 with 1 Axes>"
            ]
          },
          "metadata": {
            "tags": []
          }
        },
        {
          "output_type": "stream",
          "text": [
            "\r 14%|█▍        | 14/100 [00:04<00:20,  4.20it/s]"
          ],
          "name": "stderr"
        },
        {
          "output_type": "stream",
          "text": [
            "th [[   -7.   -13.     4.   -41.    88.   122. -1099.   578.   962.   958.]] th0 [[-7.]]\n"
          ],
          "name": "stdout"
        },
        {
          "output_type": "display_data",
          "data": {
            "image/png": "[encoded data removed]",
            "text/plain": [
              "<Figure size 432x288 with 1 Axes>"
            ]
          },
          "metadata": {
            "tags": []
          }
        },
        {
          "output_type": "stream",
          "text": [
            "th [[   -8.   -16.     2.   -50.    82.   118. -1126.   560.   950.   950.]] th0 [[-8.]]\n"
          ],
          "name": "stdout"
        },
        {
          "output_type": "display_data",
          "data": {
            "image/png": "[encoded data removed]",
            "text/plain": [
              "<Figure size 432x288 with 1 Axes>"
            ]
          },
          "metadata": {
            "tags": []
          }
        },
        {
          "output_type": "stream",
          "text": [
            "th [[  -7.   -7.    8.   31.  136.  154. -397. 1046. 1274. 1166.]] th0 [[-7.]]\n"
          ],
          "name": "stdout"
        },
        {
          "output_type": "display_data",
          "data": {
            "image/png": "[encoded data removed]",
            "text/plain": [
              "<Figure size 432x288 with 1 Axes>"
            ]
          },
          "metadata": {
            "tags": []
          }
        },
        {
          "output_type": "stream",
          "text": [
            "\r 15%|█▌        | 15/100 [00:04<00:31,  2.69it/s]"
          ],
          "name": "stderr"
        },
        {
          "output_type": "stream",
          "text": [
            "th [[   -8.   -19.     3.  -113.    76.   129. -2125.   326.   974.  1041.]] th0 [[-8.]]\n"
          ],
          "name": "stdout"
        },
        {
          "output_type": "display_data",
          "data": {
            "image/png": "[encoded data removed]",
            "text/plain": [
              "<Figure size 432x288 with 1 Axes>"
            ]
          },
          "metadata": {
            "tags": []
          }
        },
        {
          "output_type": "stream",
          "text": [
            "\r 16%|█▌        | 16/100 [00:05<00:26,  3.19it/s]"
          ],
          "name": "stderr"
        },
        {
          "output_type": "stream",
          "text": [
            "th [[   -7.   -10.     9.   -32.   130.   165. -1396.   812.  1298.  1257.]] th0 [[-7.]]\n"
          ],
          "name": "stdout"
        },
        {
          "output_type": "display_data",
          "data": {
            "image/png": "[encoded data removed]",
            "text/plain": [
              "<Figure size 432x288 with 1 Axes>"
            ]
          },
          "metadata": {
            "tags": []
          }
        },
        {
          "output_type": "stream",
          "text": [
            "\r 17%|█▋        | 17/100 [00:05<00:23,  3.48it/s]"
          ],
          "name": "stderr"
        },
        {
          "output_type": "stream",
          "text": [
            "th [[   -8.   -13.     7.   -41.   124.   161. -1423.   794.  1286.  1249.]] th0 [[-8.]]\n"
          ],
          "name": "stdout"
        },
        {
          "output_type": "display_data",
          "data": {
            "image/png": "[encoded data removed]",
            "text/plain": [
              "<Figure size 432x288 with 1 Axes>"
            ]
          },
          "metadata": {
            "tags": []
          }
        },
        {
          "output_type": "stream",
          "text": [
            "\r 18%|█▊        | 18/100 [00:05<00:20,  3.92it/s]"
          ],
          "name": "stderr"
        },
        {
          "output_type": "stream",
          "text": [
            "th [[   -9.   -16.     5.   -50.   118.   157. -1450.   776.  1274.  1241.]] th0 [[-9.]]\n"
          ],
          "name": "stdout"
        },
        {
          "output_type": "display_data",
          "data": {
            "image/png": "[encoded data removed]",
            "text/plain": [
              "<Figure size 432x288 with 1 Axes>"
            ]
          },
          "metadata": {
            "tags": []
          }
        },
        {
          "output_type": "stream",
          "text": [
            "th [[  -10.   -19.     3.   -59.   112.   153. -1477.   758.  1262.  1233.]] th0 [[-10.]]\n"
          ],
          "name": "stdout"
        },
        {
          "output_type": "display_data",
          "data": {
            "image/png": "[encoded data removed]",
            "text/plain": [
              "<Figure size 432x288 with 1 Axes>"
            ]
          },
          "metadata": {
            "tags": []
          }
        },
        {
          "output_type": "stream",
          "text": [
            "th [[  -9.  -10.    9.   22.  166.  189. -748. 1244. 1586. 1449.]] th0 [[-9.]]\n"
          ],
          "name": "stdout"
        },
        {
          "output_type": "display_data",
          "data": {
            "image/png": "[encoded data removed]",
            "text/plain": [
              "<Figure size 432x288 with 1 Axes>"
            ]
          },
          "metadata": {
            "tags": []
          }
        },
        {
          "output_type": "stream",
          "text": [
            "\r 19%|█▉        | 19/100 [00:06<00:29,  2.75it/s]"
          ],
          "name": "stderr"
        },
        {
          "output_type": "stream",
          "text": [
            "th [[  -10.   -22.     4.  -122.   106.   164. -2476.   524.  1286.  1324.]] th0 [[-10.]]\n"
          ],
          "name": "stdout"
        },
        {
          "output_type": "display_data",
          "data": {
            "image/png": "[encoded data removed]",
            "text/plain": [
              "<Figure size 432x288 with 1 Axes>"
            ]
          },
          "metadata": {
            "tags": []
          }
        },
        {
          "output_type": "stream",
          "text": [
            "\r 20%|██        | 20/100 [00:06<00:25,  3.15it/s]"
          ],
          "name": "stderr"
        },
        {
          "output_type": "stream",
          "text": [
            "th [[   -9.   -13.    10.   -41.   160.   200. -1747.  1010.  1610.  1540.]] th0 [[-9.]]\n"
          ],
          "name": "stdout"
        },
        {
          "output_type": "display_data",
          "data": {
            "image/png": "[encoded data removed]",
            "text/plain": [
              "<Figure size 432x288 with 1 Axes>"
            ]
          },
          "metadata": {
            "tags": []
          }
        },
        {
          "output_type": "stream",
          "text": [
            "\r 21%|██        | 21/100 [00:06<00:21,  3.60it/s]"
          ],
          "name": "stderr"
        },
        {
          "output_type": "stream",
          "text": [
            "th [[  -10.   -16.     8.   -50.   154.   196. -1774.   992.  1598.  1532.]] th0 [[-10.]]\n"
          ],
          "name": "stdout"
        },
        {
          "output_type": "display_data",
          "data": {
            "image/png": "[encoded data removed]",
            "text/plain": [
              "<Figure size 432x288 with 1 Axes>"
            ]
          },
          "metadata": {
            "tags": []
          }
        },
        {
          "output_type": "stream",
          "text": [
            "\r 22%|██▏       | 22/100 [00:06<00:20,  3.77it/s]"
          ],
          "name": "stderr"
        },
        {
          "output_type": "stream",
          "text": [
            "th [[  -11.   -19.     6.   -59.   148.   192. -1801.   974.  1586.  1524.]] th0 [[-11.]]\n"
          ],
          "name": "stdout"
        },
        {
          "output_type": "display_data",
          "data": {
            "image/png": "[encoded data removed]",
            "text/plain": [
              "<Figure size 432x288 with 1 Axes>"
            ]
          },
          "metadata": {
            "tags": []
          }
        },
        {
          "output_type": "stream",
          "text": [
            "th [[  -12.   -22.     4.   -68.   142.   188. -1828.   956.  1574.  1516.]] th0 [[-12.]]\n"
          ],
          "name": "stdout"
        },
        {
          "output_type": "display_data",
          "data": {
            "image/png": "[encoded data removed]",
            "text/plain": [
              "<Figure size 432x288 with 1 Axes>"
            ]
          },
          "metadata": {
            "tags": []
          }
        },
        {
          "output_type": "stream",
          "text": [
            "\r 23%|██▎       | 23/100 [00:07<00:23,  3.29it/s]"
          ],
          "name": "stderr"
        },
        {
          "output_type": "stream",
          "text": [
            "th [[  -11.   -13.    10.    13.   196.   224. -1099.  1442.  1898.  1732.]] th0 [[-11.]]\n"
          ],
          "name": "stdout"
        },
        {
          "output_type": "display_data",
          "data": {
            "image/png": "[encoded data removed]",
            "text/plain": [
              "<Figure size 432x288 with 1 Axes>"
            ]
          },
          "metadata": {
            "tags": []
          }
        },
        {
          "output_type": "stream",
          "text": [
            "\r 24%|██▍       | 24/100 [00:07<00:20,  3.72it/s]"
          ],
          "name": "stderr"
        },
        {
          "output_type": "stream",
          "text": [
            "th [[  -12.   -16.     8.     4.   190.   220. -1126.  1424.  1886.  1724.]] th0 [[-12.]]\n"
          ],
          "name": "stdout"
        },
        {
          "output_type": "display_data",
          "data": {
            "image/png": "[encoded data removed]",
            "text/plain": [
              "<Figure size 432x288 with 1 Axes>"
            ]
          },
          "metadata": {
            "tags": []
          }
        },
        {
          "output_type": "stream",
          "text": [
            "\r 25%|██▌       | 25/100 [00:07<00:19,  3.93it/s]"
          ],
          "name": "stderr"
        },
        {
          "output_type": "stream",
          "text": [
            "th [[  -13.   -19.     6.    -5.   184.   216. -1153.  1406.  1874.  1716.]] th0 [[-13.]]\n"
          ],
          "name": "stdout"
        },
        {
          "output_type": "display_data",
          "data": {
            "image/png": "[encoded data removed]",
            "text/plain": [
              "<Figure size 432x288 with 1 Axes>"
            ]
          },
          "metadata": {
            "tags": []
          }
        },
        {
          "output_type": "stream",
          "text": [
            "\r 26%|██▌       | 26/100 [00:07<00:17,  4.30it/s]"
          ],
          "name": "stderr"
        },
        {
          "output_type": "stream",
          "text": [
            "th [[  -14.   -22.     4.   -14.   178.   212. -1180.  1388.  1862.  1708.]] th0 [[-14.]]\n"
          ],
          "name": "stdout"
        },
        {
          "output_type": "display_data",
          "data": {
            "image/png": "[encoded data removed]",
            "text/plain": [
              "<Figure size 432x288 with 1 Axes>"
            ]
          },
          "metadata": {
            "tags": []
          }
        },
        {
          "output_type": "stream",
          "text": [
            "\r 27%|██▋       | 27/100 [00:07<00:16,  4.38it/s]"
          ],
          "name": "stderr"
        },
        {
          "output_type": "stream",
          "text": [
            "th [[  -15.   -25.     2.   -23.   172.   208. -1207.  1370.  1850.  1700.]] th0 [[-15.]]\n"
          ],
          "name": "stdout"
        },
        {
          "output_type": "display_data",
          "data": {
            "image/png": "[encoded data removed]",
            "text/plain": [
              "<Figure size 432x288 with 1 Axes>"
            ]
          },
          "metadata": {
            "tags": []
          }
        },
        {
          "output_type": "stream",
          "text": [
            "\r 28%|██▊       | 28/100 [00:08<00:15,  4.67it/s]"
          ],
          "name": "stderr"
        },
        {
          "output_type": "stream",
          "text": [
            "th [[  -16.   -28.     0.   -32.   166.   204. -1234.  1352.  1838.  1692.]] th0 [[-16.]]\n"
          ],
          "name": "stdout"
        },
        {
          "output_type": "display_data",
          "data": {
            "image/png": "[encoded data removed]",
            "text/plain": [
              "<Figure size 432x288 with 1 Axes>"
            ]
          },
          "metadata": {
            "tags": []
          }
        },
        {
          "output_type": "stream",
          "text": [
            "\r 29%|██▉       | 29/100 [00:08<00:15,  4.69it/s]"
          ],
          "name": "stderr"
        },
        {
          "output_type": "stream",
          "text": [
            "th [[  -17.   -31.    -2.   -41.   160.   200. -1261.  1334.  1826.  1684.]] th0 [[-17.]]\n"
          ],
          "name": "stdout"
        },
        {
          "output_type": "display_data",
          "data": {
            "image/png": "[encoded data removed]",
            "text/plain": [
              "<Figure size 432x288 with 1 Axes>"
            ]
          },
          "metadata": {
            "tags": []
          }
        },
        {
          "output_type": "stream",
          "text": [
            "\r 30%|███       | 30/100 [00:08<00:14,  4.85it/s]"
          ],
          "name": "stderr"
        },
        {
          "output_type": "stream",
          "text": [
            "th [[  -18.   -34.    -4.   -50.   154.   196. -1288.  1316.  1814.  1676.]] th0 [[-18.]]\n"
          ],
          "name": "stdout"
        },
        {
          "output_type": "display_data",
          "data": {
            "image/png": "[encoded data removed]",
            "text/plain": [
              "<Figure size 432x288 with 1 Axes>"
            ]
          },
          "metadata": {
            "tags": []
          }
        },
        {
          "output_type": "stream",
          "text": [
            "\r 31%|███       | 31/100 [00:08<00:13,  5.02it/s]"
          ],
          "name": "stderr"
        },
        {
          "output_type": "stream",
          "text": [
            "th [[  -19.   -37.    -6.   -59.   148.   192. -1315.  1298.  1802.  1668.]] th0 [[-19.]]\n"
          ],
          "name": "stdout"
        },
        {
          "output_type": "display_data",
          "data": {
            "image/png": "[encoded data removed]",
            "text/plain": [
              "<Figure size 432x288 with 1 Axes>"
            ]
          },
          "metadata": {
            "tags": []
          }
        },
        {
          "output_type": "stream",
          "text": [
            "\r 32%|███▏      | 32/100 [00:08<00:14,  4.73it/s]"
          ],
          "name": "stderr"
        },
        {
          "output_type": "stream",
          "text": [
            "th [[  -20.   -40.    -8.   -68.   142.   188. -1342.  1280.  1790.  1660.]] th0 [[-20.]]\n"
          ],
          "name": "stdout"
        },
        {
          "output_type": "display_data",
          "data": {
            "image/png": "[encoded data removed]",
            "text/plain": [
              "<Figure size 432x288 with 1 Axes>"
            ]
          },
          "metadata": {
            "tags": []
          }
        },
        {
          "output_type": "stream",
          "text": [
            "\r 33%|███▎      | 33/100 [00:09<00:13,  4.93it/s]"
          ],
          "name": "stderr"
        },
        {
          "output_type": "stream",
          "text": [
            "th [[  -21.   -43.   -10.   -77.   136.   184. -1369.  1262.  1778.  1652.]] th0 [[-21.]]\n"
          ],
          "name": "stdout"
        },
        {
          "output_type": "display_data",
          "data": {
            "image/png": "[encoded data removed]",
            "text/plain": [
              "<Figure size 432x288 with 1 Axes>"
            ]
          },
          "metadata": {
            "tags": []
          }
        },
        {
          "output_type": "stream",
          "text": [
            "\r 34%|███▍      | 34/100 [00:09<00:13,  4.85it/s]"
          ],
          "name": "stderr"
        },
        {
          "output_type": "stream",
          "text": [
            "th [[  -22.   -46.   -12.   -86.   130.   180. -1396.  1244.  1766.  1644.]] th0 [[-22.]]\n"
          ],
          "name": "stdout"
        },
        {
          "output_type": "display_data",
          "data": {
            "image/png": "[encoded data removed]",
            "text/plain": [
              "<Figure size 432x288 with 1 Axes>"
            ]
          },
          "metadata": {
            "tags": []
          }
        },
        {
          "output_type": "stream",
          "text": [
            "\r 35%|███▌      | 35/100 [00:09<00:12,  5.05it/s]"
          ],
          "name": "stderr"
        },
        {
          "output_type": "stream",
          "text": [
            "th [[  -23.   -49.   -14.   -95.   124.   176. -1423.  1226.  1754.  1636.]] th0 [[-23.]]\n"
          ],
          "name": "stdout"
        },
        {
          "output_type": "display_data",
          "data": {
            "image/png": "[encoded data removed]",
            "text/plain": [
              "<Figure size 432x288 with 1 Axes>"
            ]
          },
          "metadata": {
            "tags": []
          }
        },
        {
          "output_type": "stream",
          "text": [
            "\r 36%|███▌      | 36/100 [00:09<00:13,  4.84it/s]"
          ],
          "name": "stderr"
        },
        {
          "output_type": "stream",
          "text": [
            "th [[  -24.   -52.   -16.  -104.   118.   172. -1450.  1208.  1742.  1628.]] th0 [[-24.]]\n"
          ],
          "name": "stdout"
        },
        {
          "output_type": "display_data",
          "data": {
            "image/png": "[encoded data removed]",
            "text/plain": [
              "<Figure size 432x288 with 1 Axes>"
            ]
          },
          "metadata": {
            "tags": []
          }
        },
        {
          "output_type": "stream",
          "text": [
            "\r 37%|███▋      | 37/100 [00:09<00:12,  4.99it/s]"
          ],
          "name": "stderr"
        },
        {
          "output_type": "stream",
          "text": [
            "th [[  -25.   -55.   -18.  -113.   112.   168. -1477.  1190.  1730.  1620.]] th0 [[-25.]]\n"
          ],
          "name": "stdout"
        },
        {
          "output_type": "display_data",
          "data": {
            "image/png": "[encoded data removed]",
            "text/plain": [
              "<Figure size 432x288 with 1 Axes>"
            ]
          },
          "metadata": {
            "tags": []
          }
        },
        {
          "output_type": "stream",
          "text": [
            "\r 38%|███▊      | 38/100 [00:10<00:12,  4.80it/s]"
          ],
          "name": "stderr"
        },
        {
          "output_type": "stream",
          "text": [
            "th [[  -26.   -58.   -20.  -122.   106.   164. -1504.  1172.  1718.  1612.]] th0 [[-26.]]\n"
          ],
          "name": "stdout"
        },
        {
          "output_type": "display_data",
          "data": {
            "image/png": "[encoded data removed]",
            "text/plain": [
              "<Figure size 432x288 with 1 Axes>"
            ]
          },
          "metadata": {
            "tags": []
          }
        },
        {
          "output_type": "stream",
          "text": [
            "\r 39%|███▉      | 39/100 [00:10<00:12,  4.96it/s]"
          ],
          "name": "stderr"
        },
        {
          "output_type": "stream",
          "text": [
            "th [[  -27.   -61.   -22.  -131.   100.   160. -1531.  1154.  1706.  1604.]] th0 [[-27.]]\n"
          ],
          "name": "stdout"
        },
        {
          "output_type": "display_data",
          "data": {
            "image/png": "[encoded data removed]",
            "text/plain": [
              "<Figure size 432x288 with 1 Axes>"
            ]
          },
          "metadata": {
            "tags": []
          }
        },
        {
          "output_type": "stream",
          "text": [
            "\r 40%|████      | 40/100 [00:10<00:12,  4.86it/s]"
          ],
          "name": "stderr"
        },
        {
          "output_type": "stream",
          "text": [
            "th [[  -28.   -64.   -24.  -140.    94.   156. -1558.  1136.  1694.  1596.]] th0 [[-28.]]\n"
          ],
          "name": "stdout"
        },
        {
          "output_type": "display_data",
          "data": {
            "image/png": "[encoded data removed]",
            "text/plain": [
              "<Figure size 432x288 with 1 Axes>"
            ]
          },
          "metadata": {
            "tags": []
          }
        },
        {
          "output_type": "stream",
          "text": [
            "\r 41%|████      | 41/100 [00:10<00:11,  5.04it/s]"
          ],
          "name": "stderr"
        },
        {
          "output_type": "stream",
          "text": [
            "th [[  -29.   -67.   -26.  -149.    88.   152. -1585.  1118.  1682.  1588.]] th0 [[-29.]]\n"
          ],
          "name": "stdout"
        },
        {
          "output_type": "display_data",
          "data": {
            "image/png": "[encoded data removed]",
            "text/plain": [
              "<Figure size 432x288 with 1 Axes>"
            ]
          },
          "metadata": {
            "tags": []
          }
        },
        {
          "output_type": "stream",
          "text": [
            "\r 42%|████▏     | 42/100 [00:10<00:11,  4.97it/s]"
          ],
          "name": "stderr"
        },
        {
          "output_type": "stream",
          "text": [
            "th [[  -30.   -70.   -28.  -158.    82.   148. -1612.  1100.  1670.  1580.]] th0 [[-30.]]\n"
          ],
          "name": "stdout"
        },
        {
          "output_type": "display_data",
          "data": {
            "image/png": "[encoded data removed]",
            "text/plain": [
              "<Figure size 432x288 with 1 Axes>"
            ]
          },
          "metadata": {
            "tags": []
          }
        },
        {
          "output_type": "stream",
          "text": [
            "\r 43%|████▎     | 43/100 [00:11<00:12,  4.64it/s]"
          ],
          "name": "stderr"
        },
        {
          "output_type": "stream",
          "text": [
            "th [[  -31.   -73.   -30.  -167.    76.   144. -1639.  1082.  1658.  1572.]] th0 [[-31.]]\n"
          ],
          "name": "stdout"
        },
        {
          "output_type": "display_data",
          "data": {
            "image/png": "[encoded data removed]",
            "text/plain": [
              "<Figure size 432x288 with 1 Axes>"
            ]
          },
          "metadata": {
            "tags": []
          }
        },
        {
          "output_type": "stream",
          "text": [
            "\r 44%|████▍     | 44/100 [00:11<00:11,  4.87it/s]"
          ],
          "name": "stderr"
        },
        {
          "output_type": "stream",
          "text": [
            "th [[  -32.   -76.   -32.  -176.    70.   140. -1666.  1064.  1646.  1564.]] th0 [[-32.]]\n"
          ],
          "name": "stdout"
        },
        {
          "output_type": "display_data",
          "data": {
            "image/png": "[encoded data removed]",
            "text/plain": [
              "<Figure size 432x288 with 1 Axes>"
            ]
          },
          "metadata": {
            "tags": []
          }
        },
        {
          "output_type": "stream",
          "text": [
            "\r 45%|████▌     | 45/100 [00:11<00:11,  4.78it/s]"
          ],
          "name": "stderr"
        },
        {
          "output_type": "stream",
          "text": [
            "th [[  -33.   -79.   -34.  -185.    64.   136. -1693.  1046.  1634.  1556.]] th0 [[-33.]]\n"
          ],
          "name": "stdout"
        },
        {
          "output_type": "display_data",
          "data": {
            "image/png": "[encoded data removed]",
            "text/plain": [
              "<Figure size 432x288 with 1 Axes>"
            ]
          },
          "metadata": {
            "tags": []
          }
        },
        {
          "output_type": "stream",
          "text": [
            "\r 46%|████▌     | 46/100 [00:11<00:11,  4.87it/s]"
          ],
          "name": "stderr"
        },
        {
          "output_type": "stream",
          "text": [
            "th [[  -34.   -82.   -36.  -194.    58.   132. -1720.  1028.  1622.  1548.]] th0 [[-34.]]\n"
          ],
          "name": "stdout"
        },
        {
          "output_type": "display_data",
          "data": {
            "image/png": "[encoded data removed]",
            "text/plain": [
              "<Figure size 432x288 with 1 Axes>"
            ]
          },
          "metadata": {
            "tags": []
          }
        },
        {
          "output_type": "stream",
          "text": [
            "\r 47%|████▋     | 47/100 [00:11<00:10,  5.07it/s]"
          ],
          "name": "stderr"
        },
        {
          "output_type": "stream",
          "text": [
            "th [[  -35.   -85.   -38.  -203.    52.   128. -1747.  1010.  1610.  1540.]] th0 [[-35.]]\n"
          ],
          "name": "stdout"
        },
        {
          "output_type": "display_data",
          "data": {
            "image/png": "[encoded data removed]",
            "text/plain": [
              "<Figure size 432x288 with 1 Axes>"
            ]
          },
          "metadata": {
            "tags": []
          }
        },
        {
          "output_type": "stream",
          "text": [
            "100%|██████████| 100/100 [00:12<00:00,  8.18it/s]"
          ],
          "name": "stderr"
        },
        {
          "output_type": "stream",
          "text": [
            "th [[  -36.   -88.   -40.  -212.    46.   124. -1774.   992.  1598.  1532.]] th0 [[-36.]]\n"
          ],
          "name": "stdout"
        },
        {
          "output_type": "stream",
          "text": [
            "\n"
          ],
          "name": "stderr"
        },
        {
          "output_type": "display_data",
          "data": {
            "image/png": "[encoded data removed]",
            "text/plain": [
              "<Figure size 432x288 with 1 Axes>"
            ]
          },
          "metadata": {
            "tags": []
          }
        },
        {
          "output_type": "stream",
          "text": [
            "th [[  -36.   -88.   -40.  -212.    46.   124. -1774.   992.  1598.  1532.]] th0 [[-36.]]\n",
            "Final score 4\n",
            "Params [[  -36.   -88.   -40.  -212.    46.   124. -1774.   992.  1598.  1532.]] [[-36.]]\n"
          ],
          "name": "stdout"
        }
      ]
    },
    {
      "cell_type": "code",
      "metadata": {
        "id": "H74UrlZSNVe-",
        "outputId": "0903456b-928f-4fad-c19c-4b65e41f8269",
        "colab": {
          "base_uri": "https://localhost:8080/",
          "height": 102
        }
      },
      "source": [
        "# XOR dataset \n",
        "print(xor_more())\n",
        "test_with_features(xor_more, order=3, draw=False, pause=False)"
      ],
      "execution_count": null,
      "outputs": [
        {
          "output_type": "stream",
          "text": [
            "100%|██████████| 100/100 [00:00<00:00, 5994.95it/s]"
          ],
          "name": "stderr"
        },
        {
          "output_type": "stream",
          "text": [
            "(array([[1, 2, 1, 2, 2, 4, 1, 3],\n",
            "       [1, 2, 2, 1, 3, 1, 3, 3]]), array([[ 1,  1, -1, -1,  1,  1, -1, -1]]))\n",
            "Final score 6\n",
            "Params [[   9.   26.   23.   28.   69.   21.   20. -103.   93.  -73.]] [[9.]]\n"
          ],
          "name": "stdout"
        },
        {
          "output_type": "stream",
          "text": [
            "\n"
          ],
          "name": "stderr"
        }
      ]
    },
    {
      "cell_type": "code",
      "metadata": {
        "id": "0DAc3_TQSxRD",
        "outputId": "07fa8c5e-49a5-4533-def7-16d3377b06f6",
        "colab": {
          "base_uri": "https://localhost:8080/",
          "height": 170
        }
      },
      "source": [
        "test_with_features(super_simple_separable, order=1, draw=False, pause=False)\n",
        "test_with_features(super_simple_separable, order=2, draw=False, pause=False)\n",
        "test_with_features(super_simple_separable, order=3, draw=False, pause=False)\n",
        "#test_with_features(super_simple_separable_through_origin, order=3, draw=False, pause=False)\n",
        "#test_with_features(super_simple_separable, order=1, draw=False, pause=False)\n",
        "#test_with_features(xor, order=1, draw=False, pause=False)\n",
        "#test_with_features(xor, order=2, draw=False, pause=False)\n",
        "#test_with_features(xor, order=3, draw=False, pause=False)\n",
        "#test_with_features(xor_more, order=1, draw=False, pause=False)\n",
        "#test_with_features(xor_more, order=2, draw=False, pause=False)\n",
        "#test_with_features(xor_more, order=3, draw=False, pause=False)\n",
        "#test_with_features(xor_more, order=4, draw=False, pause=False)"
      ],
      "execution_count": null,
      "outputs": [
        {
          "output_type": "stream",
          "text": [
            "100%|██████████| 100/100 [00:00<00:00, 13638.24it/s]\n",
            "100%|██████████| 100/100 [00:00<00:00, 10920.96it/s]\n",
            "100%|██████████| 100/100 [00:00<00:00, 7656.07it/s]"
          ],
          "name": "stderr"
        },
        {
          "output_type": "stream",
          "text": [
            "Final score 4\n",
            "Params [[ -5. -27.  44.]] [[-5.]]\n",
            "Final score 4\n",
            "Params [[ -11.  -26.   11. -190.  140.  235.]] [[-11.]]\n",
            "Final score 4\n",
            "Params [[  -36.   -88.   -40.  -212.    46.   124. -1774.   992.  1598.  1532.]] [[-36.]]\n"
          ],
          "name": "stdout"
        },
        {
          "output_type": "stream",
          "text": [
            "\n"
          ],
          "name": "stderr"
        }
      ]
    },
    {
      "cell_type": "markdown",
      "metadata": {
        "id": "GcgPe4-XQ8-b"
      },
      "source": [
        "# Experiments"
      ]
    },
    {
      "cell_type": "markdown",
      "metadata": {
        "id": "erNybvgGRXCf"
      },
      "source": [
        "## 4) Car Data - Evaluating Algorithmic and Feature Choices\n",
        "\n",
        "We now want to build a classifier for the auto data, focusing on the\n",
        "numeric data.  In the code file for this part of the assignment, we have supplied you\n",
        "with the `load_auto_data` function, that can be used to read the\n",
        "relevant .tsv file.  It will return a list of dictionaries, one for each data item.\n",
        "\n",
        "We then have to specify what feature function to use for each column\n",
        "in the data.  The file `hw3_part2_main.py` has an example for constructing\n",
        "the data and label arrays using `raw` feature function for all the columns.\n",
        "Look at the definition of `features` in `hw3_part2_main.py`, this indicates a feature name to\n",
        "use and then a feature function, there are three defined in the\n",
        "`code_for_hw3_part2.py` file (`raw`, `standard` and `one_hot`).  `raw` just uses\n",
        "the original value, `standard` subtracts out the mean value and\n",
        "divides by the standard deviation and `one_hot` does the encoding\n",
        "described in the notes.\n",
        "\n",
        "The function `auto_data_and_labels` will process the dictionaries and\n",
        "return <tt>data, labels</tt> where <tt>data</tt> are arrays of\n",
        "dimension $(d, 392)$, with $d$ the total number of features specified,\n",
        "and <tt>labels</tt> is of dimension $(1, 392)$.  The data in the file\n",
        "is sorted by class, but it will be shuffled when you read it in."
      ]
    },
    {
      "cell_type": "code",
      "metadata": {
        "id": "_PaFV_vL4ODb"
      },
      "source": [
        "# Perceptron algorithm with offset.\n",
        "# data is dimension d by n\n",
        "# labels is dimension 1 by n\n",
        "# T is a positive integer number of steps to run\n",
        "def perceptron(data, labels, params = {}, hook = None):\n",
        "    # if T not in params, default to 50\n",
        "    T = params.get('T', 100)\n",
        "    (d, n) = data.shape\n",
        "    m = 0\n",
        "    theta = np.zeros((d, 1)); theta_0 = np.zeros((1, 1))\n",
        "    for t in tqdm.tqdm(range(T)):\n",
        "        for i in range(n):\n",
        "            x = data[:,i:i+1]\n",
        "            y = labels[:,i:i+1]\n",
        "            if y * positive(x, theta, theta_0) <= 0.0:\n",
        "                theta = theta + y * x\n",
        "                theta_0 = theta_0 + y\n",
        "                m += 1\n",
        "                if hook: hook((theta, theta_0))\n",
        "    return theta, theta_0\n",
        "\n",
        "def averaged_perceptron(data, labels, params = {}, hook = None):\n",
        "    T = params.get('T', 50)\n",
        "    (d, n) = data.shape\n",
        "\n",
        "    theta = np.zeros((d, 1)); theta_0 = np.zeros((1, 1))\n",
        "    theta_sum = theta.copy()\n",
        "    theta_0_sum = theta_0.copy()\n",
        "    for t in range(T):\n",
        "        for i in range(n):\n",
        "            x = data[:,i:i+1]\n",
        "            y = labels[:,i:i+1]\n",
        "            if y * positive(x, theta, theta_0) <= 0.0:\n",
        "                theta = theta + y * x\n",
        "                theta_0 = theta_0 + y\n",
        "                if hook: hook((theta, theta_0))\n",
        "            theta_sum = theta_sum + theta\n",
        "            theta_0_sum = theta_0_sum + theta_0\n",
        "    theta_avg = theta_sum / (T*n)\n",
        "    theta_0_avg = theta_0_sum / (T*n)\n",
        "    if hook: hook((theta_avg, theta_0_avg))\n",
        "    return theta_avg, theta_0_avg\n",
        "\n",
        "  \n",
        "def eval_classifier(learner, data_train, labels_train, data_test, labels_test):\n",
        "    th, th0 = learner(data_train, labels_train)\n",
        "    return score(data_test, labels_test, th, th0)/data_test.shape[1]\n",
        "\n",
        "def positive(x, th, th0):\n",
        "    return np.sign(th.T@x + th0)\n",
        "\n",
        "def score(data, labels, th, th0):\n",
        "    return np.sum(positive(data, th, th0) == labels)\n",
        "\n",
        "def xval_learning_alg(learner, data, labels, k):\n",
        "    _, n = data.shape\n",
        "    idx = list(range(n))\n",
        "    np.random.seed(0)\n",
        "    np.random.shuffle(idx)\n",
        "    data, labels = data[:,idx], labels[:,idx]\n",
        "\n",
        "    score_sum = 0\n",
        "    s_data = np.array_split(data, k, axis=1)\n",
        "    s_labels = np.array_split(labels, k, axis=1)\n",
        "    for i in range(k):\n",
        "        data_train = np.concatenate(s_data[:i] + s_data[i+1:], axis=1)\n",
        "        labels_train = np.concatenate(s_labels[:i] + s_labels[i+1:], axis=1)\n",
        "        data_test = np.array(s_data[i])\n",
        "        labels_test = np.array(s_labels[i])\n",
        "        score_sum += eval_classifier(learner, data_train, labels_train,\n",
        "                                              data_test, labels_test)\n",
        "    return score_sum/k"
      ],
      "execution_count": null,
      "outputs": []
    },
    {
      "cell_type": "code",
      "metadata": {
        "id": "3jdynxZqQ5Ky",
        "outputId": "9919367d-43c4-4331-f3ac-4e72ab3a8354",
        "colab": {
          "base_uri": "https://localhost:8080/",
          "height": 68
        }
      },
      "source": [
        "# Returns a list of dictionaries.  Keys are the column names, including mpg.\n",
        "auto_data_all = hw3.load_auto_data('auto-mpg.tsv')\n",
        "\n",
        "# The choice of feature processing for each feature, mpg is always raw and\n",
        "# does not need to be specified.  Other choices are hw3.standard and hw3.one_hot.\n",
        "# 'name' is not numeric and would need a different encoding.\n",
        "features = [('cylinders', hw3.raw),\n",
        "            ('displacement', hw3.raw),\n",
        "            ('horsepower', hw3.raw),\n",
        "            ('weight', hw3.raw),\n",
        "            ('acceleration', hw3.raw),\n",
        "            ## Drop model_year by default\n",
        "            ## ('model_year', hw3.raw),\n",
        "            ('origin', hw3.raw)]\n",
        "\n",
        "# Construct the standard data and label arrays\n",
        "auto_data, auto_labels = hw3.auto_data_and_labels(auto_data_all, features)\n",
        "print('auto data and labels shape', auto_data.shape, auto_labels.shape)"
      ],
      "execution_count": null,
      "outputs": [
        {
          "output_type": "stream",
          "text": [
            "avg and std {}\n",
            "entries in one_hot field {}\n",
            "auto data and labels shape (6, 392) (1, 392)\n"
          ],
          "name": "stdout"
        }
      ]
    },
    {
      "cell_type": "code",
      "metadata": {
        "id": "yfOrmU1XdFCZ",
        "outputId": "f1ebf1fe-19cb-43fe-d07b-ae23ecd53b2d",
        "colab": {
          "base_uri": "https://localhost:8080/",
          "height": 170
        }
      },
      "source": [
        "# Your code here to process the auto data\n",
        "features = [('cylinders', hw3.raw),\n",
        "            ('displacement', hw3.raw),\n",
        "            ('horsepower', hw3.raw),\n",
        "            ('weight', hw3.raw),\n",
        "            ('acceleration', hw3.raw),\n",
        "            ('origin', hw3.raw)]\n",
        "\n",
        "# Construct the standard data and label arrays\n",
        "auto_data, auto_labels = hw3.auto_data_and_labels(auto_data_all, features)\n",
        "print('auto data and labels shape', auto_data.shape, auto_labels.shape)\n",
        "\n",
        "# acc= xval_learning_alg(lambda data, labels: perceptron(data, labels, {\"T\": 10}), auto_data, auto_labels, k=10)\n",
        "# print(acc)\n",
        "# acc= xval_learning_alg(lambda data, labels: averaged_perceptron(data, labels, {\"T\": 10}), auto_data, auto_labels, k=10)\n",
        "# print(acc)\n",
        "#acc =xval_learning_alg(lambda data, labels: perceptron(data, labels, {\"T\": 10}), auto_data, auto_labels, k=10)\n",
        "#print(acc)\n",
        "#acc =xval_learning_alg(lambda data, labels: perceptron(data, labels, {\"T\": 50}), auto_data, auto_labels, k=10)\n",
        "#print(acc)\n"
      ],
      "execution_count": null,
      "outputs": [
        {
          "output_type": "stream",
          "text": [
            "avg and std {}\n",
            "entries in one_hot field {}\n",
            "auto data and labels shape (6, 392) (1, 392)\n"
          ],
          "name": "stdout"
        },
        {
          "output_type": "execute_result",
          "data": {
            "text/plain": [
              "(array([[-4.01020408e+00],\n",
              "        [-1.86806122e+02],\n",
              "        [ 7.19755102e+02],\n",
              "        [-1.91404337e+03],\n",
              "        [-2.54336735e+00],\n",
              "        [ 9.94897959e-01]]), array([[-0.00255102]]))"
            ]
          },
          "metadata": {
            "tags": []
          },
          "execution_count": 43
        }
      ]
    },
    {
      "cell_type": "code",
      "metadata": {
        "id": "BQmLVfGO5cLA",
        "outputId": "28146648-af89-45b4-e0d3-d59324810c1a",
        "colab": {
          "base_uri": "https://localhost:8080/",
          "height": 292
        }
      },
      "source": [
        "features_new = [('cylinders', hw3.one_hot),\n",
        "            ('displacement', hw3.standard),\n",
        "            ('horsepower', hw3.standard),\n",
        "            ('weight', hw3.standard),\n",
        "            ('acceleration', hw3.standard),\n",
        "            ('origin', hw3.one_hot)]\n",
        "\n",
        "# Construct the standard data and label arrays\n",
        "auto_data, auto_labels = hw3.auto_data_and_labels(auto_data_all, features_new)\n",
        "print('auto data and labels shape', auto_data.shape, auto_labels.shape)\n",
        "\n",
        "# acc= xval_learning_alg(lambda data, labels: perceptron(data, labels, {\"T\": 1}), auto_data, auto_labels, k=10)\n",
        "# print(acc)\n",
        "# acc= xval_learning_alg(lambda data, labels: averaged_perceptron(data, labels, {\"T\": 1}), auto_data, auto_labels, k=10)\n",
        "# print(acc)\n",
        "# acc= xval_learning_alg(lambda data, labels: perceptron(data, labels, {\"T\": 10}), auto_data, auto_labels, k=10)\n",
        "# print(acc)\n",
        "# acc= xval_learning_alg(lambda data, labels: averaged_perceptron(data, labels, {\"T\": 10}), auto_data, auto_labels, k=10)\n",
        "# print(acc)\n",
        "# acc= xval_learning_alg(lambda data, labels: perceptron(data, labels, {\"T\": 50}), auto_data, auto_labels, k=10)\n",
        "# print(acc)\n",
        "# acc= xval_learning_alg(lambda data, labels: averaged_perceptron(data, labels, {\"T\": 50}), auto_data, auto_labels, k=10)\n",
        "# print(acc)\n",
        "\n",
        "# acc= xval_learning_alg(lambda data, labels: perceptron(data, labels, {\"T\": 1}), auto_data, auto_labels, k=10)\n",
        "# print(acc)\n",
        "# acc= xval_learning_alg(lambda data, labels: averaged_perceptron(data, labels, {\"T\": 1}), auto_data, auto_labels, k=10)\n",
        "# print(acc)\n",
        "\n",
        "averaged_perceptron(auto_data, auto_labels, {\"T\": 1})"
      ],
      "execution_count": null,
      "outputs": [
        {
          "output_type": "stream",
          "text": [
            "avg and std {'displacement': (388.3482142857143, 302.0458123396403), 'horsepower': (509.3545918367347, 333.6521151716361), 'weight': (2977.5841836734694, 848.3184465698365), 'acceleration': (15.541326530612228, 2.7553429127509963)}\n",
            "entries in one_hot field {'cylinders': [3.0, 4.0, 5.0, 6.0, 8.0], 'origin': [1.0, 2.0, 3.0]}\n",
            "auto data and labels shape (12, 392) (1, 392)\n"
          ],
          "name": "stdout"
        },
        {
          "output_type": "execute_result",
          "data": {
            "text/plain": [
              "(array([[-0.25510204],\n",
              "        [ 0.98469388],\n",
              "        [ 0.        ],\n",
              "        [ 0.4744898 ],\n",
              "        [-0.52040816],\n",
              "        [ 0.0977406 ],\n",
              "        [-0.89763413],\n",
              "        [-1.84711922],\n",
              "        [ 0.06270238],\n",
              "        [-0.04591837],\n",
              "        [ 0.98469388],\n",
              "        [-0.25510204]]), array([[0.68367347]]))"
            ]
          },
          "metadata": {
            "tags": []
          },
          "execution_count": 44
        }
      ]
    },
    {
      "cell_type": "markdown",
      "metadata": {
        "id": "sh-D5bvTbizf"
      },
      "source": [
        "## 5) Food Reviews - Evaluating Algorithmic and Feature Choices\n",
        "\n",
        "We have supplied you with the `load_review_data`\n",
        "function, that can be used to read a .tsv file and return the labels\n",
        "and texts. We have also supplied you with the `bag_of_words` function,\n",
        "which takes the raw data and returns a dictionary of unigram\n",
        "words. The resulting dictionary is an input to\n",
        "`extract_bow_feature_vectors` which computes a feature matrix of ones\n",
        "and zeros that can be used as the input for the classification\n",
        "algorithms.  The file `hw3_part2_main.py` has code for constructing\n",
        "the data and label arrays.  Using these arrays and our implementation\n",
        "of the learning algorithms, you will be able to compute $\\theta$ and\n",
        "$\\theta_0$.  You will need to add the\n",
        "implementation of Perceptron and Averaged Perceptron."
      ]
    },
    {
      "cell_type": "code",
      "metadata": {
        "id": "5gHVvGl2bsps",
        "outputId": "ba1b4c19-dec6-4d3f-de19-4b694d2f9576",
        "colab": {
          "base_uri": "https://localhost:8080/",
          "height": 34
        }
      },
      "source": [
        "# Returns lists of dictionaries.  Keys are the column names, 'sentiment' and 'text'.\n",
        "# The train data has 10,000 examples\n",
        "review_data = hw3.load_review_data('reviews.tsv')\n",
        "\n",
        "# Lists texts of reviews and list of labels (1 or -1)\n",
        "review_texts, review_label_list = zip(*((sample['text'], sample['sentiment']) for sample in review_data))\n",
        "\n",
        "# The dictionary of all the words for \"bag of words\", mapping unique words to unique integer values\n",
        "dictionary = hw3.bag_of_words(review_texts)\n",
        "\n",
        "# The standard data arrays for the bag of words\n",
        "review_bow_data = hw3.extract_bow_feature_vectors(review_texts, dictionary)\n",
        "review_labels = hw3.rv(review_label_list)\n",
        "\n",
        "print('review_bow_data and labels shape', review_bow_data.shape, review_labels.shape)"
      ],
      "execution_count": null,
      "outputs": [
        {
          "output_type": "stream",
          "text": [
            "review_bow_data and labels shape (19945, 10000) (1, 10000)\n"
          ],
          "name": "stdout"
        }
      ]
    },
    {
      "cell_type": "code",
      "metadata": {
        "id": "bLat8HZlJ1PA",
        "outputId": "a495c805-2967-4054-eebc-ababd139bae3",
        "colab": {
          "base_uri": "https://localhost:8080/",
          "height": 34
        }
      },
      "source": [
        "# Evaluate learning algorithm with different T values\n",
        "xval_learning_alg(lambda data, labels: averaged_perceptron(data, labels, {\"T\": 10}), review_bow_data, review_labels, k=10)"
      ],
      "execution_count": null,
      "outputs": [
        {
          "output_type": "execute_result",
          "data": {
            "text/plain": [
              "0.8237"
            ]
          },
          "metadata": {
            "tags": []
          },
          "execution_count": 46
        }
      ]
    },
    {
      "cell_type": "code",
      "metadata": {
        "id": "sp9fQNfh9Q6T",
        "outputId": "2b90cc75-8bc4-4e9a-a246-355e18570e45",
        "colab": {
          "base_uri": "https://localhost:8080/",
          "height": 544
        }
      },
      "source": [
        "# Evaluate learning algorithm with different T values\n",
        "xval_learning_alg(lambda data, labels: perceptron(data, labels, {\"T\": 1}), review_bow_data, review_labels, k=10)\n",
        "xval_learning_alg(lambda data, labels: averaged_perceptron(data, labels, {\"T\": 1}), review_bow_data, review_labels, k=10)\n",
        "xval_learning_alg(lambda data, labels: perceptron(data, labels, {\"T\": 10}), review_bow_data, review_labels, k=10)\n",
        "xval_learning_alg(lambda data, labels: averaged_perceptron(data, labels, {\"T\": 10}), review_bow_data, review_labels, k=10)\n",
        "xval_learning_alg(lambda data, labels: perceptron(data, labels, {\"T\": 50}), review_bow_data, review_labels, k=10)\n",
        "xval_learning_alg(lambda data, labels: averaged_perceptron(data, labels, {\"T\": 50}), review_bow_data, review_labels, k=10)"
      ],
      "execution_count": null,
      "outputs": [
        {
          "output_type": "stream",
          "text": [
            "100%|██████████| 1/1 [00:00<00:00,  1.02it/s]\n",
            "100%|██████████| 1/1 [00:00<00:00,  1.00it/s]\n",
            "100%|██████████| 1/1 [00:00<00:00,  1.02it/s]\n",
            "100%|██████████| 1/1 [00:00<00:00,  1.01it/s]\n",
            "100%|██████████| 1/1 [00:00<00:00,  1.02it/s]\n",
            "100%|██████████| 1/1 [00:00<00:00,  1.01it/s]\n",
            "100%|██████████| 1/1 [00:00<00:00,  1.01it/s]\n",
            "100%|██████████| 1/1 [00:00<00:00,  1.01it/s]\n",
            "100%|██████████| 1/1 [00:01<00:00,  1.03s/it]\n",
            "100%|██████████| 1/1 [00:01<00:00,  1.00s/it]\n",
            "100%|██████████| 10/10 [00:08<00:00,  1.13it/s]\n",
            "100%|██████████| 10/10 [00:08<00:00,  1.13it/s]\n",
            "100%|██████████| 10/10 [00:08<00:00,  1.14it/s]\n",
            "100%|██████████| 10/10 [00:08<00:00,  1.14it/s]\n",
            "100%|██████████| 10/10 [00:08<00:00,  1.13it/s]\n",
            "100%|██████████| 10/10 [00:08<00:00,  1.14it/s]\n",
            "100%|██████████| 10/10 [00:08<00:00,  1.13it/s]\n",
            "100%|██████████| 10/10 [00:08<00:00,  1.13it/s]\n",
            "100%|██████████| 10/10 [00:08<00:00,  1.14it/s]\n",
            "100%|██████████| 10/10 [00:08<00:00,  1.13it/s]\n",
            "100%|██████████| 50/50 [00:40<00:00,  1.22it/s]\n",
            "100%|██████████| 50/50 [00:40<00:00,  1.23it/s]\n",
            "100%|██████████| 50/50 [00:40<00:00,  1.23it/s]\n",
            "100%|██████████| 50/50 [00:40<00:00,  1.24it/s]\n",
            "100%|██████████| 50/50 [00:40<00:00,  1.22it/s]\n",
            "100%|██████████| 50/50 [00:40<00:00,  1.22it/s]\n",
            "100%|██████████| 50/50 [00:41<00:00,  1.21it/s]\n",
            "100%|██████████| 50/50 [00:41<00:00,  1.21it/s]\n",
            "100%|██████████| 50/50 [00:41<00:00,  1.20it/s]\n",
            "100%|██████████| 50/50 [00:41<00:00,  1.21it/s]\n"
          ],
          "name": "stderr"
        },
        {
          "output_type": "execute_result",
          "data": {
            "text/plain": [
              "0.8157"
            ]
          },
          "metadata": {
            "tags": []
          },
          "execution_count": 47
        }
      ]
    },
    {
      "cell_type": "code",
      "metadata": {
        "id": "wR9S-6DsdDFF"
      },
      "source": [
        "# Your code here to process the food review data\n",
        "th, th_0 = averaged_perceptron(review_bow_data, review_labels, {\"T\": 10})"
      ],
      "execution_count": null,
      "outputs": []
    },
    {
      "cell_type": "code",
      "metadata": {
        "id": "6EdOmXgLDnC1",
        "outputId": "22b28ef9-6d6a-4265-e3b6-ffb313ca816b",
        "colab": {
          "base_uri": "https://localhost:8080/",
          "height": 1000
        }
      },
      "source": [
        "dictionary"
      ],
      "execution_count": null,
      "outputs": [
        {
          "output_type": "execute_result",
          "data": {
            "text/plain": [
              "{'i': 0,\n",
              " 'bought': 1,\n",
              " 'this': 2,\n",
              " 'product': 3,\n",
              " ',': 4,\n",
              " 'because': 5,\n",
              " 'it': 6,\n",
              " \"'\": 7,\n",
              " 's': 8,\n",
              " 'slightly': 9,\n",
              " 'less': 10,\n",
              " 'expensive': 11,\n",
              " 'per': 12,\n",
              " 'packet': 13,\n",
              " 'than': 14,\n",
              " 'the': 15,\n",
              " 'truvia': 16,\n",
              " 'brand': 17,\n",
              " 'only': 18,\n",
              " 'to': 19,\n",
              " 'discover': 20,\n",
              " 'much': 21,\n",
              " 'sweet': 22,\n",
              " 'making': 23,\n",
              " 'more': 24,\n",
              " 'use': 25,\n",
              " '.': 26,\n",
              " 'worse': 27,\n",
              " 'yet': 28,\n",
              " 'doesn': 29,\n",
              " 't': 30,\n",
              " 'taste': 31,\n",
              " 'as': 32,\n",
              " 'good': 33,\n",
              " 'me': 34,\n",
              " 'or': 35,\n",
              " 'for': 36,\n",
              " 'those': 37,\n",
              " 'looking': 38,\n",
              " 'replace': 39,\n",
              " 'sucralose': 40,\n",
              " 'splenda': 41,\n",
              " 'its': 42,\n",
              " 'bitter': 43,\n",
              " 'aftertaste': 44,\n",
              " 'lowers': 45,\n",
              " 'level': 46,\n",
              " 'of': 47,\n",
              " 'saccharine': 48,\n",
              " 'unless': 49,\n",
              " 'your': 50,\n",
              " 'dog': 51,\n",
              " 'is': 52,\n",
              " 'younger': 53,\n",
              " 'and': 54,\n",
              " 'has': 55,\n",
              " 'great': 56,\n",
              " 'teeth': 57,\n",
              " 'do': 58,\n",
              " 'not': 59,\n",
              " 'recommend': 60,\n",
              " 'you': 61,\n",
              " 'try': 62,\n",
              " 'these': 63,\n",
              " 'they': 64,\n",
              " 'are': 65,\n",
              " 'extremely': 66,\n",
              " 'hard': 67,\n",
              " 'wouldn': 68,\n",
              " 'a': 69,\n",
              " 'celiac': 70,\n",
              " 'buyer': 71,\n",
              " 'few': 72,\n",
              " 'products': 73,\n",
              " 'had': 74,\n",
              " 'gluten': 75,\n",
              " 'in': 76,\n",
              " 'sneaky': 77,\n",
              " 'may': 78,\n",
              " 'contain': 79,\n",
              " 'traces': 80,\n",
              " 'wheat': 81,\n",
              " 'warning': 82,\n",
              " 'was': 83,\n",
              " 'on': 84,\n",
              " 'number': 85,\n",
              " 'them': 86,\n",
              " 'reaction': 87,\n",
              " 'after': 88,\n",
              " 'eating': 89,\n",
              " 'mild': 90,\n",
              " 'but': 91,\n",
              " 'values': 92,\n",
              " 'staying': 93,\n",
              " 'completely': 94,\n",
              " 'off': 95,\n",
              " 'long': 96,\n",
              " 'possible': 97,\n",
              " '<': 98,\n",
              " 'br': 99,\n",
              " '/': 100,\n",
              " '>': 101,\n",
              " 'celiacs': 102,\n",
              " 'beware': 103,\n",
              " '!': 104,\n",
              " 'amazon': 105,\n",
              " 'sends': 106,\n",
              " 'twelve': 107,\n",
              " 'boxes': 108,\n",
              " 'fabulous': 109,\n",
              " 'cookies': 110,\n",
              " 'each': 111,\n",
              " 'box': 112,\n",
              " 'disappears': 113,\n",
              " 'fast': 114,\n",
              " '-': 115,\n",
              " 'fact': 116,\n",
              " 'sit': 117,\n",
              " 'down': 118,\n",
              " 'with': 119,\n",
              " 'whole': 120,\n",
              " 'nearby': 121,\n",
              " 'will': 122,\n",
              " 'munch': 123,\n",
              " 'thru': 124,\n",
              " 'all': 125,\n",
              " 'without': 126,\n",
              " 'stopping': 127,\n",
              " 'delicately': 128,\n",
              " 'crunchy': 129,\n",
              " 'buttery': 130,\n",
              " 'being': 131,\n",
              " 'at': 132,\n",
              " 'greasy': 133,\n",
              " 've': 134,\n",
              " 'been': 135,\n",
              " 'warned': 136,\n",
              " 'bag': 137,\n",
              " 'oregon': 138,\n",
              " 'hazelnuts': 139,\n",
              " 'turkish': 140,\n",
              " ';': 141,\n",
              " 'both': 142,\n",
              " 'were': 143,\n",
              " 'roasted': 144,\n",
              " 'ones': 145,\n",
              " 'far': 146,\n",
              " 'better': 147,\n",
              " ':': 148,\n",
              " 'nice': 149,\n",
              " 'flavor': 150,\n",
              " 'bigger': 151,\n",
              " 'flavorful': 152,\n",
              " 'adequately': 153,\n",
              " 'tasted': 154,\n",
              " 'mushy': 155,\n",
              " 'three': 156,\n",
              " 'my': 157,\n",
              " 'dogs': 158,\n",
              " 'love': 159,\n",
              " 'chicken': 160,\n",
              " 'breasts': 161,\n",
              " 'wrapped': 162,\n",
              " 'liver': 163,\n",
              " 'little': 164,\n",
              " 'one': 165,\n",
              " 'chihuahua': 166,\n",
              " 'mix': 167,\n",
              " 'who': 168,\n",
              " 'turns': 169,\n",
              " 'his': 170,\n",
              " 'nose': 171,\n",
              " 'foods': 172,\n",
              " 'treats': 173,\n",
              " 'actually': 174,\n",
              " 'eat': 175,\n",
              " 'that': 176,\n",
              " 'have': 177,\n",
              " 'no': 178,\n",
              " 'additives': 179,\n",
              " 'from': 180,\n",
              " 'free': 181,\n",
              " 'range': 182,\n",
              " 'animals': 183,\n",
              " 'makes': 184,\n",
              " 'feel': 185,\n",
              " 'about': 186,\n",
              " 'meal': 187,\n",
              " 'some': 188,\n",
              " 'days': 189,\n",
              " 'coffee': 190,\n",
              " 'price': 191,\n",
              " 'we': 192,\n",
              " 'be': 193,\n",
              " 'careful': 194,\n",
              " 'keep': 195,\n",
              " 'an': 196,\n",
              " 'airtight': 197,\n",
              " 'container': 198,\n",
              " 'so': 199,\n",
              " 'lose': 200,\n",
              " 'am': 201,\n",
              " 'really': 202,\n",
              " 'trying': 203,\n",
              " 'spring': 204,\n",
              " 'determined': 205,\n",
              " 'drop': 206,\n",
              " 'least': 207,\n",
              " '1': 208,\n",
              " '0': 209,\n",
              " 'lbs': 210,\n",
              " 'by': 211,\n",
              " 'memorial': 212,\n",
              " 'day': 213,\n",
              " 'watch': 214,\n",
              " 'what': 215,\n",
              " 'found': 216,\n",
              " 'sale': 217,\n",
              " 'local': 218,\n",
              " 'grocery': 219,\n",
              " 'store': 220,\n",
              " 'figured': 221,\n",
              " 'would': 222,\n",
              " 'give': 223,\n",
              " 'can': 224,\n",
              " 'beat': 225,\n",
              " 'especially': 226,\n",
              " 'when': 227,\n",
              " 'sign': 228,\n",
              " 'up': 229,\n",
              " 'subscription': 230,\n",
              " 'service': 231,\n",
              " 'saffron': 232,\n",
              " 'certainly': 233,\n",
              " 'superior': 234,\n",
              " 'described': 235,\n",
              " 'lends': 236,\n",
              " 'color': 237,\n",
              " 'aroma': 238,\n",
              " 'dishes': 239,\n",
              " 'which': 240,\n",
              " 'used': 241,\n",
              " 'almost': 242,\n",
              " 'petroleum': 243,\n",
              " 'like': 244,\n",
              " 'purchased': 245,\n",
              " 'la': 246,\n",
              " 'tienda': 247,\n",
              " 'years': 248,\n",
              " 'decided': 249,\n",
              " 'mistakenly': 250,\n",
              " 'another': 251,\n",
              " 'onet': 252,\n",
              " 'ruined': 253,\n",
              " 'several': 254,\n",
              " 'discarded': 255,\n",
              " 'best': 256,\n",
              " 'margarita': 257,\n",
              " 'ever': 258,\n",
              " 'tart': 259,\n",
              " '&': 260,\n",
              " 'tangy': 261,\n",
              " 'just': 262,\n",
              " 'right': 263,\n",
              " 'blend': 264,\n",
              " 'flavors': 265,\n",
              " 'tequila': 266,\n",
              " 'supposed': 267,\n",
              " 'decent': 268,\n",
              " 'side': 269,\n",
              " 'dish': 270,\n",
              " 'where': 271,\n",
              " 'near': 272,\n",
              " 'actual': 273,\n",
              " 'corn': 274,\n",
              " 'cake': 275,\n",
              " 'el': 276,\n",
              " 'torito': 277,\n",
              " 'buy': 278,\n",
              " 'again': 279,\n",
              " 'compare': 280,\n",
              " 'real': 281,\n",
              " 'thing': 282,\n",
              " 'loved': 283,\n",
              " 'merguez': 284,\n",
              " 'sausage': 285,\n",
              " 'spicy': 286,\n",
              " 'burn': 287,\n",
              " 'mouth': 288,\n",
              " 'subtle': 289,\n",
              " 'spiciness': 290,\n",
              " 'very': 291,\n",
              " 'harissa': 292,\n",
              " 'hot': 293,\n",
              " 'sauce': 294,\n",
              " 'tasting': 295,\n",
              " 'available': 296,\n",
              " 'k': 297,\n",
              " 'cups': 298,\n",
              " 'amazing': 299,\n",
              " 'other': 300,\n",
              " 'brands': 301,\n",
              " 'reason': 302,\n",
              " 'definitely': 303,\n",
              " 'worth': 304,\n",
              " 'worst': 305,\n",
              " 'instant': 306,\n",
              " 'noodle': 307,\n",
              " 'bothersome': 308,\n",
              " 'make': 309,\n",
              " 'bad': 310,\n",
              " 'd': 311,\n",
              " 'rather': 312,\n",
              " '$': 313,\n",
              " 'ramen': 314,\n",
              " 'stick': 315,\n",
              " 'neoguri': 316,\n",
              " 'chajang': 317,\n",
              " 'myun': 318,\n",
              " 'classic': 319,\n",
              " 'shim': 320,\n",
              " 'ramyun': 321,\n",
              " 'stay': 322,\n",
              " 'away': 323,\n",
              " '2': 324,\n",
              " 'end': 325,\n",
              " 'giving': 326,\n",
              " '8': 327,\n",
              " 'co': 328,\n",
              " 'workers': 329,\n",
              " 'liked': 330,\n",
              " 'edit': 331,\n",
              " 'tazo': 332,\n",
              " 'awake': 333,\n",
              " 'full': 334,\n",
              " 'leaf': 335,\n",
              " 'tea': 336,\n",
              " 'black': 337,\n",
              " 'ground': 338,\n",
              " 'bags': 339,\n",
              " 'find': 340,\n",
              " '(': 341,\n",
              " 'even': 342,\n",
              " 'same': 343,\n",
              " 'type': 344,\n",
              " ')': 345,\n",
              " 'smooth': 346,\n",
              " 'bold': 347,\n",
              " 'delicious': 348,\n",
              " 'drank': 349,\n",
              " 'straight': 350,\n",
              " 'splash': 351,\n",
              " 'milk': 352,\n",
              " 'sugar': 353,\n",
              " 'caffeine': 354,\n",
              " 'content': 355,\n",
              " 'perfect': 356,\n",
              " 'heart': 357,\n",
              " 'racing': 358,\n",
              " 'boost': 359,\n",
              " 'get': 360,\n",
              " 'started': 361,\n",
              " 'drinker': 362,\n",
              " 'morning': 363,\n",
              " 'wake': 364,\n",
              " 'drink': 365,\n",
              " 'always': 366,\n",
              " 'traveling': 367,\n",
              " 'shown': 368,\n",
              " 'next': 369,\n",
              " '3': 370,\n",
              " 'pack': 371,\n",
              " 'prime': 372,\n",
              " 'prices': 373,\n",
              " 'identical': 374,\n",
              " 'shipping': 375,\n",
              " 'fee': 376,\n",
              " 'believed': 377,\n",
              " 'ordering': 378,\n",
              " 'got': 379,\n",
              " 'pound': 380,\n",
              " '6': 381,\n",
              " '4': 382,\n",
              " 'could': 383,\n",
              " 'supermarket': 384,\n",
              " 'caveat': 385,\n",
              " 'emptor': 386,\n",
              " 'let': 387,\n",
              " 'guess': 388,\n",
              " 'hosed': 389,\n",
              " 'happened': 390,\n",
              " 'before': 391,\n",
              " 'must': 392,\n",
              " 'remember': 393,\n",
              " 'read': 394,\n",
              " 'page': 395,\n",
              " 'befor': 396,\n",
              " 'placing': 397,\n",
              " 'orders': 398,\n",
              " 'then': 399,\n",
              " 'pictured': 400,\n",
              " 'jitters': 401,\n",
              " 'tast': 402,\n",
              " 'either': 403,\n",
              " 'prefer': 404,\n",
              " 'over': 405,\n",
              " 'drinks': 406,\n",
              " 'oz': 407,\n",
              " 'constantly': 408,\n",
              " 'firm': 409,\n",
              " 'stool': 410,\n",
              " 'life': 411,\n",
              " 'dental': 412,\n",
              " 'surgery': 413,\n",
              " 'assume': 414,\n",
              " 'medicine': 415,\n",
              " 'him': 416,\n",
              " 'diarrhea': 417,\n",
              " 'he': 418,\n",
              " 'pills': 419,\n",
              " 'still': 420,\n",
              " 'using': 421,\n",
              " 'leftover': 422,\n",
              " 'pockets': 423,\n",
              " 'smear': 424,\n",
              " 'into': 425,\n",
              " 'old': 426,\n",
              " 'hollow': 427,\n",
              " 'bone': 428,\n",
              " 'pliable': 429,\n",
              " 'many': 430,\n",
              " 'cracked': 431,\n",
              " 'smoooooshed': 432,\n",
              " 'already': 433,\n",
              " 'prior': 434,\n",
              " 'opening': 435,\n",
              " 'package': 436,\n",
              " 'continued': 437,\n",
              " 'worried': 438,\n",
              " 'something': 439,\n",
              " 'due': 440,\n",
              " 'mediciation': 441,\n",
              " 'finally': 442,\n",
              " 'put': 443,\n",
              " 'two': 444,\n",
              " 'together': 445,\n",
              " 'googling': 446,\n",
              " 'pill': 447,\n",
              " 'effect': 448,\n",
              " 'aware': 449,\n",
              " 'work': 450,\n",
              " 'well': 451,\n",
              " 'part': 452,\n",
              " 'drawbacks': 453,\n",
              " 'there': 454,\n",
              " 'too': 455,\n",
              " 'also': 456,\n",
              " 'haven': 457,\n",
              " 'talked': 458,\n",
              " 'heard': 459,\n",
              " 'time': 460,\n",
              " 'scrabble': 461,\n",
              " 'crapload': 462,\n",
              " 'points': 463,\n",
              " 'saw': 464,\n",
              " 'someone': 465,\n",
              " 'twitter': 466,\n",
              " 'ask': 467,\n",
              " 'greenies': 468,\n",
              " 'if': 469,\n",
              " 'question': 470,\n",
              " 'hilarious': 471,\n",
              " '[': 472,\n",
              " ']': 473,\n",
              " 'anyhoo': 474,\n",
              " 'our': 475,\n",
              " 'hate': 476,\n",
              " 'messy': 477,\n",
              " 'poop': 478,\n",
              " 'ways': 479,\n",
              " 'poopy': 480,\n",
              " 'loose': 481,\n",
              " 'think': 482,\n",
              " 'healthy': 483,\n",
              " '?': 484,\n",
              " 'cup': 485,\n",
              " 'variety': 486,\n",
              " 'm': 487,\n",
              " 'glad': 488,\n",
              " 'ended': 489,\n",
              " 'pouring': 490,\n",
              " 'out': 491,\n",
              " 'awful': 492,\n",
              " 'charcoal': 493,\n",
              " 'boyfriend': 494,\n",
              " 'received': 495,\n",
              " 'keurig': 496,\n",
              " 'elite': 497,\n",
              " 'brewer': 498,\n",
              " 'christmas': 499,\n",
              " 'gift': 500,\n",
              " 'lusting': 501,\n",
              " 'brewers': 502,\n",
              " 'friends': 503,\n",
              " 'family': 504,\n",
              " 'owned': 505,\n",
              " 'trusty': 506,\n",
              " 'cuisinart': 507,\n",
              " 'drip': 508,\n",
              " 'couple': 509,\n",
              " 'now': 510,\n",
              " 'while': 511,\n",
              " 'served': 512,\n",
              " 'us': 513,\n",
              " 'challenge': 514,\n",
              " 'consistent': 515,\n",
              " 'somehow': 516,\n",
              " 'strong': 517,\n",
              " 'weak': 518,\n",
              " 'line': 519,\n",
              " 'despite': 520,\n",
              " 'efforts': 521,\n",
              " 'should': 522,\n",
              " 'mention': 523,\n",
              " 'students': 524,\n",
              " 'living': 525,\n",
              " 'strict': 526,\n",
              " 'budget': 527,\n",
              " 'knew': 528,\n",
              " 'bit': 529,\n",
              " 'costly': 530,\n",
              " 'idea': 531,\n",
              " 'brewing': 532,\n",
              " 'cutting': 533,\n",
              " 'waste': 534,\n",
              " 'thankfully': 535,\n",
              " 'generous': 536,\n",
              " 'sister': 537,\n",
              " 'surprised': 538,\n",
              " 'turned': 539,\n",
              " 'important': 540,\n",
              " 'sent': 541,\n",
              " 'back': 542,\n",
              " 'considering': 543,\n",
              " 'how': 544,\n",
              " 'singing': 545,\n",
              " 'praises': 546,\n",
              " 'sure': 547,\n",
              " 'surprising': 548,\n",
              " 'new': 549,\n",
              " 'owners': 550,\n",
              " 'made': 551,\n",
              " 'first': 552,\n",
              " 'maybe': 553,\n",
              " 'six': 554,\n",
              " 'aren': 555,\n",
              " 'going': 556,\n",
              " 'quite': 557,\n",
              " 'apparently': 558,\n",
              " 'common': 559,\n",
              " 'problem': 560,\n",
              " 'sort': 561,\n",
              " 'plastic': 562,\n",
              " 'y': 563,\n",
              " 'coffees': 564,\n",
              " 'don': 565,\n",
              " 'normally': 566,\n",
              " 'fake': 567,\n",
              " 'finish': 568,\n",
              " 'newness': 569,\n",
              " 'run': 570,\n",
              " 'five': 571,\n",
              " 'water': 572,\n",
              " 'through': 573,\n",
              " 'white': 574,\n",
              " 'vinegar': 575,\n",
              " 'rid': 576,\n",
              " 'imagine': 577,\n",
              " 'people': 578,\n",
              " 'written': 579,\n",
              " 'immediately': 580,\n",
              " 'issue': 581,\n",
              " 'quick': 582,\n",
              " 'fix': 583,\n",
              " 'deal': 584,\n",
              " 'ahead': 585,\n",
              " 'saying': 586,\n",
              " 'entry': 587,\n",
              " 'size': 588,\n",
              " 'mini': 589,\n",
              " 'problems': 590,\n",
              " 'model': 591,\n",
              " 'carafe': 592,\n",
              " 'needs': 593,\n",
              " 'refilled': 594,\n",
              " 'once': 595,\n",
              " 'every': 596,\n",
              " 'convenient': 597,\n",
              " 'digital': 598,\n",
              " 'display': 599,\n",
              " 'unlike': 600,\n",
              " 'higher': 601,\n",
              " 'models': 602,\n",
              " 'wanting': 603,\n",
              " 'set': 604,\n",
              " 'brew': 605,\n",
              " 'times': 606,\n",
              " 'advance': 607,\n",
              " 'though': 608,\n",
              " 'might': 609,\n",
              " 'break': 610,\n",
              " 'feature': 611,\n",
              " 'manage': 612,\n",
              " 'fine': 613,\n",
              " 'household': 614,\n",
              " 'sizes': 615,\n",
              " 'although': 616,\n",
              " 'ounces': 617,\n",
              " 'apart': 618,\n",
              " 'difference': 619,\n",
              " 'between': 620,\n",
              " 'dramatic': 621,\n",
              " 'milder': 622,\n",
              " 'prefers': 623,\n",
              " 'stronger': 624,\n",
              " 'larger': 625,\n",
              " 'picks': 626,\n",
              " 'potent': 627,\n",
              " 'smaller': 628,\n",
              " 'turn': 629,\n",
              " 'power': 630,\n",
              " 'takes': 631,\n",
              " 'minutes': 632,\n",
              " 'heat': 633,\n",
              " 'truly': 634,\n",
              " 'does': 635,\n",
              " 'minute': 636,\n",
              " 'want': 637,\n",
              " 'way': 638,\n",
              " 'door': 639,\n",
              " 'muss': 640,\n",
              " 'fuss': 641,\n",
              " 'tried': 642,\n",
              " 'pods': 643,\n",
              " 'sample': 644,\n",
              " 'came': 645,\n",
              " 'bonus': 646,\n",
              " 'since': 647,\n",
              " 'offerings': 648,\n",
              " 'hit': 649,\n",
              " 'miss': 650,\n",
              " 'terms': 651,\n",
              " 'll': 652,\n",
              " 'positively': 653,\n",
              " 'here': 654,\n",
              " 'blends': 655,\n",
              " 'enjoyed': 656,\n",
              " 'href': 657,\n",
              " '=': 658,\n",
              " '\"': 659,\n",
              " 'http': 660,\n",
              " 'www': 661,\n",
              " 'com': 662,\n",
              " 'gp': 663,\n",
              " 'b': 664,\n",
              " '7': 665,\n",
              " 'g': 666,\n",
              " 'caribou': 667,\n",
              " 'portion': 668,\n",
              " 'count': 669,\n",
              " 'standard': 670,\n",
              " 'go': 671,\n",
              " 'nothing': 672,\n",
              " 'fancy': 673,\n",
              " 'consistently': 674,\n",
              " 'wrong': 675,\n",
              " 'medium': 676,\n",
              " 'roast': 677,\n",
              " 'ja': 678,\n",
              " '5': 679,\n",
              " 'klm': 680,\n",
              " 'green': 681,\n",
              " 'mountain': 682,\n",
              " 'nantucket': 683,\n",
              " 'alternative': 684,\n",
              " 'easier': 685,\n",
              " 'most': 686,\n",
              " 'stores': 687,\n",
              " 'ipjtze': 688,\n",
              " 'swiss': 689,\n",
              " 'cocoa': 690,\n",
              " 'chocolate': 691,\n",
              " 'artificially': 692,\n",
              " 'sweetened': 693,\n",
              " 'tell': 694,\n",
              " 'isn': 695,\n",
              " 'watery': 696,\n",
              " 'gets': 697,\n",
              " 'job': 698,\n",
              " 'done': 699,\n",
              " 'tip': 700,\n",
              " 'shake': 701,\n",
              " 'pod': 702,\n",
              " 'machine': 703,\n",
              " 'loosen': 704,\n",
              " 'powder': 705,\n",
              " 'system': 706,\n",
              " 'however': 707,\n",
              " 'wasteful': 708,\n",
              " 'non': 709,\n",
              " 'recyclable': 710,\n",
              " 'disappointing': 711,\n",
              " 'reportedly': 712,\n",
              " 'working': 713,\n",
              " 'until': 714,\n",
              " 'comes': 715,\n",
              " 'guilty': 716,\n",
              " 'quickly': 717,\n",
              " 'solution': 718,\n",
              " 'picked': 719,\n",
              " 'su': 720,\n",
              " 'ow': 721,\n",
              " 'ekobrew': 722,\n",
              " 'refillable': 723,\n",
              " 'brown': 724,\n",
              " 'canadian': 725,\n",
              " 'visit': 726,\n",
              " 'home': 727,\n",
              " 'pick': 728,\n",
              " 'big': 729,\n",
              " 'drum': 730,\n",
              " 'tim': 731,\n",
              " 'horton': 732,\n",
              " 'cheap': 733,\n",
              " 'money': 734,\n",
              " 'reuseable': 735,\n",
              " 'reviewers': 736,\n",
              " 'said': 737,\n",
              " 'attest': 738,\n",
              " 'works': 739,\n",
              " 'perfectly': 740,\n",
              " 'leaps': 741,\n",
              " 'bounds': 742,\n",
              " 'own': 743,\n",
              " 'honestly': 744,\n",
              " 'bells': 745,\n",
              " 'whistles': 746,\n",
              " 'wait': 747,\n",
              " 're': 748,\n",
              " 'receive': 749,\n",
              " 'included': 750,\n",
              " 'promotion': 751,\n",
              " 'website': 752,\n",
              " 'month': 753,\n",
              " 'loves': 754,\n",
              " 'stuff': 755,\n",
              " 'chunkier': 756,\n",
              " 'their': 757,\n",
              " 'introduction': 758,\n",
              " 'solids': 759,\n",
              " 'summary': 760,\n",
              " 'starter': 761,\n",
              " 'gourmet': 762,\n",
              " 'dark': 763,\n",
              " 'disturbing': 764,\n",
              " 'amount': 765,\n",
              " 'around': 766,\n",
              " 'house': 767,\n",
              " 'whether': 768,\n",
              " 'lindt': 769,\n",
              " 'ghiradelli': 770,\n",
              " 'sees': 771,\n",
              " 'cadbury': 772,\n",
              " 'toblerone': 773,\n",
              " 'scharffen': 774,\n",
              " 'berger': 775,\n",
              " 'godiva': 776,\n",
              " 'hershey': 777,\n",
              " 'tend': 778,\n",
              " 'towards': 779,\n",
              " 'chocolates': 780,\n",
              " 'say': 781,\n",
              " '9': 782,\n",
              " '%': 783,\n",
              " 'sharp': 784,\n",
              " 'espresso': 785,\n",
              " 'aficionado': 786,\n",
              " 'texture': 787,\n",
              " 'tempered': 788,\n",
              " 'starts': 789,\n",
              " 'melts': 790,\n",
              " 'consistency': 791,\n",
              " 'fairly': 792,\n",
              " 'special': 793,\n",
              " 'gives': 794,\n",
              " 'creamy': 795,\n",
              " 'simply': 796,\n",
              " 'any': 797,\n",
              " 'accompanying': 798,\n",
              " 'notice': 799,\n",
              " 'cappuccinos': 800,\n",
              " 'probably': 801,\n",
              " 'won': 802,\n",
              " 'enough': 803,\n",
              " 'punch': 804,\n",
              " 'tasty': 805,\n",
              " 'satisfying': 806,\n",
              " 'sometimes': 807,\n",
              " 'puerh': 808,\n",
              " 'breakfast': 809,\n",
              " 'need': 810,\n",
              " 'food': 811,\n",
              " 'mixed': 812,\n",
              " 'magnolia': 813,\n",
              " 'mug': 814,\n",
              " 'fill': 815,\n",
              " 'retain': 816,\n",
              " 'robust': 817,\n",
              " 'anticipated': 818,\n",
              " 'arrival': 819,\n",
              " 'disappointed': 820,\n",
              " 'althought': 821,\n",
              " 'version': 822,\n",
              " 'starbucks': 823,\n",
              " 'couldn': 824,\n",
              " 'vanilla': 825,\n",
              " 'barely': 826,\n",
              " 'scent': 827,\n",
              " 'dissappointed': 828,\n",
              " 'regular': 829,\n",
              " 'soda': 830,\n",
              " 'syrups': 831,\n",
              " 'artificial': 832,\n",
              " 'sweeteners': 833,\n",
              " 'natural': 834,\n",
              " 'varieties': 835,\n",
              " 'look': 836,\n",
              " 'thin': 837,\n",
              " 'crisp': 838,\n",
              " 'remind': 839,\n",
              " 'gingerbread': 840,\n",
              " 'slight': 841,\n",
              " 'kick': 842,\n",
              " 'everyone': 843,\n",
              " 'given': 844,\n",
              " 'wants': 845,\n",
              " 'know': 846,\n",
              " 'sell': 847,\n",
              " 'tubes': 848,\n",
              " 'pice': 849,\n",
              " 'department': 850,\n",
              " 'told': 851,\n",
              " 'fats': 852,\n",
              " 'diets': 853,\n",
              " 'pleasure': 854,\n",
              " 'item': 855,\n",
              " 'fan': 856,\n",
              " 'animal': 857,\n",
              " 'moderation': 858,\n",
              " 'o': 859,\n",
              " 'did': 860,\n",
              " 'duck': 861,\n",
              " 'fat': 862,\n",
              " 'french': 863,\n",
              " 'fries': 864,\n",
              " 'ago': 865,\n",
              " 'incredible': 866,\n",
              " 'yes': 867,\n",
              " 'importantly': 868,\n",
              " 'often': 869,\n",
              " 'certain': 870,\n",
              " 'hydrogenated': 871,\n",
              " 'dubious': 872,\n",
              " 'effects': 873,\n",
              " 'health': 874,\n",
              " 'add': 875,\n",
              " 'traditional': 876,\n",
              " 'such': 877,\n",
              " 'butter': 878,\n",
              " 'olive': 879,\n",
              " 'oil': 880,\n",
              " 'calorie': 881,\n",
              " 'intake': 882,\n",
              " 'choosing': 883,\n",
              " 'ordinary': 884,\n",
              " 'spinach': 885,\n",
              " 'mashed': 886,\n",
              " 'potatoes': 887,\n",
              " 'complexity': 888,\n",
              " 'god': 889,\n",
              " 'forbid': 890,\n",
              " 'margarine': 891,\n",
              " 'known': 892,\n",
              " 'centuries': 893,\n",
              " 'depth': 894,\n",
              " 'wide': 895,\n",
              " 'tubs': 896,\n",
              " 'containers': 897,\n",
              " 'fresh': 898,\n",
              " 'shelf': 899,\n",
              " 'unopened': 900,\n",
              " 'entire': 901,\n",
              " 'needing': 902,\n",
              " 'worry': 903,\n",
              " 'finding': 904,\n",
              " 'room': 905,\n",
              " 'overly': 906,\n",
              " 'stocked': 907,\n",
              " 'refrigerator': 908,\n",
              " 'cost': 909,\n",
              " 'ounce': 910,\n",
              " 'buying': 911,\n",
              " 'oils': 912,\n",
              " 'separate': 913,\n",
              " 'mixing': 914,\n",
              " 'browning': 915,\n",
              " 'spread': 916,\n",
              " 'highly': 917,\n",
              " 'recommended': 918,\n",
              " 'fridge': 919,\n",
              " 'stir': 920,\n",
              " 'staple': 921,\n",
              " 'addition': 922,\n",
              " 'pantry': 923,\n",
              " 'reasonably': 924,\n",
              " 'course': 925,\n",
              " 'shih': 926,\n",
              " 'tzu': 927,\n",
              " 'treat': 928,\n",
              " 'she': 929,\n",
              " 'kind': 930,\n",
              " 'pet': 931,\n",
              " 'ran': 932,\n",
              " 'awaiting': 933,\n",
              " 'shipment': 934,\n",
              " 'meantime': 935,\n",
              " 'cheetos': 936,\n",
              " 'cheese': 937,\n",
              " 'puffs': 938,\n",
              " 'cut': 939,\n",
              " 'puff': 940,\n",
              " 'fourths': 941,\n",
              " 'noticed': 942,\n",
              " 'needless': 943,\n",
              " 'her': 944,\n",
              " 'week': 945,\n",
              " 'promise': 946,\n",
              " 'mom': 947,\n",
              " 'watching': 948,\n",
              " 'advertisement': 949,\n",
              " 'tofu': 950,\n",
              " 'noodles': 951,\n",
              " 'v': 952,\n",
              " 'pasta': 953,\n",
              " 'statement': 954,\n",
              " 'complete': 955,\n",
              " 'lie': 956,\n",
              " 'rubber': 957,\n",
              " 'bands': 958,\n",
              " 'terrible': 959,\n",
              " 'save': 960,\n",
              " 'absolutely': 961,\n",
              " 'snacks': 962,\n",
              " 'easy': 963,\n",
              " 'carry': 964,\n",
              " 'low': 965,\n",
              " 'protein': 966,\n",
              " 'unbelievable': 967,\n",
              " 'vegan': 968,\n",
              " 'ordered': 969,\n",
              " 'bricks': 970,\n",
              " 'mortar': 971,\n",
              " 'plan': 972,\n",
              " 'order': 973,\n",
              " 'terrific': 974,\n",
              " 'lab': 975,\n",
              " 'powdery': 976,\n",
              " 'tended': 977,\n",
              " 'form': 978,\n",
              " 'clumps': 979,\n",
              " 'jar': 980,\n",
              " 'particles': 981,\n",
              " 'rose': 982,\n",
              " 'air': 983,\n",
              " 'whenever': 984,\n",
              " 'scooped': 985,\n",
              " 'wished': 986,\n",
              " 'dissolve': 987,\n",
              " 'liquid': 988,\n",
              " 'chips': 989,\n",
              " 'oversalted': 990,\n",
              " 'anyhow': 991,\n",
              " 'richer': 992,\n",
              " 'potato': 993,\n",
              " 'take': 994,\n",
              " 'nutrition': 995,\n",
              " 'facts': 996,\n",
              " 'overdosing': 997,\n",
              " 'salt': 998,\n",
              " 'serving': 999,\n",
              " ...}"
            ]
          },
          "metadata": {
            "tags": []
          },
          "execution_count": 54
        }
      ]
    },
    {
      "cell_type": "code",
      "metadata": {
        "id": "rZNnxlyOCb9d",
        "outputId": "1c8e1ebd-79df-48cf-9680-c88b2bc842bf",
        "colab": {
          "base_uri": "https://localhost:8080/",
          "height": 34
        }
      },
      "source": [
        "keyword_ind= np.argsort(th[:,0])\n",
        "keyword_ind"
      ],
      "execution_count": null,
      "outputs": [
        {
          "output_type": "execute_result",
          "data": {
            "text/plain": [
              "array([ 305,  492, 2352, ..., 1105,  348, 1041])"
            ]
          },
          "metadata": {
            "tags": []
          },
          "execution_count": 50
        }
      ]
    },
    {
      "cell_type": "code",
      "metadata": {
        "id": "84u2dd0YDBs5"
      },
      "source": [
        "\n",
        "most_negative = keyword_ind[:10]\n",
        "\n",
        "most_positive = keyword_ind[-10:]\n",
        "\n",
        "word_dict = hw3.reverse_dict(dictionary)\n",
        "\n",
        "negative_words = [word_dict[i] for i in most_negative]\n",
        "\n",
        "positive_words = [word_dict[i] for i in most_positive]"
      ],
      "execution_count": null,
      "outputs": []
    },
    {
      "cell_type": "code",
      "metadata": {
        "id": "ETjkR9eHDPcF",
        "outputId": "9d15bef3-f53d-4606-8496-ea7397378c2f",
        "colab": {
          "base_uri": "https://localhost:8080/",
          "height": 187
        }
      },
      "source": [
        "negative_words"
      ],
      "execution_count": null,
      "outputs": [
        {
          "output_type": "execute_result",
          "data": {
            "text/plain": [
              "['worst',\n",
              " 'awful',\n",
              " 'unfortunately',\n",
              " 'horrible',\n",
              " 'stuck',\n",
              " 'changed',\n",
              " 'disappointment',\n",
              " 'bland',\n",
              " 'poor',\n",
              " 'formula']"
            ]
          },
          "metadata": {
            "tags": []
          },
          "execution_count": 53
        }
      ]
    },
    {
      "cell_type": "code",
      "metadata": {
        "id": "SErN2RaxDJJU",
        "outputId": "b312b284-240d-48c7-a063-6acf65c47484",
        "colab": {
          "base_uri": "https://localhost:8080/",
          "height": 187
        }
      },
      "source": [
        "positive_words"
      ],
      "execution_count": null,
      "outputs": [
        {
          "output_type": "execute_result",
          "data": {
            "text/plain": [
              "['great',\n",
              " 'individually',\n",
              " 'bright',\n",
              " 'yummy',\n",
              " 'skeptical',\n",
              " 'perfect',\n",
              " 'easily',\n",
              " 'satisfied',\n",
              " 'delicious',\n",
              " 'excellent']"
            ]
          },
          "metadata": {
            "tags": []
          },
          "execution_count": 52
        }
      ]
    },
    {
      "cell_type": "markdown",
      "metadata": {
        "id": "qbqHMbrubt5t"
      },
      "source": [
        "## 6.2) Evaluating Features for MNIST Data\n",
        "\n",
        "\n",
        "This problem explores how well the perceptron algorithm works to <a\n",
        "href=\"http://neuralnetworksanddeeplearning.com/chap1.html\">classify\n",
        "images of handwritten digits</a>, from the well-known (\"MNIST\")\n",
        "dataset, buiding on your thoughts from lab about extracting features\n",
        "from images.  This exercise will highlight how important feature\n",
        "extraction is, before linear classification is done, using algorithms\n",
        "such as the Perceptron.\n",
        "\n",
        "<b>Dataset setup</b>\n",
        "\n",
        "Often, it may be easier to work with a vector whose spatial orientation is preserved.\n",
        "In previous parts, we have represented features as one long feature vector.\n",
        "For images, however, we often represent a $m$ by $n$ image\n",
        "as a `(m,n)` array, rather than a `(mn,1)` array\n",
        "(as the previous parts have done).\n",
        "\n",
        "In the code file, we have supplied you with the `load_mnist_data` function,\n",
        "which will read from the provided image files and populate a dictionary,\n",
        "with image and label vectors for each numerical digit from 0 to 9.\n",
        "These images are already shaped as `(m,n)` arrays."
      ]
    },
    {
      "cell_type": "code",
      "metadata": {
        "id": "_6xT_UA2cJMe",
        "outputId": "c7436372-8a3e-4f87-b906-3ff1af6a90ee",
        "colab": {
          "base_uri": "https://localhost:8080/",
          "height": 34
        }
      },
      "source": [
        "mnist_data_all = hw3.load_mnist_data(range(10))\n",
        "\n",
        "print('mnist_data_all loaded. shape of single images is', mnist_data_all[0][\"images\"][0].shape)\n",
        "\n",
        "# HINT: change the [0] and [1] if you want to access different images\n",
        "d0 = mnist_data_all[2][\"images\"]\n",
        "d1 = mnist_data_all[4][\"images\"]\n",
        "y0 = np.repeat(-1, len(d0)).reshape(1,-1)\n",
        "y1 = np.repeat(1, len(d1)).reshape(1,-1)\n",
        "\n",
        "# data goes into the feature computation functions\n",
        "data = np.vstack((d0, d1))\n",
        "# labels can directly go into the Perceptron algorithm\n",
        "labels = np.vstack((y0.T, y1.T)).T"
      ],
      "execution_count": null,
      "outputs": [
        {
          "output_type": "stream",
          "text": [
            "mnist_data_all loaded. shape of single images is (28, 28)\n"
          ],
          "name": "stdout"
        }
      ]
    },
    {
      "cell_type": "code",
      "metadata": {
        "id": "UfvyER0QFCl-",
        "outputId": "bd50febc-762f-40ae-95f8-e7be0d5fe86e",
        "colab": {
          "base_uri": "https://localhost:8080/",
          "height": 102
        }
      },
      "source": [
        "y0"
      ],
      "execution_count": null,
      "outputs": [
        {
          "output_type": "execute_result",
          "data": {
            "text/plain": [
              "array([[-1, -1, -1, -1, -1, -1, -1, -1, -1, -1, -1, -1, -1, -1, -1, -1,\n",
              "        -1, -1, -1, -1, -1, -1, -1, -1, -1, -1, -1, -1, -1, -1, -1, -1,\n",
              "        -1, -1, -1, -1, -1, -1, -1, -1, -1, -1, -1, -1, -1, -1, -1, -1,\n",
              "        -1, -1, -1, -1, -1, -1, -1, -1, -1, -1, -1, -1, -1, -1, -1, -1,\n",
              "        -1, -1, -1, -1, -1, -1, -1, -1, -1, -1, -1, -1, -1, -1]])"
            ]
          },
          "metadata": {
            "tags": []
          },
          "execution_count": 57
        }
      ]
    },
    {
      "cell_type": "code",
      "metadata": {
        "id": "8SMdpU-YFI9m",
        "outputId": "fd330afe-e2e7-470a-e3bf-8f9e9d7b66fe",
        "colab": {
          "base_uri": "https://localhost:8080/",
          "height": 85
        }
      },
      "source": [
        "y1"
      ],
      "execution_count": null,
      "outputs": [
        {
          "output_type": "execute_result",
          "data": {
            "text/plain": [
              "array([[1, 1, 1, 1, 1, 1, 1, 1, 1, 1, 1, 1, 1, 1, 1, 1, 1, 1, 1, 1, 1, 1,\n",
              "        1, 1, 1, 1, 1, 1, 1, 1, 1, 1, 1, 1, 1, 1, 1, 1, 1, 1, 1, 1, 1, 1,\n",
              "        1, 1, 1, 1, 1, 1, 1, 1, 1, 1, 1, 1, 1, 1, 1, 1, 1, 1, 1, 1, 1, 1,\n",
              "        1, 1, 1, 1, 1, 1, 1, 1, 1, 1, 1]])"
            ]
          },
          "metadata": {
            "tags": []
          },
          "execution_count": 58
        }
      ]
    },
    {
      "cell_type": "code",
      "metadata": {
        "id": "HcLimOF0Ichg"
      },
      "source": [
        "def raw_mnist_features(x):\n",
        "    n_samples, m, n = x.shape\n",
        "    return x.reshape((n_samples, m*n)).T"
      ],
      "execution_count": null,
      "outputs": []
    },
    {
      "cell_type": "code",
      "metadata": {
        "id": "vsX_9X7Nb0NW"
      },
      "source": [
        "# change these implementations to support whole datasets\n",
        "\n",
        "def raw_mnist_features(x):\n",
        "    n_samples, m, n = x.shape\n",
        "    return x.reshape((n_samples, m*n)).T\n",
        "\n",
        "def row_average_features(x):\n",
        "    return np.mean(x, axis=1,keepdims=True)\n",
        "\n",
        "def col_average_features(x):\n",
        "    return np.mean(x, axis=0,keepdims=True).T\n",
        "\n",
        "\n",
        "def top_bottom_features(x):\n",
        "    m = x.shape[0]\n",
        "    n = x.shape[1]\n",
        "    return np.array([[np.mean(x[:m // 2,]), np.mean(x[m // 2:,])]]).T"
      ],
      "execution_count": null,
      "outputs": []
    },
    {
      "cell_type": "code",
      "metadata": {
        "id": "bomWYLpTK4wT",
        "outputId": "bc6b10d4-2a03-4907-dfa2-53f885f64528",
        "colab": {
          "base_uri": "https://localhost:8080/",
          "height": 51
        }
      },
      "source": [
        "top_bottom_features(data)"
      ],
      "execution_count": null,
      "outputs": [
        {
          "output_type": "execute_result",
          "data": {
            "text/plain": [
              "array([[0.00060094],\n",
              "       [0.00046355]], dtype=float32)"
            ]
          },
          "metadata": {
            "tags": []
          },
          "execution_count": 69
        }
      ]
    },
    {
      "cell_type": "code",
      "metadata": {
        "id": "9DTXfMoDgCKk",
        "outputId": "f746a4d1-4cb5-4c0d-ff4a-c03a0f32e193",
        "colab": {
          "base_uri": "https://localhost:8080/",
          "height": 34
        }
      },
      "source": [
        "# use this function to evaluate accuracy\n",
        "acc = hw3.get_classification_accuracy(raw_mnist_features(data), labels)\n",
        "print(acc)"
      ],
      "execution_count": null,
      "outputs": [
        {
          "output_type": "stream",
          "text": [
            "0.8641666666666665\n"
          ],
          "name": "stdout"
        }
      ]
    },
    {
      "cell_type": "code",
      "metadata": {
        "id": "dVno613VL4R9"
      },
      "source": [
        "def raw_mnist_features(x):\n",
        "    data_points, m, n = x.shape\n",
        "    return x.reshape((data_points, m*n)).T"
      ],
      "execution_count": null,
      "outputs": []
    },
    {
      "cell_type": "code",
      "metadata": {
        "id": "FgZXw39JMOP9",
        "outputId": "3d0c1d39-fbd9-4040-9379-382bdd932ecd",
        "colab": {
          "base_uri": "https://localhost:8080/",
          "height": 238
        }
      },
      "source": [
        "raw_mnist_features(data)"
      ],
      "execution_count": null,
      "outputs": [
        {
          "output_type": "execute_result",
          "data": {
            "text/plain": [
              "array([[0.0000000e+00, 0.0000000e+00, 0.0000000e+00, ..., 0.0000000e+00,\n",
              "        0.0000000e+00, 0.0000000e+00],\n",
              "       [0.0000000e+00, 0.0000000e+00, 7.6893506e-05, ..., 0.0000000e+00,\n",
              "        0.0000000e+00, 0.0000000e+00],\n",
              "       [0.0000000e+00, 0.0000000e+00, 1.5378702e-05, ..., 0.0000000e+00,\n",
              "        0.0000000e+00, 0.0000000e+00],\n",
              "       ...,\n",
              "       [0.0000000e+00, 0.0000000e+00, 0.0000000e+00, ..., 0.0000000e+00,\n",
              "        0.0000000e+00, 0.0000000e+00],\n",
              "       [0.0000000e+00, 0.0000000e+00, 0.0000000e+00, ..., 0.0000000e+00,\n",
              "        0.0000000e+00, 0.0000000e+00],\n",
              "       [0.0000000e+00, 0.0000000e+00, 0.0000000e+00, ..., 0.0000000e+00,\n",
              "        0.0000000e+00, 0.0000000e+00]], dtype=float32)"
            ]
          },
          "metadata": {
            "tags": []
          },
          "execution_count": 73
        }
      ]
    },
    {
      "cell_type": "code",
      "metadata": {
        "id": "A3VqHMQvMBpW",
        "outputId": "b4148e0e-4449-4a62-afed-ee7c0e60a51b",
        "colab": {
          "base_uri": "https://localhost:8080/",
          "height": 34
        }
      },
      "source": [
        "data.shape"
      ],
      "execution_count": null,
      "outputs": [
        {
          "output_type": "execute_result",
          "data": {
            "text/plain": [
              "(155, 28, 28)"
            ]
          },
          "metadata": {
            "tags": []
          },
          "execution_count": 71
        }
      ]
    },
    {
      "cell_type": "code",
      "metadata": {
        "id": "OIZnWhFxV5Iq"
      },
      "source": [
        "def row_average_features(x):\n",
        "    \"\"\"\n",
        "    @param x (n_samples,m,n) array with values in (0,1)\n",
        "    @return (m,n_samples) array where each entry is the average of a row\n",
        "    \"\"\"\n",
        "    n_samples, m, n = x.shape\n",
        "    return np.mean(x, axis=2,keepdims=True).T.reshape((m,n_samples))\n",
        "\n",
        "def col_average_features(x):\n",
        "    \"\"\"\n",
        "    @param x (n_samples,m,n) array with values in (0,1)\n",
        "    @return (n,n_samples) array where each entry is the average of a column\n",
        "    \"\"\"\n",
        "    n_samples, m, n = x.shape\n",
        "    return np.mean(x, axis=1,keepdims=True).T.reshape((n,n_samples))\n",
        "\n",
        "def top_bottom_features(x):\n",
        "    \"\"\"\n",
        "    @param x (n_samples,m,n) array with values in (0,1)\n",
        "    @return (2,n_samples) array where the first entry of each column is the average of the\n",
        "    top half of the image = rows 0 to floor(m/2) [exclusive]\n",
        "    and the second entry is the average of the bottom half of the image\n",
        "    = rows floor(m/2) [inclusive] to m\n",
        "    \"\"\"\n",
        "    n_samples, m, n = x.shape\n",
        "    return np.array([np.mean(x[:,:m // 2,],axis=(1,2)), np.mean(x[:,m // 2:,],axis=(1,2))]).reshape((2,n_samples))\n"
      ],
      "execution_count": null,
      "outputs": []
    },
    {
      "cell_type": "code",
      "metadata": {
        "id": "OdMPtbcoWQ3b"
      },
      "source": [
        "# HINT: change the [0] and [1] if you want to access different images\n",
        "d0 = mnist_data_all[9][\"images\"]\n",
        "d1 = mnist_data_all[0][\"images\"]\n",
        "y0 = np.repeat(-1, len(d0)).reshape(1,-1)\n",
        "y1 = np.repeat(1, len(d1)).reshape(1,-1)\n",
        "\n",
        "# data goes into the feature computation functions\n",
        "data = np.vstack((d0, d1))\n",
        "# labels can directly go into the Perceptron algorithm\n",
        "labels = np.vstack((y0.T, y1.T)).T"
      ],
      "execution_count": null,
      "outputs": []
    },
    {
      "cell_type": "code",
      "metadata": {
        "id": "EUrOPyD0V_7j",
        "outputId": "b5cede32-f800-4c66-ed6c-eaa4a4f3b22e",
        "colab": {
          "base_uri": "https://localhost:8080/",
          "height": 34
        }
      },
      "source": [
        "acc = hw3.get_classification_accuracy(row_average_features(data), labels)\n",
        "print(acc)"
      ],
      "execution_count": null,
      "outputs": [
        {
          "output_type": "stream",
          "text": [
            "0.49749999999999994\n"
          ],
          "name": "stdout"
        }
      ]
    },
    {
      "cell_type": "code",
      "metadata": {
        "id": "dlgfb-LyXsFg",
        "outputId": "a20f18d8-1503-4c6e-d9f4-8edba802c465",
        "colab": {
          "base_uri": "https://localhost:8080/",
          "height": 34
        }
      },
      "source": [
        "acc = hw3.get_classification_accuracy(col_average_features(data), labels)\n",
        "print(acc)"
      ],
      "execution_count": null,
      "outputs": [
        {
          "output_type": "stream",
          "text": [
            "0.5041666666666667\n"
          ],
          "name": "stdout"
        }
      ]
    },
    {
      "cell_type": "code",
      "metadata": {
        "id": "syo-XwooXswx",
        "outputId": "d42671f6-a5fc-4481-d96e-4eb5fe7b78d9",
        "colab": {
          "base_uri": "https://localhost:8080/",
          "height": 34
        }
      },
      "source": [
        "acc = hw3.get_classification_accuracy(top_bottom_features(data), labels)\n",
        "print(acc)"
      ],
      "execution_count": null,
      "outputs": [
        {
          "output_type": "stream",
          "text": [
            "0.49749999999999994\n"
          ],
          "name": "stdout"
        }
      ]
    }
  ]
}