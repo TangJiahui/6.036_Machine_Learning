{
  "nbformat": 4,
  "nbformat_minor": 0,
  "metadata": {
    "colab": {
      "name": "MIT 6.036 Fall 2020 Lab13 - Clustering",
      "provenance": [],
      "collapsed_sections": [],
      "include_colab_link": true
    },
    "kernelspec": {
      "display_name": "Python 3",
      "name": "python3"
    }
  },
  "cells": [
    {
      "cell_type": "markdown",
      "metadata": {
        "id": "view-in-github",
        "colab_type": "text"
      },
      "source": [
        "<a href=\"https://colab.research.google.com/github/TangJiahui/6.036_Machine_Learning/blob/main/MIT_6_036_Fall_2020_Lab13_Clustering.ipynb\" target=\"_parent\"><img src=\"https://colab.research.google.com/assets/colab-badge.svg\" alt=\"Open In Colab\"/></a>"
      ]
    },
    {
      "cell_type": "markdown",
      "metadata": {
        "id": "yPji-ISRK1BN"
      },
      "source": [
        "#MIT 6.036 Fall 2020: Lab13#\n",
        "\n",
        "This colab notebook runs the companion code for question 2 in MIT 6.036 Lab 13. You can work out your solutions and save them for your checkoff discussion here. If you have not used colab before, ask your partner or a TA for help.\n",
        "\n",
        "## <section>**Setup**</section>\n",
        "\n",
        "First, run the next code block to download and import the code for this lab."
      ]
    },
    {
      "cell_type": "code",
      "metadata": {
        "id": "bZOKDkqxHRGz",
        "colab": {
          "base_uri": "https://localhost:8080/"
        },
        "outputId": "fbdbf514-a8ae-462f-805f-c0567a86c780"
      },
      "source": [
        "!rm -rf code_for_lab13* __MACOSX data .DS_Store\n",
        "!wget --quiet --no-cache https://introml.odl.mit.edu/cat-soop/_static/6.036/labs/lab13/Q2/code_for_lab13.zip --no-check-certificate\n",
        "!unzip code_for_lab13.zip\n",
        "!mv code_for_lab13/* .\n",
        "from code_for_lab13 import *\n",
        "\n",
        "import pandas as pd\n",
        "import numpy as np\n",
        "from PIL import Image\n",
        "import random\n",
        "import re\n",
        "from sklearn.cluster import KMeans\n",
        "import matplotlib.pyplot as plt\n",
        "from wordcloud import WordCloud, STOPWORDS\n",
        "from tabulate import tabulate"
      ],
      "execution_count": 1,
      "outputs": [
        {
          "output_type": "stream",
          "text": [
            "Archive:  code_for_lab13.zip\n",
            "  inflating: code_for_lab13/code_for_lab13.py  \n",
            "   creating: code_for_lab13/data/\n",
            "  inflating: code_for_lab13/data/dataCereal-grains-pasta.txt  \n",
            "  inflating: code_for_lab13/data/dataDescriptions.txt  \n",
            "  inflating: code_for_lab13/data/dataFats-oils.txt  \n",
            "  inflating: code_for_lab13/data/dataFinfish-shellfish.txt  \n",
            "  inflating: code_for_lab13/data/dataVegetables.txt  \n"
          ],
          "name": "stdout"
        }
      ]
    },
    {
      "cell_type": "markdown",
      "metadata": {
        "id": "uzOZoBm2SkpM"
      },
      "source": [
        "# 2) Culinary Clustering\n",
        "\n",
        "The US Department of Agriculture periodically publishes food guides, the most recent being MyPlate in 2011. These guides typically split foods into groups: grains, meats, fruits, vegetables, and dairy. You’ve been charged with creating the next installment of the food guide. You decide you want your food groups to be based on nutritional similarity. Luckily, we have access to the US Department of Agriculture Nutrient Database. The dataset we will be working with is a subset of the dataset so that it is more manageable.\n"
      ]
    },
    {
      "cell_type": "markdown",
      "metadata": {
        "id": "C20BdI6eN_-U"
      },
      "source": [
        "Here are the names of the features you will be selecting from.\n",
        "\n",
        "|                    |                      |                    |                    |                    |                    |                   |                    |                      |                     |\n",
        "|--------------------|----------------------|--------------------|--------------------|--------------------|--------------------|-------------------|--------------------|----------------------|---------------------|\n",
        "| Protein            | Fat                  | Carbohydrate       | Ash                | KCal               | Starch             | Sucrose           | Glucose            | Fructose             | Lactose             |\n",
        "| Maltose            | Ethyl                | Water              | Adj Protein        | Caffeine           | Theobromine        | KJ                | Sugar              | Galactose            | Fiber               |\n",
        "| Ca                 | Fe                   | Mg                 | P                  | K                  | Na                 | Zn                | Cu                 | F                    | Mn                  |\n",
        "| Se                 | Vitamin A IU         | Retinol            | Vitamin A RAE      | Carotene b         | Carotene a         | Vitamin E         | Vitamin D          | Vitamin D2           | Vitamin D3          |\n",
        "| Vitamin D t        | Cryptoxanthin        | Lycopene           | Lutein             | Tocopherol b       | Tocopherol g       | Tocopherol d      | Tocotrienol a      | Tocotrienol b        | Tocotrienol g       |\n",
        "| Tocotrienol d      | Vitamin C            | Thiamin            | Riboflavin         | Niacin             | Pantothenic acid   | Vitamin B-6       | Folate total       | Vitamin B-12         | Choline             |\n",
        "| Menaquinone-4      | Dihydrophylloquinone | Vitamin K          | Folic acid         | Folate food        | Folate DFE         | Betaine           | Tryptophan         | Threonine            | Isoleucine          |\n",
        "| Leucine            | Lysine               | Methionine         | Cystine            | Phenylalanine      | Tyrosine           | Valine            | Arginine           | Histidine            | Alanine             |\n",
        "| Aspartic acid      | Glutamic acid        | Glycine            | Proline            | Serine             | Hydroxyproline     | Vitamin E added   | Vitamin B-12 added | Cholesterol          | Fatty acids tt      |\n",
        "| Fatty acids ts     | Fatty acids4:0       | Fatty acids6:0     | Fatty acids8:0     | Fatty acids10:0    | Fatty acids12:0    | Fatty acids14:0   | Fatty acids16:0    | Fatty acids18:0      | Fatty acids20:0     |\n",
        "| Fatty acids18:1 u  | Fatty acids18:2 u    | Fatty acids18:3 u  | Fatty acids20:4 u  | Fatty acids22:6    | Fatty acids22:0    | Fatty acids14:1   | Fatty acids16:1 u  | Fatty acids18:4      | Fatty acids20:1     |\n",
        "| Fatty acids20:5    | Fatty acids22:1 u    | Fatty acids22:5    | Phytosterols       | Stigmasterol       | Campesterol        | Beta-sitosterol   | Fatty acids tm     | Fatty acids tp       | Fatty acids15:0     |\n",
        "| Fatty acids17:0    | Fatty acids24:0      | Fatty acids16:1 t  | Fatty acids18:1 t  | Fatty acids22:1 t  | Fatty acids18:2 t  | Fatty acids18:2 i | Fatty acids18:2 tt | Fatty acids18:2 CLAs | Fatty acids24:1 c   |\n",
        "| Fatty acids20:2 n6 | Fatty acids16:1 c    | Fatty acids18:1 c  | Fatty acids18:2 n6 | Fatty acids22:1 c  | Fatty acids18:3 n6 | Fatty acids17:1   | Fatty acids20:3 u  | Fatty acids ttm      | Fatty acids ttp     |\n",
        "| Fatty acids13:0    | Fatty acids15:1      | Fatty acids18:3 n3 | Fatty acids20:3 n3 | Fatty acids20:3 n6 | Fatty acids20:4 n6 | Fatty acids18:3i  | Fatty acids21:5    | Fatty acids22:4      | Fatty acids18:1-11t |"
      ]
    },
    {
      "cell_type": "markdown",
      "metadata": {
        "id": "PRGLFPRE8E2p"
      },
      "source": [
        "## 2.1) Getting a Taste for the Data\n",
        "\n",
        "Use the `make_histogram` function in the Colab to get a rough estimate for the following questions."
      ]
    },
    {
      "cell_type": "markdown",
      "metadata": {
        "id": "bpB_xspCTpLe"
      },
      "source": [
        "### 2.1A) K (Potassium) vs Cystine ###\n",
        "Compare the maximum value of K (Potassium) to that of Cystine. How many orders of magnitude apart are the two values?\n",
        "\n",
        "Run the code cell below to visualize what the data looks like for each feature."
      ]
    },
    {
      "cell_type": "code",
      "metadata": {
        "id": "JLdL9wYTT8ts",
        "colab": {
          "base_uri": "https://localhost:8080/",
          "height": 1000
        },
        "outputId": "df3b1df8-774f-45e7-cf02-dcbd2f2e816b"
      },
      "source": [
        "# Change the number of bins to increase or decrease the granularity of the histograms\n",
        "make_histogram(\"K\",nbins=50)\n",
        "make_histogram(\"Cystine\",nbins=50)"
      ],
      "execution_count": 2,
      "outputs": [
        {
          "output_type": "display_data",
          "data": {
            "image/png": "[encoded data removed]",
            "text/plain": [
              "<Figure size 576x576 with 1 Axes>"
            ]
          },
          "metadata": {
            "tags": [],
            "needs_background": "light"
          }
        },
        {
          "output_type": "display_data",
          "data": {
            "image/png": "[encoded data removed]",
            "text/plain": [
              "<Figure size 576x576 with 1 Axes>"
            ]
          },
          "metadata": {
            "tags": [],
            "needs_background": "light"
          }
        }
      ]
    },
    {
      "cell_type": "markdown",
      "metadata": {
        "id": "IJ7PiDumLnBK"
      },
      "source": [
        "### 2.1B) Fatty acids20:4 n6###\n",
        "Is the standard deviation for `\"Fatty acids20:4 n6\"` big or small? Would you want to include this in the feature set? Would including this hurt, help, or not impact our results?"
      ]
    },
    {
      "cell_type": "code",
      "metadata": {
        "id": "_eZ9wJVIL7Wl",
        "colab": {
          "base_uri": "https://localhost:8080/",
          "height": 526
        },
        "outputId": "5402e5f9-04aa-4f71-8bdf-4b268db98cba"
      },
      "source": [
        "# Change the number of bins to increase or decrease the granularity of the histograms\n",
        "make_histogram(\"Fatty acids20:4 n6\",nbins=30)"
      ],
      "execution_count": 4,
      "outputs": [
        {
          "output_type": "display_data",
          "data": {
            "image/png": "[encoded data removed]",
            "text/plain": [
              "<Figure size 576x576 with 1 Axes>"
            ]
          },
          "metadata": {
            "tags": [],
            "needs_background": "light"
          }
        }
      ]
    },
    {
      "cell_type": "markdown",
      "metadata": {
        "id": "2rirlyAOL_aW"
      },
      "source": [
        "###2.1C) Water vs Fatty acids20:4 n6###\n",
        "\n",
        "Compare the `\"Fatty acids20:4 n6\"` histogram to that of the Water histogram. Which do you think would help separate the data better? How many clusterings do you see in the Water histogram? What do you think the means of these clusters are?\n"
      ]
    },
    {
      "cell_type": "code",
      "metadata": {
        "id": "sjJAlCQBL-ir",
        "colab": {
          "base_uri": "https://localhost:8080/",
          "height": 526
        },
        "outputId": "bbdb045b-9845-4d99-d534-b8826bbbb076"
      },
      "source": [
        "# Change the number of bins to increase or decrease the granularity of the histograms\n",
        "make_histogram(\"Water\",nbins=50)"
      ],
      "execution_count": 5,
      "outputs": [
        {
          "output_type": "display_data",
          "data": {
            "image/png": "[encoded data removed]",
            "text/plain": [
              "<Figure size 576x576 with 1 Axes>"
            ]
          },
          "metadata": {
            "tags": [],
            "needs_background": "light"
          }
        }
      ]
    },
    {
      "cell_type": "markdown",
      "metadata": {
        "id": "IdjTK4KzU6_T"
      },
      "source": [
        "# 2.2) K-ooking the Data\n",
        "\n",
        "For these next sections, you will make use of the `kmeans` function. This will output up to 20 random samples from each cluster. To see the entire thing set `tableVerbose=True` and if you want to see a word cloud of the clusters set `wordcloud=True`."
      ]
    },
    {
      "cell_type": "markdown",
      "metadata": {
        "id": "vdJAFDml70MZ"
      },
      "source": [
        "### 2.2A) Clustering Data with Water\n",
        "Now that our data is ready, let’s examine what our clusters would look like if we run the K-means algorithm using only one feature, Water, with `k=3`. Are you able to find any meaning behind these clusters? Compare the means you predicted in 2.1C to the actual results. (Scroll to the top of the ouput box.)"
      ]
    },
    {
      "cell_type": "code",
      "metadata": {
        "id": "QxrSM2wTXzkj",
        "colab": {
          "base_uri": "https://localhost:8080/",
          "height": 1000
        },
        "outputId": "b3526d33-6c70-4a7b-81ec-469aa2094670"
      },
      "source": [
        "features = [\"Water\"] \n",
        "clusters = 3\n",
        "\n",
        "kmeans(normalized_df,clusters,features,wordcloud=False,histogram=True,tableVerbose=False)"
      ],
      "execution_count": 6,
      "outputs": [
        {
          "output_type": "display_data",
          "data": {
            "image/png": "[encoded data removed]",
            "text/plain": [
              "<Figure size 576x576 with 1 Axes>"
            ]
          },
          "metadata": {
            "tags": [],
            "needs_background": "light"
          }
        },
        {
          "output_type": "stream",
          "text": [
            "========    Cluster 1    ========\n",
            "+---------------------------------------------------------+------------------------------------------------------------+----------------------------------+\n",
            "| BEANS,KIDNEY,MATURE SEEDS,SPROUTED,CKD,BLD,DRND,WO/SALT | SALSIFY,CKD,BLD,DRND,W/SALT                                | PEPPERS,SWT,RED,SAUTEED          |\n",
            "+---------------------------------------------------------+------------------------------------------------------------+----------------------------------+\n",
            "| CHIVES,RAW                                              | BROCCOLI,FRZ,CHOPD,UNPREP                                  | SALAD DRSNG,SWT&SOUR             |\n",
            "+---------------------------------------------------------+------------------------------------------------------------+----------------------------------+\n",
            "| CRESS,GARDEN,CKD,BLD,DRND,W/SALT                        | WINGED BNS,IMMAT SEEDS,CKD,BLD,DRND,WO/SALT                | KALE,SCOTCH,RAW                  |\n",
            "+---------------------------------------------------------+------------------------------------------------------------+----------------------------------+\n",
            "| PEPPERS,HOT CHILI,RED,CND,EXCLUDING SEEDS,SOL&LIQUIDS   | PEPPERS,SWT,RED,CKD,BLD,DRND,W/SALT                        | CRAB,QUEEN,RAW                   |\n",
            "+---------------------------------------------------------+------------------------------------------------------------+----------------------------------+\n",
            "| V8 60% VEG JUC,V8 V-LITE                                | BALSAM-PEAR (BITTER GOURD),LEAFY TIPS,CKD,BLD,DRND,WO/SALT | YARDLONG BEAN,RAW                |\n",
            "+---------------------------------------------------------+------------------------------------------------------------+----------------------------------+\n",
            "| CABBAGE,COMMON,FRESHLY HARVEST,RAW                      | SQUASH,SMMR,ZUCCHINI,INCL SKN,CKD,BLD,DRND,WO/SALT         | VEGETABLE JUC COCKTAIL,LO NA,CND |\n",
            "+---------------------------------------------------------+------------------------------------------------------------+----------------------------------+\n",
            "| OAT BRAN,COOKED                                         | OYSTER,EASTERN,FARMED,RAW                                  |                                  |\n",
            "+---------------------------------------------------------+------------------------------------------------------------+----------------------------------+\n",
            "\n",
            "\n",
            "\n",
            "\n",
            "\n",
            "========    Cluster 2    ========\n",
            "+-----------------------------------------+----------------------------------------------------------+------------------------------------------------------------+\n",
            "| OIL,TOMATOSEED                          | USDA CMDTY FD,OIL,VEG,SOYBN,REFINED                      | OIL,INDUSTRIAL,PALM KERNEL (HYDROGENATED),CONFECTION FAT   |\n",
            "+-----------------------------------------+----------------------------------------------------------+------------------------------------------------------------+\n",
            "| RICE,WHITE,GLUTINOUS,RAW                | CORNSTARCH                                               | MACARONI,DRY,ENR                                           |\n",
            "+-----------------------------------------+----------------------------------------------------------+------------------------------------------------------------+\n",
            "| SHALLOTS,FREEZE-DRIED                   | OIL,PALM                                                 | RICE,WHITE,LONG-GRAIN,REG,RAW,UNENR                        |\n",
            "+-----------------------------------------+----------------------------------------------------------+------------------------------------------------------------+\n",
            "| OIL,SAFFLOWER,SALAD OR COOKING,HI OLEIC | OIL,COCOA BUTTER                                         | SHORTENING,SPL PURPOSE FOR BAKING,SOYBN (HYDR) PALM&CTTNSD |\n",
            "+-----------------------------------------+----------------------------------------------------------+------------------------------------------------------------+\n",
            "| OIL,FLAXSEED,COLD PRESSED               | SALAD DRSNG,MAYO,IMITN,SOYBN WO/CHOL                     | OIL,INDUSTRIAL,SOY,FULLY HYDR                              |\n",
            "+-----------------------------------------+----------------------------------------------------------+------------------------------------------------------------+\n",
            "| OIL,HAZELNUT                            | OIL,INDUS,SOY (PART HYDROG) & CTTNSD,TORTILLA SHORTENING | QUINOA,UNCKD                                               |\n",
            "+-----------------------------------------+----------------------------------------------------------+------------------------------------------------------------+\n",
            "| WHEAT FLR,WHITE,CAKE,ENR                | MAYONNAISE DRSNG,NO CHOL                                 |                                                            |\n",
            "+-----------------------------------------+----------------------------------------------------------+------------------------------------------------------------+\n",
            "\n",
            "\n",
            "\n",
            "\n",
            "\n",
            "========    Cluster 3    ========\n",
            "+---------------------------------------------+-------------------------------------------------------------+--------------------------------------------------------+\n",
            "| SEA BASS,MXD SP,RAW                         | MARGARINE-LIKE SPRD W/ YOGURT,APPROX 40% FAT,TUB,W/ SALT    | SALAD DRSNG,MAYO & MAYONNAISE-TYPE,LO CAL              |\n",
            "+---------------------------------------------+-------------------------------------------------------------+--------------------------------------------------------+\n",
            "| HERRING,ATLANTIC,CKD,DRY HEAT               | TUNA,FRESH,YELLOWFIN,RAW                                    | WHITING,MXD SP,CKD,DRY HEAT                            |\n",
            "+---------------------------------------------+-------------------------------------------------------------+--------------------------------------------------------+\n",
            "| TROUT,RAINBOW,WILD,CKD,DRY HEAT             | POTATOES,FRZ,FRCH FR,PAR FR,CTTGE-CUT,PREP,HTD OVEN,W/SALT  | POTATOES,RSTD,SALT ADDED IN PROCESSING,FRZ,UNPREP      |\n",
            "+---------------------------------------------+-------------------------------------------------------------+--------------------------------------------------------+\n",
            "| POTATOES,MICROWAVED,CKD IN SKN,FLESH,W/SALT | CRAB,ALASKA KING,CKD,MOIST HEAT                             | TUNA,FRESH,BLUEFIN,RAW                                 |\n",
            "+---------------------------------------------+-------------------------------------------------------------+--------------------------------------------------------+\n",
            "| MACKEREL,SPANISH,CKD,DRY HEAT               | CORN,SWT,YEL,CND,WHL KERNEL,DRND SOL                        | MARGARINE-LIKE,VEG OIL-BUTTER SPRD,RED CAL,TUB,W/ SALT |\n",
            "+---------------------------------------------+-------------------------------------------------------------+--------------------------------------------------------+\n",
            "| CATFISH,CHANNEL,FARMED,CKD,DRY HEAT         | TOMATOES,SUN-DRIED,PACKED IN OIL,DRND                       | RICE NOODLES,CKD                                       |\n",
            "+---------------------------------------------+-------------------------------------------------------------+--------------------------------------------------------+\n",
            "| RICE,WHITE,MEDIUM-GRAIN,CKD                 | POTATOES,FR FR,CRNKL OR REG,SALT ADDED IN PROC,FRZ,AS PURCH |                                                        |\n",
            "+---------------------------------------------+-------------------------------------------------------------+--------------------------------------------------------+\n",
            "\n",
            "\n",
            "\n",
            "\n",
            "\n"
          ],
          "name": "stdout"
        }
      ]
    },
    {
      "cell_type": "markdown",
      "metadata": {
        "id": "oM_WB_A3PGGE"
      },
      "source": [
        "### 2.2B)\n",
        "Let’s add more features so that we get more well-defined clusters. Try `k=4` for the following features: `\"Protein\", \"Fat\", \"Carbohydrate\", \"Ash\", \"Water\"`. What do each of these clusters correspond to? Are they perfect?\n",
        "\n",
        "Note: Ash refers to any inorganic material, such as minerals, present in food. You can read more [here](https://www.livestrong.com/article/449416-what-is-ash-in-food/)."
      ]
    },
    {
      "cell_type": "code",
      "metadata": {
        "id": "DTiVubimRhJC",
        "colab": {
          "base_uri": "https://localhost:8080/"
        },
        "outputId": "3eab3847-a8d2-4a93-d275-b7cfbe275ff0"
      },
      "source": [
        "features = [\"Protein\",\"Fat\",\"Carbohydrate\",\"Ash\",\"Water\"]\n",
        "clusters = 4\n",
        "\n",
        "kmeans(normalized_df,clusters,features,wordcloud=False,tableVerbose=False)"
      ],
      "execution_count": 11,
      "outputs": [
        {
          "output_type": "stream",
          "text": [
            "========    Cluster 1    ========\n",
            "+--------------------------------------------------------------+---------------------------------------------------+--------------------------------------------------------------+\n",
            "| EEL,MXD SP,CKD,DRY HEAT                                      | PICKLE RELISH,HOT DOG                             | POTATOES,MSHD,DEHYD,PREP FROM GRAN W/ MILK,H2O & MARG ADDED  |\n",
            "+--------------------------------------------------------------+---------------------------------------------------+--------------------------------------------------------------+\n",
            "| SWEET POTATO,CND,MSHD                                        | LIMA BNS,IMMAT SEEDS,FRZ,BABY,CKD,BLD,DRND,W/SALT | RICE,WHITE,LONG-GRAIN,PRECKD OR INST,ENR,PREP                |\n",
            "+--------------------------------------------------------------+---------------------------------------------------+--------------------------------------------------------------+\n",
            "| MACARONI,PROTEIN-FORTIFIED,CKD,ENR,(N X 5.70)                | GROUPER,MXD SP,CKD,DRY HEAT                       | FISH,TUNA,LT,CND IN H2O,DRND SOL                             |\n",
            "+--------------------------------------------------------------+---------------------------------------------------+--------------------------------------------------------------+\n",
            "| POTATOES,FRENCH FR,WEDGE CUT,FRZ,UNPREP                      | PICKLE RELISH,HAMBURGER                           | POTATOES,AU GRATIN,HOME-PREPARED FROM RECIPE USING MARGARINE |\n",
            "+--------------------------------------------------------------+---------------------------------------------------+--------------------------------------------------------------+\n",
            "| POTATOES,AU GRATIN,HOME-PREPARED FROM RECIPE USING BUTTER    | ROCKFISH,PACIFIC,MXD SP,CKD,DRY HEAT              | SCUP,RAW                                                     |\n",
            "+--------------------------------------------------------------+---------------------------------------------------+--------------------------------------------------------------+\n",
            "| CROAKER,ATLANTIC,RAW                                         | SUCCOTASH,(CORN&LIMAS),FRZ,CKD,BLD,DRND,W/SALT    | CORN,SWT,YEL,FRZ,KRNLS CUT OFF COB,UNPREP                    |\n",
            "+--------------------------------------------------------------+---------------------------------------------------+--------------------------------------------------------------+\n",
            "| POTATOES,FRENCH FR,STK CUT,SALT NOT ADDED IN PROC,FRZ,UNPREP | SWEET POTATO,FRZ,CKD,BKD,W/ SALT                  |                                                              |\n",
            "+--------------------------------------------------------------+---------------------------------------------------+--------------------------------------------------------------+\n",
            "\n",
            "\n",
            "\n",
            "\n",
            "\n",
            "========    Cluster 2    ========\n",
            "+------------------------------------------------------+---------------------------------------------------------+--------------------------------------------------------------+\n",
            "| MARGARINE,MARGARINE-LIKE VEG OIL SPRD,67-70% FAT,TUB | OIL,SUNFLOWER,HI OLEIC (70% & OVER)                     | FAT,GOOSE                                                    |\n",
            "+------------------------------------------------------+---------------------------------------------------------+--------------------------------------------------------------+\n",
            "| OIL,INDUSTRIAL,COCNT,CONFECTION FAT,ICE CRM COATINGS | OIL,POPPYSEED                                           | MARGARINE-LIKE SHORTENING,INDUS,SOY(PART  HYDR),CTTNSD,& SOY |\n",
            "+------------------------------------------------------+---------------------------------------------------------+--------------------------------------------------------------+\n",
            "| OIL,OLIVE,SALAD OR COOKING                           | MARGARINE,80% FAT,STK,INCL REG & HYDR CORN & SOYBN OILS | SHORTENING,HOUSEHOLD,LARD&VEG OIL                            |\n",
            "+------------------------------------------------------+---------------------------------------------------------+--------------------------------------------------------------+\n",
            "| OIL,MUSTARD                                          | VEG OIL SPRD,60% FAT,STK,W/ SALT,W/ ADDED VITAMIN D     | OIL,NUTMEG BUTTER                                            |\n",
            "+------------------------------------------------------+---------------------------------------------------------+--------------------------------------------------------------+\n",
            "| SHORTENING,VEG,HOUSEHOLD,COMP                        | SALAD DRSNG,MAYO,REG                                    | MARGARINE-LIKE,VEG OIL SPRD,60% FAT,TUB,W/ SALT              |\n",
            "+------------------------------------------------------+---------------------------------------------------------+--------------------------------------------------------------+\n",
            "| MARGARINE-LIKE SPRD,SMART BALANCE REG BUTTERY SPRD   | SHORTENING INDUSTRIAL,LARD&VEG OIL                      | OIL,INDUSTRIAL,SOY,LO LINOLENIC                              |\n",
            "+------------------------------------------------------+---------------------------------------------------------+--------------------------------------------------------------+\n",
            "| OIL,INDUSTRIAL,PALM KERNEL,CONFECTION FAT            | ANIMAL FAT,BACON GREASE                                 |                                                              |\n",
            "+------------------------------------------------------+---------------------------------------------------------+--------------------------------------------------------------+\n",
            "\n",
            "\n",
            "\n",
            "\n",
            "\n",
            "========    Cluster 3    ========\n",
            "+------------------------------------------------------+----------------------------------------------------+-------------------------+\n",
            "| CORNMEAL,DEGERMED,UNENR,WHITE                        | PARSLEY,FREEZE-DRIED                               | RYE FLOUR,MEDIUM        |\n",
            "+------------------------------------------------------+----------------------------------------------------+-------------------------+\n",
            "| CORNMEAL,DEGERMED,UNENR,YEL                          | MILLET FLR                                         | RICE NOODLES,DRY        |\n",
            "+------------------------------------------------------+----------------------------------------------------+-------------------------+\n",
            "| FUNGI,CLOUD EARS,DRIED                               | SHALLOTS,FREEZE-DRIED                              | WHEAT FLOUR,WHOLE-GRAIN |\n",
            "+------------------------------------------------------+----------------------------------------------------+-------------------------+\n",
            "| POTATOES,MSHD,DEHYD,GRANULES W/MILK,DRY FORM         | WHEAT FLR,WHITE (INDUSTRIAL),15% PROT,BLEACHED,ENR | SPAGHETTI,DRY,ENRICHED  |\n",
            "+------------------------------------------------------+----------------------------------------------------+-------------------------+\n",
            "| WHEAT FLR,WHITE (INDUSTRIAL),11.5% PROT,BLEACHED,ENR | POTATO FLOUR                                       | COUSCOUS,DRY            |\n",
            "+------------------------------------------------------+----------------------------------------------------+-------------------------+\n",
            "| MUSHROOMS,SHIITAKE,DRIED                             | SEAWEED,AGAR,DRIED                                 | OATS                    |\n",
            "+------------------------------------------------------+----------------------------------------------------+-------------------------+\n",
            "| QUINOA,UNCKD                                         | PEPEAO,DRIED                                       |                         |\n",
            "+------------------------------------------------------+----------------------------------------------------+-------------------------+\n",
            "\n",
            "\n",
            "\n",
            "\n",
            "\n",
            "========    Cluster 4    ========\n",
            "+-----------------------------------------------------+-----------------------------------------------------+------------------------------------------------------+\n",
            "| MARGARINE-LIKE,VEG OIL SPRD,20% FAT,WO/ SALT        | CAULIFLOWER,GRN,CKD,W/ SALT                         | MUSHROOMS,WHITE,CKD,BLD,DRND,WO/ SALT                |\n",
            "+-----------------------------------------------------+-----------------------------------------------------+------------------------------------------------------+\n",
            "| GOURD,WHITE-FLOWERED (CALABASH),CKD,BLD,DRND,W/SALT | POTATOES,BLD,CKD IN SKN,SKN,W/SALT                  | BEANS,SNAP,YELLOW,RAW                                |\n",
            "+-----------------------------------------------------+-----------------------------------------------------+------------------------------------------------------+\n",
            "| BEANS,SNAP,GREEN,RAW                                | PACE,JALAPENOS NACHO SLICED PEPPERS                 | TURNIP GRNS,FRZ,CKD,BLD,DRND,WO/SALT                 |\n",
            "+-----------------------------------------------------+-----------------------------------------------------+------------------------------------------------------+\n",
            "| POKEBERRY SHOOTS,(POKE),CKD,BLD,DRND,W/SALT         | LEEKS,(BULB&LOWER LEAF-PORTION),CKD,BLD,DRND,W/SALT | FIDDLEHEAD FERNS,RAW                                 |\n",
            "+-----------------------------------------------------+-----------------------------------------------------+------------------------------------------------------+\n",
            "| TOMATOES,CRUSHED,CANNED                             | CABBAGE,MUSTARD,SALTED                              | CARROTS,CND,REG PK,DRND SOL                          |\n",
            "+-----------------------------------------------------+-----------------------------------------------------+------------------------------------------------------+\n",
            "| MUSTARD SPINACH,(TENDERGREEN),CKD,BLD,DRND,W/SALT   | JUTE,POTHERB,CKD,BLD,DRND,W/SALT                    | GOURD,WHITE-FLOWERED (CALABASH),CKD,BLD,DRND,WO/SALT |\n",
            "+-----------------------------------------------------+-----------------------------------------------------+------------------------------------------------------+\n",
            "| SALAD DRSNG,KRAFT MIRACLE WHIP FREE NONFAT DRSNG    | BORAGE,CKD,BLD,DRND,WO/SALT                         |                                                      |\n",
            "+-----------------------------------------------------+-----------------------------------------------------+------------------------------------------------------+\n",
            "\n",
            "\n",
            "\n",
            "\n",
            "\n"
          ],
          "name": "stdout"
        }
      ]
    },
    {
      "cell_type": "markdown",
      "metadata": {
        "id": "XDA_hzPMPGlv"
      },
      "source": [
        "### 2.2C)\n",
        "Now try `k=8`. What do these clusters represent? What happened to your 4 clusters from before?"
      ]
    },
    {
      "cell_type": "code",
      "metadata": {
        "id": "EyqkBCujRWD0",
        "colab": {
          "base_uri": "https://localhost:8080/"
        },
        "outputId": "16b8e537-f11a-47f2-ff21-262616d11810"
      },
      "source": [
        "features = [\"Protein\",\"Fat\",\"Carbohydrate\",\"Ash\",\"Water\"]\n",
        "clusters = 8\n",
        "\n",
        "kmeans(normalized_df,clusters,features,wordcloud=False,tableVerbose=False)"
      ],
      "execution_count": 9,
      "outputs": [
        {
          "output_type": "stream",
          "text": [
            "========    Cluster 1    ========\n",
            "+-----------------------------------------------+---------------------------------+-----------------------------------------+\n",
            "| TOMATO PRODUCTS,CND,SAU,W/MUSHROOMS           | SQUASH,WNTR,HUBBARD,BKD,W/ SALT | CARROT JUICE,CANNED                     |\n",
            "+-----------------------------------------------+---------------------------------+-----------------------------------------+\n",
            "| SQUASH,SMMR,CROOKNECK&STRAIGHTNECK,FRZ,UNPREP | NOPALES,CKD,WO/SALT             | PEPPERS,SWT,GRN,FRZ,CHOPD,UNPREP        |\n",
            "+-----------------------------------------------+---------------------------------+-----------------------------------------+\n",
            "| TURNIPS,FROZEN,UNPREPARED                     | FENNEL,BULB,RAW                 | PEAS,GRN,CND,REG PK,SOL&LIQUIDS         |\n",
            "+-----------------------------------------------+---------------------------------+-----------------------------------------+\n",
            "| KALE,FRZ,CKD,BLD,DRND,WO/SALT                 | KALE,SCOTCH,CKD,BLD,DRND,W/SALT | TURNIP GRNS,FRZ,UNPREP                  |\n",
            "+-----------------------------------------------+---------------------------------+-----------------------------------------+\n",
            "| PUMPKIN LEAVES,CKD,BLD,DRND,WO/SALT           | CARDOON,CKD,BLD,DRND,WO/SALT    | OYSTER,EASTERN,CANNED                   |\n",
            "+-----------------------------------------------+---------------------------------+-----------------------------------------+\n",
            "| PUMPKIN,CKD,BLD,DRND,W/SALT                   | BROCCOLI,STALKS,RAW             | SQUASH,WNTR,HUBBARD,CKD,BLD,MSHD,W/SALT |\n",
            "+-----------------------------------------------+---------------------------------+-----------------------------------------+\n",
            "| TURNIPS,FRZ,CKD,BLD,DRND,WO/SALT              | MUSHROOMS,OYSTER,RAW            |                                         |\n",
            "+-----------------------------------------------+---------------------------------+-----------------------------------------+\n",
            "\n",
            "\n",
            "\n",
            "\n",
            "\n",
            "========    Cluster 2    ========\n",
            "+---------------------------------------------------------+-------------------------------+------------------------------------------------------------+\n",
            "| OIL,INDUSTRIAL,CANOLA,HI OLEIC                          | OIL,TOMATOSEED                | SHORTENING INDUSTRIAL,SOYBN (HYDR)&CTTNSD                  |\n",
            "+---------------------------------------------------------+-------------------------------+------------------------------------------------------------+\n",
            "| FISH OIL,SALMON                                         | FISH OIL,HERRING              | OIL,INDUSTRIAL,SOY,FULLY HYDR                              |\n",
            "+---------------------------------------------------------+-------------------------------+------------------------------------------------------------+\n",
            "| FAT,MUTTON TALLOW                                       | OIL,TEASEED                   | OIL,CTTNSD,SALAD OR COOKING                                |\n",
            "+---------------------------------------------------------+-------------------------------+------------------------------------------------------------+\n",
            "| OIL,INDUSTRIAL,SOY,REFINED,FOR WOKS & LT FRYING         | OIL,MUSTARD                   | OIL,FLAXSEED,COLD PRESSED                                  |\n",
            "+---------------------------------------------------------+-------------------------------+------------------------------------------------------------+\n",
            "| SHORTENING,MULTIPURPOSE,SOYBN (HYDR)&PALM (HYDR)        | SHORTENING,VEG,HOUSEHOLD,COMP | SHORTENING HOUSEHOLD SOYBN (HYDR)&PALM                     |\n",
            "+---------------------------------------------------------+-------------------------------+------------------------------------------------------------+\n",
            "| MARGARINE,80% FAT,STK,INCL REG & HYDR CORN & SOYBN OILS | OIL,CANOLA                    | MARGARINE-LIKE,BUTTER-MARGARINE BLEND,80% FAT,STK,WO/ SALT |\n",
            "+---------------------------------------------------------+-------------------------------+------------------------------------------------------------+\n",
            "| OIL,WALNUT                                              | FAT,DUCK                      |                                                            |\n",
            "+---------------------------------------------------------+-------------------------------+------------------------------------------------------------+\n",
            "\n",
            "\n",
            "\n",
            "\n",
            "\n",
            "========    Cluster 3    ========\n",
            "+----------------------------------------------------+---------------------------------------------+------------------------------------------------------+\n",
            "| MUSHROOMS,SHIITAKE,DRIED                           | RICE,WHITE,MEDIUM-GRAIN,RAW,UNENR           | POTATOES,MSHD,DEHYD,FLAKES WO/MILK,DRY FORM          |\n",
            "+----------------------------------------------------+---------------------------------------------+------------------------------------------------------+\n",
            "| WHEAT FLR,WHITE (INDUSTRIAL),15% PROT,BLEACHED,ENR | WHEAT FLR,WHITE,ALL-PURPOSE,SELF-RISING,ENR | SEMOLINA,UNENRICHED                                  |\n",
            "+----------------------------------------------------+---------------------------------------------+------------------------------------------------------+\n",
            "| CORNMEAL,DEGERMED,UNENR,YEL                        | PEPPERS,ANCHO,DRIED                         | WHEAT FLR,WHITE (INDUSTRIAL),11.5% PROT,BLEACHED,ENR |\n",
            "+----------------------------------------------------+---------------------------------------------+------------------------------------------------------+\n",
            "| WHEAT FLR,WHITE (INDUSTRIAL),13% PROT,BLEACHED,ENR | BULGUR,DRY                                  | OATS                                                 |\n",
            "+----------------------------------------------------+---------------------------------------------+------------------------------------------------------+\n",
            "| CORN FLR,MASA,ENR,YEL                              | NOODLES,EGG,DRY,UNENR                       | NOODLES,JAPANESE,SOBA,DRY                            |\n",
            "+----------------------------------------------------+---------------------------------------------+------------------------------------------------------+\n",
            "| WHEAT FLR,WHITE,ALL-PURPOSE,ENR,CALCIUM-FORTIFIED  | SPELT,UNCKD                                 | NOODLES,EGG,DRY,ENRICHED                             |\n",
            "+----------------------------------------------------+---------------------------------------------+------------------------------------------------------+\n",
            "| WHEAT FLR,WHITE,ALL-PURPOSE,ENR,BLEACHED           | WHEAT,HARD RED WINTER                       |                                                      |\n",
            "+----------------------------------------------------+---------------------------------------------+------------------------------------------------------+\n",
            "\n",
            "\n",
            "\n",
            "\n",
            "\n",
            "========    Cluster 4    ========\n",
            "+--------------------------------------+-------------------------+-----------------------------------------------+\n",
            "| ANCHOVY,EUROPEAN,CND IN OIL,DRND SOL | PARSLEY,FREEZE-DRIED    | SEAWEED,CANADIAN CULTIVATED EMI-TSUNOMATA,DRY |\n",
            "+--------------------------------------+-------------------------+-----------------------------------------------+\n",
            "| COD,ATLANTIC,DRIED&SALTED            | VITAL WHEAT GLUTEN      | JELLYFISH,DRIED,SALTED                        |\n",
            "+--------------------------------------+-------------------------+-----------------------------------------------+\n",
            "| YEAST EXTRACT SPREAD                 | SEAWEED,SPIRULINA,DRIED | WHELK,UNSPEC,CKD,MOIST HEAT                   |\n",
            "+--------------------------------------+-------------------------+-----------------------------------------------+\n",
            "| MACKEREL,SALTED                      |                         |                                               |\n",
            "+--------------------------------------+-------------------------+-----------------------------------------------+\n",
            "\n",
            "\n",
            "\n",
            "\n",
            "\n",
            "========    Cluster 5    ========\n",
            "+--------------------------------------------------------------+-------------------------------------------------------------+------------------------------------------------+\n",
            "| SALAD DRSNG,MAYO & MAYONNAISE-TYPE,LO CAL                    | CASSAVA,RAW                                                 | SPAGHETTI,PROTEIN-FORTIFIED,CKD,ENR (N X 6.25) |\n",
            "+--------------------------------------------------------------+-------------------------------------------------------------+------------------------------------------------+\n",
            "| DRESSING,HONEY MUSTARD,FAT-FREE                              | RICE,WHITE,LONG-GRAIN,PARBLD,ENR,CKD                        | POTATOES,FRENCH FR,WEDGE CUT,FRZ,UNPREP        |\n",
            "+--------------------------------------------------------------+-------------------------------------------------------------+------------------------------------------------+\n",
            "| PEAS,MATURE SEEDS,SPROUTED,RAW                               | POTATOES,FRENCH FR,STK FRIES,SALT ADDED IN PROC,FRZ,AS PRCH | SALAD DRSNG,FRENCH DRSNG,RED FAT,WO/ SALT      |\n",
            "+--------------------------------------------------------------+-------------------------------------------------------------+------------------------------------------------+\n",
            "| RICE,WHITE,STMD,CHINESE RESTAURANT                           | SALAD DRSNG,HONEY MUSTARD DRSNG,RED CAL                     | SPELT,CKD                                      |\n",
            "+--------------------------------------------------------------+-------------------------------------------------------------+------------------------------------------------+\n",
            "| POTATO PUFFS,FRZ,UNPREP                                      | POTATO PUFFS,FRZ,OVEN-HEATED                                | NOODLES,EGG,CKD,UNENR,W/ SALT                  |\n",
            "+--------------------------------------------------------------+-------------------------------------------------------------+------------------------------------------------+\n",
            "| POTATOES,FR FR,CRNKL/REG CUT,SALT ADDED IN PROC,FRZ,OVEN-HTD | SWEET POTATOES,FRENCH FR,CROSSCUT,FRZ,UNPREP                | MACARONI,PROTEIN-FORTIFIED,CKD,ENR,(N X 5.70)  |\n",
            "+--------------------------------------------------------------+-------------------------------------------------------------+------------------------------------------------+\n",
            "| SPAGHETTI,PROTEIN-FORTIFIED,CKD,ENR (N X 5.70)               | PICKLE RELISH,HAMBURGER                                     |                                                |\n",
            "+--------------------------------------------------------------+-------------------------------------------------------------+------------------------------------------------+\n",
            "\n",
            "\n",
            "\n",
            "\n",
            "\n",
            "========    Cluster 6    ========\n",
            "+--------------------------------------------------------------+---------------------------------------------+--------------------------------------------------------------+\n",
            "| BUCKWHEAT GROATS,RSTD,CKD                                    | PEPPERS,SWT,RED,SAUTEED                     | CORN,SWT,WHITE,CKD,BLD,DRND,WO/SALT                          |\n",
            "+--------------------------------------------------------------+---------------------------------------------+--------------------------------------------------------------+\n",
            "| POTATOES,MSHD,DEHYD,PREP FROM FLAKES WO/ MILK,WHL MILK & BUT | SWEET POTATO,RAW,UNPREP                     | OYSTER,EASTERN,CKD,BREADED&FRIED                             |\n",
            "+--------------------------------------------------------------+---------------------------------------------+--------------------------------------------------------------+\n",
            "| POTATOES,BLD,CKD IN SKN,SKN,W/SALT                           | WILD RICE,COOKED                            | GOURD,DISHCLOTH (TOWELGOURD),CKD,BLD,DRND,WO/SALT            |\n",
            "+--------------------------------------------------------------+---------------------------------------------+--------------------------------------------------------------+\n",
            "| SALAD DRSNG,ITALIAN DRSNG,COMM,RED FAT                       | CORN,SWT,YEL,CND,DRND SOL,RINSED W/ TAP H2O | CORN,SWT,YEL,FRZ,KRNLS ON COB,UNPREP                         |\n",
            "+--------------------------------------------------------------+---------------------------------------------+--------------------------------------------------------------+\n",
            "| POTATOES,RUSSET,FLESH & SKN,RAW                              | PIGEONPEAS,IMMAT SEEDS,CKD,BLD,DRND,WO/SALT | POTATO\\,YEL FLSH,HASH BRN,SHRD,SALT ADDED IN PROC,FRZ,UNPREP |\n",
            "+--------------------------------------------------------------+---------------------------------------------+--------------------------------------------------------------+\n",
            "| SALAD DRSNG,MAYO,IMITN,MILK CRM                              | CORN,SWT,YEL,CND,VACUUM PK,NO SALT          | SWEET POTATO,CKD,BKD IN SKN,W/ SALT                          |\n",
            "+--------------------------------------------------------------+---------------------------------------------+--------------------------------------------------------------+\n",
            "| ARROWROOT,RAW                                                | SALAD DRSNG,MAYONNAISE-LIKE,FAT-FREE        |                                                              |\n",
            "+--------------------------------------------------------------+---------------------------------------------+--------------------------------------------------------------+\n",
            "\n",
            "\n",
            "\n",
            "\n",
            "\n",
            "========    Cluster 7    ========\n",
            "+--------------------------------------------------------+-------------------------------------------------------------+-------------------------------------------------+\n",
            "| VEGETABLE OIL-BUTTER SPRD,RED CAL                      | BUTTER,LT,STK,W/SALT                                        | SALAD DRSNG,HONEY MUSTARD,REG                   |\n",
            "+--------------------------------------------------------+-------------------------------------------------------------+-------------------------------------------------+\n",
            "| VEG OIL SPRD,UNSPEC OILS,APPROX 37% FAT,W/ SALT        | MARGARINE-LIKE,VEG OIL-BUTTER SPRD,RED CAL,TUB,W/ SALT      | BUTTER,LT,STK,WO/SALT                           |\n",
            "+--------------------------------------------------------+-------------------------------------------------------------+-------------------------------------------------+\n",
            "| VEG OIL SPRD,60% FAT,STICK/TUB/BOTTLE,WO/ SALT,W/VIT D | VEG OIL SPRD,37% FAT,UNSPEC OILS,W/ SALT,W/ ADDED VITAMIN D | SALAD DRSNG,MAYO,LT,SMART BALANCE,OMEGA PLUS LT |\n",
            "+--------------------------------------------------------+-------------------------------------------------------------+-------------------------------------------------+\n",
            "| MAYONNAISE,RED FAT,W/ OLIVE OIL                        | MARGARINE-LIKE,VEG OIL SPRD,STK OR TUB,SWTND                | MARGARINE-LIKE,VEG OIL SPRD,60% FAT,TUB,W/ SALT |\n",
            "+--------------------------------------------------------+-------------------------------------------------------------+-------------------------------------------------+\n",
            "| MARGARINE-LIKE,VEG OIL SPRD,60% FAT,STK,W/ SALT        | MARGARINE-LIKE SPRD,SMART BALANCE OMEGA PLUS SPRD           | SALAD DRSNG,ITALIAN DRSNG,COMM,REG,WO/ SALT     |\n",
            "+--------------------------------------------------------+-------------------------------------------------------------+-------------------------------------------------+\n",
            "| MARGARINE-LIKE SPRD W/ YOGURT,70% FAT,STK,W/ SALT      | SALAD DRSNG,FRENCH,CTTNSD,OIL,HOME RECIPE                   | SALAD DRSNG,FRENCH DRSNG,COMM,REG               |\n",
            "+--------------------------------------------------------+-------------------------------------------------------------+-------------------------------------------------+\n",
            "| VEG OIL SPRD,60% FAT,STK,W/ SALT,W/ ADDED VITAMIN D    | MARGARINE-LIKE SPRD,SMART BALANCE REG BUTTERY SPRD          |                                                 |\n",
            "+--------------------------------------------------------+-------------------------------------------------------------+-------------------------------------------------+\n",
            "\n",
            "\n",
            "\n",
            "\n",
            "\n",
            "========    Cluster 8    ========\n",
            "+------------------------------+---------------------------------------------------+--------------------------------+\n",
            "| HERRING,PACIFIC,CKD,DRY HEAT | MUSSEL,BLUE,CKD,MOIST HEAT                        | BASS,STRIPED,CKD,DRY HEAT      |\n",
            "+------------------------------+---------------------------------------------------+--------------------------------+\n",
            "| SUNFISH,PUMPKIN SEED,RAW     | SARDINE,PACIFIC,CND IN TOMATO SAU,DRND SOL W/BONE | SALMON,ATLANTIC,WILD,RAW       |\n",
            "+------------------------------+---------------------------------------------------+--------------------------------+\n",
            "| SALMON,CHUM,RAW              | SPOT,RAW                                          | FROG LEGS,RAW                  |\n",
            "+------------------------------+---------------------------------------------------+--------------------------------+\n",
            "| COD,ATLANTIC,RAW             | SEA BASS,MXD SP,CKD,DRY HEAT                      | COD,PACIFIC,CKD,DRY HEAT       |\n",
            "+------------------------------+---------------------------------------------------+--------------------------------+\n",
            "| COD,ATLANTIC,CKD,DRY HEAT    | LING,COOKED,DRY HEAT                              | HALIBUT,GREENLAND,CKD,DRY HEAT |\n",
            "+------------------------------+---------------------------------------------------+--------------------------------+\n",
            "| CLAM,MIXED SPECIES,RAW       | YELLOWTAIL,MXD SP,CKD,DRY HEAT                    | POUT,OCEAN,RAW                 |\n",
            "+------------------------------+---------------------------------------------------+--------------------------------+\n",
            "| SALMON,SOCKEYE,RAW           | LING,RAW                                          |                                |\n",
            "+------------------------------+---------------------------------------------------+--------------------------------+\n",
            "\n",
            "\n",
            "\n",
            "\n",
            "\n"
          ],
          "name": "stdout"
        }
      ]
    },
    {
      "cell_type": "markdown",
      "metadata": {
        "id": "zECI3uysRjOp"
      },
      "source": [
        "### 2.2D)\n",
        "Now let’s try using all the features for `k=4`. How do these clusters compare to clusters from part 2.2B? When would we not want to use all the features for clustering?"
      ]
    },
    {
      "cell_type": "code",
      "metadata": {
        "id": "0o_izvKsogmM",
        "colab": {
          "base_uri": "https://localhost:8080/"
        },
        "outputId": "4ffa122c-7e6d-4c7e-b4eb-7c47eaf82eca"
      },
      "source": [
        "features = list(normalized_df.columns)\n",
        "features.remove(\"index\")\n",
        "clusters = 4\n",
        "\n",
        "kmeans(normalized_df,clusters,features,wordcloud=False,tableVerbose=False)"
      ],
      "execution_count": 10,
      "outputs": [
        {
          "output_type": "stream",
          "text": [
            "========    Cluster 1    ========\n",
            "+-------------------------------------------------------+------------------------------------------------------------+-----------------------------------------+\n",
            "| SWEET POTATO PUFFS,FRZ,UNPREP                         | BAMBOO SHOOTS,RAW                                          | BURDOCK ROOT,CKD,BLD,DRND,WO/SALT       |\n",
            "+-------------------------------------------------------+------------------------------------------------------------+-----------------------------------------+\n",
            "| LENTILS,SPROUTED,RAW                                  | TOMATO PRODUCTS,CND,SAU,W/ONIONS,GRN PEPPERS,&CELERY       | MAYONNAISE,MADE WITH TOFU               |\n",
            "+-------------------------------------------------------+------------------------------------------------------------+-----------------------------------------+\n",
            "| SEAWEED,KELP,RAW                                      | SALAD DRSNG,FRENCH DRSNG,RED FAT,WO/ SALT                  | FENNEL,BULB,RAW                         |\n",
            "+-------------------------------------------------------+------------------------------------------------------------+-----------------------------------------+\n",
            "| COWPEAS (BLACKEYES),IMMAT SEEDS,CKD,BLD,DRND,WO/ SALT | POTATOES,FRZ,FRCH FR,PAR FR,CTTGE-CUT,PREP,HTD OVEN,W/SALT | BEANS,SNAP,YEL,FRZ,CKD,BLD,DRND,WO/SALT |\n",
            "+-------------------------------------------------------+------------------------------------------------------------+-----------------------------------------+\n",
            "| TOMATO&VEG JUC,LO NA                                  | HYACINTH-BEANS,IMMAT SEEDS,CKD,BLD,DRND,WO/SALT            | BROCCOLI RAAB,CKD                       |\n",
            "+-------------------------------------------------------+------------------------------------------------------------+-----------------------------------------+\n",
            "| CABBAGE,SAVOY,CKD,BLD,DRND,W/SALT                     | POTATOES,RAW,SKIN                                          | V8 VEG JUC,HI FIBER V8                  |\n",
            "+-------------------------------------------------------+------------------------------------------------------------+-----------------------------------------+\n",
            "| DOCK,CKD,BLD,DRND,WO/SALT                             | BULGUR,COOKED                                              |                                         |\n",
            "+-------------------------------------------------------+------------------------------------------------------------+-----------------------------------------+\n",
            "\n",
            "\n",
            "\n",
            "\n",
            "\n",
            "========    Cluster 2    ========\n",
            "+------------------------------------------------------------+-------------------------------------------------------------+------------------------------------------------------+\n",
            "| OIL,INDUSTRIAL,SOY (PART HYDR ) & SOY,POURABLE FRY         | SHORTENING CONFECTIONERY,COCNT (HYDR)&OR PALM KERNEL (HYDR) | FAT,GOOSE                                            |\n",
            "+------------------------------------------------------------+-------------------------------------------------------------+------------------------------------------------------+\n",
            "| MARGARINE,80% FAT,STK,INCL REG & HYDR CORN & SOYBN OILS    | MARGARINE,INDUS,NON-DAIRY,CTTNSD,SOY OIL (PART HYDR )       | OIL,INDUSTRIAL,COCNT,CONFECTION FAT,ICE CRM COATINGS |\n",
            "+------------------------------------------------------------+-------------------------------------------------------------+------------------------------------------------------+\n",
            "| SHORTENING INDUSTRIAL,SOYBN (HYDR)&CTTNSD                  | OIL,CORN,INDUSTRIAL & RTL,ALLPURP SALAD OR COOKING          | OIL,INDUSTRIAL,SOY,FULLY HYDR                        |\n",
            "+------------------------------------------------------------+-------------------------------------------------------------+------------------------------------------------------+\n",
            "| MARGARINE-LIKE,VEG OIL-BUTTER SPRD,RED CAL,TUB,W/ SALT     | OIL,INDUSTRIAL,SOY (PARTHYDR ),PALM, ICINGS & FILLINGS      | SALAD DRSNG,MAYO,SOYBN&SAFFLOWER OIL,W/SALT          |\n",
            "+------------------------------------------------------------+-------------------------------------------------------------+------------------------------------------------------+\n",
            "| OIL,TOMATOSEED                                             | SHORTENING,INDUSTRIAL,SOY (PARTIALLY HYDR )&CORN FOR FRYING | OIL,SOYBN,SALAD OR COOKING                           |\n",
            "+------------------------------------------------------------+-------------------------------------------------------------+------------------------------------------------------+\n",
            "| OIL,SUNFLOWER,LINOLEIC (LESS THAN 60%)                     | OIL,TEASEED                                                 | OIL,FLAXSEED,CONTAINS ADDED SLICED FLAXSEED          |\n",
            "+------------------------------------------------------------+-------------------------------------------------------------+------------------------------------------------------+\n",
            "| MARGARINE-LIKE,BUTTER-MARGARINE BLEND,80% FAT,STK,WO/ SALT | OIL,INDUSTRIAL,CANOLA W/ ANTIFOAMING AGENT                  |                                                      |\n",
            "+------------------------------------------------------------+-------------------------------------------------------------+------------------------------------------------------+\n",
            "\n",
            "\n",
            "\n",
            "\n",
            "\n",
            "========    Cluster 3    ========\n",
            "+-------------------------------------+----------------------------------------+-------------------------------------------+\n",
            "| MACKEREL,ATLANTIC,CKD,DRY HEAT      | TUNA,SKIPJACK,FRSH,CKD,DRY HEAT        | YELLOWTAIL,MXD SP,RAW                     |\n",
            "+-------------------------------------+----------------------------------------+-------------------------------------------+\n",
            "| BUTTERFISH,CKD,DRY HEAT             | SQUID,MXD SP,CKD,FRIED                 | MACKEREL,PACIFIC&JACK,MXD SP,CKD,DRY HEAT |\n",
            "+-------------------------------------+----------------------------------------+-------------------------------------------+\n",
            "| MUSSEL,BLUE,RAW                     | CUSK,COOKED,DRY HEAT                   | SCUP,COOKED,DRY HEAT                      |\n",
            "+-------------------------------------+----------------------------------------+-------------------------------------------+\n",
            "| CRAYFISH,MXD SP,FARMED,RAW          | MACKEREL,ATLANTIC,RAW                  | TROUT,RAINBOW,FARMED,CKD,DRY HEAT         |\n",
            "+-------------------------------------+----------------------------------------+-------------------------------------------+\n",
            "| WHITING,MXD SP,CKD,DRY HEAT         | TUNA,WHITE,CND IN H2O,WO/SALT,DRND SOL | PIKE,NORTHERN,RAW                         |\n",
            "+-------------------------------------+----------------------------------------+-------------------------------------------+\n",
            "| BASS,FRESHWATER,MXD SP,CKD,DRY HEAT | TUNA,WHITE,CND IN OIL,WO/SALT,DRND SOL | MILKFISH,COOKED,DRY HEAT                  |\n",
            "+-------------------------------------+----------------------------------------+-------------------------------------------+\n",
            "| SNAPPER,MXD SP,CKD,DRY HEAT         | HALIBUT,ATLANTIC&PACIFIC,CKD,DRY HEAT  |                                           |\n",
            "+-------------------------------------+----------------------------------------+-------------------------------------------+\n",
            "\n",
            "\n",
            "\n",
            "\n",
            "\n",
            "========    Cluster 4    ========\n",
            "+---------------------------------------------------+-----------------------------------------------+-------------------------------------------------+\n",
            "| CORN FLR,WHOLE-GRAIN,YEL                          | RICE,WHITE,LONG-GRAIN,REG,RAW,UNENR           | ONION RINGS,BREADED,PAR FR,FRZ,PREP,HTD IN OVEN |\n",
            "+---------------------------------------------------+-----------------------------------------------+-------------------------------------------------+\n",
            "| WHEAT,SPROUTED                                    | CORN,YELLOW                                   | PEPPERS,ANCHO,DRIED                             |\n",
            "+---------------------------------------------------+-----------------------------------------------+-------------------------------------------------+\n",
            "| WHEAT FLR,WHITE,ALL-PURPOSE,ENR,CALCIUM-FORTIFIED | BARLEY FLOUR OR MEAL                          | WHEAT,KAMUT KHORASAN,UNCKD                      |\n",
            "+---------------------------------------------------+-----------------------------------------------+-------------------------------------------------+\n",
            "| MILLET,RAW                                        | MACARONI,PROTEIN-FORTIFIED,DRY,ENR,(N X 6.25) | POTATOES,SCALLPD,DRY MIX,UNPREP                 |\n",
            "+---------------------------------------------------+-----------------------------------------------+-------------------------------------------------+\n",
            "| POTATOES,MSHD,DEHYD,FLAKES WO/MILK,DRY FORM       | MACARONI,PROTEIN-FORTIFIED,DRY,ENR,(N X 5.70) | RICE,WHITE,LONG-GRAIN,PARBLD,UNENR,DRY          |\n",
            "+---------------------------------------------------+-----------------------------------------------+-------------------------------------------------+\n",
            "| WHEAT FLR,WHITE,ALL-PURPOSE,UNENR                 | SPAGHETTI,WHOLE-WHEAT,DRY                     | FISH,FISH STKS,FRZ,PREP                         |\n",
            "+---------------------------------------------------+-----------------------------------------------+-------------------------------------------------+\n",
            "| MACARONI,DRY,UNENRICHED                           | WHEAT FLR,WHITE,BREAD,ENR                     |                                                 |\n",
            "+---------------------------------------------------+-----------------------------------------------+-------------------------------------------------+\n",
            "\n",
            "\n",
            "\n",
            "\n",
            "\n"
          ],
          "name": "stdout"
        }
      ]
    },
    {
      "cell_type": "markdown",
      "metadata": {
        "id": "3zIVnfWW8VvR"
      },
      "source": [
        "Now that we've gone through an example, feel free to experiment with different feature sets and different k's if you have time. The list of all the feature names can be found in the table above."
      ]
    }
  ]
}