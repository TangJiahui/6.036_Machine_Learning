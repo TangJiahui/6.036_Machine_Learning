{
  "nbformat": 4,
  "nbformat_minor": 0,
  "metadata": {
    "colab": {
      "name": "MIT 6.036 Lab 11 - RNN.ipynb",
      "provenance": [],
      "collapsed_sections": [],
      "include_colab_link": true
    },
    "kernelspec": {
      "name": "python3",
      "display_name": "Python 3"
    }
  },
  "cells": [
    {
      "cell_type": "markdown",
      "metadata": {
        "id": "view-in-github",
        "colab_type": "text"
      },
      "source": [
        "<a href=\"https://colab.research.google.com/github/TangJiahui/6.036_Machine_Learning/blob/main/MIT_6_036_Lab_11_RNN.ipynb\" target=\"_parent\"><img src=\"https://colab.research.google.com/assets/colab-badge.svg\" alt=\"Open In Colab\"/></a>"
      ]
    },
    {
      "cell_type": "markdown",
      "metadata": {
        "id": "2XozwtJgh1-u"
      },
      "source": [
        "# **MIT 6.036 Spring 2020: Lab 11**\n",
        "\n",
        "This colab notebook provides code and a framework for sections 2 and 3 of the lab.\n",
        "\n",
        "## **Setup**\n",
        "\n",
        "First, download the code distribution for this homework that contains test cases and helper functions.\n",
        "\n",
        "Run the next code block to download and import the code for this lab."
      ]
    },
    {
      "cell_type": "code",
      "metadata": {
        "id": "rCJPrb3KhPmw"
      },
      "source": [
        "!rm -rf code_for_lab11*\n",
        "!rm -rf models\n",
        "!rm -rf *.zip*\n",
        "!rm -rf __*\n",
        "!wget --quiet --no-check-certificate https://introml.odl.mit.edu/cat-soop/_static/6.036/labs/lab11/code_for_lab_11.zip\n",
        "!unzip code_for_lab_11.zip\n",
        "!mv ./code_for_lab11/* ./"
      ],
      "execution_count": null,
      "outputs": []
    },
    {
      "cell_type": "code",
      "metadata": {
        "id": "z5FLPgjtrnU2"
      },
      "source": [
        "from sm import *\n",
        "from util import *\n",
        "from code_for_lab11 import *\n",
        "import numpy as np\n",
        "import _pickle as cPickle\n",
        "m = cPickle.load(open('models/food_rnn.p', 'rb'))"
      ],
      "execution_count": null,
      "outputs": []
    },
    {
      "cell_type": "markdown",
      "metadata": {
        "id": "HZ629z-1xz4d"
      },
      "source": [
        "## **Section 2**"
      ]
    },
    {
      "cell_type": "markdown",
      "metadata": {
        "id": "D4RKu7cNesji"
      },
      "source": [
        "### Generating sequences\n",
        "\n",
        "We are interested in building an RNN model that can predict the next\n",
        "element in a sequence (this is sometimes referred to as a \"language\"\n",
        "model).    The particular form of the model that we will look at is:\n",
        "\n",
        "<displaymath>\n",
        "\\begin{align}\n",
        "x_t &= \\phi(c_{t-1})\\\\\n",
        "s_t &= \\tanh(W^{ss} s_{t-1} + W^{sx} x_t + W^{ss}_0)\\\\\n",
        "p_t &= \\text{softmax}(W^o s_t + W^o_0)\n",
        "\\end{align}\n",
        "</displaymath>\n",
        "\n",
        "**Please refer to the lab's prompt for more definitions and details about this section.**\n",
        "\n",
        "As we just said, you can find more details in the lab's prompt, but here some extra details:\n",
        "\n",
        "Training is as follows:\n",
        "<ul>\n",
        "<li> For each sequence in the input data, it feeds in character <math>t-1</math> from\n",
        "  the training data and predicts character $t$.  </li>\n",
        "</ul>\n",
        "\n",
        "Generation is as follows:\n",
        "<ul>\n",
        "<li> If interactive is False: We start with the `start` symbol ('.'), </li>\n",
        "<li>If interactive is True: We start with the symbol you enter in (which must be present in the training word or be the start symbol), it predicts </li>\n",
        "\n",
        "The model then predicts a next\n",
        "  character based on the softmax distribution in the trained model,\n",
        "  then it feeds that character into the model and repeats until an\n",
        "  <i>end</i> symbol ('\\n') is generated.\n",
        "</ul>\n",
        "\n",
        "\n"
      ]
    },
    {
      "cell_type": "markdown",
      "metadata": {
        "id": "FtbW_gHiyyAq"
      },
      "source": [
        "For each of \n",
        "\n",
        "*   \"aaaaaaaaaa\"\n",
        "*   \"aabaaabbaaaababaabaa\"\n",
        "*   \"abcdefghijklmnopqrstuvwxyz\"\n",
        "*   \"abcabcabcabcabc\"\n",
        "\n",
        "train an RNN and assess the difficulty of learning each string. You may control *num_hidden* and *num_steps* to facilitate your training in the code below.\n",
        "\n",
        "**Note**: The output of `test_word` is 100 sequences produced by running the generation process on a trained model.\n"
      ]
    },
    {
      "cell_type": "code",
      "metadata": {
        "id": "euRE-Zglzket"
      },
      "source": [
        "test_word(word=\"aaaaaaaaaa\", interactive=False, num_hidden=5, num_steps=1000, step_size=0.005)"
      ],
      "execution_count": null,
      "outputs": []
    },
    {
      "cell_type": "code",
      "metadata": {
        "id": "--_tiGbyzoCW"
      },
      "source": [
        "test_word(word=\"aabaaabbaaaababaabaa\", interactive = False, num_hidden=9, num_steps=15000, step_size=0.005)"
      ],
      "execution_count": null,
      "outputs": []
    },
    {
      "cell_type": "code",
      "metadata": {
        "id": "aGAyQxO7zqSG"
      },
      "source": [
        "test_word(word=\"abcdefghijklmnopqrstuvwxyz\", num_hidden=5, num_steps=10000, step_size=0.005)"
      ],
      "execution_count": null,
      "outputs": []
    },
    {
      "cell_type": "code",
      "metadata": {
        "id": "9BI7pgDbzsim"
      },
      "source": [
        "test_word(word=\"abcabcabcabcabc\", interactive = False, num_hidden=5, num_steps=10000, step_size=0.005)"
      ],
      "execution_count": null,
      "outputs": []
    },
    {
      "cell_type": "markdown",
      "metadata": {
        "id": "zuA9fE44zdUb"
      },
      "source": [
        "## Problem 2D\n",
        "\n",
        "The *test_company_names* function uses a file <a href=\"https://docs.google.com/spreadsheets/d/16wbhwRwu5AP4gydX9buHZj884v48HURaalYtKmdT8r0/edit?usp=sharing\">companies.txt</a> of company names for training and generates new names.\n",
        "\n",
        "Try it in interactive mode; it's more fun. If you have time, experiment with different values of `num_steps`; more steps gives better results. But **be careful not to use too many steps** (no more than the preloaded 20000 steps).\n",
        "\n",
        "**In running `test_company_names`, you can try with `train=True` where you can train the RNN yourself with this option, but note that this will take a few minutes to run, and you may run out of memory. If this occurs, please restart the kernel under \"Runtime\"/\"Restart runtime\". The default is to run  `test_company_names` with `train=False`; which simply loads a pre-trained model.**\n",
        "\n",
        "Please note that when we train our models, we need to decide what will be our vocabulary size (i.e. how many classes/characters/words our model will learn to predict). Hence, it is possible that when you input a character/word that is out of that vocabulary (depending on how the model is trained -- character-based or word-based), the model crashes (in more sophisticated solutions we could use a `<unknown>` token to represent **tokens out of vocabulary.**)\n",
        "\n",
        "These models are trained by minimizing NLL.\n",
        "\n"
      ]
    },
    {
      "cell_type": "code",
      "metadata": {
        "id": "oj8wsxKr18Mj"
      },
      "source": [
        "train = False\n",
        "\n",
        "test_company_names(interactive=False, interactive_top5=False, num_hidden=150, \n",
        "                   num_steps=20000, step_size=0.001, train=train)\n",
        "\n",
        "#Trained with num_hidden=150, num_steps=20000,\n",
        "#             step_size=.001, split=0"
      ],
      "execution_count": null,
      "outputs": []
    },
    {
      "cell_type": "markdown",
      "metadata": {
        "id": "rxC8sgJV0WOP"
      },
      "source": [
        "## Problem 2E\n",
        "\n",
        "The *test_food* function uses a file <a href=\"https://docs.google.com/spreadsheets/d/12eomCfekSdqTlOB4Xwp3n7_FN0SVdVrTDLVUBq-1jyw/edit?usp=sharing\">food.txt</a> of recipe names. Try it in interactive mode; it's more fun. Experiment with different values of num_steps if you have time; more steps gives better results. Note the difference between starting with a capital letter versus lower case letter.\n",
        "\n"
      ]
    },
    {
      "cell_type": "code",
      "metadata": {
        "id": "T-G-bm0p1_FT"
      },
      "source": [
        "train = False\n",
        "\n",
        "test_food(interactive = False, interactive_top5 = False, num_hidden=150, \n",
        "          num_steps=20000, step_size=0.001, train=train)\n",
        "\n",
        "#Trained with num_hidden = 150, num_steps = 20000,\n",
        "#             step_size = .001, split=0"
      ],
      "execution_count": null,
      "outputs": []
    },
    {
      "cell_type": "markdown",
      "metadata": {
        "id": "BFYBVV4Svfsh"
      },
      "source": [
        "## Problem 2F\n",
        "\n",
        "Now run one of <code>test_food, test_company_names</code> with <code>interactive_top5=True</code>; play with them for a while. Can you notice the mechanism of how these functions generate their output? \n",
        "\n",
        "Use the cell below to run one of <code> test_food, test_company_names</code> with <code>interactive_top5=True</code>!\n",
        "\n",
        "- What is the mechanism by which these RNNs generate their output? More specifically, what character does the trained RNN seem to output at each location?\n",
        "- Also, what would be a reasonable criterion for the above-trained RNNs to stop generating more characters? When does it seem to stop? Be prepared to explain this during checkoff."
      ]
    },
    {
      "cell_type": "code",
      "metadata": {
        "id": "Ug4mvoGaVeKR"
      },
      "source": [
        "train = False\n",
        "\n",
        "#test_food(interactive = True, interactive_top5 = True, num_hidden=150, \n",
        "#          num_steps=20000, step_size=0.001, train=train)\n",
        "\n",
        "# Pre trained with split=0, num_hidden = 150,\n",
        "#                   num_steps = 20000, step_size = .001, "
      ],
      "execution_count": null,
      "outputs": []
    },
    {
      "cell_type": "code",
      "metadata": {
        "id": "c3R3Hmu0xvht"
      },
      "source": [
        "train = False\n",
        "\n",
        "#test_company_names(interactive = True, interactive_top5 = True, num_hidden=150, \n",
        "#                  num_steps=20000, step_size=0.001,train=train)\n",
        "\n",
        "# Pre trained with split=0, num_hidden = 150,\n",
        "#                   num_steps = 20000, step_size = .001, "
      ],
      "execution_count": null,
      "outputs": []
    }
  ]
}