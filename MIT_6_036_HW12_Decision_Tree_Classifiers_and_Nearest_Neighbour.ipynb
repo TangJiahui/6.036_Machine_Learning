{
  "nbformat": 4,
  "nbformat_minor": 0,
  "metadata": {
    "colab": {
      "name": "MIT_6_036_HW12_Decision_Tree_Classifiers_and_Nearest_Neighbour",
      "provenance": [],
      "collapsed_sections": [],
      "include_colab_link": true
    },
    "kernelspec": {
      "name": "python3",
      "display_name": "Python 3"
    }
  },
  "cells": [
    {
      "cell_type": "markdown",
      "metadata": {
        "id": "view-in-github",
        "colab_type": "text"
      },
      "source": [
        "<a href=\"https://colab.research.google.com/github/TangJiahui/6.036_Machine_Learning/blob/main/MIT_6_036_HW12_Decision_Tree_Classifiers_and_Nearest_Neighbour.ipynb\" target=\"_parent\"><img src=\"https://colab.research.google.com/assets/colab-badge.svg\" alt=\"Open In Colab\"/></a>"
      ]
    },
    {
      "cell_type": "markdown",
      "metadata": {
        "id": "fbQZlAqGY60Y"
      },
      "source": [
        "#Homework 12\n"
      ]
    },
    {
      "cell_type": "code",
      "metadata": {
        "id": "q5TajqU2VtDp"
      },
      "source": [
        "!rm -rf code_for_hw12* __MACOSX data .DS_Store\n",
        "!wget --quiet https://introml.odl.mit.edu/cat-soop/_static/6.036/homework/hw12/code_for_hw12.zip --no-check-certificate\n",
        "!unzip -q code_for_hw12.zip\n",
        "!mv code_for_hw12/* .\n",
        "from sklearn.tree import DecisionTreeClassifier, plot_tree, export_text\n",
        "from sklearn.model_selection import GridSearchCV, train_test_split\n",
        "from sklearn.ensemble import RandomForestClassifier\n",
        "from sklearn.preprocessing import scale\n",
        "from sklearn.linear_model import LogisticRegression, ElasticNet, LinearRegression\n",
        "import numpy as np\n",
        "import math\n",
        "import pandas as pd\n",
        "import matplotlib.pyplot as plt\n",
        "import seaborn as sns\n",
        "from matplotlib.colors import ListedColormap\n",
        "from sklearn import neighbors, datasets"
      ],
      "execution_count": 35,
      "outputs": []
    },
    {
      "cell_type": "markdown",
      "metadata": {
        "id": "i8HU1fizgs1Q"
      },
      "source": [
        "# 1) Decision Trees"
      ]
    },
    {
      "cell_type": "markdown",
      "metadata": {
        "id": "npnX7g4qguJ7"
      },
      "source": [
        "## Implementing Modules of Binary Decision Tree Classfiers\n"
      ]
    },
    {
      "cell_type": "markdown",
      "metadata": {
        "id": "gECNq7g-IKBv"
      },
      "source": [
        "**1.1** We first take a look at some implementing some modules of decision trees for 2D data. We will implement how a decision tree assigns labels to a split by first determining where to split it based off weighted average entropy as a metric. We will be implementing some modules for a binary decision tree classifier. For these impelmentations, we'll be looking at binary classification.\n",
        "\n"
      ]
    },
    {
      "cell_type": "markdown",
      "metadata": {
        "id": "XpBJD-CnhqZ9"
      },
      "source": [
        "###Calculating Entropy of a Dataset\n",
        "Since we are using entropy as a metric, we want to implement a function that calculates the entropy of a dataset. Recall the formula of entropy from the [notes](https://introml.odl.mit.edu/cat-soop/_static/6.036/LectureNotes/chapter_Non-parametric_methods.pdf): if $\\hat{P}_{mk}$ denotes the empirical probability of seeing class $k$ in region $m$, the entropy over the region is\n",
        "\n",
        "$$-\\sum_k\\hat{P}_{mk} \\log_2 \\hat{P}_{mk}$$\n",
        "\n",
        "In ```calculate_entropy(data, labels)```, ```data``` is a size $n$ list of 2D data points and ```labels``` is a size $1\\times n$ vector of the corresponding labels, which is either 1 or -1. Implement a function that calculates the entropy over all of the datapoints in ```data.```\n",
        "\n"
      ]
    },
    {
      "cell_type": "code",
      "metadata": {
        "id": "tdW5zdLLcGML"
      },
      "source": [
        "def calculate_entropy(data, labels):\n",
        "    \"\"\"\n",
        "      Parameters:\n",
        "          data is a size n list of data points (x1, x2)\n",
        "          entropy is a 1 by n array of the labels corresponding to the datapoints in data\n",
        "      Returns:\n",
        "          A float denoting the entropy in the dataset.\n",
        "    \"\"\"\n",
        "    if len(data) == 0:\n",
        "        return 0\n",
        "    p_1, p_0 = 0,0\n",
        "    for i in range(len(data)):\n",
        "        if labels[0][i] == 1:\n",
        "            p_1 += 1\n",
        "        else:\n",
        "            p_0 += 1\n",
        "    p_1 = p_1/len(data)\n",
        "    p_0 = 1-p_1\n",
        "    if p_1 == 0 or p_0 == 0:\n",
        "        return 0\n",
        "    else:\n",
        "        return  -(p_0*math.log2(p_0) + p_1*math.log2(p_1))"
      ],
      "execution_count": null,
      "outputs": []
    },
    {
      "cell_type": "code",
      "metadata": {
        "id": "rPboH5VHj72H",
        "colab": {
          "base_uri": "https://localhost:8080/"
        },
        "outputId": "27ec2329-f852-4d16-e4f9-42f853b44f7f"
      },
      "source": [
        "## test cases for calculate entropy\n",
        "def test_calculate_entropy():\n",
        "    num_passed = 0\n",
        "    data1 = [(1, 1), (2, 4), (3, 5)]\n",
        "    labels1 = np.array([[1, 1, 1]])\n",
        "    expected1 = 0\n",
        "    actual1 = calculate_entropy(data1, labels1)\n",
        "    if expected1 == actual1:\n",
        "      num_passed += 1\n",
        "    else:\n",
        "      print(\"failed test case 1\")\n",
        "\n",
        "    data2 = [(0, 1), (3, 2), (5, 9), (3, 4)]\n",
        "    labels2 = np.array([[1, 1, -1, -1]])\n",
        "    expected2 = 1\n",
        "    actual2 = calculate_entropy(data2, labels2)\n",
        "    if expected2 == actual2:\n",
        "      num_passed += 1\n",
        "    else:\n",
        "      print(\"failed test case 2\")\n",
        "\n",
        "    data3 = [(5, 6), (2, 1), (2, 2), (6, 99), (2, 3)]\n",
        "    labels3 = np.array([[-1, 1, -1, -1, 1]])\n",
        "    expected3 = 0.9709505945\n",
        "    actual3 = calculate_entropy(data3, labels3)\n",
        "    if (abs(actual3-expected3))<1e-5:\n",
        "      num_passed += 1\n",
        "    else:\n",
        "      print(\"failed test case 3\")\n",
        "\n",
        "    data4 = [(1, 1), (2, 2), (3, 3), (4, 4), (5, 5), (6, 6)]\n",
        "    labels4 = np.array([[1, 1, 1, 1, -1, 1]])\n",
        "    expected4 = 0.6500224216\n",
        "    actual4 = calculate_entropy(data4, labels4)\n",
        "    if (abs(actual4-expected4))<1e-5:\n",
        "      num_passed += 1\n",
        "    else:\n",
        "      print(\"failed test case 4\")\n",
        "\n",
        "    print(\"%s/4 tests passed for calculate_entropy\" %num_passed)\n",
        "test_calculate_entropy()"
      ],
      "execution_count": null,
      "outputs": [
        {
          "output_type": "stream",
          "text": [
            "4/4 tests passed for calculate_entropy\n"
          ],
          "name": "stdout"
        }
      ]
    },
    {
      "cell_type": "markdown",
      "metadata": {
        "id": "HwLtaMpaou5C"
      },
      "source": [
        "###Finding the best split of a dataset\n",
        "Now, we would like to find what the best split of the dataset we should take. Remember when using entropy as a critereon, we want to find the split that minimizes the weighted average of the entropy of the two datasets of the split. Since we're in two dimensions, we can either split in the $x_1$ direction or the $x_2$ direction, so ```find_best_split(data, labels)``` should return a tuple where the first element is the axis of the split, either \"x1\" or \"x2\" and the second element should be the value of the place to split. Assume that we will split exactly halfway between two datapoints in the dataset ```data```.\n",
        "\n",
        "Note that there is a $O(dn\\log(n))$ solution, where $d$ is the number of features in the dataset and $n$ is the number of datapoints, but we will accept a solution of any runtime. Having an efficient runtime is what makes decision trees so easy to train.\n",
        "\n",
        "Look at the catsoop problem for pseudocode."
      ]
    },
    {
      "cell_type": "code",
      "metadata": {
        "id": "NYQqIqQJrFRz"
      },
      "source": [
        "def find_best_split(data, labels):\n",
        "    \"\"\"\n",
        "      Parameters:\n",
        "          data is a size n list of data points (x1, x2)\n",
        "          labels is a 1 by n array of the labels corresponding to the datapoints in data\n",
        "      Returns:\n",
        "          A tuple where the first element denotes the axis of the split, either \"x1\" or \"x2\" and the second element denotes the value of the place to split along the axis\n",
        "    \"\"\"\n",
        "    min_entropy = None\n",
        "    best_split = None\n",
        "    split_axis = None\n",
        "    # loop over potential feature axes\n",
        "    for i in range(len(data[0])):\n",
        "        coords = [data[j][i] for j in range(len(data))]\n",
        "        coords_sorted = sorted(set(coords))\n",
        "        for pos in range(len(coords_sorted)-1):\n",
        "            split = (coords_sorted[pos] + coords_sorted[pos+1])/2\n",
        "            left_child, left_label, right_child, right_label = [], [], [], []\n",
        "            for j in range(len(data)):\n",
        "                d = data[j]\n",
        "                if d[i] < split:\n",
        "                    left_child.append(d)\n",
        "                    left_label.append(labels[0][j])\n",
        "                else:\n",
        "                    right_child.append(d)\n",
        "                    right_label.append(labels[0][j])\n",
        "            def _entropy(child, label):\n",
        "                return len(child)/len(data)*calculate_entropy(child, np.array([label])) if len(child) > 0 else 0\n",
        "            weighted_entropy = _entropy(left_child, left_label) + _entropy(right_child, right_label)\n",
        "            # print(split, i, weighted_entropy)\n",
        "            if (min_entropy is None) or (weighted_entropy < min_entropy):\n",
        "                min_entropy = weighted_entropy\n",
        "                best_split = split\n",
        "                split_axis = \"x\"+str(i+1)\n",
        "    return (split_axis, best_split)"
      ],
      "execution_count": null,
      "outputs": []
    },
    {
      "cell_type": "code",
      "metadata": {
        "colab": {
          "base_uri": "https://localhost:8080/"
        },
        "id": "DVnDPdbsJuEI",
        "outputId": "c1ee7b90-4772-4b29-ae81-7c4e267c62e6"
      },
      "source": [
        "def _whatever():\n",
        "    data = [(0, 1), (1, 1)]\n",
        "    labels = np.array([[-1, 1]])\n",
        "    print(find_best_split(data, labels))\n",
        "\n",
        "_whatever()"
      ],
      "execution_count": null,
      "outputs": [
        {
          "output_type": "stream",
          "text": [
            "0.5 0 0.0\n",
            "('x1', 0.5)\n"
          ],
          "name": "stdout"
        }
      ]
    },
    {
      "cell_type": "code",
      "metadata": {
        "id": "zi_dleUhubTr",
        "colab": {
          "base_uri": "https://localhost:8080/"
        },
        "outputId": "4a834d78-21d0-43b1-cfc2-753b1af24bf9"
      },
      "source": [
        "# test cases for find_best_split\n",
        "def test_find_best_split():\n",
        "    num_passed = 0\n",
        "    data1 = [(0, 1), (3, 2), (5, 9), (3, 4)]\n",
        "    labels1 = np.array([[1, 1, -1, -1]])\n",
        "    expected1 = (\"x2\", 3)\n",
        "    actual1 = find_best_split(data1, labels1)\n",
        "    print(actual1)\n",
        "    if(actual1 == expected1):\n",
        "      num_passed+=1\n",
        "    else:\n",
        "      print(\"failed test case 1\")\n",
        "\n",
        "    data2 = [(5, 6), (2, 1), (2, 2), (6, 99), (2, 6)]\n",
        "    labels2 = np.array([[-1, 1, -1, -1, 1]])\n",
        "    expected2 = (\"x1\", 3.5) \n",
        "    actual2 = find_best_split(data2, labels2)\n",
        "    print(actual2)\n",
        "    if actual2 == expected2:\n",
        "      num_passed += 1\n",
        "    else:\n",
        "      print(\"failed test case 2\")\n",
        "\n",
        "    data3 = [(-100, 0), (0, -5), (2, 3), (5, 10), (100, 2)]\n",
        "    labels3 = np.array([[-1, 1, 1, 1, 1]])\n",
        "    expected3 = (\"x1\", -50)\n",
        "    actual3 = find_best_split(data3, labels3)\n",
        "    print(actual3)\n",
        "    if expected3 == actual3:\n",
        "      num_passed += 1\n",
        "    else:\n",
        "      print(\"failed test case 3\")\n",
        "\n",
        "    data4 = [(-3, 1), (-2, 1), (-2, -1), (2, 1), (3, 1), (3, -1)]\n",
        "    labels4 = np.array([[1, 1, 1, 1, -1, 1]])\n",
        "    expected4 = (\"x1\", 2.5) \n",
        "    actual4 = find_best_split(data4, labels4)\n",
        "    print(actual4)\n",
        "    if expected4 == actual4:\n",
        "      num_passed += 1\n",
        "    else:\n",
        "      print(\"failed test case 4\")\n",
        "\n",
        "    print(\"%s/4 test cases passed\"%num_passed)\n",
        "test_find_best_split()\n"
      ],
      "execution_count": null,
      "outputs": [
        {
          "output_type": "stream",
          "text": [
            "('x2', 3.0)\n",
            "('x1', 3.5)\n",
            "('x1', -50.0)\n",
            "('x1', 2.5)\n",
            "4/4 test cases passed\n"
          ],
          "name": "stdout"
        }
      ]
    },
    {
      "cell_type": "markdown",
      "metadata": {
        "id": "H39dXcY08dRp"
      },
      "source": [
        "###Determining what label to assign a split\n",
        "Now that we have a function to find the best splits of the dataset, we want ot be able to make a decision rule based off of that split. Given a set of datapoints that are set to be in the same partition, return the predicted label of that partition in ```return_label(data, labels).``` "
      ]
    },
    {
      "cell_type": "code",
      "metadata": {
        "id": "094KbWhI8c5J"
      },
      "source": [
        "def return_label(data, labels):\n",
        "    \"\"\"\n",
        "      Parameters:\n",
        "          data is a size n list of data points (x1, x2)\n",
        "          labels is a 1 by n array of the labels corresponding to the datapoints in data\n",
        "      Returns:\n",
        "          a label, either 1 or -1, denoting what label to assign for the partition over data, labels\n",
        "    \"\"\"\n",
        "    if np.sum(labels)>0:\n",
        "        return 1\n",
        "    else:\n",
        "        return -1"
      ],
      "execution_count": null,
      "outputs": []
    },
    {
      "cell_type": "code",
      "metadata": {
        "id": "5QddmHzF-VU9",
        "colab": {
          "base_uri": "https://localhost:8080/"
        },
        "outputId": "9ea0e1d8-8067-479e-c4ad-55907d4dc089"
      },
      "source": [
        "#test cases for return_label\n",
        "def test_return_label():\n",
        "    num_passed = 0\n",
        "    data1 = [(0, 1), (3, 2), (5, 9), (3, 4), (2, 4)]\n",
        "    labels1 = np.array([[1, 1, -1, -1, 1]])\n",
        "    expected1 = 1\n",
        "    actual1 = return_label(data1, labels1)\n",
        "    if(actual1 == expected1):\n",
        "      num_passed+=1\n",
        "    else:\n",
        "      print(\"failed test case 1\")\n",
        "\n",
        "    data2 = [(5, 6), (2, 1), (2, 2), (6, 99), (2, 3)]\n",
        "    labels2 = np.array([[-1, 1, -1, -1, 1]])\n",
        "    expected2 = -1\n",
        "    actual2 = return_label(data2, labels2)\n",
        "    if actual2 == expected2:\n",
        "      num_passed += 1\n",
        "    else:\n",
        "      print(\"failed test case 2\")\n",
        "\n",
        "    data3 = [(-100, 0), (0, 5), (2, 3), (5, 10), (100, 2)]\n",
        "    labels3 = np.array([[-1, 1, 1, 1, 1]])\n",
        "    expected3 = 1\n",
        "    actual3 = return_label(data3, labels3)\n",
        "    if expected3 == actual3:\n",
        "      num_passed += 1\n",
        "    else:\n",
        "      print(\"failed test case 3\")\n",
        "\n",
        "    data4 = [(-3, 1), (-2, 1), (-2, -1), (2, 1), (3, 1), (3, -1)]\n",
        "    labels4 = np.array([[1, 1, 1, 1, -1, 1]])\n",
        "    expected4 = 1\n",
        "    actual4 = return_label(data4, labels4)\n",
        "    if expected4 == actual4:\n",
        "      num_passed += 1\n",
        "    else:\n",
        "      print(\"failed test case 4\")\n",
        "    print(\"%s/4 test cases passed\"%num_passed)\n",
        "test_return_label()"
      ],
      "execution_count": null,
      "outputs": [
        {
          "output_type": "stream",
          "text": [
            "4/4 test cases passed\n"
          ],
          "name": "stdout"
        }
      ]
    },
    {
      "cell_type": "markdown",
      "metadata": {
        "id": "cAq4YGg_LjC6"
      },
      "source": [
        "###Putting it all together\n",
        "Now that we have all the modules implemented, we would like to put it all together to create a two-layer decision tree. In `predict_datapoint(data, labels, datapoint)` you should construct a two layer decision tree based on `data` and `labels` and use that tree to assign a label to `datapoint`. You can assume that there will be at least one datapoint in each partition found by the decision tree. Note that there is a `depth` parameter in case that you want to implement a recursive function, but the test cases will all have `depth = 2` in case you do not want to implement the function recursively. Here a depth of 2 means a total tree height of 3, including the leaf nodes."
      ]
    },
    {
      "cell_type": "code",
      "metadata": {
        "id": "2or5BIymLibp"
      },
      "source": [
        "def predict_datapoint(data, labels, datapoint, depth = 2):\n",
        "    \"\"\"\n",
        "      Parameters: \n",
        "          data is a size n list of datapoints (x1, x2)\n",
        "          labels is a 1 by n array of labels corresponding to the datapoints in data\n",
        "          datapoint is a tuple (x1, x2)\n",
        "      Returns:\n",
        "          A label, either -1 or 1, denoting what label to assign datapoint using a two-layer decision tree trained on data, labels\n",
        "    \"\"\"\n",
        "    # split data and label at current level\n",
        "    axis, split = find_best_split(data, labels)\n",
        "    left_data, left_label = [], []\n",
        "    right_data, right_label = [], []\n",
        "    for i in range(len(data)):\n",
        "        if data[i][int(axis[-1]) - 1]< split:\n",
        "            left_data.append(data[i])\n",
        "            left_label.append(labels[0][i])\n",
        "        else:\n",
        "            right_data.append(data[i])\n",
        "            right_label.append(labels[0][i])\n",
        "\n",
        "    # recursion\n",
        "    if depth <= 1: \n",
        "        if datapoint[int(axis[-1]) - 1]< split:\n",
        "            return return_label(left_data, np.array([left_label]))\n",
        "        else:\n",
        "            return return_label(right_data, np.array([right_label]))\n",
        "    else:\n",
        "        print(left_data, left_label)\n",
        "        print(right_data, right_label)\n",
        "        if datapoint[int(axis[-1]) - 1]< split:\n",
        "            return predict_datapoint(left_data, np.array([left_label]), datapoint, depth-1)\n",
        "        else:\n",
        "            return predict_datapoint(right_data, np.array([right_label]), datapoint, depth-1)"
      ],
      "execution_count": null,
      "outputs": []
    },
    {
      "cell_type": "code",
      "metadata": {
        "id": "hOZ0_64hgzKA",
        "colab": {
          "base_uri": "https://localhost:8080/"
        },
        "outputId": "ac11981e-99bc-41de-ac54-f9eb454e0692"
      },
      "source": [
        "#two level decision tree\n",
        "def test_predict_datapoint():\n",
        "    num_passed = 0 \n",
        "    #xor\n",
        "    data = [(0, 0), (1, 0), (0, 1), (1, 1)]\n",
        "    labels = np.array([[1, -1, -1, 1]])\n",
        "    datapoint = (2, 2)\n",
        "    expected = 1\n",
        "    actual = predict_datapoint(data, labels, datapoint, 2)\n",
        "    if expected == actual:\n",
        "      num_passed += 1\n",
        "    else:\n",
        "      print(\"failed test case 1\")\n",
        "\n",
        "    data = [(1, 2), (3, 2), (2, 3.5), (1, 5), (2, 6), (6, 3)]\n",
        "    labels = np.array([[1, -1, -1, 1, -1, 1]])\n",
        "    datapoint = (3, 0)\n",
        "    expected = -1\n",
        "    actual = predict_datapoint(data, labels, datapoint, 2)\n",
        "    if expected == actual:\n",
        "      num_passed += 1\n",
        "    else:\n",
        "      print(\"failed test case 2\")\n",
        "    \n",
        "    datapoint = (1, -1000)\n",
        "    expected = 1\n",
        "    actual = predict_datapoint(data, labels, datapoint, 2)\n",
        "    if expected == actual:\n",
        "      num_passed += 1\n",
        "    else:\n",
        "      print(\"failed test case 3\")\n",
        "    \n",
        "    data = [(0.57357417, 0.90217185), (0.76566003, 0.76527182), (0.59400348, 0.83215993),(0.86183616 ,0.58866857),(0.14435413, 0.16789092),\\\n",
        "            (0.66148572, 0.88929846), (0.72530673, 0.73518614), (0.89829273, 0.3936054 ), (0.52575489 ,0.95595477), (0.56629658 ,0.79039303)]\n",
        "    labels = np.array([[1, -1, 1, 1, 1, -1, -1, 1, 1, -1]])\n",
        "    datapoint = (100, 0.5)\n",
        "    expected = 1\n",
        "    actual = predict_datapoint(data, labels, datapoint, 2)\n",
        "    if expected == actual:\n",
        "      num_passed += 1\n",
        "    else:\n",
        "      print(\"failed test case 4\")\n",
        "    datapoint = (1.2934, 0.75)\n",
        "    expected = -1\n",
        "    actual = predict_datapoint(data, labels, datapoint, 2)\n",
        "    if actual == expected:\n",
        "      num_passed += 1\n",
        "    else:\n",
        "      print(\"failed test case 5\")\n",
        "    print(\"%s/5 test cases passed\"%num_passed)\n",
        "\n",
        "test_predict_datapoint()"
      ],
      "execution_count": null,
      "outputs": [
        {
          "output_type": "stream",
          "text": [
            "[(0, 0), (0, 1)] [1, -1]\n",
            "[(1, 0), (1, 1)] [-1, 1]\n",
            "[(1, 2), (1, 5)] [1, 1]\n",
            "[(3, 2), (2, 3.5), (2, 6), (6, 3)] [-1, -1, -1, 1]\n",
            "[(1, 2), (1, 5)] [1, 1]\n",
            "[(3, 2), (2, 3.5), (2, 6), (6, 3)] [-1, -1, -1, 1]\n",
            "[(0.86183616, 0.58866857), (0.14435413, 0.16789092), (0.89829273, 0.3936054)] [1, 1, 1]\n",
            "[(0.57357417, 0.90217185), (0.76566003, 0.76527182), (0.59400348, 0.83215993), (0.66148572, 0.88929846), (0.72530673, 0.73518614), (0.52575489, 0.95595477), (0.56629658, 0.79039303)] [1, -1, 1, -1, -1, 1, -1]\n",
            "[(0.86183616, 0.58866857), (0.14435413, 0.16789092), (0.89829273, 0.3936054)] [1, 1, 1]\n",
            "[(0.57357417, 0.90217185), (0.76566003, 0.76527182), (0.59400348, 0.83215993), (0.66148572, 0.88929846), (0.72530673, 0.73518614), (0.52575489, 0.95595477), (0.56629658, 0.79039303)] [1, -1, 1, -1, -1, 1, -1]\n",
            "5/5 test cases passed\n"
          ],
          "name": "stdout"
        }
      ]
    },
    {
      "cell_type": "markdown",
      "metadata": {
        "id": "mNVei2l0g2mJ"
      },
      "source": [
        "##Decisions, decisions, decisions...\n",
        "In this section, we will be looking at a dataset that aims to determine whether a wine is of good quality or bad quality based off of some features. We'll train a decision tree for our classification problem here. We first load in the data.\n"
      ]
    },
    {
      "cell_type": "code",
      "metadata": {
        "id": "6R1diz3RU3HI"
      },
      "source": [
        "all_data = pd.read_csv(\"winequality-red.csv\", sep=\";\")\n",
        "all_data.loc[all_data[\"quality\"] <= 5, \"quality\"] = 0\n",
        "all_data.loc[all_data[\"quality\"] > 5, \"quality\"] = 1"
      ],
      "execution_count": null,
      "outputs": []
    },
    {
      "cell_type": "code",
      "metadata": {
        "id": "uz6WDBexAAAz",
        "colab": {
          "base_uri": "https://localhost:8080/"
        },
        "outputId": "d2205901-f010-45e4-8661-28e294a16f60"
      },
      "source": [
        "features = all_data.columns[:-1]\n",
        "print(features)\n",
        "wine_data = all_data[features]\n",
        "wine_labels = all_data[[\"quality\"]]"
      ],
      "execution_count": null,
      "outputs": [
        {
          "output_type": "stream",
          "text": [
            "Index(['fixed acidity', 'volatile acidity', 'citric acid', 'residual sugar',\n",
            "       'chlorides', 'free sulfur dioxide', 'total sulfur dioxide', 'density',\n",
            "       'pH', 'sulphates', 'alcohol'],\n",
            "      dtype='object')\n"
          ],
          "name": "stdout"
        }
      ]
    },
    {
      "cell_type": "code",
      "metadata": {
        "id": "BFlauVzNBsWr"
      },
      "source": [
        "train_wine_data, test_wine_data, train_wine_labels, test_wine_labels =\\\n",
        "   train_test_split(wine_data, wine_labels, stratify = wine_labels, test_size = 0.3, random_state = 20) #do not touch random state"
      ],
      "execution_count": null,
      "outputs": []
    },
    {
      "cell_type": "markdown",
      "metadata": {
        "id": "aTzIXxqdm9ZC"
      },
      "source": [
        "###Hyperparameter Search\n",
        "Tuning parameters is very important when training decision trees because we run the risk of overfitting. For this reason, we'll have to use cross validation to ensure that the parameters we're setting in our decision tree not only works for our training data but validation data as well. We'll use sci-kit learn's [DecisionTreeClassifier](https://scikit-learn.org/stable/modules/generated/sklearn.tree.DecisionTreeClassifier.html) package as our model and use [GridSearchCV](https://scikit-learn.org/stable/modules/generated/sklearn.model_selection.GridSearchCV.html) to run a parameter search to find our optimal parameters.\n",
        "\n",
        "We can first define what parameters we want to search over, and what the values we should try are. GridSearchCV will try all possible combinations of these parameter settings and save which parameters do the best. Specifically, we will try different values for `criterion`, `min_samples_split`, `min_samples_leaf`, and `max_depth`. Please read the documentation in DecisionTreeClassifier to understand what these parameters are.\n"
      ]
    },
    {
      "cell_type": "code",
      "metadata": {
        "id": "ypuqlelrCA3D"
      },
      "source": [
        "#decision tree params\n",
        "dt_params = {\n",
        "    \"criterion\":[\"gini\", \"entropy\"],\n",
        "    \"min_samples_split\": [2, 5, 10, 50, 100, 150, 200, 300], \n",
        "    \"min_samples_leaf\": [2, 5, 10, 20, 100, 150, 200, 250],\n",
        "    \"max_depth\": [3, 5, 10, 50, 100]\n",
        "}"
      ],
      "execution_count": null,
      "outputs": []
    },
    {
      "cell_type": "markdown",
      "metadata": {
        "id": "hKcANPFoi2xN"
      },
      "source": [
        "####Conceptual Questions\n",
        "1) How does increasing min_samples_split affect training accuracy? Test accuracy?\n",
        "\n",
        "2) How does increasing min_samples_leaf affect training accuracy? Test error?\n",
        "\n",
        "3) How does increasing max_depth affect training accuracy? Test error?\n"
      ]
    },
    {
      "cell_type": "markdown",
      "metadata": {
        "id": "emHBp-o5AotZ"
      },
      "source": [
        "Look at the GridSearchCV documentation and DecisionTreeClassifier documentation to run a hyperparameter search on the wine dataset. Search over the space defined in `dt_params`. For the next section, due to the stochastic nature of creating training and test datasets, multiple solutions are accepted. If you believe that your method is correct but the solution isn't being accepted, please post a private message directed to staff on Discourse with your methodology and results."
      ]
    },
    {
      "cell_type": "code",
      "metadata": {
        "id": "nirpQv27CDuN",
        "colab": {
          "base_uri": "https://localhost:8080/"
        },
        "outputId": "51fe273c-0fac-4d7f-efcc-665c2228ca62"
      },
      "source": [
        "#use GridSearchCV to find the best parameters\n",
        "gdsearch = GridSearchCV(DecisionTreeClassifier(), dt_params)\n",
        "gdsearch.fit(train_wine_data, train_wine_labels)"
      ],
      "execution_count": null,
      "outputs": [
        {
          "output_type": "execute_result",
          "data": {
            "text/plain": [
              "GridSearchCV(cv=None, error_score=nan,\n",
              "             estimator=DecisionTreeClassifier(ccp_alpha=0.0, class_weight=None,\n",
              "                                              criterion='gini', max_depth=None,\n",
              "                                              max_features=None,\n",
              "                                              max_leaf_nodes=None,\n",
              "                                              min_impurity_decrease=0.0,\n",
              "                                              min_impurity_split=None,\n",
              "                                              min_samples_leaf=1,\n",
              "                                              min_samples_split=2,\n",
              "                                              min_weight_fraction_leaf=0.0,\n",
              "                                              presort='deprecated',\n",
              "                                              random_state=None,\n",
              "                                              splitter='best'),\n",
              "             iid='deprecated', n_jobs=None,\n",
              "             param_grid={'criterion': ['gini', 'entropy'],\n",
              "                         'max_depth': [3, 5, 10, 50, 100],\n",
              "                         'min_samples_leaf': [2, 5, 10, 20, 100, 150, 200, 250],\n",
              "                         'min_samples_split': [2, 5, 10, 50, 100, 150, 200,\n",
              "                                               300]},\n",
              "             pre_dispatch='2*n_jobs', refit=True, return_train_score=False,\n",
              "             scoring=None, verbose=0)"
            ]
          },
          "metadata": {
            "tags": []
          },
          "execution_count": 113
        }
      ]
    },
    {
      "cell_type": "code",
      "metadata": {
        "id": "6dFqaS2uCvpK",
        "colab": {
          "base_uri": "https://localhost:8080/"
        },
        "outputId": "ad7a225c-349f-4710-f80e-0d36c86e299e"
      },
      "source": [
        "best_params =  gdsearch.best_params_\n",
        "#cv_results_['params'](gdsearch.cv_results_['rank_test_score'].index(1))\n",
        "print(best_params)\n",
        "\n",
        "#Now we will use all of the training data to relearn a decision classifier\n",
        "decision_clf = DecisionTreeClassifier(**best_params)\n",
        "decision_clf.fit(train_wine_data, train_wine_labels)\n",
        "print(decision_clf.score(test_wine_data, test_wine_labels)) #find the score of the test data, metric is mean accuracy from docs"
      ],
      "execution_count": null,
      "outputs": [
        {
          "output_type": "stream",
          "text": [
            "{'criterion': 'entropy', 'max_depth': 100, 'min_samples_leaf': 20, 'min_samples_split': 50}\n",
            "0.71875\n"
          ],
          "name": "stdout"
        }
      ]
    },
    {
      "cell_type": "markdown",
      "metadata": {
        "id": "fZH9VSYZv6Nj"
      },
      "source": [
        "Now, we will use sci-kit learn's [plot tree](https://scikit-learn.org/stable/modules/generated/sklearn.tree.plot_tree.html) to visualize our learned decision tree.\n",
        "\n",
        "As an example, if our node is \n",
        "\n",
        "\n",
        "![image.png](data:image/png;base64,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)\n",
        "\n",
        "this means we are splitting along the \"free sulfur dioxide\" feature, there are 84 wines in this node that are classified as bad wine and 55 wines in this node that are classified as good wine. Thus, we output the label bad wine for this node."
      ]
    },
    {
      "cell_type": "code",
      "metadata": {
        "id": "nypCd4TpDHrT",
        "colab": {
          "base_uri": "https://localhost:8080/",
          "height": 1000
        },
        "outputId": "2c52b5d1-e70e-45a1-998f-4869302d5694"
      },
      "source": [
        "# #visualize the tree\n",
        "fig, ax = plt.subplots(figsize=(30, 30))\n",
        "plot = plot_tree(decision_clf, feature_names = features, class_names=[\"bad wine\", \"good wine\"], fontsize=10, ax=ax)"
      ],
      "execution_count": null,
      "outputs": [
        {
          "output_type": "display_data",
          "data": {
            "image/png": "[encoded data removed]",
            "text/plain": [
              "<Figure size 2160x2160 with 1 Axes>"
            ]
          },
          "metadata": {
            "tags": [],
            "needs_background": "light"
          }
        }
      ]
    },
    {
      "cell_type": "code",
      "metadata": {
        "colab": {
          "base_uri": "https://localhost:8080/"
        },
        "id": "kr73uYnt1wJg",
        "outputId": "1982305f-9b13-420d-fd60-bcc96bf32afe"
      },
      "source": [
        "decision_clf.feature_importances_"
      ],
      "execution_count": null,
      "outputs": [
        {
          "output_type": "execute_result",
          "data": {
            "text/plain": [
              "array([0.        , 0.12433033, 0.        , 0.02248815, 0.08783067,\n",
              "       0.01883791, 0.12451311, 0.00762518, 0.01856482, 0.18255612,\n",
              "       0.4132537 ])"
            ]
          },
          "metadata": {
            "tags": []
          },
          "execution_count": 117
        }
      ]
    },
    {
      "cell_type": "markdown",
      "metadata": {
        "id": "y7ZpEKT9Q-kT"
      },
      "source": [
        "Answer the questions on catsoop about the interpretation of this tree."
      ]
    },
    {
      "cell_type": "markdown",
      "metadata": {
        "id": "q81tLDjSFdU1"
      },
      "source": [
        "###Logistic Regression Hyperparameter Search\n",
        "Now, we want to compare our decision tree to a logistic regression to see if the decision tree is picking up some nonlinearities in the dataset. We do the same thing for a logistic regression: we first run a hyperparameter search for the best parameters for [LogisticRegression](https://scikit-learn.org/stable/modules/generated/sklearn.linear_model.LogisticRegression.html) and compare the accuracies and interpretations. Please read the documentation for LogisticRegression to understand the settings in `lr_params`."
      ]
    },
    {
      "cell_type": "code",
      "metadata": {
        "id": "lIzqtpo3DRpf"
      },
      "source": [
        "lr_params = {\n",
        "        \"penalty\":[\"l1\", \"l2\"],\n",
        "        \"C\":[1e-3, 1e-2, 1e-1, 1, 5, 10, 100, 250],\n",
        "        \"solver\": [\"liblinear\"]\n",
        "}"
      ],
      "execution_count": null,
      "outputs": []
    },
    {
      "cell_type": "markdown",
      "metadata": {
        "id": "uOBk3bj3GBfr"
      },
      "source": [
        "####Conceptual Questions\n",
        "How does increasing $C$ affect training accuracy? Testing accuracy?"
      ]
    },
    {
      "cell_type": "markdown",
      "metadata": {
        "id": "qNvgqKk2VJ1Y"
      },
      "source": [
        "Now, run a hyperparameter search using GridSearchCV again, but for a logistic regression. "
      ]
    },
    {
      "cell_type": "code",
      "metadata": {
        "id": "WaFy5TPUDRlT"
      },
      "source": [
        "#reshape train_wine_labels to be 1D\n",
        "train_wine_labels_1d = np.array(train_wine_labels).reshape(len(train_wine_labels),)\n",
        "#todo: hint, you might want to use train_wine_labels_1d as the input to this GridSearchCV, why?"
      ],
      "execution_count": null,
      "outputs": []
    },
    {
      "cell_type": "code",
      "metadata": {
        "colab": {
          "base_uri": "https://localhost:8080/"
        },
        "id": "k-Q698_y26Q7",
        "outputId": "ea514b5e-bbed-4e59-f0be-e5710973bc96"
      },
      "source": [
        "gdsearch_log = GridSearchCV(LogisticRegression(), lr_params)\n",
        "gdsearch_log.fit(train_wine_data, train_wine_labels_1d)"
      ],
      "execution_count": null,
      "outputs": [
        {
          "output_type": "execute_result",
          "data": {
            "text/plain": [
              "GridSearchCV(cv=None, error_score=nan,\n",
              "             estimator=LogisticRegression(C=1.0, class_weight=None, dual=False,\n",
              "                                          fit_intercept=True,\n",
              "                                          intercept_scaling=1, l1_ratio=None,\n",
              "                                          max_iter=100, multi_class='auto',\n",
              "                                          n_jobs=None, penalty='l2',\n",
              "                                          random_state=None, solver='lbfgs',\n",
              "                                          tol=0.0001, verbose=0,\n",
              "                                          warm_start=False),\n",
              "             iid='deprecated', n_jobs=None,\n",
              "             param_grid={'C': [0.001, 0.01, 0.1, 1, 5, 10, 100, 250],\n",
              "                         'penalty': ['l1', 'l2'], 'solver': ['liblinear']},\n",
              "             pre_dispatch='2*n_jobs', refit=True, return_train_score=False,\n",
              "             scoring=None, verbose=0)"
            ]
          },
          "metadata": {
            "tags": []
          },
          "execution_count": 121
        }
      ]
    },
    {
      "cell_type": "code",
      "metadata": {
        "id": "md1vpFJlGV2b",
        "colab": {
          "base_uri": "https://localhost:8080/"
        },
        "outputId": "83add216-4b71-410a-f75f-f20865c731bb"
      },
      "source": [
        "lr_best_params = gdsearch_log.best_params_\n",
        "print(lr_best_params)\n",
        "lr_classifier = LogisticRegression(**lr_best_params)\n",
        "lr_classifier.fit(train_wine_data, train_wine_labels_1d)\n",
        "print(lr_classifier.score(test_wine_data, test_wine_labels))"
      ],
      "execution_count": null,
      "outputs": [
        {
          "output_type": "stream",
          "text": [
            "{'C': 10, 'penalty': 'l1', 'solver': 'liblinear'}\n",
            "0.7458333333333333\n"
          ],
          "name": "stdout"
        }
      ]
    },
    {
      "cell_type": "markdown",
      "metadata": {
        "id": "8h3eOuE5ZnNC"
      },
      "source": [
        "Similarly to when analyzing decision trees, we would like to determine which features play the most important role in classifying whether a wine is good or bad. Take a look at the coefficients of this model and determine which feature is the most important to classifying a good wine vs a bad wine. "
      ]
    },
    {
      "cell_type": "code",
      "metadata": {
        "id": "ec8ajtMMu4lz",
        "colab": {
          "base_uri": "https://localhost:8080/"
        },
        "outputId": "d3450d27-b84b-4f5e-a5de-64568bbf5794"
      },
      "source": [
        "lr_coefficients = lr_classifier.coef_\n",
        "# get the weights of the features of the wine data\n",
        "sorted_coeff_indices = np.argsort(np.abs(lr_coefficients))\n",
        "for i in sorted_coeff_indices[0]:\n",
        "    print(\"%s: %s\" %(features[i], lr_coefficients[0][i]))"
      ],
      "execution_count": null,
      "outputs": [
        {
          "output_type": "stream",
          "text": [
            "total sulfur dioxide: -0.017022993820867686\n",
            "free sulfur dioxide: 0.027022878080239992\n",
            "residual sugar: 0.0368221592401041\n",
            "fixed acidity: 0.11479499289946744\n",
            "pH: -0.3374238780726794\n",
            "alcohol: 0.9002675230492709\n",
            "citric acid: -1.2621056198434166\n",
            "chlorides: -2.3646664573020373\n",
            "sulphates: 2.494674213108551\n",
            "volatile acidity: -3.6611217008251096\n",
            "density: -3.959096366408901\n"
          ],
          "name": "stdout"
        }
      ]
    },
    {
      "cell_type": "markdown",
      "metadata": {
        "id": "1J3N97zsXJbr"
      },
      "source": [
        "However, the coefficients as is don't provide much intuition on how important the features are, since the features could be of different scale. So if we have features that naturally take on very large values, they may artificially get a small coefficient. For that reason, we scale the data inputs and take a look at the coeffiecients of the scaled features.\n",
        "\n",
        "Now, what is the most important feature?"
      ]
    },
    {
      "cell_type": "code",
      "metadata": {
        "id": "-Zj_znVnV86o",
        "colab": {
          "base_uri": "https://localhost:8080/"
        },
        "outputId": "5dc16ab2-649a-47fa-bc59-8fe26b346f05"
      },
      "source": [
        "lr_classifier_scaled = LogisticRegression(**lr_best_params)\n",
        "lr_classifier_scaled.fit(scale(train_wine_data), train_wine_labels_1d)\n",
        "print(lr_classifier_scaled.score(scale(test_wine_data), test_wine_labels))"
      ],
      "execution_count": null,
      "outputs": [
        {
          "output_type": "stream",
          "text": [
            "0.7395833333333334\n"
          ],
          "name": "stdout"
        }
      ]
    },
    {
      "cell_type": "code",
      "metadata": {
        "id": "SGDdf6f6XNsl",
        "colab": {
          "base_uri": "https://localhost:8080/"
        },
        "outputId": "304f4522-f3f0-423c-b45e-f2e04f9eb8e7"
      },
      "source": [
        "lr_coefficients_scaled = lr_classifier_scaled.coef_\n",
        "# get the weights of the scaled features of the wine data\n",
        "sorted_coeff_indices = np.argsort(np.abs(lr_coefficients_scaled))\n",
        "for i in sorted_coeff_indices[0]:\n",
        "    print(\"%s: %s\" %(features[i], lr_coefficients_scaled[0][i]))"
      ],
      "execution_count": null,
      "outputs": [
        {
          "output_type": "stream",
          "text": [
            "density: -0.009953760086432806\n",
            "pH: -0.02629624292652435\n",
            "residual sugar: 0.056231274784732097\n",
            "chlorides: -0.12151742441599497\n",
            "fixed acidity: 0.22271835122153782\n",
            "citric acid: -0.2534815551301575\n",
            "free sulfur dioxide: 0.27172400244768113\n",
            "sulphates: 0.4272338765591157\n",
            "total sulfur dioxide: -0.5493714136046729\n",
            "volatile acidity: -0.6549447717954824\n",
            "alcohol: 0.9767109177454277\n"
          ],
          "name": "stdout"
        }
      ]
    },
    {
      "cell_type": "markdown",
      "metadata": {
        "id": "XtVI0YdOb1cz"
      },
      "source": [
        "While we're still able to determine what features are important in classifying whether a wine is good or bad, we have no sense of what values these features need to take to classify whether a wine is good or bad, like we were able to do in a decision tree."
      ]
    },
    {
      "cell_type": "markdown",
      "metadata": {
        "id": "etuULtOsXQhn"
      },
      "source": [
        "###Random Forest Hyperparameter Search\n",
        "Finally, we do the same hyperparameter search for a random forest. Use GridSearchCV again to find the best setting of parameters from `rf_params`. Performing this search may take some time (around 5-10 minutes), so be patient! When initializing `RandomForestClassifier`, please use a random state of 10, to ensure that the output stays consistent with the solutions on Catsoop! \n",
        "\n",
        "\n"
      ]
    },
    {
      "cell_type": "code",
      "metadata": {
        "id": "CuG4pR-drcJW"
      },
      "source": [
        "rf_params = {\n",
        "    \"n_estimators\":[50, 200],\n",
        "    \"criterion\":[\"gini\", \"entropy\"],\n",
        "    \"max_depth\":[2, 10, 50],\n",
        "    \"min_samples_leaf\":[2,10,50]\n",
        "}"
      ],
      "execution_count": null,
      "outputs": []
    },
    {
      "cell_type": "code",
      "metadata": {
        "id": "gbFbs7D4ro05",
        "colab": {
          "base_uri": "https://localhost:8080/"
        },
        "outputId": "9d6948af-8ac3-42b9-eca4-7ecdd7cb28c3"
      },
      "source": [
        "#todo: run a hyperparameter search over rf_params for a random forest here\n",
        "gdsearch_rf = GridSearchCV(RandomForestClassifier(random_state=10), rf_params)\n",
        "gdsearch_rf.fit(train_wine_data, train_wine_labels_1d)"
      ],
      "execution_count": null,
      "outputs": [
        {
          "output_type": "execute_result",
          "data": {
            "text/plain": [
              "GridSearchCV(cv=None, error_score=nan,\n",
              "             estimator=RandomForestClassifier(bootstrap=True, ccp_alpha=0.0,\n",
              "                                              class_weight=None,\n",
              "                                              criterion='gini', max_depth=None,\n",
              "                                              max_features='auto',\n",
              "                                              max_leaf_nodes=None,\n",
              "                                              max_samples=None,\n",
              "                                              min_impurity_decrease=0.0,\n",
              "                                              min_impurity_split=None,\n",
              "                                              min_samples_leaf=1,\n",
              "                                              min_samples_split=2,\n",
              "                                              min_weight_fraction_leaf=0.0,\n",
              "                                              n_estimators=100, n_jobs=None,\n",
              "                                              oob_score=False, random_state=10,\n",
              "                                              verbose=0, warm_start=False),\n",
              "             iid='deprecated', n_jobs=None,\n",
              "             param_grid={'criterion': ['gini', 'entropy'],\n",
              "                         'max_depth': [2, 10, 50],\n",
              "                         'min_samples_leaf': [2, 10, 50],\n",
              "                         'n_estimators': [50, 200]},\n",
              "             pre_dispatch='2*n_jobs', refit=True, return_train_score=False,\n",
              "             scoring=None, verbose=0)"
            ]
          },
          "metadata": {
            "tags": []
          },
          "execution_count": 129
        }
      ]
    },
    {
      "cell_type": "code",
      "metadata": {
        "id": "KHFlsF19rwPy",
        "colab": {
          "base_uri": "https://localhost:8080/"
        },
        "outputId": "b14944fa-1c3a-46b8-a4fe-6fb5bdc536c3"
      },
      "source": [
        "rf_best_params = gdsearch_rf.best_params_\n",
        "print(rf_best_params)\n",
        "rf_clf = RandomForestClassifier(**rf_best_params, random_state = 10) #do not touch random state\n",
        "rf_clf.fit(train_wine_data, train_wine_labels_1d)\n",
        "print(rf_clf.score(test_wine_data, test_wine_labels))"
      ],
      "execution_count": null,
      "outputs": [
        {
          "output_type": "stream",
          "text": [
            "{'criterion': 'entropy', 'max_depth': 50, 'min_samples_leaf': 2, 'n_estimators': 200}\n",
            "0.7916666666666666\n"
          ],
          "name": "stdout"
        }
      ]
    },
    {
      "cell_type": "markdown",
      "metadata": {
        "id": "NNF6SY9tXqzP"
      },
      "source": [
        "We see that a big advantage of using sci-kit learn is its ability to quickly switch out different models we would like to use. All we need to change is the hyperparameters we want to search over and the model input to GridSearchCV!\n",
        "\n",
        "\n"
      ]
    },
    {
      "cell_type": "markdown",
      "metadata": {
        "id": "jTKw4nvGYHKu"
      },
      "source": [
        "# 2) Nearest Neighbors\n",
        "\n",
        "See the MITx page for conceptual (non-coding) questions."
      ]
    },
    {
      "cell_type": "markdown",
      "metadata": {
        "id": "nASqJL_DYHKy"
      },
      "source": [
        "# 3) Nearest Neighbor Implementation\n"
      ]
    },
    {
      "cell_type": "markdown",
      "metadata": {
        "id": "4cztWXq_SXcY"
      },
      "source": [
        "Implement the following distance functions below according to their specifications. They should compute the pairwise distance between a single sample of dimension (d,1)(d,1) and nn individual samples, each with dimension (d,1)(d,1), in an array of dimension (d,n)(d,n). This will make it easy to compute the distances between a single test sample and the entire training set in KNN. Numpy is preloaded for you, but you can't use np.linalg.norm.\n",
        "\n",
        "A) Implement the Euclidean distance below. Remember that the Euclidean distance between two dd-dimensional vectors is defined as :\n",
        "\n",
        "$$E(p,q) = \\sqrt{\\sum_{i=1}^{d}(p_i - q_i)^2}$$\n",
        "\n",
        " \n"
      ]
    },
    {
      "cell_type": "code",
      "metadata": {
        "id": "br6NiEHTuwMp"
      },
      "source": [
        "def euclidean(a, b):\n",
        "    \"\"\"\n",
        "    Parameters:\n",
        "        a is d by n array\n",
        "        b is d by 1 array\n",
        "    Returns :\n",
        "        (n,) array: the pairwise Euclidean distance of b with respect to individual samples in  a\n",
        "    \"\"\"\n",
        "    result = []\n",
        "    for i in range(a.shape[1]):\n",
        "        result.append(np.sqrt(np.sum((a[:,i:i+1]-b)**2)))\n",
        "    return np.array(result)"
      ],
      "execution_count": 37,
      "outputs": []
    },
    {
      "cell_type": "code",
      "metadata": {
        "colab": {
          "base_uri": "https://localhost:8080/"
        },
        "id": "qjVi7PbYN5_Y",
        "outputId": "2d66590f-655b-4f61-863e-70b512491d04"
      },
      "source": [
        "a = np.array([[0,1,1,-4,-2],[0,1,2,9,-2]])\n",
        "b = np.array([[-2],[1]])\n",
        "euclidean(a,b)"
      ],
      "execution_count": null,
      "outputs": [
        {
          "output_type": "execute_result",
          "data": {
            "text/plain": [
              "array([2.23606798, 3.        , 3.16227766, 8.24621125, 3.        ])"
            ]
          },
          "metadata": {
            "tags": []
          },
          "execution_count": 233
        }
      ]
    },
    {
      "cell_type": "markdown",
      "metadata": {
        "id": "FoWnHzDRu1-j"
      },
      "source": [
        "B)Implement the Manhattan distance below. Remember that the Manhattan distance between two d-dimensional vectors is defined as :\n",
        "\n",
        "$$M(p,q) = \\sum_{i=1}^{d}|p_i - q_i|$$\n"
      ]
    },
    {
      "cell_type": "code",
      "metadata": {
        "id": "D5i4d5j5ux6z"
      },
      "source": [
        "def manhattan(a,b):\n",
        "    \"\"\"\n",
        "    Parameters:\n",
        "        a is d by n array \n",
        "        b is d by 1 array\n",
        "    Returns :\n",
        "        (n,) array: the pairwise Manhattan distance of b with respect to individual samples in  a\n",
        "    \"\"\"\n",
        "    result = []\n",
        "    for i in range(a.shape[1]):\n",
        "        result.append(np.sum(np.abs(a[:,i:i+1]-b)))\n",
        "    return np.array(result)"
      ],
      "execution_count": 38,
      "outputs": []
    },
    {
      "cell_type": "markdown",
      "metadata": {
        "id": "jXkOi9fbvOWT"
      },
      "source": [
        "C) Implement the KNN class for classification below according to its specifications. Some functions that may come in handy are `np.argsort` and `np.bincount`. If you need a refresher on how KNNs work for classification, take a look at [the notes](https://lms.mitx.mit.edu/assets/courseware/v1/f0cc0c187c20a52b6ca4d967efdca4f0/asset-v1:MITx+6.036+2020_Fall+type@asset+block/notes_chapter_Non-parametric_methods.pdf). "
      ]
    },
    {
      "cell_type": "code",
      "metadata": {
        "id": "yxVyKBT4vN9-"
      },
      "source": [
        "class KNN:\n",
        "    \"\"\" KNN for classification\"\"\"\n",
        "    def __init__(self, K, distance_metric, trainX, trainY):\n",
        "        \"\"\"\n",
        "        Parameters:\n",
        "            K is an int representing the number of closest neighbors to consider\n",
        "            distance_metric is one of euclidean or manhattan\n",
        "            trainX is d by n array\n",
        "            trainY is 1 by n array\n",
        "        \"\"\"\n",
        "        self.trainX = trainX\n",
        "        self.trainY = trainY\n",
        "        self.K = K\n",
        "        self.metric = distance_metric\n",
        "        \n",
        "    def calc_distances(self, testX):\n",
        "        \"\"\"\n",
        "        Parameters:\n",
        "            testX is d by m array\n",
        "        Returns:\n",
        "            an m x n array D where D[i, j] is the distance between test sample i and train sample j\n",
        "        \"\"\"\n",
        "        D = []\n",
        "        for j in range(self.trainX.shape[1]):\n",
        "            D.append(self.metric(testX, self.trainX[:, j:j+1]))\n",
        "        return np.array(D).T\n",
        "\n",
        "    def find_top_neighbor_labels(self, dists):\n",
        "        \"\"\"\n",
        "        Parameters:\n",
        "            dists is  m x n array D where D[i, j] is the distance between test sample i and train sample j\n",
        "        Returns:\n",
        "            an m x K array L where L[i, j] is the label of the jth closest neighbor to test sample i\n",
        "            in case of ties, the neighbor which appears first in the training set is chosen\n",
        "        \"\"\"\n",
        "        result = []\n",
        "        for row in range(dists.shape[0]):\n",
        "            idx = np.argsort(dists[row:row+1,], axis = 1)\n",
        "            result.append(self.trainY[0][idx][0][:self.K])\n",
        "        return np.array(result)\n",
        "\n",
        "     \n",
        "    def predict(self, testX):\n",
        "        \"\"\"\n",
        "        Parameters:\n",
        "            testX is d by m array\n",
        "        Returns:\n",
        "            predicted is (m,) array P where P[i] is the predicted label for test sample i \n",
        "        \"\"\"\n",
        "        d = self.calc_distances(testX)\n",
        "        knn = self.find_top_neighbor_labels(d)\n",
        "        predicted = []\n",
        "        for row in range(knn.shape[0]):\n",
        "            predicted.append(np.argmax(np.bincount(knn[row,:])))\n",
        "        return np.array(predicted)\n",
        "\n",
        "    def score(self, testX, testY):\n",
        "        \"\"\"\n",
        "        Parameters:\n",
        "            testX is d by m array of input data\n",
        "            testY is 1 by m array of labels for the input data\n",
        "        Returns:\n",
        "            a scalar: the accuracy of the KNN predictions across the test set\n",
        "        \"\"\"\n",
        "        pred = self.predict(testX)\n",
        "        return np.sum(pred == testY[0])/len(testY[0])"
      ],
      "execution_count": 12,
      "outputs": []
    },
    {
      "cell_type": "markdown",
      "metadata": {
        "id": "HeyAXfypwyl-"
      },
      "source": [
        "# 4) NN: Nearest Neighbors or Neural Networks?\n"
      ]
    },
    {
      "cell_type": "markdown",
      "metadata": {
        "id": "H6woRs81w41C"
      },
      "source": [
        "Now that we have implemented our K-Nearest Neighbors algorithm, we can test how well it does on Scikit-learn's MNIST dataset.\n",
        "\n",
        "First, we need to process data to fit our class standards. Scikit-learn's input data take the form $(n,d)$ and labels take the form $(n,)$. Implement the function below so that the data can be fed into our KNNs (refer back to the KNN specifications above if you don't remember the needed shapes).\n"
      ]
    },
    {
      "cell_type": "code",
      "metadata": {
        "id": "wViQNrUtxqie"
      },
      "source": [
        "from sklearn import datasets\n",
        "from sklearn.model_selection import train_test_split\n",
        "\n",
        "mnist = datasets.load_digits()\n",
        "train_data, test_data, train_labels, test_labels = train_test_split(np.array(mnist.data), mnist.target, test_size=0.25, random_state=42)"
      ],
      "execution_count": 36,
      "outputs": []
    },
    {
      "cell_type": "code",
      "metadata": {
        "colab": {
          "base_uri": "https://localhost:8080/"
        },
        "id": "tCAh7obxcIe_",
        "outputId": "0a0e15d0-9c6f-46ea-c8eb-a514944e3f8d"
      },
      "source": [
        "print(train_data.shape)\n",
        "print(test_data.shape)\n",
        "print(train_labels.shape)\n",
        "print(np.array([test_labels]).shape)"
      ],
      "execution_count": 7,
      "outputs": [
        {
          "output_type": "stream",
          "text": [
            "(1347, 64)\n",
            "(450, 64)\n",
            "(1347,)\n",
            "(1, 450)\n"
          ],
          "name": "stdout"
        }
      ]
    },
    {
      "cell_type": "code",
      "metadata": {
        "id": "DRT5WzGxw5ZW"
      },
      "source": [
        "def process_data_for_knn(train_data, test_data, train_labels, test_labels):\n",
        "    trainX = train_data.T\n",
        "    testX = test_data.T\n",
        "    trainY = np.array([train_labels])\n",
        "    testY = np.array([test_labels])\n",
        "    return trainX, testX, trainY, testY"
      ],
      "execution_count": 39,
      "outputs": []
    },
    {
      "cell_type": "markdown",
      "metadata": {
        "id": "pIjOhtA1xlK1"
      },
      "source": [
        "Now we'll evaluate the KNN accuracy on various values of K using Euclidean distance and compare its performance to a simple neural network."
      ]
    },
    {
      "cell_type": "markdown",
      "metadata": {
        "id": "FKNfVGOL4Hr0"
      },
      "source": [
        "**4A)** What is the accuracy of KNN using Euclidean distance on the MNIST dataset for K=1, 3, 5?\n"
      ]
    },
    {
      "cell_type": "code",
      "metadata": {
        "id": "988wevIGyM6F",
        "colab": {
          "base_uri": "https://localhost:8080/"
        },
        "outputId": "cfd8b099-a1b4-4920-d9a4-0f75b9d2d874"
      },
      "source": [
        "trainX, testX, trainY, testY = process_data_for_knn(train_data, test_data, train_labels, test_labels)\n",
        "for K in (1,3,5):\n",
        "    knn = KNN(K, euclidean, trainX, trainY)\n",
        "    print(knn.score(testX, testY))"
      ],
      "execution_count": 40,
      "outputs": [
        {
          "output_type": "stream",
          "text": [
            "0.9822222222222222\n",
            "0.9866666666666667\n",
            "0.9933333333333333\n"
          ],
          "name": "stdout"
        }
      ]
    },
    {
      "cell_type": "markdown",
      "metadata": {
        "id": "wwffXlD64Soo"
      },
      "source": [
        "Use the code below to test how well a simple Neural network with two hidden layers, of sizes 50 and 5, performs. "
      ]
    },
    {
      "cell_type": "code",
      "metadata": {
        "id": "1899oYJ7TJyX",
        "colab": {
          "base_uri": "https://localhost:8080/"
        },
        "outputId": "c5bed871-1d92-48fa-ad26-165317ec0804"
      },
      "source": [
        "from sklearn.neural_network import MLPClassifier\n",
        "from sklearn import preprocessing\n",
        "import warnings\n",
        "from sklearn.exceptions import ConvergenceWarning\n",
        "\n",
        "norm_train_data, norm_test_data = train_data/16, test_data/16\n",
        "mlp = MLPClassifier(hidden_layer_sizes=(50,5), max_iter=10000, alpha=1e-4, solver='sgd', verbose=None, random_state=1,learning_rate_init=.1)\n",
        "\n",
        "with warnings.catch_warnings():\n",
        "    warnings.filterwarnings(\"ignore\", category=ConvergenceWarning, module=\"sklearn\")\n",
        "    mlp.fit(norm_train_data, train_labels)\n",
        "    print(mlp.score(norm_test_data, test_labels))"
      ],
      "execution_count": 20,
      "outputs": [
        {
          "output_type": "stream",
          "text": [
            "0.9688888888888889\n"
          ],
          "name": "stdout"
        }
      ]
    },
    {
      "cell_type": "markdown",
      "metadata": {
        "id": "WUT46-pi4ujI"
      },
      "source": [
        "**4B)** What is the accuracy of the provided Neural Network on the MNIST dataset?\n",
        "\n",
        "\n",
        "**4C)** What performs marginally better on this simple dataset: nearest neighbors or neural networks?"
      ]
    },
    {
      "cell_type": "markdown",
      "metadata": {
        "id": "1kmcggkO478N"
      },
      "source": [
        "# 5) Nearest Neighbors for Few-Shot Learning\n"
      ]
    },
    {
      "cell_type": "markdown",
      "metadata": {
        "id": "hWSsSnjA5php"
      },
      "source": [
        "One of the major benefits of KNNs that we hinted at during lab 7 is that they can do surprisingly well in few-shot\n",
        "learning settings, where only a few labeled examples are available. More specifically, we hypothesized that by doing KNNs on embeddings of the examples provided by an auto-encoder, we could get a great performance with ony a few single labeled examples. Let's put it to the test!\n"
      ]
    },
    {
      "cell_type": "markdown",
      "metadata": {
        "id": "QSM4tW2s68Ah"
      },
      "source": [
        "We first start by training an auto-encoder. Because we want to test the KNN, not the auto-encoder itself, we will use the entire dataset to train the auto-encoder and produce the embeddings. As always for neural nets, we standardize the data first."
      ]
    },
    {
      "cell_type": "code",
      "metadata": {
        "id": "5SeA_wg_6RJN"
      },
      "source": [
        "mnist = datasets.load_digits()\n",
        "all_data, _, all_labels, _ = train_test_split(np.array(mnist.data), mnist.target, test_size=0.01, random_state=42)\n",
        "all_data = all_data/16  #max int is 16"
      ],
      "execution_count": 41,
      "outputs": []
    },
    {
      "cell_type": "code",
      "metadata": {
        "colab": {
          "base_uri": "https://localhost:8080/"
        },
        "id": "Y6vjqSvpHCRx",
        "outputId": "e58a8301-600d-4a69-aaaa-384f94f0eb5e"
      },
      "source": [
        "all_labels"
      ],
      "execution_count": 46,
      "outputs": [
        {
          "output_type": "execute_result",
          "data": {
            "text/plain": [
              "array([8, 8, 4, ..., 2, 7, 1])"
            ]
          },
          "metadata": {
            "tags": []
          },
          "execution_count": 46
        }
      ]
    },
    {
      "cell_type": "markdown",
      "metadata": {
        "id": "FCHBT_0g7Ygr"
      },
      "source": [
        "**5A)** To simplify the task a little bit, we will only keep 2 classes: zeros and twos. Complete the function below, which takes in a list of integers corresponding to the classes we want to keep, and returns that subset of the data and labels with only those classes. The numpy function `isin` might come in handy."
      ]
    },
    {
      "cell_type": "code",
      "metadata": {
        "id": "HbU37i2u7SLJ"
      },
      "source": [
        "def keep_subset_classes(data, labels, labels_to_include):\n",
        "    \"\"\"\n",
        "    Parameters:\n",
        "        data is (n,d)\n",
        "        labels is (n,) \n",
        "        labels_to_include is a list of unique labels corresponding to the classes to be kept\n",
        "    Returns:\n",
        "        multiclass_data (m,d) where m is the number of examples belonging to the classes in labels_to_include\n",
        "        multiclass_labels (m,) where m is the number of examples belonging to the classes in labels_to_include\n",
        "    Note the shapes are different this time, as they use scikit-learn's convention. \n",
        "    \"\"\"\n",
        "    multiclass_data = data[np.isin(labels,labels_to_include),:]\n",
        "    multiclass_labels = labels[np.isin(labels,labels_to_include)]\n",
        "    return multiclass_data, multiclass_labels\n",
        "\n",
        "labels_to_include = [0,2] \n",
        "multiclass_data, multiclass_labels = keep_subset_classes(all_data, all_labels, labels_to_include)"
      ],
      "execution_count": 65,
      "outputs": []
    },
    {
      "cell_type": "code",
      "metadata": {
        "colab": {
          "base_uri": "https://localhost:8080/"
        },
        "id": "JPuaWZv5Hbik",
        "outputId": "f64f0dc9-6ef9-48bb-acab-368d41b7df19"
      },
      "source": [
        "multiclass_data.shape"
      ],
      "execution_count": 68,
      "outputs": [
        {
          "output_type": "execute_result",
          "data": {
            "text/plain": [
              "(350, 64)"
            ]
          },
          "metadata": {
            "tags": []
          },
          "execution_count": 68
        }
      ]
    },
    {
      "cell_type": "code",
      "metadata": {
        "colab": {
          "base_uri": "https://localhost:8080/"
        },
        "id": "Se6ZCm0sNlUH",
        "outputId": "33734a36-bf2b-4caa-a31e-ca92ff87f143"
      },
      "source": [
        "multiclass_labels.shape"
      ],
      "execution_count": 69,
      "outputs": [
        {
          "output_type": "execute_result",
          "data": {
            "text/plain": [
              "(350,)"
            ]
          },
          "metadata": {
            "tags": []
          },
          "execution_count": 69
        }
      ]
    },
    {
      "cell_type": "markdown",
      "metadata": {
        "id": "ksfCFmME5wvL"
      },
      "source": [
        "Next, we define the architecture of an auto-encoder similar to the one we saw in lab 7 and train it on the multiclass data. Use the `MLPRegressor`'s `fit` function to train the auto-encoder. Be careful with what the input data and the output \"labels\" are in this case (remember that an auto-encoder tries to reconstruct the inputs)! Training will take a few minutes."
      ]
    },
    {
      "cell_type": "code",
      "metadata": {
        "id": "E6pXZHwd48vx",
        "colab": {
          "base_uri": "https://localhost:8080/"
        },
        "outputId": "ec4a2f84-3e9e-4593-82c3-c74aa3067f94"
      },
      "source": [
        "n_input = 8*8\n",
        "n_encoder = 128\n",
        "n_latent = 2\n",
        "n_decoder = 128\n",
        "\n",
        "from sklearn.neural_network import MLPRegressor\n",
        "from sklearn.metrics import accuracy_score\n",
        "\n",
        "reg = MLPRegressor(hidden_layer_sizes=(n_encoder, n_latent, n_decoder), activation = 'tanh', \n",
        "                   solver = 'adam', learning_rate_init = 0.0001, max_iter = 10000, \n",
        "                   tol = 0.0000001, verbose = False, random_state=2)\n",
        "\n",
        "reg.fit(multiclass_data, multiclass_data)"
      ],
      "execution_count": 88,
      "outputs": [
        {
          "output_type": "execute_result",
          "data": {
            "text/plain": [
              "MLPRegressor(activation='tanh', alpha=0.0001, batch_size='auto', beta_1=0.9,\n",
              "             beta_2=0.999, early_stopping=False, epsilon=1e-08,\n",
              "             hidden_layer_sizes=(128, 2, 128), learning_rate='constant',\n",
              "             learning_rate_init=0.0001, max_fun=15000, max_iter=10000,\n",
              "             momentum=0.9, n_iter_no_change=10, nesterovs_momentum=True,\n",
              "             power_t=0.5, random_state=2, shuffle=True, solver='adam',\n",
              "             tol=1e-07, validation_fraction=0.1, verbose=False,\n",
              "             warm_start=False)"
            ]
          },
          "metadata": {
            "tags": []
          },
          "execution_count": 88
        }
      ]
    },
    {
      "cell_type": "markdown",
      "metadata": {
        "id": "1yLUxzOk-KPF"
      },
      "source": [
        "Now that we have trained our auto-encoder, we can retrieve the embeddings (i.e. latent space representation) and the reconstructions. While we don't need the reconstructions per se, they are useful to sanity check that our training was succesful. If you need a refresher on how auto-encoders work, have a look at lab 7."
      ]
    },
    {
      "cell_type": "code",
      "metadata": {
        "id": "XaQ_ljVS8NcF"
      },
      "source": [
        "def encoder(data):\n",
        "    data = np.asmatrix(data)\n",
        "    encoder1 = np.tanh(data@reg.coefs_[0] + reg.intercepts_[0])\n",
        "    latent = np.tanh(encoder1@reg.coefs_[1] + reg.intercepts_[1])\n",
        "    return np.asarray(latent)\n",
        "\n",
        "def decoder(new_data):\n",
        "    new_data = np.asmatrix(new_data)\n",
        "    decoder1 = np.tanh(new_data@reg.coefs_[2] + reg.intercepts_[2])\n",
        "    reconst = decoder1@reg.coefs_[3] + reg.intercepts_[3]\n",
        "    return np.asarray(reconst)\n",
        "\n",
        "multiclass_latent = encoder(multiclass_data)\n",
        "multiclass_reconstruct = decoder(multiclass_latent)"
      ],
      "execution_count": 89,
      "outputs": []
    },
    {
      "cell_type": "code",
      "metadata": {
        "colab": {
          "base_uri": "https://localhost:8080/"
        },
        "id": "V5z0Tfp8O5GE",
        "outputId": "77411e6d-a0a0-435a-d512-01017dcf19a5"
      },
      "source": [
        "multiclass_latent"
      ],
      "execution_count": 90,
      "outputs": [
        {
          "output_type": "execute_result",
          "data": {
            "text/plain": [
              "array([[ 6.30334379e-03, -6.74560123e-01],\n",
              "       [ 4.42520528e-03, -6.69536024e-01],\n",
              "       [ 2.03383554e-03, -5.77883318e-01],\n",
              "       [ 1.45115099e-02, -6.21648342e-01],\n",
              "       [ 8.01222898e-02, -4.00105080e-01],\n",
              "       [-6.09464422e-01,  7.21778887e-02],\n",
              "       [-7.34521973e-02, -6.97848660e-01],\n",
              "       [ 7.73057124e-02, -6.85554262e-01],\n",
              "       [ 7.24437785e-02, -6.00524844e-01],\n",
              "       [-7.59992894e-01,  1.18623568e-01],\n",
              "       [ 1.10463364e-01, -6.85819401e-01],\n",
              "       [-3.04519804e-01,  1.72187162e-01],\n",
              "       [-3.32666484e-01,  9.46499910e-02],\n",
              "       [ 2.07867612e-01, -5.04050090e-01],\n",
              "       [-2.58610416e-01,  2.10292038e-01],\n",
              "       [-1.10197800e-01, -1.08978018e-01],\n",
              "       [-5.42742189e-01,  2.03204944e-01],\n",
              "       [-1.27692705e-01, -4.28983191e-01],\n",
              "       [-7.08976847e-01, -2.98973590e-01],\n",
              "       [-1.28789269e-02, -6.46175792e-01],\n",
              "       [-3.81314750e-01,  1.96322346e-01],\n",
              "       [-9.29970330e-04, -5.95594922e-01],\n",
              "       [ 1.12328375e-01, -5.60130720e-01],\n",
              "       [-9.88645992e-02, -5.63330008e-01],\n",
              "       [-8.04708167e-01, -1.75139994e-01],\n",
              "       [ 1.62120996e-01, -6.38357108e-01],\n",
              "       [-6.19719586e-01, -1.02304714e-01],\n",
              "       [-7.35386807e-01,  5.41172240e-02],\n",
              "       [-6.07985864e-01,  2.14789864e-02],\n",
              "       [ 8.95475390e-02, -7.35434360e-01],\n",
              "       [-5.36445863e-01, -1.20576615e-01],\n",
              "       [-6.71441442e-03,  8.55447156e-02],\n",
              "       [-7.06503229e-01, -8.40084858e-02],\n",
              "       [ 7.02119808e-02, -6.69533899e-01],\n",
              "       [-6.43382929e-01,  1.70912183e-02],\n",
              "       [ 7.18581204e-02, -6.57645974e-01],\n",
              "       [-7.65084861e-01, -2.74634894e-02],\n",
              "       [-7.30540073e-02,  1.12947312e-01],\n",
              "       [-6.23922999e-01,  1.23577768e-01],\n",
              "       [-5.62421482e-01,  2.04963043e-02],\n",
              "       [-3.88176899e-01,  3.02075698e-01],\n",
              "       [-5.01472007e-02, -6.69985955e-01],\n",
              "       [ 1.35104740e-01, -6.59133082e-01],\n",
              "       [-2.41586502e-02, -7.13478908e-01],\n",
              "       [ 8.26751027e-02, -6.07792268e-01],\n",
              "       [ 6.96138979e-02, -6.78039092e-01],\n",
              "       [-6.67485567e-03, -6.37099203e-01],\n",
              "       [-1.87490661e-02, -5.34947221e-02],\n",
              "       [-2.07185644e-02, -7.15876346e-01],\n",
              "       [ 6.98453129e-02, -6.71660317e-01],\n",
              "       [-1.61485823e-01,  1.31712450e-01],\n",
              "       [ 1.03342496e-02, -6.76052371e-01],\n",
              "       [-7.14631285e-01,  2.93944796e-02],\n",
              "       [ 8.66047076e-03, -5.85328258e-01],\n",
              "       [-7.61562451e-01, -2.19421576e-01],\n",
              "       [-5.97444680e-01, -3.31985236e-03],\n",
              "       [ 5.23568641e-02, -7.04844810e-01],\n",
              "       [ 2.05515419e-01, -5.27935713e-01],\n",
              "       [-7.22192426e-01, -4.51947851e-02],\n",
              "       [ 1.46771861e-01, -6.56640390e-01],\n",
              "       [-4.24430178e-01,  1.17052955e-01],\n",
              "       [ 1.05176692e-03, -6.11073129e-01],\n",
              "       [ 1.94385809e-01, -6.72124064e-01],\n",
              "       [ 2.43641020e-02, -6.07743101e-01],\n",
              "       [ 1.94745155e-03, -6.45573120e-01],\n",
              "       [ 1.25623876e-01, -7.03119048e-01],\n",
              "       [-8.25499410e-01, -2.57315536e-01],\n",
              "       [-6.17474570e-01,  4.67130134e-02],\n",
              "       [ 1.60863063e-01, -5.68678883e-01],\n",
              "       [-5.73119075e-01,  8.39684411e-02],\n",
              "       [-6.57113555e-02, -6.79703585e-01],\n",
              "       [-2.85710891e-02, -5.80675824e-01],\n",
              "       [-2.16074211e-01, -2.58114515e-02],\n",
              "       [ 1.10560774e-02, -6.79562372e-01],\n",
              "       [ 3.63368295e-02, -6.61475443e-01],\n",
              "       [-3.31521821e-01,  1.49760859e-01],\n",
              "       [-7.17467916e-01,  8.74596190e-02],\n",
              "       [-2.80313483e-02, -6.92293632e-01],\n",
              "       [ 1.22722102e-01, -6.62889614e-01],\n",
              "       [-4.42636557e-01,  9.33856735e-02],\n",
              "       [-7.89139070e-01, -1.78948553e-01],\n",
              "       [-7.03936007e-01,  1.09799456e-01],\n",
              "       [ 1.04887319e-01, -7.32057398e-01],\n",
              "       [ 1.00743524e-01, -6.53995907e-01],\n",
              "       [ 1.47348123e-01, -7.13797582e-01],\n",
              "       [-6.52681400e-01,  5.44287651e-02],\n",
              "       [-5.95607494e-01,  2.69953825e-01],\n",
              "       [-5.28306907e-01,  2.16775917e-01],\n",
              "       [ 1.66173564e-03, -6.20302794e-01],\n",
              "       [-2.76081153e-03, -6.34197618e-01],\n",
              "       [ 8.88992782e-02, -6.75275293e-01],\n",
              "       [-1.18408499e-01,  1.08270351e-01],\n",
              "       [-2.05932628e-01,  1.69876707e-01],\n",
              "       [ 7.51838011e-02, -5.64316230e-01],\n",
              "       [ 8.87824500e-02, -6.50350102e-01],\n",
              "       [-7.91914937e-01, -1.26191125e-01],\n",
              "       [ 1.62557552e-04, -6.31166391e-01],\n",
              "       [-7.00006343e-01,  1.57169914e-01],\n",
              "       [-3.20543523e-02, -6.48506458e-02],\n",
              "       [-4.92631207e-01,  3.76142160e-02],\n",
              "       [-7.01346772e-01,  8.12888104e-02],\n",
              "       [ 2.39799484e-02, -5.60227460e-01],\n",
              "       [-7.48557738e-01, -8.23798095e-02],\n",
              "       [-5.37327411e-02, -6.78513759e-01],\n",
              "       [-2.53497236e-01,  2.20429496e-01],\n",
              "       [ 8.17930893e-02, -5.83817063e-01],\n",
              "       [-2.40397229e-01, -2.17318466e-02],\n",
              "       [-4.11438637e-01,  7.14022103e-02],\n",
              "       [-7.90944541e-01, -1.17156144e-01],\n",
              "       [-7.76908968e-01, -3.36224122e-01],\n",
              "       [ 1.86007021e-01, -6.79541719e-01],\n",
              "       [ 8.78514965e-02, -6.42709168e-01],\n",
              "       [-3.55528243e-01,  1.68727261e-01],\n",
              "       [-6.92948158e-01, -1.89436385e-02],\n",
              "       [-5.33340275e-01,  1.74925837e-01],\n",
              "       [-1.04244256e-02, -7.01191496e-01],\n",
              "       [-5.88432042e-02, -6.55051613e-01],\n",
              "       [ 1.08188681e-01, -6.63904964e-01],\n",
              "       [-3.36564398e-02,  1.41126812e-01],\n",
              "       [ 5.48350787e-02, -6.79274266e-01],\n",
              "       [-7.61932644e-01, -1.09721192e-01],\n",
              "       [ 1.16306990e-01, -6.92834548e-01],\n",
              "       [ 1.41861637e-01, -5.69784196e-01],\n",
              "       [ 1.66995068e-01, -6.34531054e-01],\n",
              "       [ 1.71071894e-01, -6.39336077e-01],\n",
              "       [-3.80048405e-01,  1.35467075e-01],\n",
              "       [-4.96208009e-01, -4.09778383e-02],\n",
              "       [-5.44104254e-01,  2.41564740e-01],\n",
              "       [ 1.23639408e-02, -6.70189404e-01],\n",
              "       [-2.58310765e-02, -6.67890961e-01],\n",
              "       [-5.71231434e-01, -1.63197433e-01],\n",
              "       [ 2.69305587e-02, -4.62381550e-02],\n",
              "       [-6.88191419e-01, -1.20585567e-01],\n",
              "       [ 5.97680391e-02, -6.88946546e-01],\n",
              "       [-5.34244686e-01,  1.73237976e-01],\n",
              "       [ 1.40715415e-01, -6.43749965e-01],\n",
              "       [ 1.93942502e-01, -6.31776482e-01],\n",
              "       [ 1.55220061e-01, -6.29836730e-01],\n",
              "       [-6.96686294e-01, -1.37246417e-01],\n",
              "       [-8.06737268e-02, -5.54587692e-01],\n",
              "       [ 6.48698499e-02,  4.56552797e-02],\n",
              "       [-3.33862970e-02, -6.08436460e-01],\n",
              "       [-6.12753474e-03, -6.87000059e-01],\n",
              "       [-3.41409891e-01,  1.14341540e-01],\n",
              "       [-5.86518641e-01,  8.06290320e-03],\n",
              "       [-5.83473865e-01, -1.74390708e-01],\n",
              "       [ 8.39529479e-02, -7.01194378e-01],\n",
              "       [-1.35414525e-01,  7.25815852e-02],\n",
              "       [ 1.14046455e-01, -7.39491692e-01],\n",
              "       [-3.72551029e-01,  1.95473827e-01],\n",
              "       [-4.40273266e-01,  1.01010031e-01],\n",
              "       [ 1.09190028e-01, -6.41627655e-01],\n",
              "       [ 2.30578972e-02, -6.26109663e-01],\n",
              "       [-6.62095354e-01, -4.13617233e-02],\n",
              "       [-4.67926381e-01,  1.55333020e-01],\n",
              "       [ 1.16235000e-01, -5.31679265e-01],\n",
              "       [-2.93893745e-01,  1.46876583e-01],\n",
              "       [ 1.20731644e-01, -6.00092334e-01],\n",
              "       [-8.13535189e-01, -5.76524630e-02],\n",
              "       [-6.12455875e-01, -1.56209361e-01],\n",
              "       [-2.25783814e-01, -6.73933926e-02],\n",
              "       [ 1.48718860e-02, -6.55506062e-01],\n",
              "       [-6.44165230e-01,  7.76261311e-02],\n",
              "       [ 2.04198494e-01, -6.33443681e-01],\n",
              "       [ 6.73142219e-02, -2.27933158e-01],\n",
              "       [ 6.25366221e-02, -6.87252379e-01],\n",
              "       [ 9.83314280e-02, -6.28567279e-01],\n",
              "       [ 1.80637659e-02, -6.57791626e-01],\n",
              "       [ 1.26527714e-01, -6.88733139e-01],\n",
              "       [-1.67902149e-02,  3.84197515e-02],\n",
              "       [-7.53236138e-01, -1.48013991e-01],\n",
              "       [-2.91952813e-02, -5.99780516e-01],\n",
              "       [-8.29962702e-01,  4.42949707e-02],\n",
              "       [ 7.45956236e-02, -7.51284145e-01],\n",
              "       [ 8.82569391e-02, -5.39373210e-01],\n",
              "       [-7.45001722e-01,  1.89159753e-01],\n",
              "       [ 8.54853718e-02, -4.98606241e-01],\n",
              "       [ 6.40170026e-02, -6.57148798e-01],\n",
              "       [-5.22615472e-01,  4.51138981e-02],\n",
              "       [-7.73652014e-01, -1.32630478e-02],\n",
              "       [-6.50192187e-03, -6.55844291e-01],\n",
              "       [-7.94954372e-01, -8.31721202e-02],\n",
              "       [ 6.13406179e-03, -5.47603843e-01],\n",
              "       [ 5.42885537e-02, -6.73052089e-01],\n",
              "       [-6.11894005e-01, -9.79041793e-02],\n",
              "       [-5.84342319e-01,  2.29421847e-01],\n",
              "       [ 8.81050417e-02, -7.29099808e-01],\n",
              "       [ 1.37489814e-01, -1.00387724e-01],\n",
              "       [ 1.06689177e-01, -6.58237601e-01],\n",
              "       [ 6.88955120e-02, -6.68374241e-01],\n",
              "       [ 3.76536384e-02, -7.19837603e-01],\n",
              "       [-6.60230969e-01,  4.80913582e-02],\n",
              "       [-5.18736757e-01,  1.06723594e-01],\n",
              "       [ 1.10287662e-01, -7.37957916e-01],\n",
              "       [-6.52409184e-01,  1.10331966e-01],\n",
              "       [-4.15934947e-01, -3.02147140e-02],\n",
              "       [-2.84408826e-01,  1.45913034e-01],\n",
              "       [-7.88020506e-01, -5.44639741e-04],\n",
              "       [-7.69154082e-01,  8.34771376e-02],\n",
              "       [-1.21092940e-01, -6.50435789e-01],\n",
              "       [ 8.49749845e-02, -7.54147725e-01],\n",
              "       [-3.79009729e-03, -6.25590703e-01],\n",
              "       [ 8.41119086e-02, -6.51542662e-01],\n",
              "       [-2.14582023e-01, -4.81663887e-02],\n",
              "       [-6.74995529e-01,  1.70732539e-01],\n",
              "       [-7.19548969e-02, -6.33548723e-01],\n",
              "       [-6.87569383e-01, -1.23111467e-02],\n",
              "       [ 4.61224553e-02, -5.29450470e-01],\n",
              "       [-6.52413575e-01,  3.01515138e-01],\n",
              "       [-6.03157817e-01,  2.21475655e-01],\n",
              "       [ 7.30000107e-03, -6.53934944e-01],\n",
              "       [ 9.95220220e-02, -6.50087533e-01],\n",
              "       [-7.64528572e-01, -4.44148046e-02],\n",
              "       [ 6.77213515e-02, -5.65041245e-01],\n",
              "       [-2.57088449e-02,  7.42612858e-02],\n",
              "       [-5.48417654e-02, -6.47474986e-01],\n",
              "       [ 1.85672844e-01, -5.43479155e-01],\n",
              "       [ 1.33647533e-01, -7.46749292e-02],\n",
              "       [-5.86076849e-01, -1.04622145e-02],\n",
              "       [ 8.51360057e-02, -6.74667604e-01],\n",
              "       [-3.94320272e-01,  2.08152875e-01],\n",
              "       [-3.03881632e-01,  2.44891312e-01],\n",
              "       [ 8.49434936e-02, -7.14778664e-01],\n",
              "       [ 7.73905065e-02,  7.03347046e-02],\n",
              "       [-7.94517373e-01,  8.02233710e-02],\n",
              "       [ 1.61129414e-01, -7.08830533e-01],\n",
              "       [-7.70182944e-02, -6.61327771e-01],\n",
              "       [-7.20651625e-01, -1.94046661e-01],\n",
              "       [ 1.02939895e-01, -6.98245667e-01],\n",
              "       [-8.13264353e-01, -2.68110796e-01],\n",
              "       [-7.26512780e-01,  3.08797244e-02],\n",
              "       [ 5.91568614e-03, -6.53577391e-01],\n",
              "       [ 5.70506610e-02, -6.90340220e-01],\n",
              "       [-4.92769847e-01, -1.66088199e-01],\n",
              "       [-6.14225872e-01,  1.19002450e-01],\n",
              "       [-5.69289681e-01,  1.19139156e-01],\n",
              "       [-1.76586393e-02, -5.50529953e-01],\n",
              "       [-5.85720336e-01, -9.08024579e-02],\n",
              "       [-7.71639308e-01, -3.36940377e-02],\n",
              "       [-2.19200878e-01,  4.60280019e-02],\n",
              "       [ 2.81243725e-02, -6.15310313e-01],\n",
              "       [-8.91165840e-02,  6.63941510e-03],\n",
              "       [ 1.35424197e-01, -5.75745963e-01],\n",
              "       [ 1.99089982e-02, -6.23817532e-01],\n",
              "       [ 1.41120626e-01, -6.43411513e-01],\n",
              "       [-1.95498631e-01, -8.28937999e-02],\n",
              "       [-1.46904383e-01,  1.97249405e-01],\n",
              "       [-7.41642608e-01, -1.97350944e-01],\n",
              "       [ 1.38414209e-01, -4.83090285e-01],\n",
              "       [-5.43653660e-01, -2.91965767e-02],\n",
              "       [-6.72169740e-01,  5.02712663e-02],\n",
              "       [ 6.44601996e-02, -6.65931216e-01],\n",
              "       [-2.40787878e-01,  8.66596831e-02],\n",
              "       [ 6.73393901e-03, -6.82997469e-01],\n",
              "       [-7.21312021e-02, -5.23516199e-01],\n",
              "       [-8.91069362e-02, -6.53497383e-01],\n",
              "       [-7.55128507e-01, -7.14090018e-02],\n",
              "       [-2.40894768e-01, -1.34192769e-01],\n",
              "       [-7.53592238e-01, -1.19398440e-02],\n",
              "       [-6.58047614e-01, -5.13535192e-02],\n",
              "       [ 1.24140232e-01, -7.03014641e-01],\n",
              "       [-7.47434838e-01, -4.06334185e-01],\n",
              "       [-8.09768424e-01, -2.29960659e-01],\n",
              "       [-1.41879427e-01,  1.95505252e-01],\n",
              "       [-6.42368950e-01,  2.47760295e-01],\n",
              "       [-6.71228097e-02, -5.41068639e-01],\n",
              "       [-7.39987643e-01,  1.31071751e-01],\n",
              "       [-6.75806421e-01,  5.74814671e-03],\n",
              "       [-2.11222994e-01, -6.59537088e-01],\n",
              "       [ 2.02370478e-01, -6.35983172e-01],\n",
              "       [-5.99869958e-01, -1.52958795e-01],\n",
              "       [ 4.17015694e-02, -6.23708804e-01],\n",
              "       [-5.15391535e-01,  2.58489076e-01],\n",
              "       [-3.86011234e-01,  2.49873075e-02],\n",
              "       [ 8.03996141e-04, -5.62983467e-01],\n",
              "       [-7.64970996e-02, -6.34029043e-01],\n",
              "       [-4.80283178e-01,  2.04606868e-01],\n",
              "       [-9.35757497e-02, -6.01973705e-01],\n",
              "       [ 9.04775513e-02, -7.24090381e-01],\n",
              "       [ 5.13238333e-02, -6.91284618e-01],\n",
              "       [-5.18055935e-03,  1.17819767e-01],\n",
              "       [ 2.76726892e-02, -5.44945684e-01],\n",
              "       [ 1.23974060e-01, -7.35873151e-01],\n",
              "       [-3.03778966e-01,  3.02295470e-01],\n",
              "       [ 3.76290361e-02, -6.76484005e-01],\n",
              "       [-3.21915355e-01,  1.65186541e-01],\n",
              "       [-4.66235168e-02, -5.64610749e-01],\n",
              "       [-1.15805015e-01,  1.66766668e-01],\n",
              "       [-6.20507327e-01,  1.50940076e-02],\n",
              "       [-4.28457970e-01,  1.78927520e-01],\n",
              "       [-1.40164313e-01, -6.52717768e-01],\n",
              "       [-6.71786182e-01,  7.18968934e-02],\n",
              "       [-1.27838462e-01, -5.67571402e-01],\n",
              "       [-4.23153552e-01,  1.99706097e-01],\n",
              "       [ 6.48391395e-02, -6.84775626e-01],\n",
              "       [ 2.26457778e-02, -6.13090531e-01],\n",
              "       [ 1.67748525e-01, -6.46471582e-01],\n",
              "       [ 2.61922342e-02, -6.61744112e-01],\n",
              "       [ 5.60690195e-02, -5.01002528e-01],\n",
              "       [ 5.80246576e-02, -6.45380678e-01],\n",
              "       [-5.91383289e-01,  2.77827429e-01],\n",
              "       [-6.65050170e-01, -1.60544273e-01],\n",
              "       [-3.50171351e-01,  1.52995931e-01],\n",
              "       [-2.30223868e-02,  4.37679883e-03],\n",
              "       [-2.52754022e-01,  1.83914003e-01],\n",
              "       [ 1.05054639e-01, -7.19557148e-01],\n",
              "       [-3.47247240e-02, -6.23510694e-01],\n",
              "       [ 2.05563318e-01, -6.44979058e-01],\n",
              "       [-3.51810179e-02, -6.51486166e-01],\n",
              "       [ 7.00181677e-02, -9.63868850e-03],\n",
              "       [-5.30019771e-01, -4.80521390e-03],\n",
              "       [ 1.60301215e-01, -6.51688610e-01],\n",
              "       [ 3.13921227e-02, -7.10461995e-01],\n",
              "       [ 1.02394683e-01,  4.08797312e-02],\n",
              "       [ 1.04704921e-01, -6.69726813e-01],\n",
              "       [-1.30095941e-01, -9.76233675e-02],\n",
              "       [-2.53280986e-01,  2.40195968e-01],\n",
              "       [-7.19710573e-01,  1.83751326e-01],\n",
              "       [-7.27456454e-01, -4.97410925e-02],\n",
              "       [-2.87120307e-01,  2.34436952e-01],\n",
              "       [ 1.65016801e-01, -6.72984592e-01],\n",
              "       [ 2.61122404e-02, -7.01889308e-01],\n",
              "       [ 6.58922565e-02, -6.41489508e-01],\n",
              "       [ 1.54783367e-03, -7.31024897e-01],\n",
              "       [-6.76684138e-02, -4.53982923e-01],\n",
              "       [ 8.47601645e-04,  1.35693312e-01],\n",
              "       [-1.64537017e-01,  1.11923776e-01],\n",
              "       [-3.43370524e-02, -5.99139219e-01],\n",
              "       [ 9.50354827e-02, -5.95911738e-01],\n",
              "       [-3.82110457e-02, -6.04067452e-01],\n",
              "       [-7.76604197e-01, -3.10776343e-01],\n",
              "       [-7.42124703e-01, -1.10663119e-01],\n",
              "       [ 1.14048583e-01, -6.92583999e-01],\n",
              "       [ 1.58355563e-01, -6.96764956e-01],\n",
              "       [ 1.41191670e-01, -6.61921659e-01],\n",
              "       [ 9.00866327e-02, -7.34273172e-01],\n",
              "       [-7.09759023e-01,  2.16902416e-01],\n",
              "       [ 9.79359204e-02, -7.37102913e-01],\n",
              "       [ 2.64503956e-02, -6.14129519e-01],\n",
              "       [-7.91386744e-01, -1.66978317e-01],\n",
              "       [ 5.74317467e-02, -6.60075366e-01],\n",
              "       [ 5.02439026e-02, -6.84504770e-01],\n",
              "       [ 6.35774683e-02, -7.02004941e-01],\n",
              "       [ 9.10537978e-02,  9.06909902e-02],\n",
              "       [ 2.68129807e-02, -6.51436176e-01],\n",
              "       [-7.91841896e-01,  1.25436731e-01],\n",
              "       [ 1.82798959e-02, -6.71938456e-01],\n",
              "       [-1.08861907e-01, -6.53375108e-01],\n",
              "       [-6.68980191e-01,  1.26533112e-03],\n",
              "       [-1.98152764e-01,  5.78517325e-02]])"
            ]
          },
          "metadata": {
            "tags": []
          },
          "execution_count": 90
        }
      ]
    },
    {
      "cell_type": "code",
      "metadata": {
        "colab": {
          "base_uri": "https://localhost:8080/"
        },
        "id": "vmnYYs3RO3iq",
        "outputId": "20798c92-d353-4aa6-b67b-5154f60dfdef"
      },
      "source": [
        "multiclass_reconstruct"
      ],
      "execution_count": 91,
      "outputs": [
        {
          "output_type": "execute_result",
          "data": {
            "text/plain": [
              "array([[-8.20592441e-05,  9.17543302e-03,  2.82301186e-01, ...,\n",
              "         3.35975855e-01, -2.82897822e-02, -2.76664049e-02],\n",
              "       [-1.15690669e-04,  9.28331520e-03,  2.83550256e-01, ...,\n",
              "         3.38648996e-01, -2.40688076e-02, -2.60665410e-02],\n",
              "       [-4.22648672e-04,  6.04421672e-03,  2.85223530e-01, ...,\n",
              "         3.80817608e-01,  5.99595276e-02,  1.28864806e-02],\n",
              "       ...,\n",
              "       [-1.16758185e-03,  2.70487861e-02,  3.58686827e-01, ...,\n",
              "         3.69079624e-01, -3.37350252e-02, -5.37094622e-02],\n",
              "       [ 2.99741145e-04,  8.91086662e-02,  7.33403535e-01, ...,\n",
              "         7.63172934e-01,  4.42475786e-01,  5.14208985e-02],\n",
              "       [-1.11743984e-03,  1.10724841e-02,  4.20435568e-01, ...,\n",
              "         7.02804414e-01,  6.01853010e-01,  2.25646582e-01]])"
            ]
          },
          "metadata": {
            "tags": []
          },
          "execution_count": 91
        }
      ]
    },
    {
      "cell_type": "markdown",
      "metadata": {
        "id": "iYw8kJH5P1XP"
      },
      "source": [
        "We can visualize the reconstructions and originals below to ensure the auto-encoder has learned relevant embeddings."
      ]
    },
    {
      "cell_type": "code",
      "metadata": {
        "id": "rDxlb94S-gSA",
        "colab": {
          "base_uri": "https://localhost:8080/",
          "height": 547
        },
        "outputId": "7b4aecbf-bc86-4e6f-a0bd-5842259f75b5"
      },
      "source": [
        "import matplotlib.pyplot as plt\n",
        "\n",
        "def visualize(pixels):\n",
        "    pixels = pixels.reshape((8,8))\n",
        "    plt.imshow(pixels, cmap='gray')\n",
        "    plt.show()\n",
        "\n",
        "print('RECONSTRUCTION')\n",
        "visualize(multiclass_reconstruct[30, :]) #our reconstruction\n",
        "print('ORIGINAL')\n",
        "visualize(multiclass_data[30, :]) #the original"
      ],
      "execution_count": 92,
      "outputs": [
        {
          "output_type": "stream",
          "text": [
            "RECONSTRUCTION\n"
          ],
          "name": "stdout"
        },
        {
          "output_type": "display_data",
          "data": {
            "image/png": "[encoded data removed]",
            "text/plain": [
              "<Figure size 432x288 with 1 Axes>"
            ]
          },
          "metadata": {
            "tags": [],
            "needs_background": "light"
          }
        },
        {
          "output_type": "stream",
          "text": [
            "ORIGINAL\n"
          ],
          "name": "stdout"
        },
        {
          "output_type": "display_data",
          "data": {
            "image/png": "[encoded data removed]",
            "text/plain": [
              "<Figure size 432x288 with 1 Axes>"
            ]
          },
          "metadata": {
            "tags": [],
            "needs_background": "light"
          }
        }
      ]
    },
    {
      "cell_type": "markdown",
      "metadata": {
        "id": "0Vq3d1M1CtXA"
      },
      "source": [
        "The code below is already implemented for you. The two dictionaries `lab2im` and `lab2lat` map labels to the images and embeddings, respectively. The function `generate_train_with_size_and_test`will be useful to generate training sets with only a few labeled examples for every class as well as test sets from these dictionaries. "
      ]
    },
    {
      "cell_type": "code",
      "metadata": {
        "id": "7MNNMnuO-vPz"
      },
      "source": [
        "lab2im = dict([(i, []) for i in labels_to_include])\n",
        "for image, label in zip(multiclass_data, multiclass_labels):\n",
        "    lab2im[label].append(image)\n",
        "\n",
        "lab2lat = dict([(i, []) for i in labels_to_include])\n",
        "for image, label in zip(multiclass_latent, multiclass_labels):\n",
        "    lab2lat[label].append(image)\n",
        "\n",
        "def generate_train_with_size_and_test(lab2vec, n_train_per_class, n_test_per_class, iter_number):\n",
        "    train_labels, train_images = [], []\n",
        "    test_labels, test_images = [], []\n",
        "    for k in lab2vec:\n",
        "      train_images.extend(lab2vec[k][iter_number:iter_number+n_train_per_class])\n",
        "      train_labels.extend([[k]]*n_train_per_class)\n",
        "      test_images.extend(lab2vec[k][-n_test_per_class:])\n",
        "      test_labels.extend([[k]]*n_test_per_class)\n",
        "    return np.array(train_images).T, np.array(train_labels).T, np.array(test_images).T, np.array(test_labels).T"
      ],
      "execution_count": 93,
      "outputs": []
    },
    {
      "cell_type": "markdown",
      "metadata": {
        "id": "mUR2_sTPLRZs"
      },
      "source": [
        "Now implement the function `compute_average_score` which does a cross-validation-like evaluation for a given number of labeled training examples per class. \n",
        "\n",
        "Specifically, it should compute the average score across `crossval_iterations`. In every iteration, it calls `generate_train_with_size_and_test` with the parameters, including the current iteration number to get a fresh train and test set. Then instantiate and score a new KNN instance, with K=3 unless n_train_per_class is equal to 1 (what should K be in that case?). Use Euclidean distance."
      ]
    },
    {
      "cell_type": "code",
      "metadata": {
        "id": "PkmGYOS-_4kS"
      },
      "source": [
        "def compute_average_score(lab2vec, n_train_per_class, n_test_per_class, crossval_iterations):\n",
        "    ''' \n",
        "    Parameters: \n",
        "      lab2vec: either lab2im or lab2lat\n",
        "      n_train_per_class: the number of labeled training samples per class\n",
        "      n_test_per_class: the number of test samples per class\n",
        "      crossval_iterations: the number of iterations to evaluate a KNN\n",
        "    Returns:\n",
        "      score: a float between 0 and 1\n",
        "    '''\n",
        "    score = 0\n",
        "    for i in range(crossval_iterations):\n",
        "        trainX, trainY, testX, testY = generate_train_with_size_and_test(lab2vec, n_train_per_class, n_test_per_class, i)\n",
        "        if n_train_per_class != 1:\n",
        "            knn = KNN(3, euclidean, trainX, trainY)\n",
        "        else:\n",
        "            knn = KNN(1, euclidean, trainX, trainY)\n",
        "        score += knn.score(testX, testY)\n",
        "    return score/crossval_iterations"
      ],
      "execution_count": 112,
      "outputs": []
    },
    {
      "cell_type": "markdown",
      "metadata": {
        "id": "4EOrO7p4Q3SC"
      },
      "source": [
        "Now use `compute_average_score` to test KNN for various numbers of labeled training samples per class. The code below then generates a common plot in machine learning, namely the learning curve: a plot of accuracy versus training set size. "
      ]
    },
    {
      "cell_type": "code",
      "metadata": {
        "id": "Lm5k2L8iKDRU",
        "colab": {
          "base_uri": "https://localhost:8080/",
          "height": 333
        },
        "outputId": "c9c9e019-b241-4c71-a85b-bc0e006689a0"
      },
      "source": [
        "#don't modify this\n",
        "test_samples_per_class = 140\n",
        "crossval_iterations = 100\n",
        "\n",
        "num_labeled_samples = [1, 3, 5, 9, 15, 25]\n",
        "embedding_scores = [compute_average_score(lab2lat, i, test_samples_per_class, crossval_iterations) for i in num_labeled_samples]\n",
        "raw_scores = [compute_average_score(lab2im, i, test_samples_per_class, crossval_iterations) for i in num_labeled_samples]\n",
        "\n",
        "print(embedding_scores, raw_scores)\n",
        "plt.plot(num_labeled_samples, embedding_scores, label='embeddings')\n",
        "plt.plot(num_labeled_samples, raw_scores, label='raw')\n",
        "plt.legend()\n",
        "plt.xlabel('number of training samples per class')\n",
        "plt.ylabel('accuracy')"
      ],
      "execution_count": 113,
      "outputs": [
        {
          "output_type": "stream",
          "text": [
            "[0.9729999999999996, 0.9757142857142851, 0.9859642857142851, 0.9944642857142854, 0.9979285714285715, 0.9993928571428572] [0.944499999999999, 0.9633214285714286, 0.9768928571428565, 0.9862142857142854, 0.9957142857142857, 0.9977142857142851]\n"
          ],
          "name": "stdout"
        },
        {
          "output_type": "execute_result",
          "data": {
            "text/plain": [
              "Text(0, 0.5, 'accuracy')"
            ]
          },
          "metadata": {
            "tags": []
          },
          "execution_count": 113
        },
        {
          "output_type": "display_data",
          "data": {
            "image/png": "[encoded data removed]",
            "text/plain": [
              "<Figure size 432x288 with 1 Axes>"
            ]
          },
          "metadata": {
            "tags": [],
            "needs_background": "light"
          }
        }
      ]
    },
    {
      "cell_type": "markdown",
      "metadata": {
        "id": "JrK-aLz1Qhns"
      },
      "source": [
        "**B)** What is the mean accuracy using cross-validation of KNN with Euclidean distance on the embeddings when only a single labeled example is available per class? Does this match your expectation?\n",
        "\n",
        "**C)** What is the mean accuracy using cross-validation of KNN with Euclidean distance on the raw pixels when only a single labeled example is available per class? Does this match your expectation?\n",
        "\n",
        "**D)** What is the mean accuracy using cross-validation of KNN with Euclidean distance on the embeddings for the following numbers of labeled examples per class: 3, 5, 9, 15, 25?\n",
        "\n",
        "**E)** What is the mean accuracy using cross-validation of KNN with Euclidean distance on the raw pixels for the following numbers of labeled examples per class: 3, 5, 9, 15, 25?\n",
        "\n",
        "**F)** What performs best on this dataset when only a few labeled examples are available: doing KNN on the embeddings or on the raw pixels?\n"
      ]
    }
  ]
}