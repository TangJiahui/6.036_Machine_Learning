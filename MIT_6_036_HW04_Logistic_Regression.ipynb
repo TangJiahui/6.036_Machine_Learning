{
  "nbformat": 4,
  "nbformat_minor": 0,
  "metadata": {
    "colab": {
      "name": "MIT 6.036 HW04 - Logistic Regression.ipynb",
      "provenance": [],
      "collapsed_sections": [],
      "include_colab_link": true
    },
    "kernelspec": {
      "name": "python3",
      "display_name": "Python 3"
    }
  },
  "cells": [
    {
      "cell_type": "markdown",
      "metadata": {
        "id": "view-in-github",
        "colab_type": "text"
      },
      "source": [
        "<a href=\"https://colab.research.google.com/github/TangJiahui/6.036_Machine_Learning/blob/main/MIT_6_036_HW04_Logistic_Regression.ipynb\" target=\"_parent\"><img src=\"https://colab.research.google.com/assets/colab-badge.svg\" alt=\"Open In Colab\"/></a>"
      ]
    },
    {
      "cell_type": "markdown",
      "metadata": {
        "id": "Wmv3jlgr4_Ji"
      },
      "source": [
        "# MIT 6.036 Spring 2020: Homework 4\n",
        "This homework does not include provided Python code. Instead, we\n",
        "encourage you to write your own code to help you answer some of these\n",
        "problems, and/or test and debug the code components we do ask for.\n",
        "Some of the problems below are simple enough that hand calculation\n",
        "should be possible; your hand solutions can serve as test cases for\n",
        "your code.  You may also find that including utilities written in\n",
        "previous labs (like a `sd` or signed distance function) will be\n",
        "helpful, as you build up additional functions and utilities for\n",
        "calculation of margins, different loss functions, gradients, and other\n",
        "functions needed for margin maximization and gradient descent."
      ]
    },
    {
      "cell_type": "code",
      "metadata": {
        "id": "N622h8-D5i-M",
        "outputId": "6913a8ee-c76d-47a6-cb48-296cda5df46b",
        "colab": {
          "base_uri": "https://localhost:8080/",
          "height": 68
        }
      },
      "source": [
        "!rm -rf code_and_data_for_hw4*\n",
        "!rm -rf mnist\n",
        "!wget --no-check-certificate --quiet https://introml.odl.mit.edu/cat-soop/_static/6.036/homework/hw04/code_and_data_for_hw04.zip\n",
        "!unzip code_and_data_for_hw04.zip\n",
        "!mv code_and_data_for_hw04/* .\n",
        "\n",
        "from code_for_hw04 import *\n",
        "import numpy as np"
      ],
      "execution_count": null,
      "outputs": [
        {
          "output_type": "stream",
          "text": [
            "Archive:  code_and_data_for_hw04.zip\n",
            "  inflating: code_and_data_for_hw04/code_for_hw04.py  \n",
            "Importing code_for_hw04\n"
          ],
          "name": "stdout"
        }
      ]
    },
    {
      "cell_type": "markdown",
      "metadata": {
        "id": "jUS51a8m5rEI"
      },
      "source": [
        "## 3) Implementing gradient descent\n",
        "In this section we will implement generic versions of gradient descent and apply these to the logistic regression objective.\n",
        "\n",
        "<b>Note: </b> If you need a refresher on gradient descent,\n",
        "you may want to reference\n",
        "<a href=\"https://lms.mitx.mit.edu/courses/course-v1:MITx+6.036+2019_Fall/courseware/Week4/gradient_descent/5\">this week's notes</a>.\n",
        "\n",
        "### 3.1) Implementing Gradient Descent\n",
        "We want to find the $x$ that minimizes the value of the *objective\n",
        "function* $f(x)$, for an arbitrary scalar function $f$.  The function\n",
        "$f$ will be implemented as a Python function of one argument, that\n",
        "will be a numpy column vector.  For efficiency, we will work with\n",
        "Python functions that return not just the value of $f$ at $f(x)$ but\n",
        "also return the gradient vector at $x$, that is, $\\nabla_x f(x)$.\n",
        "\n",
        "We will now implement a generic gradient descent function, `gd`, that\n",
        "has the following input arguments:\n",
        "\n",
        "* `f`: a function whose input is an `x`, a column vector, and\n",
        "  returns a scalar.\n",
        "* `df`: a function whose input is an `x`, a column vector, and\n",
        "  returns a column vector representing the gradient of `f` at `x`.\n",
        "* `x0`: an initial value of $x$, `x0`, which is a column vector.\n",
        "* `step_size_fn`: a function that is given the iteration index (an\n",
        "  integer) and returns a step size.\n",
        "* `num_steps`: the number of iterations to perform\n",
        "\n",
        "Our function `gd` returns a tuple:\n",
        "\n",
        "* x: the value at the final step\n",
        "* fx: the value of f(x) at the final step\n",
        "\n",
        "**Hint:** This is a short function!"
      ]
    },
    {
      "cell_type": "markdown",
      "metadata": {
        "id": "s03NFuxG6kvt"
      },
      "source": [
        "The main function to implement is `gd`, defined below."
      ]
    },
    {
      "cell_type": "code",
      "metadata": {
        "id": "WqxG7XgJXWBm"
      },
      "source": [
        "def f1(x):\n",
        "    return float((2 * x + 3)**2)\n",
        "\n",
        "def df1(x):\n",
        "    return 2 * 2 * (2 * x + 3)\n",
        "\n",
        "def f2(v):\n",
        "    x = float(v[0]); y = float(v[1])\n",
        "    return (x - 2.) * (x - 3.) * (x + 3.) * (x + 1.) + (x + y -1)**2\n",
        "\n",
        "def df2(v):\n",
        "    x = float(v[0]); y = float(v[1])\n",
        "    return cv([(-3. + x) * (-2. + x) * (1. + x) + \\\n",
        "               (-3. + x) * (-2. + x) * (3. + x) + \\\n",
        "               (-3. + x) * (1. + x) * (3. + x) + \\\n",
        "               (-2. + x) * (1. + x) * (3. + x) + \\\n",
        "               2 * (-1. + x + y),\n",
        "               2 * (-1. + x + y)])"
      ],
      "execution_count": null,
      "outputs": []
    },
    {
      "cell_type": "code",
      "metadata": {
        "id": "1SIX2jc6XYiG",
        "outputId": "6b9027b5-7862-4a46-fbd3-15cb30a7c3a8",
        "colab": {
          "base_uri": "https://localhost:8080/",
          "height": 34
        }
      },
      "source": [
        "df1(8)"
      ],
      "execution_count": null,
      "outputs": [
        {
          "output_type": "execute_result",
          "data": {
            "text/plain": [
              "76"
            ]
          },
          "metadata": {
            "tags": []
          },
          "execution_count": 4
        }
      ]
    },
    {
      "cell_type": "code",
      "metadata": {
        "id": "mNsLE3bg6jt9"
      },
      "source": [
        "def gd(f, df, x0, step_size_fn, num_steps):\n",
        "    x_prev = x0\n",
        "    for t in range(num_steps):\n",
        "        step_size = step_size_fn(t)\n",
        "        x = x_prev - step_size * df(x_prev)\n",
        "        x_prev = x\n",
        "    return (x, f(x))"
      ],
      "execution_count": null,
      "outputs": []
    },
    {
      "cell_type": "code",
      "metadata": {
        "id": "qLaZ6-4DccFO"
      },
      "source": [
        "def package_ans(gd_vals):\n",
        "    x, fx = gd_vals\n",
        "    return [x.tolist(), fx]"
      ],
      "execution_count": null,
      "outputs": []
    },
    {
      "cell_type": "code",
      "metadata": {
        "id": "Wg5T-ZG5Z7LG"
      },
      "source": [
        "# Test case 1\n",
        "ans=package_ans(gd(f1, df1, cv([0.]), lambda i: 0.1, 1000))\n",
        "\n",
        "# Test case 2\n",
        "ans=package_ans(gd(f2, df2, cv([0., 0.]), lambda i: 0.01, 1000))"
      ],
      "execution_count": null,
      "outputs": []
    },
    {
      "cell_type": "code",
      "metadata": {
        "id": "kU00IKO7aLAz",
        "outputId": "dc593a93-25fe-4f15-b730-2e7c707280f8",
        "colab": {
          "base_uri": "https://localhost:8080/",
          "height": 34
        }
      },
      "source": [
        "ans"
      ],
      "execution_count": null,
      "outputs": [
        {
          "output_type": "execute_result",
          "data": {
            "text/plain": [
              "[[[-2.2058239041648853], [3.205823890926977]], -20.967239611348752]"
            ]
          },
          "metadata": {
            "tags": []
          },
          "execution_count": 28
        }
      ]
    },
    {
      "cell_type": "markdown",
      "metadata": {
        "id": "jXu60n-H5_Hz"
      },
      "source": [
        "To evaluate results, we also use a simple `package_ans` function,\n",
        "which checks the final `x` and `fx` values."
      ]
    },
    {
      "cell_type": "markdown",
      "metadata": {
        "id": "aN_XbacQ6Rue"
      },
      "source": [
        "The test cases are provided below, but you should feel free (and are encouraged!) to write more of your own."
      ]
    },
    {
      "cell_type": "code",
      "metadata": {
        "id": "GJcClaqN4nE6",
        "outputId": "d7d42083-579c-4fce-8e95-98dd462b4e60",
        "colab": {
          "base_uri": "https://localhost:8080/",
          "height": 85
        }
      },
      "source": [
        "test_gd(gd)"
      ],
      "execution_count": null,
      "outputs": [
        {
          "output_type": "stream",
          "text": [
            "Test 1:\n",
            "Passed!\n",
            "Test 2:\n",
            "Passed!\n"
          ],
          "name": "stdout"
        }
      ]
    },
    {
      "cell_type": "markdown",
      "metadata": {
        "id": "pbuSt5hY645k"
      },
      "source": [
        "### 3.2) Numerical Gradient\n",
        "Getting the analytic gradient correct for complicated functions is\n",
        "tricky.  A very handy method of verifying the analytic gradient or\n",
        "even substituting for it is to estimate the gradient at a point by\n",
        "means of *finite differences*.\n",
        "\n",
        "Assume that we are given a function $f(x)$ that takes a column vector\n",
        "as its argument and returns a scalar value.  In gradient descent, we\n",
        "will want to estimate the gradient of $f$ at a particular $x_0.$\n",
        "\n",
        "The $i^{th}$ component of $\\nabla_x f(x_0)$ can be estimated as\n",
        "$$\\frac{f(x_0+\\delta^{i}) - f(x_0-\\delta^{i})}{2\\delta}$$\n",
        "where $\\delta^{i}$ is a column vector whose $i^{th}$ coordinate is\n",
        "$\\delta$, a small constant such as 0.001, and whose other components\n",
        "are zero.\n",
        "Note that adding or subtracting $\\delta^{i}$ is the same as\n",
        "incrementing or decrementing the $i^{th}$ component of $x_0$ by\n",
        "$\\delta$, leaving the other components of $x_0$ unchanged.  Using\n",
        "these results, we can estimate the $i^{th}$ component of the gradient.\n",
        "\n",
        "\n",
        "**For example**, take $x^(0) = (1,2,3)^T$. The gradient $\\nabla_x f(x)$ is a vector of the derivatives of $f(x)$ with respect to each component of $x$, or $\\nabla_x f(x) = (\\frac{df(x)}{dx_1},\\frac{df(x)}{dx_2},\\frac{df(x)}{dx_3})^T$.\n",
        "\n",
        "We can approximate the first component of $\\nabla_x f(x)$ as\n",
        "$$\\frac{f((1,2,3)^T+(0.01,0,0)^T) - f((1,2,3)^T-(0.01,0,0)^T)}{2\\cdot 0.01}.$$\n",
        "\n",
        "(We add the transpose so that these are column vectors.)\n",
        "**This process should be done for each dimension independently,\n",
        "and together the results of each computation are compiled to give the\n",
        "estimated gradient, which is $d$ dimensional.**\n",
        "\n",
        "Implement this as a function `num_grad` that takes as arguments the\n",
        "objective function `f` and a value of `delta`, and returns a new\n",
        "**function** that takes an `x` (a column vector of parameters) and\n",
        "returns a gradient column vector.\n",
        "\n",
        "**Note:** Watch  out for aliasing. If you do temp_x = x where x is a vector (numpy array), then temp_x is just another name for the same vector as x and changing an entry in one will change an entry in the other. You should either use x.copy() or remember to change entries back after modification."
      ]
    },
    {
      "cell_type": "code",
      "metadata": {
        "id": "WPVwGZ-l6XvW"
      },
      "source": [
        "def num_grad(f, delta=0.001):\n",
        "    def df(x):\n",
        "        temp_x = x.copy()\n",
        "        d = x.shape[0]\n",
        "        for i in range(d):\n",
        "            sigma = np.zeros((d,1))\n",
        "            sigma[i][0] = delta\n",
        "            temp_x[i][0] = (f(x + sigma) - f(x-sigma))/(2*delta)\n",
        "        return temp_x\n",
        "    return df"
      ],
      "execution_count": null,
      "outputs": []
    },
    {
      "cell_type": "markdown",
      "metadata": {
        "id": "kElTR0bL7cbG"
      },
      "source": [
        "The test cases are shown below; these use the functions defined in the previous exercise.\n"
      ]
    },
    {
      "cell_type": "code",
      "metadata": {
        "id": "iiWOdSl_6yAE",
        "outputId": "e90de95c-d1f6-4555-e7c9-bca984c47d9c",
        "colab": {
          "base_uri": "https://localhost:8080/",
          "height": 153
        }
      },
      "source": [
        "test_num_grad(num_grad)"
      ],
      "execution_count": null,
      "outputs": [
        {
          "output_type": "stream",
          "text": [
            "Test 1\n",
            "Passed\n",
            "Test 2\n",
            "Passed\n",
            "Test 3\n",
            "Passed\n",
            "Test 4\n",
            "Passed\n"
          ],
          "name": "stdout"
        }
      ]
    },
    {
      "cell_type": "markdown",
      "metadata": {
        "id": "WASaSsYu75sG"
      },
      "source": [
        "A faster (one function evaluation per entry), though sometimes less\n",
        "accurate, estimate is to use:\n",
        "$$\\frac{f(x_0+\\delta^{i}) - f(x_0)}{\\delta}$$\n",
        "for the $i^{th}$ component of $\\nabla_x f(x_0).$"
      ]
    },
    {
      "cell_type": "markdown",
      "metadata": {
        "id": "E31sdqyG78jD"
      },
      "source": [
        "### 3.3) Using the Numerical Gradient\n",
        "Recall that our generic gradient descent function takes both a function\n",
        "`f` that returns the value of our function at a given point, and `df`,\n",
        "a function that returns a gradient at a given point.  Write a function\n",
        "`minimize` that takes only a function `f` and uses this function and\n",
        "numerical gradient descent to return the local minimum.  We have\n",
        "provided you with our implementations of `num_grad` and `gd`, so you\n",
        "should not redefine them in the code box below.\n",
        "You may use the default of `delta=0.001` for `num_grad`.\n",
        "\n",
        "**Hint:** Your definition of `minimize` should call `num_grad` exactly\n",
        "once, to return a function that is called many times.\n",
        "You should return the same outputs as `gd`."
      ]
    },
    {
      "cell_type": "code",
      "metadata": {
        "id": "CStwqDem76Bx"
      },
      "source": [
        "def minimize(f, x0, step_size_fn, num_steps):\n",
        "    \"\"\"\n",
        "    Parameters:\n",
        "      See definitions in part 1\n",
        "    Returns:\n",
        "      same output as gd\n",
        "    \"\"\"\n",
        "    df = num_grad(f, delta=0.001)\n",
        "    x_prev = x0\n",
        "    for t in range(num_steps):\n",
        "        step_size = step_size_fn(t)\n",
        "        x = x_prev - step_size * df(x_prev)\n",
        "        x_prev = x\n",
        "    return (x, f(x))"
      ],
      "execution_count": null,
      "outputs": []
    },
    {
      "cell_type": "markdown",
      "metadata": {
        "id": "4gl0FTby8EQq"
      },
      "source": [
        "The test cases are below."
      ]
    },
    {
      "cell_type": "code",
      "metadata": {
        "id": "UxBLWJFm8DnV",
        "outputId": "aa538e63-f60d-4bfe-ab95-b9fb9f82257d",
        "colab": {
          "base_uri": "https://localhost:8080/",
          "height": 85
        }
      },
      "source": [
        "test_minimize(minimize)"
      ],
      "execution_count": null,
      "outputs": [
        {
          "output_type": "stream",
          "text": [
            "Test 1\n",
            "Passed\n",
            "Test 2\n",
            "Passed\n"
          ],
          "name": "stdout"
        }
      ]
    },
    {
      "cell_type": "markdown",
      "metadata": {
        "id": "BH-1e98V8LtM"
      },
      "source": [
        "## 4) Applying gradient descent to Linear Logistic Classification objective\n",
        "\n",
        "**Note:** In this section,\n",
        "you will code many individual functions, each of which depends on previous ones.\n",
        "We **strongly recommend** that you test each of the components on your own to debug.\n",
        "\n",
        "### 4.1) Calculating the Linear Logistic Classification (LLC) objective\n",
        "\n",
        "First, implement the sigmoid function and implement NLL loss over the data points and separator.\n",
        "Using the latter function, implement the LLC objective.\n",
        "Note that these functions should work for matrix/vector arguments,\n",
        "so that we can compute the objective for a whole dataset with one call.\n",
        "\n",
        "Note that `X` <b>(Upper case X is the dataset here)</b>  is $d \\times n$, `y` is $1 \\times n$, `th` is $d \\times 1$, `th0` is $1 \\times 1$, `lam` is a scalar.\n"
      ]
    },
    {
      "cell_type": "code",
      "metadata": {
        "id": "F_6E78BF8e2W"
      },
      "source": [
        "# z is a column vector\n",
        "# returns a vector of the same shape as z\n",
        "def sigmoid(z):\n",
        "    return 1/(1+np.exp(-z))\n",
        "\n",
        "# X is dxn, y is 1xn, th is dx1, th0 is 1x1\n",
        "# returns a (1,n) array for the nll loss for each data point given th and th0 \n",
        "def nll_loss(X, y, th, th0):\n",
        "    g = sigmoid((np.dot(th.T,X) + th0))\n",
        "    return -(y*np.log(g) + (1-y)*np.log(1-g))\n",
        "\n",
        "# X is dxn, y is 1xn, th is dx1, th0 is 1x1, lam is a scalar\n",
        "# returns a float for the llc objective over the dataset\n",
        "def llc_obj(X, y, th, th0, lam):\n",
        "    return np.mean(nll_loss(X, y, th, th0)) + lam*(np.sum(th*th))"
      ],
      "execution_count": null,
      "outputs": []
    },
    {
      "cell_type": "code",
      "metadata": {
        "id": "POFvK7zW8iYK",
        "outputId": "5c119275-c5e3-496a-94ec-e6bf811cbb42",
        "colab": {
          "base_uri": "https://localhost:8080/",
          "height": 68
        }
      },
      "source": [
        "test_llc_obj(sigmoid, nll_loss, llc_obj)"
      ],
      "execution_count": null,
      "outputs": [
        {
          "output_type": "stream",
          "text": [
            "Test 1 passed\n",
            "Test 2 passed\n",
            "Test 3 passed\n"
          ],
          "name": "stdout"
        }
      ]
    },
    {
      "cell_type": "markdown",
      "metadata": {
        "id": "ZjBB0R4u8tF1"
      },
      "source": [
        "### 4.2) Calculating the Linear Logistic Classification gradient\n",
        "\n",
        "Define a function `llc_obj_grad` that returns the gradient of the logistic regression\n",
        "objective function with respect to $\\theta$ and $\\theta_0$ in a single\n",
        "column vector.  The last component of the gradient vector should be\n",
        "the partial derivative with respect to $\\theta_0$.  Look at\n",
        "`np.vstack` as a simple way of stacking two matrices/vectors\n",
        "vertically.  We have broken it down into pieces that mimic steps in\n",
        "the chain rule; this leads to code that is a bit inefficient but\n",
        "easier to write and debug.  We can worry about efficiency later.\n",
        "\n",
        "Each of the test cases we provide corresponds to a function below in order. Feel free to run the tests after you finish each function to check."
      ]
    },
    {
      "cell_type": "code",
      "metadata": {
        "id": "lAtDiGVK8vnt"
      },
      "source": [
        "# returns a (1,1) array for the gradient of sigmoid with respect to its input z\n",
        "def d_sigmoid(z):\n",
        "    return np.exp(-z)*(1+np.exp(-z))**(-2)\n",
        "\n",
        "# returns a (d,n) array for the gradient of nll_loss(X, y, th, th0) with respect to th for each data point\n",
        "def d_nll_loss_th(X, y, th, th0):\n",
        "    g = sigmoid((np.dot(th.T,X) + th0))\n",
        "    return (g-y)*X\n",
        "\n",
        "# returns a (1,n) array for the gradient of nll_loss(X, y, th, th0) with respect to th0\n",
        "def d_nll_loss_th0(X, y, th, th0):\n",
        "    g = sigmoid((np.dot(th.T,X) + th0))\n",
        "    return g-y\n",
        "    \n",
        "# returns a (d,1) array for the gradient of llc_obj(X, y, th, th0) with respect to th\n",
        "def d_llc_obj_th(X, y, th, th0, lam):\n",
        "    #return np.mean(np.sum(d_nll_loss_th(X, y, th, th0))) + 2*lam*th\n",
        "    return np.mean(d_nll_loss_th(X, y, th, th0), axis=1, keepdims=True)+ 2 * lam * th\n",
        "\n",
        "\n",
        "# returns a (1,1) array for the gradient of llc_obj(X, y, th, th0) with respect to th0\n",
        "def d_llc_obj_th0(X, y, th, th0, lam):\n",
        "    return np.mean(d_nll_loss_th0(X, y, th, th0), keepdims=True)\n",
        "\n",
        "# returns a (d+1, 1) array for the full gradient as a single vector (which includes both th, th0)\n",
        "def llc_obj_grad(X, y, th, th0, lam):\n",
        "    return np.vstack((d_llc_obj_th(X, y, th, th0, lam), d_llc_obj_th0(X, y, th, th0, lam)))"
      ],
      "execution_count": null,
      "outputs": []
    },
    {
      "cell_type": "code",
      "metadata": {
        "id": "LZM43bW8x26H"
      },
      "source": [
        "def super_simple_separable():\n",
        "    X = np.array([[2, 3, 9, 12],\n",
        "                  [5, 2, 6, 5]])\n",
        "    y = np.array([[1, 0, 1, 0]])\n",
        "    return X, y\n",
        "\n",
        "sep_e_separator = np.array([[-0.40338351], [1.1849563]]), np.array([[-2.26910091]])\n",
        "\n",
        "# Test case 1\n",
        "x_1, y_1 = super_simple_separable()\n",
        "th1, th1_0 = sep_e_separator\n",
        "ans = llc_obj(x_1, y_1, th1, th1_0, .1)\n",
        "\n",
        "# Test case 2\n",
        "ans = llc_obj(x_1, y_1, th1, th1_0, 0.0)"
      ],
      "execution_count": null,
      "outputs": []
    },
    {
      "cell_type": "markdown",
      "metadata": {
        "id": "LDP6H_2P80vm"
      },
      "source": [
        "Some test cases that may be of use are provided below."
      ]
    },
    {
      "cell_type": "code",
      "metadata": {
        "id": "xNuF6-c38yji",
        "outputId": "acba5828-922e-4680-a107-7fbf22e7627e",
        "colab": {
          "base_uri": "https://localhost:8080/",
          "height": 119
        }
      },
      "source": [
        "test_llc_grad(d_sigmoid,d_nll_loss_th,d_nll_loss_th0,d_llc_obj_th,d_llc_obj_th0,llc_obj_grad)"
      ],
      "execution_count": null,
      "outputs": [
        {
          "output_type": "stream",
          "text": [
            "Test 1 passed\n",
            "Test 2 passed\n",
            "Test 3 passed\n",
            "Test 4 passed\n",
            "Test 5 passed\n",
            "Test 6 passed\n"
          ],
          "name": "stdout"
        }
      ]
    },
    {
      "cell_type": "markdown",
      "metadata": {
        "id": "3vf6OFEU89pC"
      },
      "source": [
        "### 4.3) Linear Logistic Classification minimize\n",
        "\n",
        "Putting it all together, use the functions you built earlier to write\n",
        "a gradient descent minimizer for the LLC objective.  You do not need\n",
        "to paste in your previous definitions; you can just call the ones\n",
        "you've defined above.  You will need to call `gd`; your function `llc_min` should return\n",
        "the values that `gd` does.\n",
        "\n",
        "* Initialize all the separator parameters to zero,\n",
        "* use the step size function provided below, and\n",
        "* specify 10 iterations."
      ]
    },
    {
      "cell_type": "code",
      "metadata": {
        "id": "dIqWIYnq8_Nb"
      },
      "source": [
        "def llc_min(data, labels, lam):\n",
        "    \"\"\"\n",
        "    Parameters:\n",
        "        data: (d,n) array\n",
        "        labels: (1,n) array\n",
        "        lam: scalar\n",
        "    Returns:\n",
        "        same output as gd\n",
        "    \"\"\"\n",
        "    d = data.shape[0]\n",
        "    th = np.zeros((d,1))\n",
        "    th_0 = np.zeros((1,1))\n",
        "    x0 = np.vstack((th, th_0))\n",
        "    def f(x):\n",
        "        return llc_obj(data, labels, x[0:d,:], x[d:,:], lam)\n",
        "    def df(x):\n",
        "        return llc_obj_grad(data, labels, x[0:d,:], x[d:,:], lam)\n",
        "    def llc_min_step_size_fn(i):\n",
        "       return 2/(i+1)**0.5\n",
        "    return gd(f, df, x0, llc_min_step_size_fn, 10)"
      ],
      "execution_count": null,
      "outputs": []
    },
    {
      "cell_type": "code",
      "metadata": {
        "id": "2_sHGXijI8Jm"
      },
      "source": [
        "def gd(f, df, x0, step_size_fn, num_steps):\n",
        "    x_prev = x0\n",
        "    for t in range(num_steps):\n",
        "        step_size = step_size_fn(t)\n",
        "        x = x_prev - step_size * df(x_prev)\n",
        "        x_prev = x\n",
        "    return (x, f(x))"
      ],
      "execution_count": null,
      "outputs": []
    },
    {
      "cell_type": "code",
      "metadata": {
        "id": "6tQKraGeKmNk"
      },
      "source": [
        "th = np.zeros((X.shape[0],1))\n",
        "th_0 = np.zeros((1,1))\n",
        "x0 = np.vstack((th, th_0))"
      ],
      "execution_count": null,
      "outputs": []
    },
    {
      "cell_type": "code",
      "metadata": {
        "id": "te3_oTDnKtYN"
      },
      "source": [
        "X = np.array([[2, 3, 9, 12],[5, 2, 6, 5]])"
      ],
      "execution_count": null,
      "outputs": []
    },
    {
      "cell_type": "code",
      "metadata": {
        "id": "5BDYvtEDK44n"
      },
      "source": [
        "d = X.shape[0]\n",
        "th = np.zeros((d,1))\n",
        "th_0 = np.zeros((1,1))\n",
        "x0 = np.vstack((th, th_0))"
      ],
      "execution_count": null,
      "outputs": []
    },
    {
      "cell_type": "code",
      "metadata": {
        "id": "3NwhgcFtLtE9",
        "outputId": "352db014-605b-4936-b16e-fec8525938fa",
        "colab": {
          "base_uri": "https://localhost:8080/",
          "height": 34
        }
      },
      "source": [
        "x0[d:,:]"
      ],
      "execution_count": null,
      "outputs": [
        {
          "output_type": "execute_result",
          "data": {
            "text/plain": [
              "array([[0.]])"
            ]
          },
          "metadata": {
            "tags": []
          },
          "execution_count": 159
        }
      ]
    },
    {
      "cell_type": "markdown",
      "metadata": {
        "id": "JH4xd7C-9BIm"
      },
      "source": [
        "Test cases are shown below, where an additional separable test\n",
        "data set has been specified."
      ]
    },
    {
      "cell_type": "code",
      "metadata": {
        "id": "HgOC_i879Acd",
        "outputId": "8fb22f76-3c70-4fd5-aa3b-b9369ff7640c",
        "colab": {
          "base_uri": "https://localhost:8080/",
          "height": 51
        }
      },
      "source": [
        "test_llc_min(llc_min)"
      ],
      "execution_count": null,
      "outputs": [
        {
          "output_type": "stream",
          "text": [
            "Test 1 passed\n",
            "Test 2 passed\n"
          ],
          "name": "stdout"
        }
      ]
    }
  ]
}