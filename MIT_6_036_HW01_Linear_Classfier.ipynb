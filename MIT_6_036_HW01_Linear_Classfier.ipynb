{
  "nbformat": 4,
  "nbformat_minor": 0,
  "metadata": {
    "colab": {
      "name": "MIT 6.036 HW01 Linear Classfier.ipynb",
      "provenance": [],
      "collapsed_sections": [],
      "include_colab_link": true
    },
    "kernelspec": {
      "name": "python3",
      "display_name": "Python 3"
    }
  },
  "cells": [
    {
      "cell_type": "markdown",
      "metadata": {
        "id": "view-in-github",
        "colab_type": "text"
      },
      "source": [
        "<a href=\"https://colab.research.google.com/github/TangJiahui/6.036_Machine_Learning/blob/main/MIT_6_036_HW01_Linear_Classfier.ipynb\" target=\"_parent\"><img src=\"https://colab.research.google.com/assets/colab-badge.svg\" alt=\"Open In Colab\"/></a>"
      ]
    },
    {
      "cell_type": "markdown",
      "metadata": {
        "id": "thM1ljGhfpi9"
      },
      "source": [
        "# Homework 1 -- Colab Notebook\n",
        "\n",
        "**If you haven't already, please hit :**\n",
        "\n",
        "`File` -> `Save a Copy in Drive`\n",
        "\n",
        "**to copy this notebook to your Google drive, and work on a copy. If you don't do this, your changes won't be saved!**\n"
      ]
    },
    {
      "cell_type": "markdown",
      "metadata": {
        "id": "gGQ5kH4Ivf_5"
      },
      "source": [
        "---"
      ]
    },
    {
      "cell_type": "markdown",
      "metadata": {
        "id": "3jB5Gre2oZhQ"
      },
      "source": [
        "## Intro to Colab"
      ]
    },
    {
      "cell_type": "markdown",
      "metadata": {
        "id": "T6fMHkONg6wm"
      },
      "source": [
        "Hello! Welcome to Colab! This colab notebook is intended to be a space for you to draft, debug, and test your code for Homework 1.\n",
        "\n",
        "Two things to note:\n",
        "\n",
        "* Any debugging should be done here instead of the homework page, as you'll get much more helpful output messages here.\n",
        "\n",
        "* As a reminder, you need to copy your answer to the homework page and hit `Submit` to actually claim your points.\n",
        "\n",
        "\n",
        "A Colab notebook is a Google-hosted IPython/Jupyter notebook. If you're already familiar with Colab and/or Jupyter notebooks, feel free to skip ahead to problem 1.\n",
        "\n",
        "If you're unfamiliar with Colab, please take a look at: https://colab.research.google.com/notebooks/basic_features_overview.ipynb"
      ]
    },
    {
      "cell_type": "code",
      "metadata": {
        "id": "BPsFUAMxu1sq",
        "outputId": "02a04d8d-0b3b-43ca-f3d8-e6f328278885",
        "colab": {
          "base_uri": "https://localhost:8080/",
          "height": 34
        }
      },
      "source": [
        "# Hi! I am a code cell! You can run me by hovering over [] to the left and hitting 'play'!\n",
        "print('Hello! You just ran a cell!')"
      ],
      "execution_count": null,
      "outputs": [
        {
          "output_type": "stream",
          "text": [
            "Hello! You just ran a cell!\n"
          ],
          "name": "stdout"
        }
      ]
    },
    {
      "cell_type": "markdown",
      "metadata": {
        "id": "MAf9orvrvoTt"
      },
      "source": [
        "# Homework 1 Content Begins Here"
      ]
    },
    {
      "cell_type": "markdown",
      "metadata": {
        "id": "dE6ggjTyn5oL"
      },
      "source": [
        "To start, please run the following cell:"
      ]
    },
    {
      "cell_type": "code",
      "metadata": {
        "id": "craNf5u_nmUd"
      },
      "source": [
        "# Run this cell to enable checking your code.\n",
        "!rm -f hw01_tests.py\n",
        "!wget --quiet https://introml.odl.mit.edu/cat-soop/_static/6.036/homework/hw01/hw01_tests.py --no-check-certificate\n",
        "from hw01_tests import *"
      ],
      "execution_count": null,
      "outputs": []
    },
    {
      "cell_type": "markdown",
      "metadata": {
        "id": "hcprJ119HrRA"
      },
      "source": [
        "## IMPORTANT!\n",
        "\n",
        "**Make sure you rerun the cell with your function/answer before running the test cell underneath it!**"
      ]
    },
    {
      "cell_type": "markdown",
      "metadata": {
        "id": "DYq_ahQ-pLUd"
      },
      "source": [
        "# 1) Numpy"
      ]
    },
    {
      "cell_type": "markdown",
      "metadata": {
        "id": "yLwUZRZ9kSBP"
      },
      "source": [
        "Machine learning algorithms almost always boil down to matrix computations, so we'll need a way to efficiently work with matrices.\n",
        "\n",
        "`numpy` is a package for doing a variety of numerical computations in Python that supports writing very compact and efficient code for handling arrays of data. It is used extensively in many fields requiring numerical analysis, so it is worth getting to know.\n",
        "\n",
        "We will start every code file that uses `numpy` with `import numpy as np`, so that we can reference `numpy` functions with the `np.` precedent. The fundamental data type in numpy is the multidimensional array, and arrays are usually generated from a nested list of values using the `np.array` command. Every `array` has a `shape` attribute which is a tuple of dimension sizes.\n",
        "\n",
        "In this class, we will use two-dimensional arrays almost exclusively.  That is, **we will use 2D arrays to represent both matrices and vectors!**  This is one of several times where we will seem to be unnecessarily fussy about how we construct and manipulate vectors and matrices, but we have our reasons.   Even if `[[1,2,3]]` and `[1,2,3]` may look the same to us, numpy functions can behave differently depending on which format you use. The first has two dimensions (it's a list of lists), while the second has only one (it's a single list). Using only 2D arrays for both matrices and vectors gives us predictable results from numpy operations.\n",
        "\n",
        "Using 2D arrays for matrices is clear enough, but what about column and row vectors? We will represent a column vector as a $d\\times 1$ array and a row vector as a $1\\times d$\n",
        "array.  So for example, we will represent the three-element column vector,\n",
        "$$\n",
        "x =\n",
        "\\left[\n",
        "\\begin{array}{c}\n",
        "1 \\\\\n",
        "5 \\\\\n",
        "3 \\\\\n",
        "\\end{array}\n",
        "\\right],\n",
        "$$\n",
        "as a $ 3 \\times 1 $ `numpy` array.  This array can be generated with\n",
        "\n",
        "$~~~$<tt> x = np.array([[1],[5],[3]]), </tt>\n",
        "\n",
        "or by using the transpose of a $ 1 \\times 3 $ array (a row vector) as in,\n",
        "\n",
        "$~~~$<tt> x = np.transpose(np.array([[1,5,3]]),</tt>\n",
        "\n",
        "where you should take note of the \"double\" brackets.\n",
        "\n",
        "It is often more convenient to use the array attribute <tt> .T </tt>, as in\n",
        "\n",
        "$~~~$<tt> x = np.array([[1,5,3]]).T </tt>\n",
        "\n",
        "to compute the transpose.\n",
        "\n",
        "Before you begin, we would like to note that in this assignment we will not accept answers that use \"loops\".   One reason for avoiding loops is efficiency. For many operations, numpy calls a compiled library written in C,  and the library is far faster than that interpreted Python (in part due to the low-level nature of C, optimizations like vectorization, and in some cases, parallelization).  But the more important reason for avoiding loops is that using higher-level constructs leads to simpler code that is easier to debug. So, we expect that you should be able to transform loop operations into equivalent operations on numpy arrays, and we will practice this in this assignment.\n",
        "\n",
        "Of course, there will be more complex algorithms that require loops, but when manipulating matrices you should always look for a solution without loops.\n",
        "\n",
        "You can find general documentation on `numpy` <a href=\"https://docs.scipy.org/doc/numpy/user/quickstart.html\" target=\"_blank\">here</a>.\n",
        "\n",
        "Numpy functions and features you should be familiar with for this assignment:\n",
        "\n",
        "* <tt><a href=\"https://docs.scipy.org/doc/numpy/reference/generated/numpy.array.html\" target=\"_blank\">np.array</a></tt>\n",
        "* <tt><a href=\"https://docs.scipy.org/doc/numpy/reference/generated/numpy.transpose.html\" target=\"_blank\">np.transpose</a></tt> (and the equivalent method <tt>a.T</tt>)\n",
        "* <tt><a href=\"https://docs.scipy.org/doc/numpy/reference/generated/numpy.ndarray.shape.html\" target=\"_blank\">np.ndarray.shape</a></tt>\n",
        "* <tt><a href=\"https://docs.scipy.org/doc/numpy/reference/generated/numpy.dot.html\" target=\"_blank\">np.dot</a></tt> (and the equivalent method <tt>a.dot(b)</tt> )\n",
        "* <tt><a href=\"https://docs.scipy.org/doc/numpy/reference/generated/numpy.sign.html\" target=\"_blank\">np.sign</a></tt>\n",
        "* <tt><a href=\"https://docs.scipy.org/doc/numpy/reference/generated/numpy.sum.html\" target=\"_blank\">np.sum</a></tt> (look at the <tt>axis</tt> and <tt>keepdims</tt> arguments)\n",
        "* Elementwise operators <tt>+, -, *, /</tt>\n",
        "\n",
        "**Note that in Python, `np.dot(a, b)` is the matrix product `a@b`, not the dot product $a^T b$.**\n",
        "\n",
        "\n",
        "If you're unfamiliar with numpy and want to see some examples of how to use it, please see this link: <a href=\"https://lms.mitx.mit.edu/courses/course-v1:MITx+6.036+2020_Fall/courseware/welcome/Numpy_Tutorial/\" target=\"_blank\">Some Numpy Examples</a>.\n"
      ]
    },
    {
      "cell_type": "markdown",
      "metadata": {
        "id": "6QyGPuVtRX7Y"
      },
      "source": [
        "## 1.1) Array Basics"
      ]
    },
    {
      "cell_type": "markdown",
      "metadata": {
        "id": "00E0H1sFRfKZ"
      },
      "source": [
        "### 1.1a) Creating Arrays\n"
      ]
    },
    {
      "cell_type": "markdown",
      "metadata": {
        "id": "dmV0pdQ4Rhcx"
      },
      "source": [
        "Provide an expression that sets `A` to be a $2\\times 3$ array (2 rows by 3 columns), containing any values you wish."
      ]
    },
    {
      "cell_type": "code",
      "metadata": {
        "id": "EHtowTI7RqXl"
      },
      "source": [
        "import numpy as np\n",
        "A = np.array([[1,1,1],[1,1,1]])"
      ],
      "execution_count": null,
      "outputs": []
    },
    {
      "cell_type": "code",
      "metadata": {
        "id": "8LPRrEhrRsvV",
        "outputId": "7f2ef8cf-6745-4960-f330-c1cfdbe15348",
        "colab": {
          "base_uri": "https://localhost:8080/",
          "height": 68
        }
      },
      "source": [
        "# Run this cell to test your implementation.\n",
        "TestCreateArray(A)"
      ],
      "execution_count": null,
      "outputs": [
        {
          "output_type": "stream",
          "text": [
            "Test case passed!\n",
            "----------------------------\n",
            "All tests passed!\n"
          ],
          "name": "stdout"
        }
      ]
    },
    {
      "cell_type": "markdown",
      "metadata": {
        "id": "De_ynsG8RwV6"
      },
      "source": [
        "### 1.1b) Transpose"
      ]
    },
    {
      "cell_type": "markdown",
      "metadata": {
        "id": "DBZHHcplR53A"
      },
      "source": [
        "Write a procedure that takes an array and returns the transpose of the array. You can use `np.transpose` or the property `T`, but you may not use loops.\n",
        "\n",
        "Note: as with other coding problems in 6.036 you do not need to call the procedure; it will be called/tested when submitted."
      ]
    },
    {
      "cell_type": "code",
      "metadata": {
        "id": "BT0hUzT5SHMW"
      },
      "source": [
        "import numpy as np\n",
        "def tp(A):\n",
        "    return A.T"
      ],
      "execution_count": null,
      "outputs": []
    },
    {
      "cell_type": "code",
      "metadata": {
        "id": "STVJvdwXSOSD",
        "outputId": "b4bde1c5-46dc-4e1f-bad2-66c578e8b10c",
        "colab": {
          "base_uri": "https://localhost:8080/",
          "height": 119
        }
      },
      "source": [
        "# Run this cell to test your implementation.\n",
        "TestTranspose(tp)"
      ],
      "execution_count": null,
      "outputs": [
        {
          "output_type": "stream",
          "text": [
            "Test case passed!\n",
            "----------------------------\n",
            "Test case passed!\n",
            "----------------------------\n",
            "\n",
            "All tests passed!\n"
          ],
          "name": "stdout"
        }
      ]
    },
    {
      "cell_type": "markdown",
      "metadata": {
        "id": "2rm4Wo2WptYv"
      },
      "source": [
        "## 1.2) Shapes"
      ]
    },
    {
      "cell_type": "markdown",
      "metadata": {
        "id": "-yRsqynllFkm"
      },
      "source": [
        "Let `A` be a $4\\times 2$ numpy array, `B` be a $4\\times 3$ array, and `C` be a $4\\times 1$ array.  For each of the following expressions, indicate the shape of the result as a tuple of integers (<b>recall python tuples use parentheses, not square brackets, which are for lists, and a tuple with just one item  <tt>x</tt> in it is written as <tt>(x,)</tt> with a comma</b>). Write \"none\" (as a Python string with quotes) if the expression is illegal.\n",
        "\n",
        "For example,\n",
        "\n",
        "* If the result were `[45, 36, 75]`, the shape is `(3,)`\n",
        "* If the result were `[[1,2,3],[4,5,6]]`, the shape is `(2,3)`\n",
        "\n",
        "*Hint: If you get stuck, code and run these expressions (with array values of your choosing), then print out the shape using `A.shape`*"
      ]
    },
    {
      "cell_type": "markdown",
      "metadata": {
        "id": "m22lbVtam5bT"
      },
      "source": [
        "**NOTE: You are NOT expected to write any code to answer 1.2. However, should you find it helpful, you can write some code to help you get to an answer by highlighting the question, then clicking on the `+ Code` button.**\n"
      ]
    },
    {
      "cell_type": "markdown",
      "metadata": {
        "id": "gM4YLlkClTvp"
      },
      "source": [
        "1.2a) <tt>C * C</tt>"
      ]
    },
    {
      "cell_type": "code",
      "metadata": {
        "id": "bsLA-UkgoqAw",
        "outputId": "c768c9ab-d4e7-479b-b9ca-2686e484e70d",
        "colab": {
          "base_uri": "https://localhost:8080/",
          "height": 34
        }
      },
      "source": [
        "C = np.array([[1,2,3,4]])\n",
        "C*C"
      ],
      "execution_count": null,
      "outputs": [
        {
          "output_type": "execute_result",
          "data": {
            "text/plain": [
              "array([[ 1,  4,  9, 16]])"
            ]
          },
          "metadata": {
            "tags": []
          },
          "execution_count": 3
        }
      ]
    },
    {
      "cell_type": "markdown",
      "metadata": {
        "id": "lzfgGJS2mUfT"
      },
      "source": [
        "1.2b) <tt>np.dot(C,C)</tt>\n"
      ]
    },
    {
      "cell_type": "markdown",
      "metadata": {
        "id": "29LmGFAml_1G"
      },
      "source": [
        "1.2c) <tt>np.dot(np.transpose(C),C)</tt>"
      ]
    },
    {
      "cell_type": "markdown",
      "metadata": {
        "id": "toPrWJTemAh2"
      },
      "source": [
        "1.2d) <tt>np.dot(A,B)</tt>"
      ]
    },
    {
      "cell_type": "markdown",
      "metadata": {
        "id": "heuoNud0nKip"
      },
      "source": [
        "1.2e) <tt>np.dot(A.T, B)</tt>"
      ]
    },
    {
      "cell_type": "markdown",
      "metadata": {
        "id": "rzbTcJmVngfs"
      },
      "source": [
        "1.2f) <tt>np.array([1,2,3])</tt> "
      ]
    },
    {
      "cell_type": "markdown",
      "metadata": {
        "id": "Kj_IyNWFnR9a"
      },
      "source": [
        "1.2g) <tt>np.array([[1,2,3]])</tt>"
      ]
    },
    {
      "cell_type": "markdown",
      "metadata": {
        "id": "JBqWuXvVpdl9"
      },
      "source": [
        "## 1.3) Indexing vs. Slicing"
      ]
    },
    {
      "cell_type": "markdown",
      "metadata": {
        "id": "JI4jo7_bpnAN"
      },
      "source": [
        "The shape of the resulting array is different depending on if you use indexing or splicing.\n",
        "<b>Indexing</b> refers to selecting particular elements of an array by using a single number (the index) to specify a particular row or column.\n",
        "<b>Slicing</b> refers to selecting a subset of the array by specifying a range of indices.\n",
        "\n",
        "If you're unfamiliar with these terms, and the indexing and slicing rules of arrays, please see the indexing and slicing sections of this link: <a href=\"https://lms.mitx.mit.edu/courses/course-v1:MITx+6.036+2020_Fall/courseware/welcome/Numpy_Tutorial/\" target=\"_blank\">Some Numpy Examples</a> (Same as the numpy examples link from the introduction). You can also look at the official numpy documentation <a href=\"https://numpy.org/doc/stable/reference/arrays.indexing.html\" target='_blank'>here</a>.\n",
        "\n",
        "In the following questions, let `A = np.array([[5,7,10,14],[2,4,8,9]])`. Tell us what the output would be for each of the following expressions. Use brackets `[]` as necessary. If the operation is invalid, write the python string `\"none\"`.\n",
        "\n",
        "*Note: Remember that Python uses zero-indexing and thus starts counting from 0, not 1. This is different from R and MATLAB.*"
      ]
    },
    {
      "cell_type": "markdown",
      "metadata": {
        "id": "5Bd1F4J6pyCe"
      },
      "source": [
        "**Again, you are not required to write code for 1.2. However, if writing code would be helpful, you can add code boxes by clicking the `+ Code` button.**"
      ]
    },
    {
      "cell_type": "code",
      "metadata": {
        "id": "0-H8r5UpqyBM"
      },
      "source": [
        "# Run me to store the array A\n",
        "A = np.array([[5,7,10,14],[2,4,8,9]])"
      ],
      "execution_count": null,
      "outputs": []
    },
    {
      "cell_type": "markdown",
      "metadata": {
        "id": "edHgwSQgrhGu"
      },
      "source": [
        "1.3a) <tt>A[1,2] = ?</tt>"
      ]
    },
    {
      "cell_type": "markdown",
      "metadata": {
        "id": "InaWGt-2rKfR"
      },
      "source": [
        "1.3b) <tt>A[1,8] = ?</tt>"
      ]
    },
    {
      "cell_type": "markdown",
      "metadata": {
        "id": "JyCn4ZG2ra9Z"
      },
      "source": [
        "1.3c) <tt>A[0:1,1:3] = ?</tt>"
      ]
    },
    {
      "cell_type": "markdown",
      "metadata": {
        "id": "6hW18Ezsrpaw"
      },
      "source": [
        "1.3d) <tt>A[0:1,1:20] = ?</tt>"
      ]
    },
    {
      "cell_type": "markdown",
      "metadata": {
        "id": "9cyzvGlkUqNT"
      },
      "source": [
        "1.3e) <tt>A[1:, :2] = ?</tt>"
      ]
    },
    {
      "cell_type": "markdown",
      "metadata": {
        "id": "rUt6gztsrvcd"
      },
      "source": [
        "1.3f) <tt>A[1,1:3] = ?</tt>"
      ]
    },
    {
      "cell_type": "markdown",
      "metadata": {
        "id": "V0h6F8AFr2AZ"
      },
      "source": [
        "1.3g) Please see question on the MITx homework page.\n",
        "\n",
        "1.3h) Please see question on the MITx homework page."
      ]
    },
    {
      "cell_type": "markdown",
      "metadata": {
        "id": "Ek47NxrCsCfi"
      },
      "source": [
        "## 1.4) Debugging Advice\n"
      ]
    },
    {
      "cell_type": "markdown",
      "metadata": {
        "id": "xq0bY_ODsHr1"
      },
      "source": [
        "Please see question on the MITx homework page."
      ]
    },
    {
      "cell_type": "markdown",
      "metadata": {
        "id": "elNGOWlCsR_G"
      },
      "source": [
        "## 1.5) Coding Practice"
      ]
    },
    {
      "cell_type": "markdown",
      "metadata": {
        "id": "FRqf5tSCU-w8"
      },
      "source": [
        "Now that we're familiar with numpy arrays, let's practice actually using numpy in our code!\n",
        "\n",
        "In the following questions, you must get the shapes of the output correct for your answer to be accepted. If your answer contains the right numbers but the grader is still saying your answers are incorrect, check the shapes of your output. The number and placement of brackets need to match!"
      ]
    },
    {
      "cell_type": "markdown",
      "metadata": {
        "id": "kl_3G4WIsf-P"
      },
      "source": [
        "### 1.5a) Row Vector\n"
      ]
    },
    {
      "cell_type": "markdown",
      "metadata": {
        "id": "llaVVW2Esn8s"
      },
      "source": [
        "Write a procedure that takes a list of numbers and returns a 2D `numpy` array representing a **row** vector containing those numbers. Recall that a row vector in our usage will have shape $(1, d)$ where $d$ is the number of elements in the row."
      ]
    },
    {
      "cell_type": "code",
      "metadata": {
        "id": "34TZIWi7spih"
      },
      "source": [
        "import numpy as np\n",
        "def rv(value_list):\n",
        "    return np.array([value_list])"
      ],
      "execution_count": null,
      "outputs": []
    },
    {
      "cell_type": "code",
      "metadata": {
        "id": "e10OmQl4sqYa",
        "outputId": "078ed87e-67ca-4bef-f58c-1c924c903c56",
        "colab": {
          "base_uri": "https://localhost:8080/",
          "height": 119
        }
      },
      "source": [
        "# Run this cell to test your implementation.\n",
        "TestRowVector(rv)"
      ],
      "execution_count": null,
      "outputs": [
        {
          "output_type": "stream",
          "text": [
            "Test case passed!\n",
            "----------------------------\n",
            "Test case passed!\n",
            "----------------------------\n",
            "\n",
            "All tests passed!\n"
          ],
          "name": "stdout"
        }
      ]
    },
    {
      "cell_type": "markdown",
      "metadata": {
        "id": "5P2LzRJIs_uZ"
      },
      "source": [
        "### 1.5b) Column Vector"
      ]
    },
    {
      "cell_type": "markdown",
      "metadata": {
        "id": "pINXoPh8tEqu"
      },
      "source": [
        "Write a procedure that takes a list of numbers and returns a 2D numpy array representing a column vector containing those numbers.  You can use the `rv` procedure."
      ]
    },
    {
      "cell_type": "code",
      "metadata": {
        "id": "9s1b5_hvtF8S"
      },
      "source": [
        "import numpy as np\n",
        "def cv(value_list):\n",
        "    return np.array([value_list]).T"
      ],
      "execution_count": null,
      "outputs": []
    },
    {
      "cell_type": "code",
      "metadata": {
        "id": "3IiKXcKPtJno",
        "outputId": "fee2258b-7ec0-4c24-e343-b7ae3ee8ca66",
        "colab": {
          "base_uri": "https://localhost:8080/",
          "height": 119
        }
      },
      "source": [
        "# Run this cell to test your implementation.\n",
        "TestColVector(cv)"
      ],
      "execution_count": null,
      "outputs": [
        {
          "output_type": "stream",
          "text": [
            "Test case passed!\n",
            "----------------------------\n",
            "Test case passed!\n",
            "----------------------------\n",
            "\n",
            "All tests passed!\n"
          ],
          "name": "stdout"
        }
      ]
    },
    {
      "cell_type": "markdown",
      "metadata": {
        "id": "sy36FQ0RtI5S"
      },
      "source": [
        "### 1.5c) Length"
      ]
    },
    {
      "cell_type": "markdown",
      "metadata": {
        "id": "Wl4J0g4UtYGy"
      },
      "source": [
        "Write a procedure that takes a column vector and returns the vector's Euclidean length (or equivalently, its magnitude) as a <a href=\"https://docs.scipy.org/doc/numpy/reference/generated/numpy.asscalar.html\" target=\"_blank\">scalar</a>.  You may not use `np.linalg.norm`, and you may not use loops.\n",
        "\n",
        "Remember that the formula for the Euclidean length for a vector $\\mathbf{x}$ is:\n",
        "\n",
        "$$\n",
        "length(\\mathbf{x}) = \\sqrt{x_1^2 + x_2^2 + ... + x_n^2} \\\\\n",
        " = \\sqrt{\\sum_{i=1}^n{x_i^2}}\n",
        "$$"
      ]
    },
    {
      "cell_type": "code",
      "metadata": {
        "id": "ZCkdez9AtbIP"
      },
      "source": [
        "import numpy as np\n",
        "def length(col_v):\n",
        "    return np.asscalar(np.sqrt(col_v.T.dot(col_v)))"
      ],
      "execution_count": null,
      "outputs": []
    },
    {
      "cell_type": "code",
      "metadata": {
        "id": "SJJkBKyXteMq",
        "outputId": "5ecec200-78f9-4a96-ebe0-e04d92eccb24",
        "colab": {
          "base_uri": "https://localhost:8080/",
          "height": 153
        }
      },
      "source": [
        "# Run this cell to test your implementation.\n",
        "TestLength(length)"
      ],
      "execution_count": null,
      "outputs": [
        {
          "output_type": "stream",
          "text": [
            "Test case passed!\n",
            "----------------------------\n",
            "Test case passed!\n",
            "----------------------------\n",
            "\n",
            "All tests passed!\n"
          ],
          "name": "stdout"
        },
        {
          "output_type": "stream",
          "text": [
            "/usr/local/lib/python3.6/dist-packages/ipykernel_launcher.py:3: DeprecationWarning: np.asscalar(a) is deprecated since NumPy v1.16, use a.item() instead\n",
            "  This is separate from the ipykernel package so we can avoid doing imports until\n"
          ],
          "name": "stderr"
        }
      ]
    },
    {
      "cell_type": "markdown",
      "metadata": {
        "id": "5ehdNPTctd1g"
      },
      "source": [
        "### 1.5d) Normalize"
      ]
    },
    {
      "cell_type": "markdown",
      "metadata": {
        "id": "6uuBwwDBt8J2"
      },
      "source": [
        "Write a procedure that takes a column vector and returns a unit vector in the same direction.    You may not use loops.  Use your `length` procedure from above (you do not need to define it again)."
      ]
    },
    {
      "cell_type": "code",
      "metadata": {
        "id": "yEhJQtd_t885"
      },
      "source": [
        "import numpy as np\n",
        "def normalize(col_v):\n",
        "    return col_v/length(col_v)"
      ],
      "execution_count": null,
      "outputs": []
    },
    {
      "cell_type": "code",
      "metadata": {
        "id": "gVvaDtTVuKo8",
        "outputId": "dd4ed18e-dc3b-4e63-c707-c8437af17684",
        "colab": {
          "base_uri": "https://localhost:8080/",
          "height": 153
        }
      },
      "source": [
        "# Run this cell to test your implementation.\n",
        "TestNormalize(normalize)"
      ],
      "execution_count": null,
      "outputs": [
        {
          "output_type": "stream",
          "text": [
            "Test case passed!\n",
            "----------------------------\n",
            "Test case passed!\n",
            "----------------------------\n",
            "\n",
            "All tests passed!\n"
          ],
          "name": "stdout"
        },
        {
          "output_type": "stream",
          "text": [
            "/usr/local/lib/python3.6/dist-packages/ipykernel_launcher.py:3: DeprecationWarning: np.asscalar(a) is deprecated since NumPy v1.16, use a.item() instead\n",
            "  This is separate from the ipykernel package so we can avoid doing imports until\n"
          ],
          "name": "stderr"
        }
      ]
    },
    {
      "cell_type": "markdown",
      "metadata": {
        "id": "7LVWMwRpuJux"
      },
      "source": [
        "### 1.5e) Last Column"
      ]
    },
    {
      "cell_type": "markdown",
      "metadata": {
        "id": "ZvoLX9EdudQc"
      },
      "source": [
        "Write a procedure that takes a 2D array and returns the final column as a two dimensional array. You may not use loops."
      ]
    },
    {
      "cell_type": "code",
      "metadata": {
        "id": "oI220q26ud2N"
      },
      "source": [
        "import numpy as np\n",
        "def index_final_col(A):\n",
        "    return A[0:,-1:]"
      ],
      "execution_count": null,
      "outputs": []
    },
    {
      "cell_type": "code",
      "metadata": {
        "id": "lzKp6LZqueTK",
        "outputId": "7776154c-41bf-4856-aa80-886f02675cf8",
        "colab": {
          "base_uri": "https://localhost:8080/",
          "height": 119
        }
      },
      "source": [
        "# Run this cell to test your implementation.\n",
        "TestIndexing(index_final_col)"
      ],
      "execution_count": null,
      "outputs": [
        {
          "output_type": "stream",
          "text": [
            "Test case passed!\n",
            "----------------------------\n",
            "Test case passed!\n",
            "----------------------------\n",
            "\n",
            "All tests passed!\n"
          ],
          "name": "stdout"
        }
      ]
    },
    {
      "cell_type": "markdown",
      "metadata": {
        "id": "Pu2JdPNZwCHV"
      },
      "source": [
        "## 1.6) Working with Data in Numpy"
      ]
    },
    {
      "cell_type": "markdown",
      "metadata": {
        "id": "IUyUlUQGwHK_"
      },
      "source": [
        "### 1.6a) Representing Data"
      ]
    },
    {
      "cell_type": "markdown",
      "metadata": {
        "id": "g1jUk0WEwNba"
      },
      "source": [
        "Mat T. Ricks has collected weight and height data of 3 people and has written it down below:\n",
        "<br />\n",
        "\n",
        "Weight, Height<br />\n",
        "150, 5.8<br />\n",
        "130, 5.5<br />\n",
        "120, 5.3<br />\n",
        "\n",
        "He wants to put this into a `numpy` array such that each row represents\n",
        "one individual's weight and height, in the order of individuals as listed. Write code to\n",
        "set `data` equal to the appropriate numpy array:"
      ]
    },
    {
      "cell_type": "code",
      "metadata": {
        "id": "65QxT3AHwRVU"
      },
      "source": [
        "import numpy as np\n",
        "data = np.array([[150, 5.8], [130, 5.5], [120, 5.3]])"
      ],
      "execution_count": null,
      "outputs": []
    },
    {
      "cell_type": "code",
      "metadata": {
        "id": "F0U2NaAqwaK7",
        "outputId": "1d6e28e3-2c57-4139-e88e-8b3cbe877029",
        "colab": {
          "base_uri": "https://localhost:8080/",
          "height": 85
        }
      },
      "source": [
        "# Run this code to test your implementation.\n",
        "TestData(data)"
      ],
      "execution_count": null,
      "outputs": [
        {
          "output_type": "stream",
          "text": [
            "Test case passed!\n",
            "----------------------------\n",
            "\n",
            "All tests passed!\n"
          ],
          "name": "stdout"
        }
      ]
    },
    {
      "cell_type": "markdown",
      "metadata": {
        "id": "OIEtlCZewZq6"
      },
      "source": [
        "### 1.6b) Matrix Multiplication"
      ]
    },
    {
      "cell_type": "markdown",
      "metadata": {
        "id": "PVTobgVxw1h_"
      },
      "source": [
        "Now he wants to compute the sum of each person's height and weight as\n",
        "a column vector by multiplying `data` by another `numpy` array. Remember that\n",
        "column vectors are 2D vectors. He has written the following incorrect code to do so and needs your help to\n",
        "fix it:\n",
        "\n",
        "```\n",
        "import numpy as np\n",
        "def transform(data):\n",
        "    return (np.dot(np.array([1, 1]), data))\n",
        "```"
      ]
    },
    {
      "cell_type": "code",
      "metadata": {
        "id": "BpZypWuxw3-O"
      },
      "source": [
        "import numpy as np\n",
        "def transform(data):\n",
        "    return (np.dot(data, np.array([[1],[1]]))) # Fix Me!"
      ],
      "execution_count": null,
      "outputs": []
    },
    {
      "cell_type": "code",
      "metadata": {
        "id": "RMFcrjgdxHUI",
        "outputId": "dd756110-095a-4aec-ce78-1681db2b5b66",
        "colab": {
          "base_uri": "https://localhost:8080/",
          "height": 85
        }
      },
      "source": [
        "# Run this code to test your implementation.\n",
        "TestTransform(transform)"
      ],
      "execution_count": null,
      "outputs": [
        {
          "output_type": "stream",
          "text": [
            "Test case passed!\n",
            "----------------------------\n",
            "\n",
            "All tests passed!\n"
          ],
          "name": "stdout"
        }
      ]
    },
    {
      "cell_type": "markdown",
      "metadata": {
        "id": "X48ArwanxKuz"
      },
      "source": [
        "# 2) Hyperplanes"
      ]
    },
    {
      "cell_type": "markdown",
      "metadata": {
        "id": "oLlW5xrAxXtn"
      },
      "source": [
        "In Lecture 1, we looked at linear classifiers, as discussed in the <a href=\"https://lms.mitx.mit.edu/courses/course-v1:MITx+6.036+2020_Spring/courseware/Week1/linear_classifiers/3\" target=\"_blank\">notes</a>, which rely heavily on the mathematics of <b>hyperplanes</b>.\n",
        "\n",
        "In a $d$-dimensional space, a hyperplane is a $d-1$ dimensional subspace that can be characterized by a normal to the subspace and a scalar offset.  For example, any line is a hyperplane in two dimensions, an infinite flat sheet is a hyperplane in three dimensions, but in higher dimensions, hyperplanes are harder to visualize.  Fortunately, they are easy to specify.\n",
        "\n",
        "Here's an example of a hyperplane in 2D (a line):\n",
        "\n",
        "<div class=\"inline_imgs\">\n",
        "<center>\n",
        "<img src=https://introml.odl.mit.edu/cat-soop/_static/6.036/homework/hw01/example1.png width=45%><br>\n",
        "</center>\n",
        "</div>\n",
        "\n",
        "Some notational conventions:\n",
        "\n",
        "* $x$: is a point in $d$-dimensional space (represented as a column vector of $d$ real numbers), $R^d$\n",
        "* $\\theta$: a point in $d$-dimensional space (represented as a column vector of $d$ real numbers), $R^d$\n",
        "* $\\theta_0$: a single real number\n",
        "\n",
        "We represent $x$ and $\\theta$ as column vectors, that is, $d\n",
        "\\times 1$ arrays.  Remember dot products?  We write dot products in one of two ways: $\\theta^T x$ or $\\theta \\cdot x$. In both cases:\n",
        "$$\\theta^T x = \\theta \\cdot x = \\theta_1 x_1 + \\theta_2 x_2 + \\ldots + \\theta_d x_d$$\n",
        "\n",
        "**Hint**: When doing the two-dimensional problems below, start by drawing a picture. That should help your intuition. If you get stuck, take a look at this <a href=\"http://faculty.bard.edu/belk/math213/PlanesAndHyperplanes.pdf\" target=\"_blank\">geometry review for planes and hyperplanes</a>."
      ]
    },
    {
      "cell_type": "markdown",
      "metadata": {
        "id": "bFPoWUBn1zHG"
      },
      "source": [
        "## 2.1) Through Origin\n",
        "Please see question on MITx homework page.\n",
        "\n",
        "## 2.2) General hyperplane, distance to origin\n",
        "Please see question on MITx homework page.\n",
        "\n",
        "## 2.3) General hyperplane, distance to point\n",
        "Please see question on MITx homework page."
      ]
    },
    {
      "cell_type": "markdown",
      "metadata": {
        "id": "h3fVPqLu17Ft"
      },
      "source": [
        "## 2.4) Code for signed distance\n"
      ]
    },
    {
      "cell_type": "markdown",
      "metadata": {
        "id": "2smda1LP19s1"
      },
      "source": [
        "Write a Python function using numpy operations (no loops!) that takes column vectors ($d$ by 1) <tt>x</tt> and <tt>th</tt> (of the same dimension) and scalar <tt>th0</tt> and returns the signed perpendicular distance (as a 1 by 1 array) from the hyperplane encoded by <tt>(th, th0)</tt> to <tt>x</tt>.  Note that you are allowed to use the `length` function defined in previous coding questions."
      ]
    },
    {
      "cell_type": "code",
      "metadata": {
        "id": "-lYrFEiG1ubc"
      },
      "source": [
        "import numpy as np\n",
        "def signed_dist(x, th, th0):\n",
        "    return (th.T.dot(x) + th0)/length(th)"
      ],
      "execution_count": null,
      "outputs": []
    },
    {
      "cell_type": "code",
      "metadata": {
        "id": "Tp-2Sv2V3JiZ",
        "outputId": "435e7c8c-ee6f-48b2-f528-3dbaf9b0bc47",
        "colab": {
          "base_uri": "https://localhost:8080/",
          "height": 221
        }
      },
      "source": [
        "# Run this cell to test your implementation.\n",
        "TestSignedDist(signed_dist)"
      ],
      "execution_count": null,
      "outputs": [
        {
          "output_type": "stream",
          "text": [
            "Test case passed!\n",
            "----------------------------\n",
            "Test case passed!\n",
            "----------------------------\n",
            "Test case passed!\n",
            "----------------------------\n",
            "Test case passed!\n",
            "----------------------------\n",
            "\n",
            "All tests passed!\n"
          ],
          "name": "stdout"
        },
        {
          "output_type": "stream",
          "text": [
            "/usr/local/lib/python3.6/dist-packages/ipykernel_launcher.py:3: DeprecationWarning: np.asscalar(a) is deprecated since NumPy v1.16, use a.item() instead\n",
            "  This is separate from the ipykernel package so we can avoid doing imports until\n"
          ],
          "name": "stderr"
        }
      ]
    },
    {
      "cell_type": "markdown",
      "metadata": {
        "id": "zYr23Q8j3Qun"
      },
      "source": [
        "## 2.5) Code for side of hyperplane"
      ]
    },
    {
      "cell_type": "markdown",
      "metadata": {
        "id": "AlrAq-cH3U5L"
      },
      "source": [
        "Write a Python function that takes as input\n",
        "\n",
        "* a column vector <tt>x</tt>\n",
        "* a column vector <tt>th</tt> that is of the same dimension as <tt>x</tt>\n",
        "* a scalar <tt>th0</tt>\n",
        "\n",
        "and returns\n",
        "\n",
        "* <tt>+1</tt> if <tt>x</tt> is on the positive side of the hyperplane encoded by <tt>(th, th0)</tt>\n",
        "* <tt>0</tt> if on the hyperplane\n",
        "* <tt>-1</tt> otherwise.\n",
        "\n",
        "The answer should be a 2D array (a 1 by 1).  Look at the\n",
        "<a href=https://docs.scipy.org/doc/numpy-1.13.0/reference/generated/numpy.sign.html>numpy.sign</a> function.  Note that you are allowed to use any functions defined earlier in this assignment."
      ]
    },
    {
      "cell_type": "code",
      "metadata": {
        "id": "jQuuY8nA3QN_"
      },
      "source": [
        "import numpy as np\n",
        "def positive(x, th, th0):\n",
        "    return np.sign(th.T.dot(x)+th0/length(th))"
      ],
      "execution_count": null,
      "outputs": []
    },
    {
      "cell_type": "code",
      "metadata": {
        "id": "Y6xK1frD3VgP",
        "outputId": "b171aa3e-b856-4458-98a7-8e236c39a68c",
        "colab": {
          "base_uri": "https://localhost:8080/",
          "height": 221
        }
      },
      "source": [
        "# Run this cell to test your implementation.\n",
        "TestPositive(positive)"
      ],
      "execution_count": null,
      "outputs": [
        {
          "output_type": "stream",
          "text": [
            "Test case passed!\n",
            "----------------------------\n",
            "Test case passed!\n",
            "----------------------------\n",
            "Test case passed!\n",
            "----------------------------\n",
            "Test case passed!\n",
            "----------------------------\n",
            "\n",
            "All tests passed!\n"
          ],
          "name": "stdout"
        },
        {
          "output_type": "stream",
          "text": [
            "/usr/local/lib/python3.6/dist-packages/ipykernel_launcher.py:3: DeprecationWarning: np.asscalar(a) is deprecated since NumPy v1.16, use a.item() instead\n",
            "  This is separate from the ipykernel package so we can avoid doing imports until\n"
          ],
          "name": "stderr"
        }
      ]
    },
    {
      "cell_type": "markdown",
      "metadata": {
        "id": "H9-9_Spn3V6C"
      },
      "source": [
        "## 2.6) Expressions operating on data"
      ]
    },
    {
      "cell_type": "markdown",
      "metadata": {
        "id": "iaAY-Jq23dEa"
      },
      "source": [
        "We define <tt>data</tt> to be a 2 by 5 array (two rows, five columns) of scalars.  It represents 5 data points in two dimensions. We also define <tt>labels</tt> to be a 1 by 5 array (1 row, five columns) of 1 and -1 values:\n",
        "\n",
        "```\n",
        "data = np.transpose(np.array([[1, 2], [1, 3], [2, 1], [1, -1], [2, -1]]))\n",
        "labels = rv([-1, -1, +1, +1, +1])\n",
        "```\n",
        "\n",
        "For each subproblem, provide a Python expression that sets `A` to the quantity specified. Note that `A` should always be a 2D numpy array.  Only one relatively short expression is needed for each one.  No loops!\n",
        "\n",
        " **You can use (our version) of the `length` and `positive` functions.** Those functions if written purely as matrix operations should work with a 2D data array, not just a single column vector as the first argument, with no change. \n",
        " Hit 'View Answer' on those problems after submitting your own version to see the staff implementation. You should copy them over to this Colab, but you don't need to redefine them again on MITx.  \n"
      ]
    },
    {
      "cell_type": "markdown",
      "metadata": {
        "id": "5dflik2G3if0"
      },
      "source": [
        "### 2.6a)"
      ]
    },
    {
      "cell_type": "markdown",
      "metadata": {
        "id": "HBalx9MC3kwn"
      },
      "source": [
        " `A` should be a 1 by 5 array of values, either +1, 0 or -1, indicating, for each point in <tt>data</tt>, whether it is on the positive side of the hyperplane defined by <tt>th, th0</tt>.\n",
        " \n",
        " **Use <tt>data, th, th0</tt> as variables in your submission.**"
      ]
    },
    {
      "cell_type": "code",
      "metadata": {
        "id": "Me0W6xiSuadH"
      },
      "source": [
        "# Run me to store data, labels, th, and th0\n",
        "data = np.transpose(np.array([[1, 2], [1, 3], [2, 1], [1, -1], [2, -1]]))\n",
        "labels = rv([-1, -1, +1, +1, +1])\n",
        "th = np.array([[1], [1]])\n",
        "th0 = -2"
      ],
      "execution_count": null,
      "outputs": []
    },
    {
      "cell_type": "code",
      "metadata": {
        "id": "g4GfB0ur3e1f"
      },
      "source": [
        "import numpy as np\n",
        "A = np.sign(th.T.dot(data)+th0)"
      ],
      "execution_count": null,
      "outputs": []
    },
    {
      "cell_type": "code",
      "metadata": {
        "id": "Ram1OoOt3fTM",
        "outputId": "f8c6cfca-4a15-4442-9e8c-7c95a6ecfe4d",
        "colab": {
          "base_uri": "https://localhost:8080/",
          "height": 85
        }
      },
      "source": [
        "# Run this cell to test your implementation.\n",
        "Test26a(A)"
      ],
      "execution_count": null,
      "outputs": [
        {
          "output_type": "stream",
          "text": [
            "Test case passed!\n",
            "----------------------------\n",
            "\n",
            "All tests passed!\n"
          ],
          "name": "stdout"
        }
      ]
    },
    {
      "cell_type": "markdown",
      "metadata": {
        "id": "1ko-1s9h3lnb"
      },
      "source": [
        "### 2.6b)"
      ]
    },
    {
      "cell_type": "markdown",
      "metadata": {
        "id": "OIeX1bqd3ovs"
      },
      "source": [
        "`A` should be a 1 by 5 array of boolean values, either <tt>True</tt> or <tt>False</tt>, indicating for each point in <tt>data</tt> and corresponding label in <tt>labels</tt> whether it is correctly classified by hyperplane <tt> th = [1, 1], th0 = -2 </tt>.  That is, return <tt>True</tt>  when the side of the hyperplane (specified by $\\theta$, $\\theta_0$) that the point is on agrees with the specified label. `numpy` allows for element-wise comparisons between two arrays of the same shape.\n",
        "\n",
        "**Use <tt>data, th, th0</tt> as variables in your submission.**"
      ]
    },
    {
      "cell_type": "code",
      "metadata": {
        "id": "EfFCmOM9ub60"
      },
      "source": [
        "# Run me to store data, labels, th, and th0\n",
        "data = np.transpose(np.array([[1, 2], [1, 3], [2, 1], [1, -1], [2, -1]]))\n",
        "labels = rv([-1, -1, +1, +1, +1])\n",
        "th = np.array([[1], [1]])\n",
        "th0 = -2"
      ],
      "execution_count": null,
      "outputs": []
    },
    {
      "cell_type": "code",
      "metadata": {
        "id": "5MN6i1op3pOo"
      },
      "source": [
        "import numpy as np\n",
        "A = (labels == np.sign(th.T.dot(data)+th0))"
      ],
      "execution_count": null,
      "outputs": []
    },
    {
      "cell_type": "code",
      "metadata": {
        "id": "bFmgvBNe3ppu",
        "outputId": "56c9ef7a-b411-41b3-ad3b-73646b10e536",
        "colab": {
          "base_uri": "https://localhost:8080/",
          "height": 85
        }
      },
      "source": [
        "# Run this cell to test your implementation.\n",
        "Test26b(A)"
      ],
      "execution_count": null,
      "outputs": [
        {
          "output_type": "stream",
          "text": [
            "Test case passed!\n",
            "----------------------------\n",
            "\n",
            "All tests passed!\n"
          ],
          "name": "stdout"
        }
      ]
    },
    {
      "cell_type": "markdown",
      "metadata": {
        "id": "23veDGyW3gHV"
      },
      "source": [
        "## 2.7) Score"
      ]
    },
    {
      "cell_type": "markdown",
      "metadata": {
        "id": "KvVxOTRz3xwW"
      },
      "source": [
        "Write a procedure that takes as input\n",
        "\n",
        "* <tt>data</tt>: a <tt>d</tt> by <tt>n</tt> array of floats (representing <tt>n</tt> data points in <tt>d</tt> dimensions)\n",
        "* <tt>labels</tt>: a <tt>1</tt> by <tt>n</tt> array of elements in <tt>(+1, -1)</tt>, representing target labels\n",
        "* <tt>th</tt>: a <tt>d</tt> by <tt>1</tt> array of floats that together with\n",
        "* <tt>th0</tt>: a single scalar or 1 by 1 array, represents a hyperplane\n",
        "\n",
        "and returns the number of points for which the label is equal to the output of the <tt>positive</tt> function on the point.\n",
        "\n",
        "Hint: Since <tt>numpy</tt> treats <tt>False</tt> as 0 and <tt>True</tt> as 1, you can take the sum of a collection of Boolean values directly.\n",
        "\n",
        "Note: The test cases continue to use:\n",
        "````\n",
        "data = np.transpose(np.array([[1, 2], [1, 3], [2, 1], [1, -1], [2, -1]]))\n",
        "labels = rv([-1, -1, +1, +1, +1])\n",
        "````"
      ]
    },
    {
      "cell_type": "code",
      "metadata": {
        "id": "bFbwmDTr3yLB"
      },
      "source": [
        "import numpy as np\n",
        "def score(data, labels, th, th0):\n",
        "    return (np.sum(labels == np.sign(th.T.dot(data)+th0)))"
      ],
      "execution_count": null,
      "outputs": []
    },
    {
      "cell_type": "code",
      "metadata": {
        "id": "ENX30Nd13ymR",
        "outputId": "fb4e51a8-dfed-4205-c6f1-4547f7df9974",
        "colab": {
          "base_uri": "https://localhost:8080/",
          "height": 153
        }
      },
      "source": [
        "# Run this cell to test your implementation.\n",
        "TestScore(score)"
      ],
      "execution_count": null,
      "outputs": [
        {
          "output_type": "stream",
          "text": [
            "Test case passed!\n",
            "----------------------------\n",
            "Test case passed!\n",
            "----------------------------\n",
            "Test case passed!\n",
            "----------------------------\n",
            "\n",
            "All tests passed!\n"
          ],
          "name": "stdout"
        }
      ]
    },
    {
      "cell_type": "markdown",
      "metadata": {
        "id": "fYZlizrk3zaJ"
      },
      "source": [
        "## 2.8) High Score!\n"
      ]
    },
    {
      "cell_type": "markdown",
      "metadata": {
        "id": "hvztK_-p33dx"
      },
      "source": [
        "Now assume that we want to pick the best out of a group of \"candidate\" classifiers. Assume you have <tt>ths</tt>, a $d$ by $m$ array of $m$ candidate $\\theta$'s (each $\\theta$ has dimension $d$ by 1), and <tt>th0s</tt>, a 1 by $m$ array of the corresponding $m$ candidate $\\theta_0$'s. Each of the $\\theta$, $\\theta_0$ pair represents a hyperplane that characterizes a binary classifier.\n",
        "\n",
        "Write a procedure that takes as input\n",
        "\n",
        "* <tt>data</tt>: a <tt>d</tt> by <tt>n</tt> array of floats (representing <tt>n</tt> data points in <tt>d</tt> dimensions)\n",
        "* <tt>labels</tt>: a <tt>1</tt> by <tt>n</tt> array of elements in <tt>(+1, -1)</tt>, representing target labels\n",
        "* <tt>ths</tt>: a <tt>d</tt> by <tt>m</tt> array of floats representing $m$ candidate $\\theta$'s (each $\\theta$ has dimension $d$ by 1)\n",
        "* <tt>th0s</tt>: a <tt>1</tt> by <tt>m</tt> array of the corresponding $m$ candidate $\\theta_0$'s.\n",
        "\n",
        "and finds the hyperplane with the highest score on the data and labels.  In case of a tie, return\n",
        "the first hyperplane with the highest score, in the form of\n",
        "\n",
        "* a tuple of a <tt>d</tt> by 1 array and an offset in the form of 1 by 1 array.\n",
        "\n",
        "The function `score` that you wrote above was for a single hyperplane separator.  Think about how to generalize it to multiple hyperplanes and include this modified (if necessary) definition of `score` in the answer box.\n",
        "\n",
        "Note: The test cases continue to use:\n",
        "````\n",
        "data = np.transpose(np.array([[1, 2], [1, 3], [2, 1], [1, -1], [2, -1]]))\n",
        "labels = rv([-1, -1, +1, +1, +1])\n",
        "````\n",
        "Look at the bottom of the MITx homework page for useful numpy functions!"
      ]
    },
    {
      "cell_type": "code",
      "metadata": {
        "id": "9L66hj5Y35D2"
      },
      "source": [
        "import numpy as np\n",
        "\n",
        "def best_separator(data, labels, ths, th0s):\n",
        "    scores = (np.sum(labels == np.sign(ths.T.dot(data)+th0s.T),axis=1))\n",
        "    best_index = np.argmax(scores)\n",
        "    best_th = ths[:,best_index:best_index+1]\n",
        "    best_th0 = th0s[:,best_index:best_index+1]\n",
        "    return best_th, best_th0"
      ],
      "execution_count": null,
      "outputs": []
    },
    {
      "cell_type": "code",
      "metadata": {
        "id": "8ik49i1R35er",
        "outputId": "23accb1e-31f3-4a73-a40a-8e6dd2e4decc",
        "colab": {
          "base_uri": "https://localhost:8080/",
          "height": 85
        }
      },
      "source": [
        "# Run this cell to test your implementation.\n",
        "TestBestSeparator(best_separator)"
      ],
      "execution_count": null,
      "outputs": [
        {
          "output_type": "stream",
          "text": [
            "Test case passed!\n",
            "----------------------------\n",
            "\n",
            "All tests passed!\n"
          ],
          "name": "stdout"
        }
      ]
    },
    {
      "cell_type": "markdown",
      "metadata": {
        "id": "4yAHffe833Xc"
      },
      "source": [
        "# Congratulations!\n",
        "You've reached the end of the homework!"
      ]
    }
  ]
}