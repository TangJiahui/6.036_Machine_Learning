{
  "nbformat": 4,
  "nbformat_minor": 0,
  "metadata": {
    "colab": {
      "name": "MIT 6.036 HW06 Neural Network I.ipynb",
      "provenance": [],
      "collapsed_sections": [],
      "include_colab_link": true
    },
    "kernelspec": {
      "name": "python3",
      "display_name": "Python 3"
    }
  },
  "cells": [
    {
      "cell_type": "markdown",
      "metadata": {
        "id": "view-in-github",
        "colab_type": "text"
      },
      "source": [
        "<a href=\"https://colab.research.google.com/github/TangJiahui/6.036_Machine_Learning/blob/main/MIT_6_036_HW06_Neural_Network_I.ipynb\" target=\"_parent\"><img src=\"https://colab.research.google.com/assets/colab-badge.svg\" alt=\"Open In Colab\"/></a>"
      ]
    },
    {
      "cell_type": "markdown",
      "metadata": {
        "id": "lH5VCTqoeKAr"
      },
      "source": [
        "# MIT 6.036 Fall 2020: Homework 6\n",
        "\n",
        "This homework does not include provided Python code. Instead, we encourage you to write your own code to help you answer some of these problems, and/or test and debug the code components we do ask for. All of the problems should be simple enough that hand calculation should be possible, but it may be convenient to write some short programs to explore the neural networks, particularly for problem 2."
      ]
    },
    {
      "cell_type": "code",
      "metadata": {
        "id": "Z9_de7CGeMAN"
      },
      "source": [
        "import numpy as np"
      ],
      "execution_count": null,
      "outputs": []
    },
    {
      "cell_type": "markdown",
      "metadata": {
        "id": "yAfU13u6Mjoh"
      },
      "source": [
        "# **Problem 2**"
      ]
    },
    {
      "cell_type": "markdown",
      "metadata": {
        "id": "hdfhir-jCOpH"
      },
      "source": [
        "You may find it helpful to implement a softmax function to use for solving the problems."
      ]
    },
    {
      "cell_type": "code",
      "metadata": {
        "id": "dpa15uD0CN31"
      },
      "source": [
        "# Implement Softmax\n",
        "def SM(z):\n",
        "    return np.exp(z)/np.sum(np.exp(z))"
      ],
      "execution_count": null,
      "outputs": []
    },
    {
      "cell_type": "markdown",
      "metadata": {
        "id": "xYjIQLRleiMg"
      },
      "source": [
        "**Problem 2.A**"
      ]
    },
    {
      "cell_type": "code",
      "metadata": {
        "id": "oETivVBBemUi"
      },
      "source": [
        "z = np.array([[-1, 0, 1]]).T"
      ],
      "execution_count": null,
      "outputs": []
    },
    {
      "cell_type": "code",
      "metadata": {
        "id": "ATQQkbDBBZRm",
        "outputId": "2445a92f-a19d-4791-ceef-1e774465d53d",
        "colab": {
          "base_uri": "https://localhost:8080/",
          "height": 68
        }
      },
      "source": [
        "SM(z)"
      ],
      "execution_count": null,
      "outputs": [
        {
          "output_type": "execute_result",
          "data": {
            "text/plain": [
              "array([[0.09003057],\n",
              "       [0.24472847],\n",
              "       [0.66524096]])"
            ]
          },
          "metadata": {
            "tags": []
          },
          "execution_count": 4
        }
      ]
    },
    {
      "cell_type": "markdown",
      "metadata": {
        "id": "Xa6YEt1x12BA"
      },
      "source": [
        "**Problem 2.B**\n"
      ]
    },
    {
      "cell_type": "code",
      "metadata": {
        "id": "KrcfuyyK11oG"
      },
      "source": [
        " a = np.array([[.3, .5, .2]]).T\n",
        " y = np.array([[0, 0, 1]]).T"
      ],
      "execution_count": null,
      "outputs": []
    },
    {
      "cell_type": "markdown",
      "metadata": {
        "id": "wiHN0bJHevw2"
      },
      "source": [
        "**Problem 2.C - 2.F**"
      ]
    },
    {
      "cell_type": "code",
      "metadata": {
        "id": "_6FPSgJHeu_Q"
      },
      "source": [
        "w = np.array([[1, -1, -2], [-1, 2, 1]])\n",
        "x = np.array([[1], [1]])\n",
        "y = np.array([[0, 1, 0]]).T"
      ],
      "execution_count": null,
      "outputs": []
    },
    {
      "cell_type": "code",
      "metadata": {
        "id": "kkTXweCaC_3_"
      },
      "source": [
        "a = SM(w.T@x)"
      ],
      "execution_count": null,
      "outputs": []
    },
    {
      "cell_type": "code",
      "metadata": {
        "id": "XR-r-v2sG0Eh",
        "outputId": "29a87ffa-cbf4-47ec-b505-87460c9d7665",
        "colab": {
          "base_uri": "https://localhost:8080/",
          "height": 51
        }
      },
      "source": [
        "x@(a-y).T"
      ],
      "execution_count": null,
      "outputs": [
        {
          "output_type": "execute_result",
          "data": {
            "text/plain": [
              "array([[ 0.24472847, -0.33475904,  0.09003057],\n",
              "       [ 0.24472847, -0.33475904,  0.09003057]])"
            ]
          },
          "metadata": {
            "tags": []
          },
          "execution_count": 27
        }
      ]
    },
    {
      "cell_type": "code",
      "metadata": {
        "id": "linJH6cfIAar",
        "outputId": "121681d8-22cf-416a-9f99-859ae25c5ebf",
        "colab": {
          "base_uri": "https://localhost:8080/",
          "height": 51
        }
      },
      "source": [
        "w_new = w -0.5*x@(a-y).T\n",
        "w_new"
      ],
      "execution_count": null,
      "outputs": [
        {
          "output_type": "execute_result",
          "data": {
            "text/plain": [
              "array([[ 0.87763576, -0.83262048, -2.04501529],\n",
              "       [-1.12236424,  2.16737952,  0.95498471]])"
            ]
          },
          "metadata": {
            "tags": []
          },
          "execution_count": 29
        }
      ]
    },
    {
      "cell_type": "code",
      "metadata": {
        "id": "tcotjlgmIOvK",
        "outputId": "909bf0db-067e-4ee4-9835-b17b903a55a1",
        "colab": {
          "base_uri": "https://localhost:8080/",
          "height": 68
        }
      },
      "source": [
        "SM(w_new.T@x)"
      ],
      "execution_count": null,
      "outputs": [
        {
          "output_type": "execute_result",
          "data": {
            "text/plain": [
              "array([[0.15918761],\n",
              "       [0.77245284],\n",
              "       [0.06835955]])"
            ]
          },
          "metadata": {
            "tags": []
          },
          "execution_count": 30
        }
      ]
    },
    {
      "cell_type": "markdown",
      "metadata": {
        "id": "X-sRxHa9e7w9"
      },
      "source": [
        "# **Problem 3**"
      ]
    },
    {
      "cell_type": "markdown",
      "metadata": {
        "id": "5hRvq915LqFz"
      },
      "source": [
        "**Problem 3.1**\n",
        "\n",
        "You may choose to draft your implementation here. We recommend looking at the ReLU plot at the top of the homework page for better understanding."
      ]
    },
    {
      "cell_type": "code",
      "metadata": {
        "id": "l7QkgtSofQ-h"
      },
      "source": [
        "def dReLU_dz(z):\n",
        "    '''\n",
        "    z is a column vector\n",
        "    You should return a column vector\n",
        "    '''\n",
        "    d = [0 if i<=0 else 1 for i in z]\n",
        "    return np.array([d]).T"
      ],
      "execution_count": null,
      "outputs": []
    },
    {
      "cell_type": "code",
      "metadata": {
        "id": "WyxyWUWgJqkm"
      },
      "source": [
        "ans=dReLU_dz(np.array([[1], [-2], [10]])).tolist()"
      ],
      "execution_count": null,
      "outputs": []
    },
    {
      "cell_type": "code",
      "metadata": {
        "id": "4Lc7bapMJ6qI",
        "outputId": "063dccdd-509d-41fe-d794-dc151ef44424",
        "colab": {
          "base_uri": "https://localhost:8080/",
          "height": 34
        }
      },
      "source": [
        "ans"
      ],
      "execution_count": null,
      "outputs": [
        {
          "output_type": "execute_result",
          "data": {
            "text/plain": [
              "[[1], [0], [1]]"
            ]
          },
          "metadata": {
            "tags": []
          },
          "execution_count": 58
        }
      ]
    },
    {
      "cell_type": "code",
      "metadata": {
        "id": "FFpyWBp9MZlh"
      },
      "source": [
        "f2 = np.array([[15,-13]])"
      ],
      "execution_count": null,
      "outputs": []
    },
    {
      "cell_type": "code",
      "metadata": {
        "id": "QAlZk_iKMc2U",
        "outputId": "2469361f-03ce-47b1-f2d7-f01f76ab8945",
        "colab": {
          "base_uri": "https://localhost:8080/",
          "height": 34
        }
      },
      "source": [
        "SM(f2)"
      ],
      "execution_count": null,
      "outputs": [
        {
          "output_type": "execute_result",
          "data": {
            "text/plain": [
              "array([[1.00000000e+00, 6.91440011e-13]])"
            ]
          },
          "metadata": {
            "tags": []
          },
          "execution_count": 60
        }
      ]
    }
  ]
}