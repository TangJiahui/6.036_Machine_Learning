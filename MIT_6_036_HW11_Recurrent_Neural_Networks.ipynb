{
  "nbformat": 4,
  "nbformat_minor": 0,
  "metadata": {
    "colab": {
      "name": "MIT_6.036_HW11_Recurrent_Neural_Networks.ipynb",
      "provenance": [],
      "collapsed_sections": [],
      "include_colab_link": true
    },
    "kernelspec": {
      "name": "python3",
      "display_name": "Python 3"
    }
  },
  "cells": [
    {
      "cell_type": "markdown",
      "metadata": {
        "id": "view-in-github",
        "colab_type": "text"
      },
      "source": [
        "<a href=\"https://colab.research.google.com/github/TangJiahui/6.036_Machine_Learning/blob/main/MIT_6_036_HW11_Recurrent_Neural_Networks.ipynb\" target=\"_parent\"><img src=\"https://colab.research.google.com/assets/colab-badge.svg\" alt=\"Open In Colab\"/></a>"
      ]
    },
    {
      "cell_type": "markdown",
      "metadata": {
        "id": "sgwpVmLOgw8J"
      },
      "source": [
        "# RNN for Name Generation\n",
        "\n",
        "In the following problem, we will look at using an RNN to generate names in different languages. Much of the code is below is given to you, as our goal is more to expose you to more PyTorch code which you'd likely see in practical ML implementations than expecting you to code PyTorch proficiently for this class."
      ]
    },
    {
      "cell_type": "code",
      "metadata": {
        "id": "0WJm253BCFWM",
        "outputId": "5bc785e3-5d79-4e21-de2f-cbd8f375a102",
        "colab": {
          "base_uri": "https://localhost:8080/"
        }
      },
      "source": [
        "!rm -rf code_for_hw11* __MACOSX data .DS_Store\n",
        "!wget --no-check-certificate --quiet https://introml.odl.mit.edu/cat-soop/_static/6.036/homework/hw11/char_rnn_data.zip\n",
        "!unzip char_rnn_data.zip\n",
        "\n",
        "!wget --no-check-certificate --quiet https://introml.odl.mit.edu/cat-soop/_static/6.036/homework/hw11/char_rnn_utils.zip\n",
        "!unzip char_rnn_utils.zip\n",
        "\n",
        "from char_rnn_utils import timeSince, all_letters, n_letters, get_data, categoryTensor, inputTensor, randomTrainingExample\n",
        "\n",
        "import math\n",
        "import random\n",
        "import time\n",
        "\n",
        "import matplotlib.pyplot as plt\n",
        "import numpy as np\n",
        "import torch\n",
        "import torch.nn as nn"
      ],
      "execution_count": 1,
      "outputs": [
        {
          "output_type": "stream",
          "text": [
            "Archive:  char_rnn_data.zip\n",
            "   creating: data/\n",
            "  inflating: data/eng-fra.txt        \n",
            "   creating: data/names/\n",
            "  inflating: data/names/Arabic.txt   \n",
            "  inflating: data/names/Chinese.txt  \n",
            "  inflating: data/names/Czech.txt    \n",
            "  inflating: data/names/Dutch.txt    \n",
            "  inflating: data/names/English.txt  \n",
            "  inflating: data/names/French.txt   \n",
            "  inflating: data/names/German.txt   \n",
            "  inflating: data/names/Greek.txt    \n",
            "  inflating: data/names/Irish.txt    \n",
            "  inflating: data/names/Italian.txt  \n",
            "  inflating: data/names/Japanese.txt  \n",
            "  inflating: data/names/Korean.txt   \n",
            "  inflating: data/names/Polish.txt   \n",
            "  inflating: data/names/Portuguese.txt  \n",
            "  inflating: data/names/Russian.txt  \n",
            "  inflating: data/names/Scottish.txt  \n",
            "  inflating: data/names/Spanish.txt  \n",
            "  inflating: data/names/Vietnamese.txt  \n",
            "Archive:  char_rnn_utils.zip\n",
            "  inflating: char_rnn_utils.py       \n"
          ],
          "name": "stdout"
        }
      ]
    },
    {
      "cell_type": "code",
      "metadata": {
        "id": "uFZ-y4jw7Clf",
        "outputId": "2f802d30-2179-4af9-eb4d-4530008648ca",
        "colab": {
          "base_uri": "https://localhost:8080/"
        }
      },
      "source": [
        "# all_letters contains all possible letters in names\n",
        "print('All letters:', all_letters)\n",
        "# number of letters + 1 for the end-of-string (EOS) token\n",
        "print('Number of letters and EOS token:', n_letters)\n",
        "# categoryTensor, inputTensor convert categories and letters (not including EOS) to one-hot vectors"
      ],
      "execution_count": 2,
      "outputs": [
        {
          "output_type": "stream",
          "text": [
            "All letters: abcdefghijklmnopqrstuvwxyzABCDEFGHIJKLMNOPQRSTUVWXYZ .,;'-\n",
            "Number of letters and EOS token: 59\n"
          ],
          "name": "stdout"
        }
      ]
    },
    {
      "cell_type": "code",
      "metadata": {
        "id": "wslUNnQHwOoM"
      },
      "source": [
        "# Get the data\n",
        "all_categories, category_lines = get_data()\n",
        "n_categories = len(all_categories)"
      ],
      "execution_count": 3,
      "outputs": []
    },
    {
      "cell_type": "code",
      "metadata": {
        "id": "_gu2xm50xUnA",
        "outputId": "ef1e0c3c-9b5c-47b3-8958-12a7f5f6ce3b",
        "colab": {
          "base_uri": "https://localhost:8080/"
        }
      },
      "source": [
        "n_categories"
      ],
      "execution_count": 29,
      "outputs": [
        {
          "output_type": "execute_result",
          "data": {
            "text/plain": [
              "18"
            ]
          },
          "metadata": {
            "tags": []
          },
          "execution_count": 29
        }
      ]
    },
    {
      "cell_type": "code",
      "metadata": {
        "id": "xj4OYqDK18bo",
        "outputId": "d930e0cb-8d8b-4eb2-a50c-6254f01ec487",
        "colab": {
          "base_uri": "https://localhost:8080/"
        }
      },
      "source": [
        "n_letters"
      ],
      "execution_count": 30,
      "outputs": [
        {
          "output_type": "execute_result",
          "data": {
            "text/plain": [
              "59"
            ]
          },
          "metadata": {
            "tags": []
          },
          "execution_count": 30
        }
      ]
    },
    {
      "cell_type": "markdown",
      "metadata": {
        "id": "SmmHD1IG619G"
      },
      "source": [
        "## Model\n",
        "\n",
        "Below, we define the RNN architecture that we'll be exploring. The RNN we use will take in the previous character and hidden state to calculate the new hidden state and predict the next character in the string. This architecture is a bit different from the basic version we've discussed: while the RNN maintains a hidden state, it will also compute a second `output` vector of the output size via the `input2output` fully-connected layer and then concatenate it with the hidden vector and use another fully-connected layer to get the actual prediction. We've written most of the details of the model, but we would like you figure out the dimensions for each of the fully-connected layers. Also, the RNN combines its three inputs into one vector by concatenation before passing it through its fully-connected layers `input2hidden` and `input2output`."
      ]
    },
    {
      "cell_type": "code",
      "metadata": {
        "id": "JOv4wsqCJRA_"
      },
      "source": [
        "class RNN(nn.Module):\n",
        "    def __init__(self, input_size, hidden_size, output_size):\n",
        "        super(RNN, self).__init__()\n",
        "        self.hidden_size = hidden_size\n",
        "\n",
        "        # Replace d1-4 with expressions in terms of the variables \n",
        "        # n_categories, input_size, hidden_size, and output_size\n",
        "        d1 = input_size + hidden_size + n_categories\n",
        "        d2 = hidden_size            \n",
        "        d3 = output_size            \n",
        "        d4 = output_size+hidden_size \n",
        "\n",
        "        self.input2hidden = nn.Linear(d1, d2)\n",
        "        self.input2output = nn.Linear(d1, d3)\n",
        "        self.output2output = nn.Linear(d4, d3)\n",
        "        self.dropout = nn.Dropout(0.1)\n",
        "        self.softmax = nn.LogSoftmax(dim=1)\n",
        "\n",
        "    # Runs the forward pass of the model with the given inputs\n",
        "    def forward(self, category, input, hidden):\n",
        "        input_combined = torch.cat((category, input, hidden), 1)\n",
        "        hidden = self.input2hidden(input_combined)\n",
        "        output = self.input2output(input_combined)\n",
        "        output_combined = torch.cat((hidden, output), 1)\n",
        "        output = self.output2output(output_combined)\n",
        "        output = self.dropout(output)\n",
        "        output = self.softmax(output)\n",
        "        return output, hidden\n",
        "\n",
        "    def initHidden(self):\n",
        "        return torch.zeros(1, self.hidden_size)"
      ],
      "execution_count": 40,
      "outputs": []
    },
    {
      "cell_type": "markdown",
      "metadata": {
        "id": "kviTY_3pzYPN"
      },
      "source": [
        "Now let's train the model! This will take a bit of time (about 30 seconds when we ran it)."
      ]
    },
    {
      "cell_type": "code",
      "metadata": {
        "id": "J5zhSWNymG2q"
      },
      "source": [
        "criterion = nn.NLLLoss()\n",
        "\n",
        "def train(category_tensor, input_line_tensor, target_line_tensor, learning_rate):\n",
        "    target_line_tensor.unsqueeze_(-1)\n",
        "    hidden = rnn.initHidden()\n",
        "\n",
        "    rnn.zero_grad()\n",
        "\n",
        "    loss = 0\n",
        "\n",
        "    for i in range(input_line_tensor.size(0)):\n",
        "        output, hidden = rnn(category_tensor, input_line_tensor[i], hidden)\n",
        "        l = criterion(output, target_line_tensor[i])\n",
        "        loss += l\n",
        "\n",
        "    loss.backward()\n",
        "\n",
        "    # oftentimes, we'll use other optimizers like Adam, but we'll keep it simple\n",
        "    for p in rnn.parameters():\n",
        "        p.data.add_(p.grad.data, alpha=-learning_rate)\n",
        "\n",
        "    return output, loss.item() / input_line_tensor.size(0)"
      ],
      "execution_count": 41,
      "outputs": []
    },
    {
      "cell_type": "code",
      "metadata": {
        "id": "fpKjQyGyoaqh",
        "outputId": "936416aa-53de-4cff-a872-6f2fcb1d7aab",
        "colab": {
          "base_uri": "https://localhost:8080/"
        }
      },
      "source": [
        "# The following two lines are very important so that you ge tthe right results!\n",
        "random.seed(0)\n",
        "torch.manual_seed(0)\n",
        "\n",
        "rnn = RNN(n_letters, 128, n_letters)\n",
        "\n",
        "# Keep these parameters for your homework submission,\n",
        "# but feel free to experiment with other settings after.\n",
        "n_iters = 10000\n",
        "learning_rate = 0.0005\n",
        "print_every = 500\n",
        "plot_every = 50\n",
        "\n",
        "all_losses = []\n",
        "total_loss = 0 # Reset every plot_every iters\n",
        "\n",
        "start = time.time()\n",
        "\n",
        "for iter in range(1, n_iters + 1):\n",
        "    output, loss = train(*randomTrainingExample(all_categories, category_lines), learning_rate=learning_rate)\n",
        "    total_loss += loss\n",
        "\n",
        "    if iter % print_every == 0:\n",
        "        print('%s (%d %d%%) %.4f' % (timeSince(start), iter, iter / n_iters * 100, loss))\n",
        "\n",
        "    if iter % plot_every == 0:\n",
        "        all_losses.append(total_loss / plot_every)\n",
        "        total_loss = 0"
      ],
      "execution_count": 42,
      "outputs": [
        {
          "output_type": "stream",
          "text": [
            "0m 1s (500 5%) 3.8574\n",
            "0m 3s (1000 10%) 3.8483\n",
            "0m 5s (1500 15%) 3.1400\n",
            "0m 6s (2000 20%) 2.8992\n",
            "0m 8s (2500 25%) 3.2798\n",
            "0m 10s (3000 30%) 3.4368\n",
            "0m 12s (3500 35%) 3.8671\n",
            "0m 13s (4000 40%) 2.9344\n",
            "0m 15s (4500 45%) 2.7772\n",
            "0m 17s (5000 50%) 3.0310\n",
            "0m 18s (5500 55%) 2.6740\n",
            "0m 20s (6000 60%) 2.5859\n",
            "0m 22s (6500 65%) 2.5468\n",
            "0m 23s (7000 70%) 3.2397\n",
            "0m 25s (7500 75%) 2.2370\n",
            "0m 27s (8000 80%) 2.5546\n",
            "0m 29s (8500 85%) 2.2776\n",
            "0m 30s (9000 90%) 2.7330\n",
            "0m 32s (9500 95%) 3.0489\n",
            "0m 34s (10000 100%) 3.3376\n"
          ],
          "name": "stdout"
        }
      ]
    },
    {
      "cell_type": "markdown",
      "metadata": {
        "id": "Gi467O3dzFcM"
      },
      "source": [
        "Let's plot the loss."
      ]
    },
    {
      "cell_type": "code",
      "metadata": {
        "id": "St1l92Qpoj6U",
        "outputId": "33ddd458-86fe-4760-cf26-8f427c7d2e3c",
        "colab": {
          "base_uri": "https://localhost:8080/",
          "height": 265
        }
      },
      "source": [
        "plt.figure()\n",
        "plt.plot(all_losses)\n",
        "plt.show()"
      ],
      "execution_count": 43,
      "outputs": [
        {
          "output_type": "display_data",
          "data": {
            "image/png": "[encoded data removed]",
            "text/plain": [
              "<Figure size 432x288 with 1 Axes>"
            ]
          },
          "metadata": {
            "tags": [],
            "needs_background": "light"
          }
        }
      ]
    },
    {
      "cell_type": "markdown",
      "metadata": {
        "id": "PX-oR-gxzwy9"
      },
      "source": [
        "## Generating New Names\n",
        "\n",
        "Finally, we'd like to generate new names using our RNN. We've defined helper functions below to help you out. For the homework, please generate German names that start with the letters G, E, and R. (capitalization matters!)"
      ]
    },
    {
      "cell_type": "code",
      "metadata": {
        "id": "go8oc6Kk0QJp"
      },
      "source": [
        "max_length = 20\n",
        "\n",
        "# Sample from a category and starting letter\n",
        "def sample(category, start_letter='A'):\n",
        "    # for reproducibility. DO NOT DELETE\n",
        "    random.seed(0)\n",
        "    torch.manual_seed(0)\n",
        "\n",
        "    with torch.no_grad():  # no need to track gradients at test time\n",
        "        category_tensor = categoryTensor(category, all_categories)\n",
        "        input = inputTensor(start_letter)\n",
        "        hidden = rnn.initHidden()\n",
        "\n",
        "        output_name = start_letter\n",
        "\n",
        "        for i in range(max_length):\n",
        "            output, hidden = rnn(category_tensor, input[0], hidden)\n",
        "            _, topi = output.topk(1)\n",
        "            topi = topi.item()\n",
        "            if topi == n_letters - 1:\n",
        "                break\n",
        "            else:\n",
        "                letter = all_letters[topi]\n",
        "                output_name += letter\n",
        "            # use the predicted letter as the input for the next prediction\n",
        "            input = inputTensor(letter)\n",
        "\n",
        "        return output_name  # feel free to change this if needed\n",
        "\n",
        "# Generates multiple samples from one category and multiple starting letters\n",
        "def samples(category, start_letters='ABC'):\n",
        "    for start_letter in start_letters:\n",
        "        print(sample(category, start_letter))"
      ],
      "execution_count": 44,
      "outputs": []
    },
    {
      "cell_type": "code",
      "metadata": {
        "id": "dYrKbKJ1La7Y",
        "outputId": "7232ef13-a980-4abe-c834-3bcecfda9577",
        "colab": {
          "base_uri": "https://localhost:8080/"
        }
      },
      "source": [
        "samples('German', 'GER')"
      ],
      "execution_count": 45,
      "outputs": [
        {
          "output_type": "stream",
          "text": [
            "Garer\n",
            "Eaner\n",
            "Rarer\n"
          ],
          "name": "stdout"
        }
      ]
    }
  ]
}